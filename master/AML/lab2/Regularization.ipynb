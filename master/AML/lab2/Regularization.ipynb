{
 "cells": [
  {
   "cell_type": "markdown",
   "metadata": {
    "id": "jG16KcmYALhG"
   },
   "source": [
    "# 🍔 Fully Connected Feed-Forward Network\n",
    "\n",
    "In this notebook we will play with Feed-Forward FC-NN (Fully Connected Neural Network) for a *classification task*:\n",
    "\n",
    "Image Classification on Fashion-MNIST Dataset\n",
    "\n",
    "**RECALL**\n",
    "\n",
    "In the FC-NN, the output of each layer is computed using the activations from the previous one, as follows:\n",
    "\n",
    "$$h_{i} = \\sigma(W_i h_{i-1} + b_i)$$\n",
    "\n",
    "where ${h}_i$ is the activation vector from the $i$-th layer (or the input data for $i=0$), ${W}_i$ and ${b}_i$ are the weight matrix and the bias vector for the $i$-th layer, respectively.\n",
    "<br><rb>\n",
    "$\\sigma(\\cdot)$ is the activation function. In our example, we will use the *ReLU* activation function for the hidden layers and *softmax* for the last layer.\n",
    "\n",
    "Our loss function will be the **categorical crossentropy**."
   ]
  },
  {
   "cell_type": "markdown",
   "metadata": {
    "id": "YySfiTRCiat5"
   },
   "source": [
    "## Import libraries"
   ]
  },
  {
   "cell_type": "code",
   "execution_count": 1,
   "metadata": {
    "id": "6cpVZVFIALhK"
   },
   "outputs": [],
   "source": [
    "import numpy as np\n",
    "import matplotlib.pyplot as plt\n",
    "from keras.datasets import fashion_mnist\n",
    "from keras.utils import to_categorical\n",
    "from keras.models import Sequential\n",
    "from keras.layers import Dense, Dropout, Input\n",
    "from keras.optimizers import SGD\n",
    "from sklearn.model_selection import train_test_split\n",
    "from tensorflow.keras import regularizers\n",
    "import tensorflow as tf\n",
    "\n",
    "%matplotlib inline"
   ]
  },
  {
   "cell_type": "markdown",
   "metadata": {
    "id": "_aY27siWALhk"
   },
   "source": [
    "## Data preparation (`keras.dataset`)\n",
    "\n",
    "Fashion-MNIST is a dataset of Zalando's article images—consisting of a training set of $60,000$ examples and a test set of $10,000$ examples. Each example is a 28x28 grayscale image, associated with a label from 10 classes."
   ]
  },
  {
   "cell_type": "markdown",
   "metadata": {
    "id": "J_HVdNfgaP5A"
   },
   "source": [
    "Since this dataset is **provided** with Keras, we just ask the `keras.dataset` model for training and test data.\n",
    "\n",
    "We will:\n",
    "\n",
    "* download the data\n",
    "* reshape data to be in vectorial form (original data are images)\n",
    "* normalize between 0 and 1.\n",
    "\n",
    "The `categorical_crossentropy` loss expects a **one-hot-vector** as input, therefore we apply the `to_categorical` function from `keras.utilis` to convert integer labels to **one-hot-vectors**."
   ]
  },
  {
   "cell_type": "code",
   "execution_count": 2,
   "metadata": {
    "colab": {
     "base_uri": "https://localhost:8080/"
    },
    "executionInfo": {
     "elapsed": 1545,
     "status": "ok",
     "timestamp": 1730213041666,
     "user": {
      "displayName": "Marco Piazza",
      "userId": "04040092922552097476"
     },
     "user_tz": -60
    },
    "id": "L3reWqLtALhl",
    "outputId": "4d0d7fff-7fbb-4492-c702-2c0ea07774b4"
   },
   "outputs": [
    {
     "name": "stdout",
     "output_type": "stream",
     "text": [
      "Downloading data from https://storage.googleapis.com/tensorflow/tf-keras-datasets/train-labels-idx1-ubyte.gz\n",
      "\u001b[1m29515/29515\u001b[0m \u001b[32m━━━━━━━━━━━━━━━━━━━━\u001b[0m\u001b[37m\u001b[0m \u001b[1m0s\u001b[0m 1us/step\n",
      "Downloading data from https://storage.googleapis.com/tensorflow/tf-keras-datasets/train-images-idx3-ubyte.gz\n",
      "\u001b[1m26421880/26421880\u001b[0m \u001b[32m━━━━━━━━━━━━━━━━━━━━\u001b[0m\u001b[37m\u001b[0m \u001b[1m8s\u001b[0m 0us/step\n",
      "Downloading data from https://storage.googleapis.com/tensorflow/tf-keras-datasets/t10k-labels-idx1-ubyte.gz\n",
      "\u001b[1m5148/5148\u001b[0m \u001b[32m━━━━━━━━━━━━━━━━━━━━\u001b[0m\u001b[37m\u001b[0m \u001b[1m0s\u001b[0m 0us/step\n",
      "Downloading data from https://storage.googleapis.com/tensorflow/tf-keras-datasets/t10k-images-idx3-ubyte.gz\n",
      "\u001b[1m4422102/4422102\u001b[0m \u001b[32m━━━━━━━━━━━━━━━━━━━━\u001b[0m\u001b[37m\u001b[0m \u001b[1m1s\u001b[0m 0us/step\n"
     ]
    }
   ],
   "source": [
    "(X_train, y_train), (X_test, y_test) = fashion_mnist.load_data()"
   ]
  },
  {
   "cell_type": "code",
   "execution_count": 3,
   "metadata": {
    "colab": {
     "base_uri": "https://localhost:8080/"
    },
    "executionInfo": {
     "elapsed": 725,
     "status": "ok",
     "timestamp": 1730213046681,
     "user": {
      "displayName": "Marco Piazza",
      "userId": "04040092922552097476"
     },
     "user_tz": -60
    },
    "id": "95KM6c43ALhp",
    "outputId": "b9f60733-7c51-42b8-fc62-12abb7d5186e"
   },
   "outputs": [
    {
     "data": {
      "text/plain": [
       "(60000, 28, 28)"
      ]
     },
     "execution_count": 3,
     "metadata": {},
     "output_type": "execute_result"
    }
   ],
   "source": [
    "X_train.shape"
   ]
  },
  {
   "cell_type": "code",
   "execution_count": 4,
   "metadata": {
    "colab": {
     "base_uri": "https://localhost:8080/"
    },
    "executionInfo": {
     "elapsed": 331,
     "status": "ok",
     "timestamp": 1730213059041,
     "user": {
      "displayName": "Marco Piazza",
      "userId": "04040092922552097476"
     },
     "user_tz": -60
    },
    "id": "xFDaI9Hs-CPF",
    "outputId": "d8f445ab-6001-4e69-ef6a-662ad45a8df9"
   },
   "outputs": [
    {
     "name": "stdout",
     "output_type": "stream",
     "text": [
      "Number of categories: 10\n"
     ]
    }
   ],
   "source": [
    "print('Number of categories:',len(set(y_train)))"
   ]
  },
  {
   "cell_type": "code",
   "execution_count": null,
   "metadata": {
    "id": "5GeCi5_9ALhv"
   },
   "outputs": [],
   "source": [
    "X_train = X_train.reshape(60000, 784)\n",
    "X_test = X_test.reshape(10000, 784)\n",
    "X_train = X_train.astype(\"float32\")\n",
    "X_test = X_test.astype(\"float32\")\n",
    "\n",
    "\n",
    "X_train /= 255\n",
    "X_test /= 255\n",
    "\n",
    "\n",
    "Y_train =  to_categorical(y_train, 10)\n",
    "Y_test = to_categorical(y_test, 10)"
   ]
  },
  {
   "cell_type": "markdown",
   "metadata": {
    "id": "1_fCwONCALhz"
   },
   "source": [
    "#### Split Training and Validation Data"
   ]
  },
  {
   "cell_type": "code",
   "execution_count": 6,
   "metadata": {
    "id": "lxe5WJdoALh1"
   },
   "outputs": [],
   "source": [
    "X_train, X_val, Y_train, Y_val = train_test_split(X_train, Y_train)"
   ]
  },
  {
   "cell_type": "code",
   "execution_count": 7,
   "metadata": {
    "colab": {
     "base_uri": "https://localhost:8080/"
    },
    "executionInfo": {
     "elapsed": 318,
     "status": "ok",
     "timestamp": 1730213095119,
     "user": {
      "displayName": "Marco Piazza",
      "userId": "04040092922552097476"
     },
     "user_tz": -60
    },
    "id": "sz3Jct-SALiA",
    "outputId": "3f3e95ee-d0ef-4caa-9ccb-e2fa93ed3a44"
   },
   "outputs": [
    {
     "name": "stdout",
     "output_type": "stream",
     "text": [
      "Size of the train set: (45000, 784)\n"
     ]
    }
   ],
   "source": [
    "print('Size of the train set:', X_train.shape)"
   ]
  },
  {
   "cell_type": "code",
   "execution_count": 8,
   "metadata": {
    "colab": {
     "base_uri": "https://localhost:8080/",
     "height": 447
    },
    "executionInfo": {
     "elapsed": 349,
     "status": "ok",
     "timestamp": 1730213108636,
     "user": {
      "displayName": "Marco Piazza",
      "userId": "04040092922552097476"
     },
     "user_tz": -60
    },
    "id": "B8sPlMAoALiF",
    "outputId": "da947a3a-8760-4ce0-c710-fde2ad5b37f1"
   },
   "outputs": [
    {
     "data": {
      "text/plain": [
       "array([0., 0., 1., 0., 0., 0., 0., 0., 0., 0.])"
      ]
     },
     "execution_count": 8,
     "metadata": {},
     "output_type": "execute_result"
    },
    {
     "data": {
      "image/png": "[encoded data removed]",
      "text/plain": [
       "<Figure size 640x480 with 1 Axes>"
      ]
     },
     "metadata": {},
     "output_type": "display_data"
    }
   ],
   "source": [
    "plt.imshow(X_train[6].reshape(28, 28))\n",
    "Y_train[6]"
   ]
  },
  {
   "cell_type": "code",
   "execution_count": 9,
   "metadata": {
    "colab": {
     "base_uri": "https://localhost:8080/"
    },
    "executionInfo": {
     "elapsed": 301,
     "status": "ok",
     "timestamp": 1730213134406,
     "user": {
      "displayName": "Marco Piazza",
      "userId": "04040092922552097476"
     },
     "user_tz": -60
    },
    "id": "_etarmsaALiJ",
    "outputId": "ba983ae1-4ed2-4006-e66f-717d29c80190"
   },
   "outputs": [
    {
     "name": "stdout",
     "output_type": "stream",
     "text": [
      "[0 1 2 3 4 5 6 7 8 9]\n",
      "[0 0 1 0 0 0 0 0 0 0]\n"
     ]
    }
   ],
   "source": [
    "print(np.asarray(range(10)))\n",
    "print(Y_train[6].astype('int'))"
   ]
  },
  {
   "cell_type": "code",
   "execution_count": 10,
   "metadata": {
    "colab": {
     "base_uri": "https://localhost:8080/",
     "height": 447
    },
    "executionInfo": {
     "elapsed": 465,
     "status": "ok",
     "timestamp": 1730213141278,
     "user": {
      "displayName": "Marco Piazza",
      "userId": "04040092922552097476"
     },
     "user_tz": -60
    },
    "id": "QUa0gVqTALiO",
    "outputId": "a62d6ebb-4802-44fa-ee13-e30e6c3666d2"
   },
   "outputs": [
    {
     "data": {
      "text/plain": [
       "array([0., 0., 0., 0., 0., 0., 0., 0., 1., 0.])"
      ]
     },
     "execution_count": 10,
     "metadata": {},
     "output_type": "execute_result"
    },
    {
     "data": {
      "image/png": "[encoded data removed]",
      "text/plain": [
       "<Figure size 640x480 with 1 Axes>"
      ]
     },
     "metadata": {},
     "output_type": "display_data"
    }
   ],
   "source": [
    "plt.imshow(X_val[0].reshape(28, 28))\n",
    "Y_val[0]"
   ]
  },
  {
   "cell_type": "code",
   "execution_count": 11,
   "metadata": {
    "colab": {
     "base_uri": "https://localhost:8080/"
    },
    "executionInfo": {
     "elapsed": 330,
     "status": "ok",
     "timestamp": 1730213148979,
     "user": {
      "displayName": "Marco Piazza",
      "userId": "04040092922552097476"
     },
     "user_tz": -60
    },
    "id": "Z6s_OQPeALiT",
    "outputId": "fc479557-5694-412c-9533-7287524d17a0"
   },
   "outputs": [
    {
     "name": "stdout",
     "output_type": "stream",
     "text": [
      "[0 1 2 3 4 5 6 7 8 9]\n",
      "[0 0 0 0 0 0 0 0 1 0]\n"
     ]
    }
   ],
   "source": [
    "print(np.asarray(range(10)))\n",
    "print(Y_val[0].astype('int'))"
   ]
  },
  {
   "cell_type": "markdown",
   "metadata": {
    "id": "Gjw-jEmFALhI"
   },
   "source": [
    "## Model definition\n",
    "\n",
    "Using the objects and functions introduced in the last lecture, define a simple model with at least **six** fully connected layers. Choose an appropriate architecture and a suitable combination of activation functions."
   ]
  },
  {
   "cell_type": "code",
   "execution_count": null,
   "metadata": {
    "id": "hMVJH8n3Pw0M"
   },
   "outputs": [
    {
     "data": {
      "text/html": [
       "<pre style=\"white-space:pre;overflow-x:auto;line-height:normal;font-family:Menlo,'DejaVu Sans Mono',consolas,'Courier New',monospace\"><span style=\"font-weight: bold\">Model: \"sequential_3\"</span>\n",
       "</pre>\n"
      ],
      "text/plain": [
       "\u001b[1mModel: \"sequential_3\"\u001b[0m\n"
      ]
     },
     "metadata": {},
     "output_type": "display_data"
    },
    {
     "data": {
      "text/html": [
       "<pre style=\"white-space:pre;overflow-x:auto;line-height:normal;font-family:Menlo,'DejaVu Sans Mono',consolas,'Courier New',monospace\">┏━━━━━━━━━━━━━━━━━━━━━━━━━━━━━━━━━┳━━━━━━━━━━━━━━━━━━━━━━━━┳━━━━━━━━━━━━━━━┓\n",
       "┃<span style=\"font-weight: bold\"> Layer (type)                    </span>┃<span style=\"font-weight: bold\"> Output Shape           </span>┃<span style=\"font-weight: bold\">       Param # </span>┃\n",
       "┡━━━━━━━━━━━━━━━━━━━━━━━━━━━━━━━━━╇━━━━━━━━━━━━━━━━━━━━━━━━╇━━━━━━━━━━━━━━━┩\n",
       "│ dense_10 (<span style=\"color: #0087ff; text-decoration-color: #0087ff\">Dense</span>)                │ (<span style=\"color: #00d7ff; text-decoration-color: #00d7ff\">None</span>, <span style=\"color: #00af00; text-decoration-color: #00af00\">512</span>)            │       <span style=\"color: #00af00; text-decoration-color: #00af00\">401,920</span> │\n",
       "├─────────────────────────────────┼────────────────────────┼───────────────┤\n",
       "│ dense_11 (<span style=\"color: #0087ff; text-decoration-color: #0087ff\">Dense</span>)                │ (<span style=\"color: #00d7ff; text-decoration-color: #00d7ff\">None</span>, <span style=\"color: #00af00; text-decoration-color: #00af00\">256</span>)            │       <span style=\"color: #00af00; text-decoration-color: #00af00\">131,328</span> │\n",
       "├─────────────────────────────────┼────────────────────────┼───────────────┤\n",
       "│ dense_12 (<span style=\"color: #0087ff; text-decoration-color: #0087ff\">Dense</span>)                │ (<span style=\"color: #00d7ff; text-decoration-color: #00d7ff\">None</span>, <span style=\"color: #00af00; text-decoration-color: #00af00\">256</span>)            │        <span style=\"color: #00af00; text-decoration-color: #00af00\">65,792</span> │\n",
       "├─────────────────────────────────┼────────────────────────┼───────────────┤\n",
       "│ dense_13 (<span style=\"color: #0087ff; text-decoration-color: #0087ff\">Dense</span>)                │ (<span style=\"color: #00d7ff; text-decoration-color: #00d7ff\">None</span>, <span style=\"color: #00af00; text-decoration-color: #00af00\">128</span>)            │        <span style=\"color: #00af00; text-decoration-color: #00af00\">32,896</span> │\n",
       "├─────────────────────────────────┼────────────────────────┼───────────────┤\n",
       "│ dense_14 (<span style=\"color: #0087ff; text-decoration-color: #0087ff\">Dense</span>)                │ (<span style=\"color: #00d7ff; text-decoration-color: #00d7ff\">None</span>, <span style=\"color: #00af00; text-decoration-color: #00af00\">64</span>)             │         <span style=\"color: #00af00; text-decoration-color: #00af00\">8,256</span> │\n",
       "├─────────────────────────────────┼────────────────────────┼───────────────┤\n",
       "│ dense_15 (<span style=\"color: #0087ff; text-decoration-color: #0087ff\">Dense</span>)                │ (<span style=\"color: #00d7ff; text-decoration-color: #00d7ff\">None</span>, <span style=\"color: #00af00; text-decoration-color: #00af00\">10</span>)             │           <span style=\"color: #00af00; text-decoration-color: #00af00\">650</span> │\n",
       "└─────────────────────────────────┴────────────────────────┴───────────────┘\n",
       "</pre>\n"
      ],
      "text/plain": [
       "┏━━━━━━━━━━━━━━━━━━━━━━━━━━━━━━━━━┳━━━━━━━━━━━━━━━━━━━━━━━━┳━━━━━━━━━━━━━━━┓\n",
       "┃\u001b[1m \u001b[0m\u001b[1mLayer (type)                   \u001b[0m\u001b[1m \u001b[0m┃\u001b[1m \u001b[0m\u001b[1mOutput Shape          \u001b[0m\u001b[1m \u001b[0m┃\u001b[1m \u001b[0m\u001b[1m      Param #\u001b[0m\u001b[1m \u001b[0m┃\n",
       "┡━━━━━━━━━━━━━━━━━━━━━━━━━━━━━━━━━╇━━━━━━━━━━━━━━━━━━━━━━━━╇━━━━━━━━━━━━━━━┩\n",
       "│ dense_10 (\u001b[38;5;33mDense\u001b[0m)                │ (\u001b[38;5;45mNone\u001b[0m, \u001b[38;5;34m512\u001b[0m)            │       \u001b[38;5;34m401,920\u001b[0m │\n",
       "├─────────────────────────────────┼────────────────────────┼───────────────┤\n",
       "│ dense_11 (\u001b[38;5;33mDense\u001b[0m)                │ (\u001b[38;5;45mNone\u001b[0m, \u001b[38;5;34m256\u001b[0m)            │       \u001b[38;5;34m131,328\u001b[0m │\n",
       "├─────────────────────────────────┼────────────────────────┼───────────────┤\n",
       "│ dense_12 (\u001b[38;5;33mDense\u001b[0m)                │ (\u001b[38;5;45mNone\u001b[0m, \u001b[38;5;34m256\u001b[0m)            │        \u001b[38;5;34m65,792\u001b[0m │\n",
       "├─────────────────────────────────┼────────────────────────┼───────────────┤\n",
       "│ dense_13 (\u001b[38;5;33mDense\u001b[0m)                │ (\u001b[38;5;45mNone\u001b[0m, \u001b[38;5;34m128\u001b[0m)            │        \u001b[38;5;34m32,896\u001b[0m │\n",
       "├─────────────────────────────────┼────────────────────────┼───────────────┤\n",
       "│ dense_14 (\u001b[38;5;33mDense\u001b[0m)                │ (\u001b[38;5;45mNone\u001b[0m, \u001b[38;5;34m64\u001b[0m)             │         \u001b[38;5;34m8,256\u001b[0m │\n",
       "├─────────────────────────────────┼────────────────────────┼───────────────┤\n",
       "│ dense_15 (\u001b[38;5;33mDense\u001b[0m)                │ (\u001b[38;5;45mNone\u001b[0m, \u001b[38;5;34m10\u001b[0m)             │           \u001b[38;5;34m650\u001b[0m │\n",
       "└─────────────────────────────────┴────────────────────────┴───────────────┘\n"
      ]
     },
     "metadata": {},
     "output_type": "display_data"
    },
    {
     "data": {
      "text/html": [
       "<pre style=\"white-space:pre;overflow-x:auto;line-height:normal;font-family:Menlo,'DejaVu Sans Mono',consolas,'Courier New',monospace\"><span style=\"font-weight: bold\"> Total params: </span><span style=\"color: #00af00; text-decoration-color: #00af00\">640,842</span> (2.44 MB)\n",
       "</pre>\n"
      ],
      "text/plain": [
       "\u001b[1m Total params: \u001b[0m\u001b[38;5;34m640,842\u001b[0m (2.44 MB)\n"
      ]
     },
     "metadata": {},
     "output_type": "display_data"
    },
    {
     "data": {
      "text/html": [
       "<pre style=\"white-space:pre;overflow-x:auto;line-height:normal;font-family:Menlo,'DejaVu Sans Mono',consolas,'Courier New',monospace\"><span style=\"font-weight: bold\"> Trainable params: </span><span style=\"color: #00af00; text-decoration-color: #00af00\">640,842</span> (2.44 MB)\n",
       "</pre>\n"
      ],
      "text/plain": [
       "\u001b[1m Trainable params: \u001b[0m\u001b[38;5;34m640,842\u001b[0m (2.44 MB)\n"
      ]
     },
     "metadata": {},
     "output_type": "display_data"
    },
    {
     "data": {
      "text/html": [
       "<pre style=\"white-space:pre;overflow-x:auto;line-height:normal;font-family:Menlo,'DejaVu Sans Mono',consolas,'Courier New',monospace\"><span style=\"font-weight: bold\"> Non-trainable params: </span><span style=\"color: #00af00; text-decoration-color: #00af00\">0</span> (0.00 B)\n",
       "</pre>\n"
      ],
      "text/plain": [
       "\u001b[1m Non-trainable params: \u001b[0m\u001b[38;5;34m0\u001b[0m (0.00 B)\n"
      ]
     },
     "metadata": {},
     "output_type": "display_data"
    }
   ],
   "source": [
    "from keras import activations\n",
    "from keras.utils import set_random_seed\n",
    "\n",
    "# Keras Seed: Reproducible weights initialization\n",
    "# set_random_seed(333)\n",
    "\n",
    "model = Sequential()\n",
    "\n",
    "model.add(Input((784,)))\n",
    "model.add(Dense(512, activation=activations.relu))\n",
    "model.add(Dense(256, activation=activations.relu))\n",
    "model.add(Dense(256, activation=activations.relu))\n",
    "model.add(Dense(128, activation=activations.relu))\n",
    "model.add(Dense(64, activation=activations.relu))\n",
    "model.add(Dense(10, activation=activations.softmax))\n",
    "\n",
    "model.summary()"
   ]
  },
  {
   "cell_type": "markdown",
   "metadata": {
    "id": "2hyVyDDAALiY"
   },
   "source": [
    "## Training\n",
    "\n",
    "Train the model for at least 50 epochs.\n",
    "\n",
    "**Note:** Remember to compile the model before starting the training."
   ]
  },
  {
   "cell_type": "code",
   "execution_count": 50,
   "metadata": {
    "id": "qJUqfP1EALib",
    "scrolled": false
   },
   "outputs": [
    {
     "name": "stdout",
     "output_type": "stream",
     "text": [
      "Epoch 1/50\n",
      "\u001b[1m563/563\u001b[0m \u001b[32m━━━━━━━━━━━━━━━━━━━━\u001b[0m\u001b[37m\u001b[0m \u001b[1m3s\u001b[0m 3ms/step - accuracy: 0.6755 - loss: 4.9717 - val_accuracy: 0.7126 - val_loss: 1.8935\n",
      "Epoch 2/50\n",
      "\u001b[1m563/563\u001b[0m \u001b[32m━━━━━━━━━━━━━━━━━━━━\u001b[0m\u001b[37m\u001b[0m \u001b[1m2s\u001b[0m 3ms/step - accuracy: 0.7481 - loss: 1.6984 - val_accuracy: 0.7684 - val_loss: 1.5633\n",
      "Epoch 3/50\n",
      "\u001b[1m563/563\u001b[0m \u001b[32m━━━━━━━━━━━━━━━━━━━━\u001b[0m\u001b[37m\u001b[0m \u001b[1m2s\u001b[0m 3ms/step - accuracy: 0.7707 - loss: 1.5149 - val_accuracy: 0.7619 - val_loss: 1.4714\n",
      "Epoch 4/50\n",
      "\u001b[1m563/563\u001b[0m \u001b[32m━━━━━━━━━━━━━━━━━━━━\u001b[0m\u001b[37m\u001b[0m \u001b[1m2s\u001b[0m 3ms/step - accuracy: 0.7737 - loss: 1.4352 - val_accuracy: 0.7676 - val_loss: 1.4315\n",
      "Epoch 5/50\n",
      "\u001b[1m563/563\u001b[0m \u001b[32m━━━━━━━━━━━━━━━━━━━━\u001b[0m\u001b[37m\u001b[0m \u001b[1m2s\u001b[0m 3ms/step - accuracy: 0.7756 - loss: 1.3945 - val_accuracy: 0.7814 - val_loss: 1.3685\n",
      "Epoch 6/50\n",
      "\u001b[1m563/563\u001b[0m \u001b[32m━━━━━━━━━━━━━━━━━━━━\u001b[0m\u001b[37m\u001b[0m \u001b[1m2s\u001b[0m 4ms/step - accuracy: 0.7786 - loss: 1.3619 - val_accuracy: 0.7733 - val_loss: 1.3607\n",
      "Epoch 7/50\n",
      "\u001b[1m563/563\u001b[0m \u001b[32m━━━━━━━━━━━━━━━━━━━━\u001b[0m\u001b[37m\u001b[0m \u001b[1m2s\u001b[0m 4ms/step - accuracy: 0.7786 - loss: 1.3423 - val_accuracy: 0.7706 - val_loss: 1.3379\n",
      "Epoch 8/50\n",
      "\u001b[1m563/563\u001b[0m \u001b[32m━━━━━━━━━━━━━━━━━━━━\u001b[0m\u001b[37m\u001b[0m \u001b[1m2s\u001b[0m 4ms/step - accuracy: 0.7789 - loss: 1.3231 - val_accuracy: 0.7799 - val_loss: 1.3162\n",
      "Epoch 9/50\n",
      "\u001b[1m563/563\u001b[0m \u001b[32m━━━━━━━━━━━━━━━━━━━━\u001b[0m\u001b[37m\u001b[0m \u001b[1m2s\u001b[0m 4ms/step - accuracy: 0.7795 - loss: 1.3077 - val_accuracy: 0.7634 - val_loss: 1.3312\n",
      "Epoch 10/50\n",
      "\u001b[1m563/563\u001b[0m \u001b[32m━━━━━━━━━━━━━━━━━━━━\u001b[0m\u001b[37m\u001b[0m \u001b[1m2s\u001b[0m 3ms/step - accuracy: 0.7796 - loss: 1.2949 - val_accuracy: 0.7803 - val_loss: 1.3009\n",
      "Epoch 11/50\n",
      "\u001b[1m563/563\u001b[0m \u001b[32m━━━━━━━━━━━━━━━━━━━━\u001b[0m\u001b[37m\u001b[0m \u001b[1m2s\u001b[0m 4ms/step - accuracy: 0.7826 - loss: 1.2793 - val_accuracy: 0.7871 - val_loss: 1.2780\n",
      "Epoch 12/50\n",
      "\u001b[1m563/563\u001b[0m \u001b[32m━━━━━━━━━━━━━━━━━━━━\u001b[0m\u001b[37m\u001b[0m \u001b[1m2s\u001b[0m 4ms/step - accuracy: 0.7817 - loss: 1.2732 - val_accuracy: 0.7770 - val_loss: 1.2774\n",
      "Epoch 13/50\n",
      "\u001b[1m563/563\u001b[0m \u001b[32m━━━━━━━━━━━━━━━━━━━━\u001b[0m\u001b[37m\u001b[0m \u001b[1m2s\u001b[0m 3ms/step - accuracy: 0.7851 - loss: 1.2607 - val_accuracy: 0.7848 - val_loss: 1.2567\n",
      "Epoch 14/50\n",
      "\u001b[1m563/563\u001b[0m \u001b[32m━━━━━━━━━━━━━━━━━━━━\u001b[0m\u001b[37m\u001b[0m \u001b[1m2s\u001b[0m 3ms/step - accuracy: 0.7843 - loss: 1.2573 - val_accuracy: 0.7841 - val_loss: 1.2605\n",
      "Epoch 15/50\n",
      "\u001b[1m563/563\u001b[0m \u001b[32m━━━━━━━━━━━━━━━━━━━━\u001b[0m\u001b[37m\u001b[0m \u001b[1m2s\u001b[0m 3ms/step - accuracy: 0.7829 - loss: 1.2544 - val_accuracy: 0.7808 - val_loss: 1.2488\n",
      "Epoch 16/50\n",
      "\u001b[1m563/563\u001b[0m \u001b[32m━━━━━━━━━━━━━━━━━━━━\u001b[0m\u001b[37m\u001b[0m \u001b[1m2s\u001b[0m 3ms/step - accuracy: 0.7849 - loss: 1.2489 - val_accuracy: 0.7907 - val_loss: 1.2376\n",
      "Epoch 17/50\n",
      "\u001b[1m563/563\u001b[0m \u001b[32m━━━━━━━━━━━━━━━━━━━━\u001b[0m\u001b[37m\u001b[0m \u001b[1m2s\u001b[0m 4ms/step - accuracy: 0.7858 - loss: 1.2430 - val_accuracy: 0.7752 - val_loss: 1.2645\n",
      "Epoch 18/50\n",
      "\u001b[1m563/563\u001b[0m \u001b[32m━━━━━━━━━━━━━━━━━━━━\u001b[0m\u001b[37m\u001b[0m \u001b[1m2s\u001b[0m 3ms/step - accuracy: 0.7862 - loss: 1.2392 - val_accuracy: 0.7878 - val_loss: 1.2394\n",
      "Epoch 19/50\n",
      "\u001b[1m563/563\u001b[0m \u001b[32m━━━━━━━━━━━━━━━━━━━━\u001b[0m\u001b[37m\u001b[0m \u001b[1m2s\u001b[0m 4ms/step - accuracy: 0.7875 - loss: 1.2351 - val_accuracy: 0.7894 - val_loss: 1.2237\n",
      "Epoch 20/50\n",
      "\u001b[1m563/563\u001b[0m \u001b[32m━━━━━━━━━━━━━━━━━━━━\u001b[0m\u001b[37m\u001b[0m \u001b[1m2s\u001b[0m 4ms/step - accuracy: 0.7866 - loss: 1.2320 - val_accuracy: 0.7814 - val_loss: 1.2347\n",
      "Epoch 21/50\n",
      "\u001b[1m563/563\u001b[0m \u001b[32m━━━━━━━━━━━━━━━━━━━━\u001b[0m\u001b[37m\u001b[0m \u001b[1m2s\u001b[0m 4ms/step - accuracy: 0.7891 - loss: 1.2282 - val_accuracy: 0.7799 - val_loss: 1.2398\n",
      "Epoch 22/50\n",
      "\u001b[1m563/563\u001b[0m \u001b[32m━━━━━━━━━━━━━━━━━━━━\u001b[0m\u001b[37m\u001b[0m \u001b[1m2s\u001b[0m 4ms/step - accuracy: 0.7896 - loss: 1.2234 - val_accuracy: 0.7883 - val_loss: 1.2229\n",
      "Epoch 23/50\n",
      "\u001b[1m563/563\u001b[0m \u001b[32m━━━━━━━━━━━━━━━━━━━━\u001b[0m\u001b[37m\u001b[0m \u001b[1m2s\u001b[0m 4ms/step - accuracy: 0.7888 - loss: 1.2223 - val_accuracy: 0.7813 - val_loss: 1.2316\n",
      "Epoch 24/50\n",
      "\u001b[1m563/563\u001b[0m \u001b[32m━━━━━━━━━━━━━━━━━━━━\u001b[0m\u001b[37m\u001b[0m \u001b[1m2s\u001b[0m 4ms/step - accuracy: 0.7902 - loss: 1.2203 - val_accuracy: 0.7900 - val_loss: 1.2102\n",
      "Epoch 25/50\n",
      "\u001b[1m563/563\u001b[0m \u001b[32m━━━━━━━━━━━━━━━━━━━━\u001b[0m\u001b[37m\u001b[0m \u001b[1m2s\u001b[0m 4ms/step - accuracy: 0.7902 - loss: 1.2148 - val_accuracy: 0.7912 - val_loss: 1.2100\n",
      "Epoch 26/50\n",
      "\u001b[1m563/563\u001b[0m \u001b[32m━━━━━━━━━━━━━━━━━━━━\u001b[0m\u001b[37m\u001b[0m \u001b[1m2s\u001b[0m 4ms/step - accuracy: 0.7903 - loss: 1.2129 - val_accuracy: 0.7857 - val_loss: 1.2239\n",
      "Epoch 27/50\n",
      "\u001b[1m563/563\u001b[0m \u001b[32m━━━━━━━━━━━━━━━━━━━━\u001b[0m\u001b[37m\u001b[0m \u001b[1m2s\u001b[0m 4ms/step - accuracy: 0.7886 - loss: 1.2120 - val_accuracy: 0.7851 - val_loss: 1.2175\n",
      "Epoch 28/50\n",
      "\u001b[1m563/563\u001b[0m \u001b[32m━━━━━━━━━━━━━━━━━━━━\u001b[0m\u001b[37m\u001b[0m \u001b[1m2s\u001b[0m 4ms/step - accuracy: 0.7890 - loss: 1.2094 - val_accuracy: 0.7866 - val_loss: 1.2201\n",
      "Epoch 29/50\n",
      "\u001b[1m563/563\u001b[0m \u001b[32m━━━━━━━━━━━━━━━━━━━━\u001b[0m\u001b[37m\u001b[0m \u001b[1m2s\u001b[0m 4ms/step - accuracy: 0.7915 - loss: 1.2053 - val_accuracy: 0.7919 - val_loss: 1.2106\n",
      "Epoch 30/50\n",
      "\u001b[1m563/563\u001b[0m \u001b[32m━━━━━━━━━━━━━━━━━━━━\u001b[0m\u001b[37m\u001b[0m \u001b[1m2s\u001b[0m 4ms/step - accuracy: 0.7885 - loss: 1.2022 - val_accuracy: 0.7773 - val_loss: 1.2190\n",
      "Epoch 31/50\n",
      "\u001b[1m563/563\u001b[0m \u001b[32m━━━━━━━━━━━━━━━━━━━━\u001b[0m\u001b[37m\u001b[0m \u001b[1m2s\u001b[0m 4ms/step - accuracy: 0.7914 - loss: 1.1973 - val_accuracy: 0.7856 - val_loss: 1.1955\n",
      "Epoch 32/50\n",
      "\u001b[1m563/563\u001b[0m \u001b[32m━━━━━━━━━━━━━━━━━━━━\u001b[0m\u001b[37m\u001b[0m \u001b[1m2s\u001b[0m 4ms/step - accuracy: 0.7881 - loss: 1.1958 - val_accuracy: 0.7940 - val_loss: 1.1897\n",
      "Epoch 33/50\n",
      "\u001b[1m563/563\u001b[0m \u001b[32m━━━━━━━━━━━━━━━━━━━━\u001b[0m\u001b[37m\u001b[0m \u001b[1m2s\u001b[0m 4ms/step - accuracy: 0.7941 - loss: 1.1905 - val_accuracy: 0.7668 - val_loss: 1.2484\n",
      "Epoch 34/50\n",
      "\u001b[1m563/563\u001b[0m \u001b[32m━━━━━━━━━━━━━━━━━━━━\u001b[0m\u001b[37m\u001b[0m \u001b[1m2s\u001b[0m 4ms/step - accuracy: 0.7933 - loss: 1.1916 - val_accuracy: 0.7951 - val_loss: 1.1916\n",
      "Epoch 35/50\n",
      "\u001b[1m563/563\u001b[0m \u001b[32m━━━━━━━━━━━━━━━━━━━━\u001b[0m\u001b[37m\u001b[0m \u001b[1m2s\u001b[0m 4ms/step - accuracy: 0.7941 - loss: 1.1889 - val_accuracy: 0.7986 - val_loss: 1.1810\n",
      "Epoch 36/50\n",
      "\u001b[1m563/563\u001b[0m \u001b[32m━━━━━━━━━━━━━━━━━━━━\u001b[0m\u001b[37m\u001b[0m \u001b[1m2s\u001b[0m 4ms/step - accuracy: 0.7933 - loss: 1.1866 - val_accuracy: 0.7922 - val_loss: 1.1978\n",
      "Epoch 37/50\n",
      "\u001b[1m563/563\u001b[0m \u001b[32m━━━━━━━━━━━━━━━━━━━━\u001b[0m\u001b[37m\u001b[0m \u001b[1m2s\u001b[0m 4ms/step - accuracy: 0.7907 - loss: 1.1891 - val_accuracy: 0.7969 - val_loss: 1.1794\n",
      "Epoch 38/50\n",
      "\u001b[1m563/563\u001b[0m \u001b[32m━━━━━━━━━━━━━━━━━━━━\u001b[0m\u001b[37m\u001b[0m \u001b[1m2s\u001b[0m 3ms/step - accuracy: 0.7930 - loss: 1.1851 - val_accuracy: 0.8002 - val_loss: 1.1781\n",
      "Epoch 39/50\n",
      "\u001b[1m563/563\u001b[0m \u001b[32m━━━━━━━━━━━━━━━━━━━━\u001b[0m\u001b[37m\u001b[0m \u001b[1m2s\u001b[0m 3ms/step - accuracy: 0.7917 - loss: 1.1873 - val_accuracy: 0.7953 - val_loss: 1.1774\n",
      "Epoch 40/50\n",
      "\u001b[1m563/563\u001b[0m \u001b[32m━━━━━━━━━━━━━━━━━━━━\u001b[0m\u001b[37m\u001b[0m \u001b[1m2s\u001b[0m 4ms/step - accuracy: 0.7936 - loss: 1.1833 - val_accuracy: 0.7891 - val_loss: 1.1863\n",
      "Epoch 41/50\n",
      "\u001b[1m563/563\u001b[0m \u001b[32m━━━━━━━━━━━━━━━━━━━━\u001b[0m\u001b[37m\u001b[0m \u001b[1m2s\u001b[0m 4ms/step - accuracy: 0.7930 - loss: 1.1816 - val_accuracy: 0.7917 - val_loss: 1.1812\n",
      "Epoch 42/50\n",
      "\u001b[1m563/563\u001b[0m \u001b[32m━━━━━━━━━━━━━━━━━━━━\u001b[0m\u001b[37m\u001b[0m \u001b[1m2s\u001b[0m 4ms/step - accuracy: 0.7935 - loss: 1.1805 - val_accuracy: 0.7832 - val_loss: 1.2094\n",
      "Epoch 43/50\n",
      "\u001b[1m563/563\u001b[0m \u001b[32m━━━━━━━━━━━━━━━━━━━━\u001b[0m\u001b[37m\u001b[0m \u001b[1m2s\u001b[0m 4ms/step - accuracy: 0.7939 - loss: 1.1824 - val_accuracy: 0.7903 - val_loss: 1.1794\n",
      "Epoch 44/50\n",
      "\u001b[1m563/563\u001b[0m \u001b[32m━━━━━━━━━━━━━━━━━━━━\u001b[0m\u001b[37m\u001b[0m \u001b[1m2s\u001b[0m 4ms/step - accuracy: 0.7952 - loss: 1.1784 - val_accuracy: 0.7939 - val_loss: 1.1777\n",
      "Epoch 45/50\n",
      "\u001b[1m563/563\u001b[0m \u001b[32m━━━━━━━━━━━━━━━━━━━━\u001b[0m\u001b[37m\u001b[0m \u001b[1m2s\u001b[0m 4ms/step - accuracy: 0.7928 - loss: 1.1806 - val_accuracy: 0.7792 - val_loss: 1.2083\n",
      "Epoch 46/50\n",
      "\u001b[1m563/563\u001b[0m \u001b[32m━━━━━━━━━━━━━━━━━━━━\u001b[0m\u001b[37m\u001b[0m \u001b[1m2s\u001b[0m 4ms/step - accuracy: 0.7938 - loss: 1.1793 - val_accuracy: 0.7924 - val_loss: 1.1745\n",
      "Epoch 47/50\n",
      "\u001b[1m563/563\u001b[0m \u001b[32m━━━━━━━━━━━━━━━━━━━━\u001b[0m\u001b[37m\u001b[0m \u001b[1m2s\u001b[0m 4ms/step - accuracy: 0.7946 - loss: 1.1785 - val_accuracy: 0.7921 - val_loss: 1.1738\n",
      "Epoch 48/50\n",
      "\u001b[1m563/563\u001b[0m \u001b[32m━━━━━━━━━━━━━━━━━━━━\u001b[0m\u001b[37m\u001b[0m \u001b[1m2s\u001b[0m 4ms/step - accuracy: 0.7931 - loss: 1.1809 - val_accuracy: 0.7873 - val_loss: 1.1828\n",
      "Epoch 49/50\n",
      "\u001b[1m563/563\u001b[0m \u001b[32m━━━━━━━━━━━━━━━━━━━━\u001b[0m\u001b[37m\u001b[0m \u001b[1m2s\u001b[0m 4ms/step - accuracy: 0.7922 - loss: 1.1812 - val_accuracy: 0.7934 - val_loss: 1.1803\n",
      "Epoch 50/50\n",
      "\u001b[1m563/563\u001b[0m \u001b[32m━━━━━━━━━━━━━━━━━━━━\u001b[0m\u001b[37m\u001b[0m \u001b[1m2s\u001b[0m 4ms/step - accuracy: 0.7951 - loss: 1.1764 - val_accuracy: 0.7927 - val_loss: 1.1850\n"
     ]
    }
   ],
   "source": [
    "model.compile(loss='categorical_crossentropy', optimizer='adam', metrics=['accuracy'])\n",
    "\n",
    "history = model.fit(X_train, Y_train, epochs=50, batch_size=64, validation_split=0.2, verbose=1)"
   ]
  },
  {
   "cell_type": "markdown",
   "metadata": {
    "id": "qw7hl-VJALig"
   },
   "source": [
    "### Plotting Network Performance Trend\n",
    "\n",
    "Plot the network performance (loss and accuracy) validation trend.\n",
    "Are there any particular observations?"
   ]
  },
  {
   "cell_type": "code",
   "execution_count": 51,
   "metadata": {
    "colab": {
     "base_uri": "https://localhost:8080/",
     "height": 927
    },
    "executionInfo": {
     "elapsed": 851,
     "status": "ok",
     "timestamp": 1730213330268,
     "user": {
      "displayName": "Marco Piazza",
      "userId": "04040092922552097476"
     },
     "user_tz": -60
    },
    "id": "fMnowu6DALih",
    "outputId": "4232cfcd-f45d-42e3-87c1-e725ee523b0c"
   },
   "outputs": [
    {
     "data": {
      "image/png": "[encoded data removed]",
      "text/plain": [
       "<Figure size 640x480 with 1 Axes>"
      ]
     },
     "metadata": {},
     "output_type": "display_data"
    },
    {
     "data": {
      "image/png": "[encoded data removed]",
      "text/plain": [
       "<Figure size 640x480 with 1 Axes>"
      ]
     },
     "metadata": {},
     "output_type": "display_data"
    }
   ],
   "source": [
    "import matplotlib.pyplot as plt\n",
    "\n",
    "def plot_loss(history):\n",
    "  x_plot = list(range(1,len(history.history[\"loss\"])+1))\n",
    "  plt.figure()\n",
    "  plt.title(\"Loss\")\n",
    "  plt.xlabel('Epochs')\n",
    "  plt.ylabel('Loss')\n",
    "  plt.plot(x_plot, history.history['loss'])\n",
    "  plt.plot(x_plot, history.history['val_loss'])\n",
    "  plt.legend(['Training', 'Validation'])\n",
    "\n",
    "def plot_accuracy(history):\n",
    "  x_plot = list(range(1,len(history.history[\"accuracy\"])+1))\n",
    "  plt.figure()\n",
    "  plt.title(\"Accuracy\")\n",
    "  plt.xlabel('Epochs')\n",
    "  plt.ylabel('Accuracy')\n",
    "  plt.plot(x_plot, history.history['accuracy'])\n",
    "  plt.plot(x_plot, history.history['val_accuracy'])\n",
    "  plt.legend(['Training', 'Validation'])\n",
    "\n",
    "plot_loss(history)\n",
    "plot_accuracy(history)"
   ]
  },
  {
   "cell_type": "markdown",
   "metadata": {
    "id": "cJ_R00XXALja"
   },
   "source": [
    "---"
   ]
  },
  {
   "cell_type": "markdown",
   "metadata": {
    "id": "Jf65svAHALjb"
   },
   "source": [
    "## Inspecting Layers"
   ]
  },
  {
   "cell_type": "code",
   "execution_count": 31,
   "metadata": {
    "colab": {
     "base_uri": "https://localhost:8080/"
    },
    "executionInfo": {
     "elapsed": 322,
     "status": "ok",
     "timestamp": 1730213387984,
     "user": {
      "displayName": "Marco Piazza",
      "userId": "04040092922552097476"
     },
     "user_tz": -60
    },
    "id": "XO_NO8BcALjh",
    "outputId": "caba6693-f34b-4787-80b2-68e035bc50e6"
   },
   "outputs": [
    {
     "name": "stdout",
     "output_type": "stream",
     "text": [
      "Layers - Network Configuration:\n",
      "\n",
      "dense_10 True\n",
      "Layer Configuration:\n",
      "{'name': 'dense_10', 'trainable': True, 'dtype': {'module': 'keras', 'class_name': 'DTypePolicy', 'config': {'name': 'float32'}, 'registered_name': None}, 'units': 512, 'activation': 'relu', 'use_bias': True, 'kernel_initializer': {'module': 'keras.initializers', 'class_name': 'GlorotUniform', 'config': {'seed': None}, 'registered_name': None}, 'bias_initializer': {'module': 'keras.initializers', 'class_name': 'Zeros', 'config': {}, 'registered_name': None}, 'kernel_regularizer': None, 'bias_regularizer': None, 'kernel_constraint': None, 'bias_constraint': None}\n",
      "----------------------------------------\n",
      "dense_11 True\n",
      "Layer Configuration:\n",
      "{'name': 'dense_11', 'trainable': True, 'dtype': {'module': 'keras', 'class_name': 'DTypePolicy', 'config': {'name': 'float32'}, 'registered_name': None}, 'units': 256, 'activation': 'relu', 'use_bias': True, 'kernel_initializer': {'module': 'keras.initializers', 'class_name': 'GlorotUniform', 'config': {'seed': None}, 'registered_name': None}, 'bias_initializer': {'module': 'keras.initializers', 'class_name': 'Zeros', 'config': {}, 'registered_name': None}, 'kernel_regularizer': None, 'bias_regularizer': None, 'kernel_constraint': None, 'bias_constraint': None}\n",
      "----------------------------------------\n",
      "dense_12 True\n",
      "Layer Configuration:\n",
      "{'name': 'dense_12', 'trainable': True, 'dtype': {'module': 'keras', 'class_name': 'DTypePolicy', 'config': {'name': 'float32'}, 'registered_name': None}, 'units': 256, 'activation': 'relu', 'use_bias': True, 'kernel_initializer': {'module': 'keras.initializers', 'class_name': 'GlorotUniform', 'config': {'seed': None}, 'registered_name': None}, 'bias_initializer': {'module': 'keras.initializers', 'class_name': 'Zeros', 'config': {}, 'registered_name': None}, 'kernel_regularizer': None, 'bias_regularizer': None, 'kernel_constraint': None, 'bias_constraint': None}\n",
      "----------------------------------------\n",
      "dense_13 True\n",
      "Layer Configuration:\n",
      "{'name': 'dense_13', 'trainable': True, 'dtype': {'module': 'keras', 'class_name': 'DTypePolicy', 'config': {'name': 'float32'}, 'registered_name': None}, 'units': 128, 'activation': 'relu', 'use_bias': True, 'kernel_initializer': {'module': 'keras.initializers', 'class_name': 'GlorotUniform', 'config': {'seed': None}, 'registered_name': None}, 'bias_initializer': {'module': 'keras.initializers', 'class_name': 'Zeros', 'config': {}, 'registered_name': None}, 'kernel_regularizer': None, 'bias_regularizer': None, 'kernel_constraint': None, 'bias_constraint': None}\n",
      "----------------------------------------\n",
      "dense_14 True\n",
      "Layer Configuration:\n",
      "{'name': 'dense_14', 'trainable': True, 'dtype': {'module': 'keras', 'class_name': 'DTypePolicy', 'config': {'name': 'float32'}, 'registered_name': None}, 'units': 64, 'activation': 'relu', 'use_bias': True, 'kernel_initializer': {'module': 'keras.initializers', 'class_name': 'GlorotUniform', 'config': {'seed': None}, 'registered_name': None}, 'bias_initializer': {'module': 'keras.initializers', 'class_name': 'Zeros', 'config': {}, 'registered_name': None}, 'kernel_regularizer': None, 'bias_regularizer': None, 'kernel_constraint': None, 'bias_constraint': None}\n",
      "----------------------------------------\n",
      "dense_15 True\n",
      "Layer Configuration:\n",
      "{'name': 'dense_15', 'trainable': True, 'dtype': {'module': 'keras', 'class_name': 'DTypePolicy', 'config': {'name': 'float32'}, 'registered_name': None}, 'units': 10, 'activation': 'softmax', 'use_bias': True, 'kernel_initializer': {'module': 'keras.initializers', 'class_name': 'GlorotUniform', 'config': {'seed': None}, 'registered_name': None}, 'bias_initializer': {'module': 'keras.initializers', 'class_name': 'Zeros', 'config': {}, 'registered_name': None}, 'kernel_regularizer': None, 'bias_regularizer': None, 'kernel_constraint': None, 'bias_constraint': None}\n",
      "----------------------------------------\n"
     ]
    }
   ],
   "source": [
    "print('Layers - Network Configuration:', end='\\n\\n')\n",
    "for layer in model.layers:\n",
    "    print(layer.name, layer.trainable)\n",
    "    print('Layer Configuration:')\n",
    "    print(layer.get_config(), end='\\n{}\\n'.format('----'*10))"
   ]
  },
  {
   "cell_type": "code",
   "execution_count": 32,
   "metadata": {
    "colab": {
     "base_uri": "https://localhost:8080/"
    },
    "executionInfo": {
     "elapsed": 425,
     "status": "ok",
     "timestamp": 1730213462134,
     "user": {
      "displayName": "Marco Piazza",
      "userId": "04040092922552097476"
     },
     "user_tz": -60
    },
    "id": "LZdzBNOpZJ8N",
    "outputId": "1b9e60cd-4174-49cb-ef39-ff6b588174a8"
   },
   "outputs": [
    {
     "name": "stdout",
     "output_type": "stream",
     "text": [
      "{'name': 'dense_10', 'trainable': True, 'dtype': {'module': 'keras', 'class_name': 'DTypePolicy', 'config': {'name': 'float32'}, 'registered_name': None}, 'units': 512, 'activation': 'relu', 'use_bias': True, 'kernel_initializer': {'module': 'keras.initializers', 'class_name': 'GlorotUniform', 'config': {'seed': None}, 'registered_name': None}, 'bias_initializer': {'module': 'keras.initializers', 'class_name': 'Zeros', 'config': {}, 'registered_name': None}, 'kernel_regularizer': None, 'bias_regularizer': None, 'kernel_constraint': None, 'bias_constraint': None} [array([[ 0.03643361, -0.05758376, -0.04161336, ...,  0.05975859,\n",
      "         0.04442901,  0.06550013],\n",
      "       [-0.00949244,  0.04086692,  0.00059558, ..., -0.06037709,\n",
      "         0.07382537,  0.01848573],\n",
      "       [ 0.02065324, -0.01404825, -0.07972461, ..., -0.05229381,\n",
      "         0.00741665,  0.04143001],\n",
      "       ...,\n",
      "       [ 0.30095986,  0.13253503,  0.11491723, ..., -0.04036687,\n",
      "         0.24341284, -0.01272197],\n",
      "       [-0.02217347,  0.15434916,  0.02713303, ..., -0.00067704,\n",
      "         0.13567124, -0.03410556],\n",
      "       [ 0.10906817,  0.12075051,  0.00673305, ...,  0.0218351 ,\n",
      "         0.19706018, -0.00928654]], shape=(784, 512), dtype=float32), array([ 2.09819794e-01,  1.56512037e-01, -6.04641922e-02,  1.39914542e-01,\n",
      "       -1.66352913e-01, -1.30100101e-02,  5.86690828e-02, -1.49837881e-01,\n",
      "        5.80361560e-02,  5.89290634e-02, -9.19624716e-02,  5.79634383e-02,\n",
      "       -9.60821938e-03,  1.30136207e-01, -1.73272900e-02, -1.28875235e-02,\n",
      "       -3.38540971e-01, -6.23129793e-02,  4.93724011e-02, -1.04808621e-01,\n",
      "       -2.55246013e-02,  1.33174330e-01, -2.02911180e-02, -1.29653543e-01,\n",
      "       -1.46638229e-02,  7.23423734e-02,  1.87764734e-01, -4.82886396e-02,\n",
      "        1.92156374e-01,  1.22347996e-01, -1.31375566e-01,  2.02168837e-01,\n",
      "        9.84940529e-02,  3.82488579e-01,  8.98765475e-02, -8.30607265e-02,\n",
      "        8.74526426e-02, -2.29611136e-02,  1.26932010e-01,  1.22138850e-01,\n",
      "        5.67692972e-04,  5.48266321e-02,  3.26965898e-02,  3.30751032e-01,\n",
      "        3.99643838e-01,  4.99263555e-02,  4.38993238e-02,  1.75886657e-02,\n",
      "       -8.88716280e-02, -1.55916885e-01,  7.35547114e-03,  7.78201222e-02,\n",
      "       -1.48648536e-02,  2.36476019e-01, -2.50989888e-02, -3.42978269e-01,\n",
      "        2.09011301e-01, -1.61799602e-02, -8.30042511e-02, -1.44340575e-01,\n",
      "        1.32913798e-01, -2.31602732e-02, -4.88768846e-01,  4.72790182e-01,\n",
      "       -6.97686570e-03,  6.07858077e-02, -3.17413658e-02,  1.25996575e-01,\n",
      "        1.68491989e-01,  2.23607332e-01, -1.67388231e-01,  3.39974277e-02,\n",
      "        3.79626602e-02,  1.03414841e-01, -7.49133714e-03,  6.53163418e-02,\n",
      "       -3.45927589e-02,  1.58774436e-01,  3.86232743e-04,  2.88050920e-01,\n",
      "        5.01081049e-01,  1.11693136e-01, -1.54402945e-02,  1.98062912e-01,\n",
      "       -3.10137644e-02, -1.13201298e-01,  4.69253898e-01,  1.37944147e-01,\n",
      "        1.10938564e-01,  1.65802553e-01,  5.42267382e-01,  8.14264044e-02,\n",
      "        1.45455495e-01,  3.23815435e-01, -5.06539583e-01, -6.22472093e-02,\n",
      "        2.72430420e-01,  2.47398093e-01,  1.44052476e-01,  7.51959831e-02,\n",
      "        2.51298010e-01, -4.94453125e-03,  7.69645274e-02,  5.81988059e-02,\n",
      "        2.71439731e-01,  9.47431475e-02,  1.09145336e-01,  1.35855272e-01,\n",
      "        1.41319841e-01, -5.44464998e-02,  1.62907559e-02, -5.34807285e-03,\n",
      "       -4.78477255e-02,  1.52202502e-01,  1.92361295e-01,  2.38978997e-01,\n",
      "        1.25089020e-01, -5.78784764e-01, -1.21313214e-01,  1.90453947e-01,\n",
      "        1.64891005e-01, -2.39499018e-01,  1.57188803e-01, -1.36367664e-01,\n",
      "       -8.97917673e-02,  9.88192037e-02, -3.68706077e-01, -2.53478456e-02,\n",
      "        4.92283218e-02, -2.48117000e-03,  1.13392033e-01,  3.02124228e-02,\n",
      "       -2.15181783e-02, -3.89052369e-02,  1.49339959e-01, -3.80148403e-02,\n",
      "       -1.25895347e-02, -3.72295797e-01, -3.27240638e-02, -2.76112586e-01,\n",
      "        2.08606124e-01,  1.79382432e-02,  5.70013598e-02, -1.31259784e-01,\n",
      "       -5.56118612e-04,  3.16955596e-01,  1.36514127e-01,  2.64975518e-01,\n",
      "       -8.20800196e-03,  9.62586477e-02, -2.95142740e-01,  9.60448906e-02,\n",
      "       -4.10539843e-03,  5.06523065e-02,  1.11472572e-03,  4.01774533e-02,\n",
      "        2.84095258e-01,  1.89271599e-01,  1.62100241e-01,  1.07793875e-01,\n",
      "        5.69882914e-02, -3.19235146e-01, -5.83786238e-03,  1.88564453e-02,\n",
      "        3.18131484e-02,  3.57808203e-01, -7.56844059e-02,  4.50429618e-02,\n",
      "        1.38420194e-01,  1.13332539e-03,  1.20363742e-01, -1.49814840e-02,\n",
      "       -6.54845610e-02,  7.83602055e-03, -4.11149532e-01, -3.38280201e-01,\n",
      "        2.68960726e-02,  1.20950013e-01, -3.77583578e-02, -1.20786540e-02,\n",
      "       -4.74962778e-02,  9.77737531e-02, -2.23117515e-01,  1.25534683e-01,\n",
      "       -2.76709292e-02,  1.82049498e-01,  1.34452119e-01,  3.64945084e-02,\n",
      "        5.20525098e-01,  4.55039799e-01, -1.77904889e-02, -4.20062393e-01,\n",
      "        9.93452072e-02, -8.45585112e-03,  1.99166551e-01,  1.44183040e-01,\n",
      "        1.47931725e-01, -2.02281885e-02, -1.55886798e-03, -2.83661604e-01,\n",
      "        1.49402618e-01,  2.42192537e-01,  1.05194129e-01, -1.12713791e-01,\n",
      "        9.09788832e-02, -7.67940143e-03,  1.44338295e-01,  7.96987638e-02,\n",
      "       -8.74739707e-01,  7.29440972e-02, -1.57900190e-03,  1.02325276e-01,\n",
      "       -4.48548257e-01,  1.65767029e-01,  4.85275611e-02, -1.16039375e-02,\n",
      "        1.42210469e-01,  5.08609489e-02, -1.21726535e-01,  1.09626755e-01,\n",
      "       -1.04778819e-01, -2.67798584e-02, -3.18506993e-02, -3.50837737e-01,\n",
      "        1.03450671e-01,  2.69610792e-01, -1.55849025e-01, -1.28691196e-01,\n",
      "       -2.69002863e-04, -1.10050447e-01,  7.54910707e-02, -3.08028832e-02,\n",
      "       -6.27742242e-03,  1.24578752e-01,  1.52347028e-01,  2.76942611e-01,\n",
      "       -2.95860559e-01, -2.78770830e-02,  1.41364764e-02,  2.36324608e-01,\n",
      "       -1.16757728e-01, -1.68116800e-02,  2.33153224e-01,  2.32603341e-01,\n",
      "        1.30708560e-01, -5.66513725e-02,  2.35705972e-01,  1.95712700e-01,\n",
      "        4.29908335e-02,  2.34319597e-01,  8.98959190e-02,  2.88278107e-02,\n",
      "        2.35885173e-01,  4.55854572e-02, -3.17505673e-02,  2.02022806e-01,\n",
      "        8.52177441e-02,  3.19826782e-01, -5.13693057e-02, -4.20873519e-03,\n",
      "        7.99479187e-02,  2.69326866e-01,  7.74846738e-03,  7.19270408e-02,\n",
      "       -8.98954213e-01,  8.02624002e-02, -7.93009065e-03,  2.86078364e-01,\n",
      "        3.51327211e-01, -5.66133391e-03,  1.32233277e-01,  5.63607663e-02,\n",
      "        2.86418106e-02,  2.46027648e-01, -3.95987749e-01, -8.49026081e-04,\n",
      "       -1.28389429e-02, -8.19717254e-03,  2.38725357e-02,  1.16212524e-01,\n",
      "        4.87388996e-03, -1.76531971e-01,  8.13876167e-02,  1.63931295e-01,\n",
      "        1.27432798e-03,  1.37714356e-01, -1.15216143e-01, -5.42099290e-02,\n",
      "       -2.89249551e-02,  8.25286806e-02,  3.71685535e-01,  1.58041731e-01,\n",
      "        6.45634830e-02, -6.92437142e-02, -6.45860285e-02, -1.70788586e-01,\n",
      "        1.49101630e-01, -8.44280869e-02, -1.92325264e-02, -1.42604364e-02,\n",
      "        2.60274768e-01,  7.03855231e-02, -2.03430966e-01,  3.75290960e-02,\n",
      "        1.51885590e-02, -9.96580254e-03, -2.99202800e-01,  3.20418417e-01,\n",
      "        7.29450807e-02,  2.50398695e-01,  6.14381790e-01, -1.36085059e-02,\n",
      "       -2.15856805e-01,  1.87812075e-01,  1.49120197e-01,  1.92535728e-01,\n",
      "        1.62955269e-01,  4.87229913e-01, -1.81433484e-02, -1.59161091e-01,\n",
      "        1.71914235e-01, -3.20235550e-01, -3.98649305e-01,  2.10326537e-01,\n",
      "       -1.67213291e-01, -3.04175675e-01,  8.64169672e-02, -3.92754793e-01,\n",
      "       -9.96731501e-03,  2.59808805e-02, -9.53364745e-02, -1.02752224e-02,\n",
      "        1.24841139e-01,  5.52652255e-02, -8.32506176e-03, -6.27630204e-02,\n",
      "       -3.53204124e-02,  1.08833477e-01, -1.81371629e-01,  3.20020109e-01,\n",
      "        9.94044319e-02,  2.01995075e-02, -4.72192585e-01,  1.41951993e-01,\n",
      "        1.91862270e-01, -1.91537976e-01, -8.94382596e-02,  6.84143184e-03,\n",
      "       -8.43593851e-02,  1.10479221e-01, -6.65333681e-03,  4.76948842e-02,\n",
      "       -1.21353129e-02,  1.12391695e-01,  5.63370734e-02,  7.88770542e-02,\n",
      "        9.13956910e-02,  1.33563548e-01,  1.10091209e-01,  8.41448307e-02,\n",
      "        1.67317882e-01,  1.03647955e-01,  3.06971725e-02,  1.79509004e-03,\n",
      "        1.31591678e-01,  1.74659580e-01,  1.70640558e-01, -6.31241454e-03,\n",
      "       -3.03815901e-01, -2.12817430e-01,  1.17305838e-01,  1.03398666e-01,\n",
      "        1.22509532e-01,  3.00198384e-02,  3.55259091e-01, -1.76976826e-02,\n",
      "        2.25353032e-01,  1.07371420e-01, -1.55913970e-02,  5.30355647e-02,\n",
      "        9.71634015e-02, -1.86069049e-02, -1.03497570e-02, -7.00853020e-02,\n",
      "        3.40656549e-01,  8.48436728e-02,  3.25715961e-03, -2.64622550e-02,\n",
      "        3.81072164e-02,  1.08483553e-01, -1.18990382e-02,  2.35957235e-01,\n",
      "       -4.59469520e-02, -2.26305537e-02,  7.70677775e-02, -4.38532084e-02,\n",
      "       -1.64329633e-02,  4.45373386e-01, -1.15959816e-01, -8.39545578e-02,\n",
      "        1.51508763e-01,  1.70476317e-01,  1.63501371e-02, -1.31505290e-02,\n",
      "        2.93668061e-01,  4.85817008e-02,  8.43167379e-02,  2.09248275e-01,\n",
      "       -9.45157930e-03, -1.70024633e-02,  9.47721899e-02,  4.22187358e-01,\n",
      "        2.31611077e-02,  8.46410543e-02, -6.68652296e-01,  3.14449682e-03,\n",
      "       -4.82401311e-01,  1.69703290e-02,  2.09710822e-01,  1.11973353e-01,\n",
      "        2.29251049e-02, -8.28253031e-02,  2.62106121e-01,  7.28920400e-02,\n",
      "        2.01215390e-02, -1.56418622e-01,  9.61966589e-02, -7.38698384e-03,\n",
      "        2.41277859e-01,  9.95937213e-02, -6.89398721e-02, -9.49246343e-03,\n",
      "        3.69600877e-02,  2.28224903e-01,  5.93292899e-02, -4.66000289e-02,\n",
      "        9.34979692e-02,  8.61655623e-02, -2.35656407e-02,  8.63442719e-02,\n",
      "       -2.36123670e-02,  3.08313727e-01,  3.93268988e-02,  2.81354219e-01,\n",
      "        2.88616512e-02,  3.33724730e-02,  1.97228938e-01,  1.13763981e-01,\n",
      "       -1.42173190e-02,  4.64249775e-02,  7.81999230e-02, -8.47699679e-03,\n",
      "        3.42760398e-03, -1.32215127e-01,  1.57584772e-01, -1.54307947e-01,\n",
      "        1.98788755e-02, -2.49221519e-01,  1.35528311e-01, -1.45379147e-02,\n",
      "        1.18454702e-01,  3.17948878e-01,  2.67576039e-01,  1.98204383e-01,\n",
      "        2.26815492e-01,  3.46553400e-02, -1.13894708e-01,  1.38346061e-01,\n",
      "        1.70367192e-02,  4.16050047e-01, -2.22592968e-02, -3.52570042e-02,\n",
      "       -3.48880212e-03,  2.44105279e-01,  1.39315397e-01,  4.83027063e-02,\n",
      "       -2.13890988e-02,  1.42614961e-01,  7.79550374e-02,  2.91937985e-03,\n",
      "        7.91181475e-02,  2.38131359e-02,  1.05894327e-01,  3.39451104e-01,\n",
      "       -2.53483087e-01,  9.97694582e-02,  6.63674902e-03, -2.15803627e-02,\n",
      "       -2.19370246e-01, -5.90248592e-02,  1.25955641e-01,  1.58756301e-01,\n",
      "       -8.09130725e-03,  5.21788076e-02, -8.56271572e-03,  1.58112347e-01,\n",
      "        4.96154502e-02,  1.26916930e-01, -1.26127489e-02, -1.97789073e-02,\n",
      "       -1.79617908e-02,  5.77898175e-02,  1.23872273e-01,  1.82446137e-01,\n",
      "        4.39782798e-01,  1.08675081e-02,  1.42774776e-01,  5.23035675e-02,\n",
      "        1.72042638e-01, -4.79430333e-03,  1.57691017e-01,  1.25312924e-01],\n",
      "      dtype=float32)]\n",
      "{'name': 'dense_11', 'trainable': True, 'dtype': {'module': 'keras', 'class_name': 'DTypePolicy', 'config': {'name': 'float32'}, 'registered_name': None}, 'units': 256, 'activation': 'relu', 'use_bias': True, 'kernel_initializer': {'module': 'keras.initializers', 'class_name': 'GlorotUniform', 'config': {'seed': None}, 'registered_name': None}, 'bias_initializer': {'module': 'keras.initializers', 'class_name': 'Zeros', 'config': {}, 'registered_name': None}, 'kernel_regularizer': None, 'bias_regularizer': None, 'kernel_constraint': None, 'bias_constraint': None} [array([[-0.0964246 , -0.0255346 , -0.05253435, ...,  0.2225212 ,\n",
      "         0.14802223, -0.16718477],\n",
      "       [-0.05468225, -0.16475055, -0.14264053, ..., -0.03199834,\n",
      "         0.20251775,  0.01252676],\n",
      "       [ 0.05281089,  0.06774249,  0.01291719, ...,  0.04836535,\n",
      "        -0.01566125,  0.02890796],\n",
      "       ...,\n",
      "       [-0.08670086, -0.02034498,  0.08191719, ..., -0.03427125,\n",
      "         0.04973383, -0.05429956],\n",
      "       [-0.16049516, -0.03395139,  0.01043001, ..., -0.04747457,\n",
      "        -0.08644466,  0.16045938],\n",
      "       [-0.308065  ,  0.00675102, -0.1152702 , ...,  0.0081287 ,\n",
      "        -0.22596945,  0.0798879 ]], shape=(512, 256), dtype=float32), array([-0.22332329, -0.21766172, -0.19619568, -0.04547491,  0.2497758 ,\n",
      "        0.08271602,  0.02638652, -0.16027279, -0.07884818,  0.26238456,\n",
      "       -0.1109045 , -0.27256835,  0.14750062, -0.0103508 ,  0.1504669 ,\n",
      "       -0.1318496 , -0.13931066,  0.09431806,  0.07321377, -0.10684232,\n",
      "       -0.01666834, -0.27726313, -0.0795828 ,  0.04582378, -0.1173742 ,\n",
      "        0.05105015,  0.02244125,  0.31321383,  0.12135149,  0.32480994,\n",
      "       -0.07504492,  0.09236459, -0.10838516, -0.05365818,  0.11338483,\n",
      "        0.20059384, -0.08225401,  0.22022787, -0.2750715 , -0.0806959 ,\n",
      "        0.1802764 , -0.08336784,  0.26422387,  0.09307084,  0.08412225,\n",
      "       -0.06930636, -0.23736987,  0.20031391, -0.2132329 ,  0.11789206,\n",
      "       -0.08342146, -0.46772972, -0.1427711 ,  0.33653268,  0.13356635,\n",
      "        0.09687781, -0.0147132 , -0.11759496,  0.2650199 , -0.00810811,\n",
      "       -0.05154711, -0.04577438, -0.01219204, -0.12960541, -0.10797707,\n",
      "        0.17867814, -0.20023939,  0.10866481, -0.28148878, -0.14464803,\n",
      "        0.49930924,  0.43073696, -0.09922525, -0.13683657,  0.31356734,\n",
      "       -0.06690353,  0.28341624, -0.10777169,  0.13979024, -0.07233179,\n",
      "        0.06889018,  0.24251129,  0.08653446,  0.08966859, -0.13948612,\n",
      "       -0.14296897, -0.12339078, -0.05407458, -0.04576164, -0.00344031,\n",
      "       -0.11635274, -0.15200603,  0.8368311 , -0.21570717, -0.04147983,\n",
      "        0.27146202, -0.03015232, -0.06149673, -0.02079754, -0.014809  ,\n",
      "       -0.22027318,  0.06351132,  0.00148524, -0.02252181,  0.00310989,\n",
      "       -0.22674106, -0.14418715, -0.19825488,  0.11557154, -0.29817072,\n",
      "       -0.12045562, -0.14706708,  0.08780398,  0.1278762 ,  0.40072954,\n",
      "       -0.12389491, -0.11028718,  0.14734665, -0.1836185 , -0.16573575,\n",
      "       -0.24938336, -0.15350436,  0.33171353,  0.05978204,  0.01875176,\n",
      "       -0.09255231, -0.19283752, -0.18312795,  0.04436624, -0.35782155,\n",
      "        0.12694125,  0.31544855,  0.01684806, -0.04275719,  0.01503052,\n",
      "        0.00984978, -0.00403149, -0.08682611,  0.24262689,  0.09205501,\n",
      "       -0.06215624,  0.33827743,  0.15437175, -0.15084547,  0.3844865 ,\n",
      "        0.16075875,  0.33883595,  0.04204085,  0.38800016, -0.05487702,\n",
      "        0.09627081, -0.16533731,  0.26788467, -0.17648433,  0.01600518,\n",
      "       -0.16791995,  0.4721444 ,  0.4212614 ,  0.05871836, -0.14051642,\n",
      "        0.18741834, -0.16260538,  0.13340752, -0.01047573,  0.28050572,\n",
      "        0.30508524, -0.14647013, -0.19521026, -0.11688438,  0.16571791,\n",
      "       -0.19782747, -0.16797648,  0.01561926,  0.26702002, -0.07986651,\n",
      "        0.24129502,  0.26786965, -0.04761648,  0.5168988 ,  0.1338486 ,\n",
      "        0.17514226, -0.18002208,  0.23338632, -0.24796544,  0.06678062,\n",
      "       -0.20632772, -0.18294433, -0.09940824, -0.1552596 ,  0.14786556,\n",
      "        0.31814575, -0.10385901,  0.1656458 , -0.20933846,  0.19389112,\n",
      "        0.02721602,  0.12114232,  0.00826891, -0.13211647, -0.0491428 ,\n",
      "       -0.3288937 ,  0.21533683,  0.03101472, -0.15733294, -0.0646348 ,\n",
      "        0.02515041, -0.13951603,  0.03176714, -0.24448171,  0.24318819,\n",
      "        0.00716194, -0.08362596, -0.16061792, -0.01833503, -0.115858  ,\n",
      "       -0.04002817,  0.34381956,  0.0354639 ,  0.29947475, -0.04290747,\n",
      "       -0.18620507,  0.27140054, -0.21607026,  0.12394767, -0.06589903,\n",
      "       -0.12112512,  0.7114919 ,  0.07906343,  0.32904083,  0.11412778,\n",
      "        0.07014021,  0.25410634,  0.0778942 , -0.1123312 ,  0.08517089,\n",
      "       -0.05501342,  0.03266717,  0.08375023,  0.20863214,  0.07010634,\n",
      "        0.11122207,  0.09480709,  0.17802311, -0.18456145, -0.15638724,\n",
      "        0.08648767, -0.01179721,  0.1776598 ,  0.02998179,  0.22404383,\n",
      "        0.01521992, -0.20039655,  0.00899509, -0.2506267 ,  0.08733223,\n",
      "        0.05921592], dtype=float32)]\n",
      "{'name': 'dense_12', 'trainable': True, 'dtype': {'module': 'keras', 'class_name': 'DTypePolicy', 'config': {'name': 'float32'}, 'registered_name': None}, 'units': 256, 'activation': 'relu', 'use_bias': True, 'kernel_initializer': {'module': 'keras.initializers', 'class_name': 'GlorotUniform', 'config': {'seed': None}, 'registered_name': None}, 'bias_initializer': {'module': 'keras.initializers', 'class_name': 'Zeros', 'config': {}, 'registered_name': None}, 'kernel_regularizer': None, 'bias_regularizer': None, 'kernel_constraint': None, 'bias_constraint': None} [array([[-0.1584023 , -0.00570537,  0.10053732, ..., -0.09366308,\n",
      "        -0.17927375, -0.21863844],\n",
      "       [-0.08241602,  0.19989124,  0.16092485, ..., -0.12911572,\n",
      "        -0.01039961, -0.06251112],\n",
      "       [-0.13872185,  0.01433841, -0.13001032, ...,  0.06872876,\n",
      "         0.00812986, -0.14769535],\n",
      "       ...,\n",
      "       [ 0.08620264,  0.13950253, -0.0078434 , ...,  0.0445024 ,\n",
      "        -0.13035263, -0.05891004],\n",
      "       [ 0.0160824 , -0.41192347, -0.24853401, ...,  0.03563423,\n",
      "         0.13721095,  0.22829558],\n",
      "       [ 0.12516156, -0.40350506,  0.22666535, ...,  0.07516585,\n",
      "        -0.73325974,  0.02649437]], shape=(256, 256), dtype=float32), array([-0.04122764, -0.08370017, -0.11693884, -0.13811432,  0.41760272,\n",
      "       -0.24204381, -0.09709328, -0.0538907 ,  0.40438506,  0.2165701 ,\n",
      "        0.33176395,  0.3129213 , -0.05635751, -0.34585896,  0.10902101,\n",
      "        0.1920244 , -0.02118698, -0.15439768,  0.05508446,  0.25722182,\n",
      "       -0.1867569 ,  0.09963096, -0.07215699, -0.31245548,  0.13594106,\n",
      "       -0.05156109, -0.00313333,  0.53952765,  0.01568631, -0.07358329,\n",
      "        0.2787589 ,  0.1391891 , -0.19088328, -0.54400414,  0.6223516 ,\n",
      "       -0.2836671 ,  0.07406032,  0.04991163,  0.13730922,  0.05471512,\n",
      "        0.10732191, -0.17767285,  0.2640234 ,  0.00752318, -0.0978194 ,\n",
      "        0.16106732,  0.21285743, -0.19637379, -0.13331664,  0.36546677,\n",
      "        0.17258672,  0.19639374,  0.36403385, -0.17035748,  0.30500653,\n",
      "        0.00075653,  0.06024507,  0.14603159, -0.14084135, -0.09556505,\n",
      "        0.31892207,  0.29023308,  0.16673112,  0.05448079,  0.20476407,\n",
      "        0.26596537, -0.16464096, -0.04829998, -0.01065579, -0.07550669,\n",
      "       -0.08809459, -0.01266605,  0.5531108 ,  0.07558094,  0.07603216,\n",
      "       -0.16349646, -0.13820148,  0.28022227, -0.0590333 , -0.3560742 ,\n",
      "       -0.07928175, -0.01113511, -0.03870142,  0.33506852,  0.27645168,\n",
      "       -0.15405604,  0.20954478,  0.20001234,  0.31337574,  0.38670114,\n",
      "        0.08263192,  0.577929  , -0.11184355,  0.30219308,  0.20388432,\n",
      "        0.2676346 , -0.14424872,  0.41787976,  0.16114056, -0.14261742,\n",
      "        0.23756139, -0.02357341, -0.10858606,  0.46799   ,  0.3664157 ,\n",
      "        0.31959134, -0.21434717,  0.15418576, -0.24594498,  0.25825354,\n",
      "       -0.05753877,  0.13708873, -0.20076561,  0.17108539,  0.04635239,\n",
      "        0.19895536,  0.46047235,  0.32191706, -0.21458797, -0.16303866,\n",
      "        0.39334965, -0.00795457,  0.11882277, -0.01295851,  0.17791082,\n",
      "        0.0015907 ,  0.30283168,  0.31235278, -0.0531951 ,  0.15720166,\n",
      "        0.19148849, -0.15305176, -0.14948978,  0.24508211, -0.05457087,\n",
      "        0.23471616,  0.36895025,  0.16651168, -0.24496141,  0.13371827,\n",
      "        0.05264844,  0.2687571 , -0.02623996, -0.12163863, -0.0469089 ,\n",
      "        0.17368977, -0.16038275, -0.01772518,  0.36163175,  0.0782349 ,\n",
      "       -0.02147953, -0.38327485, -0.02801139, -0.13310724, -0.02692522,\n",
      "       -0.23187792, -0.18415   , -0.12631497, -0.32990634, -0.09154345,\n",
      "       -0.09221381, -0.3462623 , -0.04899135,  0.2550149 , -0.09214048,\n",
      "        0.02161769,  0.03650565, -0.04251684, -0.17994632, -0.10029083,\n",
      "       -0.10942986,  0.04650504, -0.1325938 ,  0.00388748, -0.33846593,\n",
      "       -0.23891689, -0.24305107,  0.28906602, -0.0992058 ,  0.02551449,\n",
      "       -0.37027878,  0.54428446, -0.13061531,  0.07830471,  0.12896779,\n",
      "        0.47312367, -0.06680027,  0.42472544,  0.10242066, -0.2840533 ,\n",
      "       -0.2199392 ,  0.61967844, -0.02539475,  0.22314736, -0.00704735,\n",
      "       -0.02873144,  0.37376368, -0.11821502,  0.2542653 ,  0.11274717,\n",
      "        0.42967412, -0.04802661,  0.2010824 ,  0.6942663 ,  0.25046453,\n",
      "       -0.10154182, -0.12991202, -0.0650532 ,  0.11892712,  0.12364536,\n",
      "       -0.19940673, -0.14205632,  0.16861828,  0.02589234,  0.01881298,\n",
      "        0.136575  ,  0.39623955, -0.18701424,  0.11587817,  0.13149637,\n",
      "        0.34223878,  0.139827  ,  0.21699536,  0.24988823,  0.01122767,\n",
      "        0.14969811,  0.18205573,  0.3444905 , -0.24592893,  0.13381997,\n",
      "       -0.20844442,  0.22584505, -0.16940278, -0.10340692, -0.03385933,\n",
      "       -0.18678893,  0.32756534, -0.07311763, -0.19070075, -0.16200149,\n",
      "        0.15321481,  0.17616868, -0.15653493,  0.41268793, -0.37721273,\n",
      "        0.27315786, -0.04394106,  0.36101618,  0.00303763, -0.02853618,\n",
      "        0.21511336,  0.0117342 , -0.1324248 ,  0.32958174, -0.10114315,\n",
      "        0.02935328], dtype=float32)]\n",
      "{'name': 'dense_13', 'trainable': True, 'dtype': {'module': 'keras', 'class_name': 'DTypePolicy', 'config': {'name': 'float32'}, 'registered_name': None}, 'units': 128, 'activation': 'relu', 'use_bias': True, 'kernel_initializer': {'module': 'keras.initializers', 'class_name': 'GlorotUniform', 'config': {'seed': None}, 'registered_name': None}, 'bias_initializer': {'module': 'keras.initializers', 'class_name': 'Zeros', 'config': {}, 'registered_name': None}, 'kernel_regularizer': None, 'bias_regularizer': None, 'kernel_constraint': None, 'bias_constraint': None} [array([[-0.18764706, -0.0956119 , -0.01690892, ..., -0.22044316,\n",
      "         0.0071916 , -0.00150167],\n",
      "       [-0.18323597,  0.00308078, -0.05235658, ..., -0.37468317,\n",
      "        -0.09003051,  0.03530531],\n",
      "       [ 0.11363114, -0.1055483 , -0.05543215, ..., -0.20142171,\n",
      "        -0.10253696,  0.14584956],\n",
      "       ...,\n",
      "       [ 0.04215727, -0.15321773, -0.12900507, ...,  0.03480226,\n",
      "         0.06558157, -0.39066458],\n",
      "       [-0.01143036, -0.03035783, -0.0588257 , ..., -0.02609974,\n",
      "        -0.02366592, -0.44435054],\n",
      "       [-0.08185384, -0.0968688 ,  0.06185484, ..., -0.01634392,\n",
      "         0.07391352, -0.27756482]], shape=(256, 128), dtype=float32), array([ 0.11532033, -0.21215415, -0.12066787, -0.15437499,  0.21130525,\n",
      "        0.5154889 ,  0.15956248, -0.24457307, -0.03566192, -0.25737825,\n",
      "       -0.16875654, -0.25615275, -0.12996057,  0.1518093 ,  0.3110601 ,\n",
      "        0.3923793 , -0.12230606,  0.20369053,  0.47002405, -0.16064094,\n",
      "        0.11135655,  0.02479991, -0.11413363, -0.09000449, -0.26803964,\n",
      "       -0.09086257, -0.33873162,  0.5178623 ,  0.41534576,  0.10593724,\n",
      "       -0.3601607 ,  0.05247448,  0.19781633, -0.14607449,  0.5397502 ,\n",
      "       -0.1508534 , -0.26315114, -0.18849747,  0.3693238 , -0.13357428,\n",
      "        0.21477196, -0.02742109, -0.09143572,  0.1020862 ,  0.00732834,\n",
      "       -0.1866219 ,  0.05058751,  0.10806336,  0.31697857,  0.34626088,\n",
      "       -0.17551728,  0.28773305, -0.19193268,  0.328714  ,  0.27468416,\n",
      "        0.22395697, -0.00294877, -0.12942412, -0.06290378,  0.14690807,\n",
      "        0.11176904,  0.237558  ,  0.61831856, -0.17385301,  0.05968007,\n",
      "       -0.11847684, -0.22493926, -0.12554011,  0.50344354,  0.20169601,\n",
      "       -0.32374617,  0.02483447, -0.07654057, -0.08525718,  0.22008483,\n",
      "        0.27904728, -0.1913688 , -0.19761033,  0.4414357 ,  0.55013895,\n",
      "       -0.26496404,  0.09259445, -0.06292558, -0.35334468,  0.25583565,\n",
      "        0.34439167,  0.4986753 , -0.15001741, -0.13515134,  0.3154173 ,\n",
      "        0.22583805, -0.1906785 ,  0.11255443, -0.0780669 ,  0.2604561 ,\n",
      "       -0.13297115,  0.39264965,  0.02997058, -0.09715981, -0.05791353,\n",
      "       -0.00458777, -0.34877145,  0.0935855 ,  0.1866517 ,  0.20417671,\n",
      "       -0.17463425,  0.18758969,  0.15243419, -0.02650683, -0.010849  ,\n",
      "        0.21627393,  0.22138652, -0.13625252,  0.23705703, -0.02482668,\n",
      "       -0.1416694 ,  0.27587065,  0.18313651, -0.13342108,  0.22573341,\n",
      "        0.15402962,  0.46658   , -0.24738592,  0.09750853,  0.2316037 ,\n",
      "        0.17578723, -0.09176035,  0.05359406], dtype=float32)]\n",
      "{'name': 'dense_14', 'trainable': True, 'dtype': {'module': 'keras', 'class_name': 'DTypePolicy', 'config': {'name': 'float32'}, 'registered_name': None}, 'units': 64, 'activation': 'relu', 'use_bias': True, 'kernel_initializer': {'module': 'keras.initializers', 'class_name': 'GlorotUniform', 'config': {'seed': None}, 'registered_name': None}, 'bias_initializer': {'module': 'keras.initializers', 'class_name': 'Zeros', 'config': {}, 'registered_name': None}, 'kernel_regularizer': None, 'bias_regularizer': None, 'kernel_constraint': None, 'bias_constraint': None} [array([[-0.18569905, -0.15210523, -0.14525685, ..., -0.01328361,\n",
      "         0.15069324, -0.14691012],\n",
      "       [ 0.04794725, -0.04622569,  0.02415017, ...,  0.11078533,\n",
      "        -0.07028401, -0.05248288],\n",
      "       [-0.1641568 , -0.17272756,  0.09780148, ..., -0.13268666,\n",
      "        -0.0978417 ,  0.0097343 ],\n",
      "       ...,\n",
      "       [-0.0637863 , -0.10528157, -0.0345781 , ...,  0.19049612,\n",
      "        -0.02322868, -0.08786006],\n",
      "       [ 0.14340942,  0.0581554 , -0.06272811, ..., -0.12549005,\n",
      "        -0.05973424,  0.17430416],\n",
      "       [ 0.20403126, -0.14185686, -0.10960448, ...,  0.11578841,\n",
      "        -0.18579996, -0.09360414]], shape=(128, 64), dtype=float32), array([ 0.02100532, -0.22965969,  0.26961893, -0.18802524, -0.11548664,\n",
      "       -0.20842642, -0.24549225,  0.18471114,  0.10504981, -0.22854894,\n",
      "       -0.19889955,  0.21273755, -0.18082683, -0.09785653,  0.36001623,\n",
      "        0.10592599,  0.33312112,  0.24847303,  0.36350018,  0.23240909,\n",
      "        0.328596  ,  0.0655928 , -0.17581733,  0.3989303 ,  0.11360203,\n",
      "        0.19310665,  0.08382915, -0.0616067 ,  0.42781186,  0.23379138,\n",
      "       -0.10949491,  0.14457218,  0.26654917, -0.06940898, -0.11947285,\n",
      "        0.4982848 ,  0.32316798,  0.17590854,  0.1865401 ,  0.49144092,\n",
      "        0.15176941,  0.24198791,  0.5147925 ,  0.04237534,  0.23444577,\n",
      "       -0.03702904,  0.0171716 ,  0.2182996 ,  0.12394463,  0.3034902 ,\n",
      "        0.16297871,  0.34049258,  0.26544192, -0.08129869, -0.11323088,\n",
      "        0.34998885, -0.12337749, -0.0368033 ,  0.00562299, -0.11053715,\n",
      "        0.2109558 , -0.06889533, -0.01893597,  0.3719573 ], dtype=float32)]\n",
      "{'name': 'dense_15', 'trainable': True, 'dtype': {'module': 'keras', 'class_name': 'DTypePolicy', 'config': {'name': 'float32'}, 'registered_name': None}, 'units': 10, 'activation': 'softmax', 'use_bias': True, 'kernel_initializer': {'module': 'keras.initializers', 'class_name': 'GlorotUniform', 'config': {'seed': None}, 'registered_name': None}, 'bias_initializer': {'module': 'keras.initializers', 'class_name': 'Zeros', 'config': {}, 'registered_name': None}, 'kernel_regularizer': None, 'bias_regularizer': None, 'kernel_constraint': None, 'bias_constraint': None} [array([[-6.70274198e-01, -4.05772507e-01, -5.52599072e-01,\n",
      "        -5.13698339e-01, -3.81835908e-01, -1.37038454e-01,\n",
      "        -1.35241345e-01, -2.91479249e-02, -2.60493189e-01,\n",
      "        -6.48532286e-02],\n",
      "       [ 4.48229201e-02,  6.77503273e-02, -2.88346082e-01,\n",
      "        -2.10730314e-01, -5.88258088e-01,  8.78186375e-02,\n",
      "        -2.38606170e-01,  1.19595572e-01,  2.74672285e-02,\n",
      "        -2.42661387e-01],\n",
      "       [-4.10099745e-01, -2.78995246e-01, -2.22600475e-01,\n",
      "        -5.12740798e-02,  5.94853684e-02, -3.05825353e-01,\n",
      "         7.54579678e-02,  1.20123856e-01,  9.33465138e-02,\n",
      "         8.79518986e-02],\n",
      "       [-2.80089438e-01, -3.89547378e-01, -3.66994679e-01,\n",
      "        -9.88611132e-02, -1.60213321e-01,  7.33682364e-02,\n",
      "         3.70305544e-03, -8.28379169e-02,  3.64254676e-02,\n",
      "        -1.59479052e-01],\n",
      "       [ 1.67957675e-02,  1.09745674e-01,  2.45039277e-02,\n",
      "        -2.69069850e-01, -1.68561935e-01,  6.60151318e-02,\n",
      "         1.09872639e-01, -8.56507495e-02, -2.62213983e-02,\n",
      "         2.59365380e-01],\n",
      "       [-1.08761765e-01,  2.16341019e-01,  1.23617403e-01,\n",
      "        -2.48544767e-01,  7.19952658e-02, -8.33663624e-03,\n",
      "         1.33288652e-01,  1.16100833e-01, -5.05508363e-01,\n",
      "         5.05205505e-02],\n",
      "       [-1.19740285e-01, -1.09310843e-01, -8.01868886e-02,\n",
      "        -6.53186202e-01, -1.02385879e-01, -1.41597986e+00,\n",
      "        -2.72739232e-01, -6.12653673e-01, -5.64172864e-01,\n",
      "        -4.79012914e-02],\n",
      "       [ 1.64381936e-01, -4.08953190e-01,  4.14405279e-02,\n",
      "         1.42591730e-01, -5.26812792e-01, -4.12961960e-01,\n",
      "         1.09830298e-01,  9.15126503e-02, -1.18685627e+00,\n",
      "         1.19921334e-01],\n",
      "       [-3.68427217e-01, -1.98871329e-01, -8.93580467e-02,\n",
      "         6.97670579e-02,  3.57399248e-02, -9.20005322e-01,\n",
      "        -1.32914156e-01, -7.13448925e-03,  3.54180261e-02,\n",
      "         2.33667716e-03],\n",
      "       [-3.62873107e-01, -1.79380730e-01, -7.63689131e-02,\n",
      "        -5.67888141e-01, -1.20366305e-01, -6.33327365e-01,\n",
      "         8.71670395e-02,  8.41744766e-02, -2.80599117e-01,\n",
      "        -2.14658841e-01],\n",
      "       [-3.85660589e-01,  2.15893298e-01, -5.02004884e-02,\n",
      "        -1.42506868e-01, -4.22372639e-01, -1.56933308e-01,\n",
      "        -1.03184231e-01,  2.17054084e-01, -5.36634088e-01,\n",
      "         2.20336422e-01],\n",
      "       [-3.87360513e-01, -1.61900446e-02,  1.90814316e-01,\n",
      "        -4.44244221e-02, -3.30334492e-02, -3.69366171e-05,\n",
      "         5.74851856e-02,  2.18353495e-01, -5.97357929e-01,\n",
      "         2.61338204e-01],\n",
      "       [ 1.49473906e-01, -3.25675815e-01, -3.30301195e-01,\n",
      "        -3.27092737e-01,  9.02229548e-02, -1.37910143e-01,\n",
      "         5.50906658e-02, -5.61278872e-02,  1.45344362e-01,\n",
      "        -9.21019837e-02],\n",
      "       [ 2.66142171e-02, -1.61252748e-02,  6.87893778e-02,\n",
      "         1.61531627e-01, -1.22500360e-01,  1.61206692e-01,\n",
      "         1.73362225e-01,  7.63703734e-02, -1.92400292e-01,\n",
      "        -1.64051816e-01],\n",
      "       [ 1.24580108e-01, -4.28702652e-01,  1.20005772e-01,\n",
      "        -7.87506998e-02, -5.80340207e-01, -5.89370877e-02,\n",
      "         3.21123302e-02,  3.06792855e-01,  1.77724749e-01,\n",
      "         1.29098356e-01],\n",
      "       [ 2.26881325e-01,  6.74110651e-02,  1.39548555e-01,\n",
      "        -1.78355172e-01,  1.46447942e-01, -4.65938687e-01,\n",
      "        -1.38772368e-01, -2.06072450e-01,  1.00415155e-01,\n",
      "        -4.27158505e-01],\n",
      "       [ 9.76654887e-02, -7.02933148e-02,  1.70196548e-01,\n",
      "        -1.15137851e+00,  9.28092673e-02, -6.71453029e-02,\n",
      "         8.20210129e-02,  2.16496643e-02, -1.05906524e-01,\n",
      "         1.40623108e-01],\n",
      "       [-3.69451761e-01, -2.88790822e-01, -9.42531109e-01,\n",
      "        -2.62538821e-01, -4.46618259e-01,  1.49648771e-01,\n",
      "        -3.19408089e-01,  7.32563734e-02, -2.74473608e-01,\n",
      "        -4.57383655e-02],\n",
      "       [ 1.14402911e-02, -1.56476825e-01,  5.65626621e-02,\n",
      "         4.30590250e-02,  2.79954020e-02, -5.80555975e-01,\n",
      "        -1.08876526e-01, -8.25922668e-01, -2.47580209e-03,\n",
      "        -7.21338511e-01],\n",
      "       [-7.35897362e-01, -8.32499206e-01,  4.62562144e-02,\n",
      "        -2.93039292e-01,  5.79644740e-02, -3.17584872e-01,\n",
      "         1.03238612e-01, -4.27144438e-01, -7.08249748e-01,\n",
      "        -5.95700204e-01],\n",
      "       [-3.42347212e-02,  1.98134497e-01,  1.57615706e-01,\n",
      "         1.42523214e-01, -1.62057295e-01, -1.76593080e-01,\n",
      "        -1.12039857e-01, -4.63993192e-01,  1.10976882e-01,\n",
      "        -6.56183839e-01],\n",
      "       [ 5.12488149e-02,  1.22323059e-01,  2.72642318e-02,\n",
      "        -4.39523339e-01, -4.18153435e-01,  1.19909748e-01,\n",
      "         6.15930818e-02,  6.00953959e-02,  6.59598559e-02,\n",
      "         1.15774609e-01],\n",
      "       [-2.62912661e-01,  1.17846102e-01, -2.69110531e-01,\n",
      "        -2.15847567e-01, -1.03528589e-01,  4.99261655e-02,\n",
      "        -2.62944043e-01, -5.48412263e-01, -4.29532319e-01,\n",
      "        -4.49780345e-01],\n",
      "       [ 1.47569962e-02, -8.65138233e-01,  2.74982780e-01,\n",
      "         2.13449880e-01,  2.49454603e-01, -1.98479366e+00,\n",
      "         1.72762826e-01, -1.88830328e+00, -6.49337709e-01,\n",
      "        -1.55791152e+00],\n",
      "       [-2.32374042e-01, -5.17271049e-02, -4.35882434e-02,\n",
      "         9.73210111e-02,  5.41286618e-02,  1.43537164e-01,\n",
      "         8.65846053e-02, -7.28653558e-03,  2.17839226e-01,\n",
      "         1.21847749e-01],\n",
      "       [-5.84562570e-02, -2.91079044e-01, -2.26358876e-01,\n",
      "        -2.03716889e-01,  1.02723189e-01, -5.41812517e-02,\n",
      "         5.66420481e-02,  4.41700965e-02,  1.64851934e-01,\n",
      "        -1.92877680e-01],\n",
      "       [-3.42980772e-01,  1.16779804e-01,  2.42750451e-01,\n",
      "         1.13951348e-01,  2.26654947e-01, -2.02890649e-01,\n",
      "        -2.35099602e-03, -4.31266636e-01, -7.72754192e-01,\n",
      "        -1.73040256e-01],\n",
      "       [-2.46089756e-01, -8.25073570e-02, -2.31338054e-01,\n",
      "         5.68180438e-03, -2.64825791e-01, -1.19775616e-01,\n",
      "         1.79698780e-01, -1.28024518e-01, -4.49841609e-03,\n",
      "         2.45939806e-01],\n",
      "       [-5.26005268e-01, -6.42902613e-01, -4.77404222e-02,\n",
      "         4.35732342e-02,  1.45162325e-02, -5.91428876e-01,\n",
      "        -1.01728924e-02, -8.05549324e-01, -1.18199788e-01,\n",
      "        -1.26304686e+00],\n",
      "       [-2.95161009e-01, -7.85811245e-02, -4.75413017e-02,\n",
      "        -8.59372914e-02, -2.52775341e-01,  1.30832866e-01,\n",
      "        -2.04696581e-01, -1.29203992e-02,  7.61942267e-02,\n",
      "         8.66892263e-02],\n",
      "       [-2.06300259e-01, -2.95962598e-02, -5.12241662e-01,\n",
      "        -4.22091454e-01, -1.32759020e-01, -1.24943778e-02,\n",
      "        -1.83412984e-01,  6.33370802e-02, -5.67778945e-02,\n",
      "         6.54840842e-02],\n",
      "       [ 1.09183520e-01,  9.02618989e-02,  9.29979831e-02,\n",
      "         1.08554289e-01,  6.64575174e-02,  1.21363014e-01,\n",
      "        -3.94719779e-01, -1.68373957e-01,  1.82428323e-02,\n",
      "         9.56396684e-02],\n",
      "       [ 1.42190665e-01, -5.22504926e-01,  3.20331939e-02,\n",
      "        -4.10492361e-01,  4.03871536e-02, -1.39114065e-02,\n",
      "         2.28910446e-01, -7.34789521e-02, -6.73471689e-02,\n",
      "        -5.14369726e-01],\n",
      "       [-3.02246045e-02,  1.78629532e-01, -1.78360164e-01,\n",
      "        -7.11928308e-02,  3.69895920e-02,  4.42529581e-02,\n",
      "        -6.49846494e-02, -1.92942694e-01, -4.05480675e-02,\n",
      "        -2.13072821e-01],\n",
      "       [ 1.34223759e-01, -4.13493156e-01,  1.35971412e-01,\n",
      "        -2.11510584e-01, -1.33638814e-01, -9.59672108e-02,\n",
      "        -7.84396678e-02,  1.67458772e-03, -3.09674710e-01,\n",
      "        -1.24943927e-01],\n",
      "       [-2.68165231e-01, -3.18617165e-01,  2.00911134e-01,\n",
      "        -4.48732257e-01,  1.55565381e-01,  1.72195226e-01,\n",
      "         1.75567970e-01,  1.08263634e-01,  3.50552015e-02,\n",
      "        -3.89510632e-01],\n",
      "       [ 4.65352871e-02, -5.98957658e-01, -3.20394099e-01,\n",
      "        -5.44993728e-02, -7.36443400e-01, -7.58575574e-02,\n",
      "         4.39682193e-02,  8.78010541e-02, -1.06311068e-01,\n",
      "         2.57856071e-01],\n",
      "       [ 6.54250756e-02, -1.11396223e-01, -2.07847252e-01,\n",
      "        -8.85237455e-02, -1.28046498e-01, -8.02911341e-01,\n",
      "         2.11097732e-01, -1.27711749e+00, -1.66298926e-01,\n",
      "        -1.13724601e+00],\n",
      "       [-6.49434507e-01, -1.76213109e+00, -6.91999793e-01,\n",
      "        -6.06732547e-01, -7.20298171e-01, -8.23019385e-01,\n",
      "        -5.12420416e-01,  4.32823226e-02, -1.94865197e-01,\n",
      "         5.06625324e-02],\n",
      "       [ 1.56315520e-01,  1.12875290e-01,  1.91644311e-01,\n",
      "         1.83632642e-01,  1.71939030e-01, -1.53717673e+00,\n",
      "         1.50902793e-01, -2.68671918e+00, -3.62760842e-01,\n",
      "        -1.67623603e+00],\n",
      "       [-4.62606639e-01, -6.42616332e-01, -3.51666629e-01,\n",
      "        -5.44699430e-01, -4.17756923e-02,  1.73270196e-01,\n",
      "        -1.86875895e-01,  1.04595497e-01, -1.31403744e-01,\n",
      "         2.14228760e-02],\n",
      "       [-7.68497825e-01, -9.56591070e-01, -1.33230758e+00,\n",
      "        -8.52115810e-01, -7.00695515e-01,  7.85364360e-02,\n",
      "        -7.33329237e-01,  2.80521601e-01, -3.38891983e-01,\n",
      "         1.73253685e-01],\n",
      "       [-4.03141081e-01,  9.23602134e-02,  1.13876082e-01,\n",
      "         2.09898010e-01,  1.54941991e-01, -2.49714792e-01,\n",
      "         1.18165389e-01, -4.22579736e-01,  8.53348747e-02,\n",
      "        -4.83092487e-01],\n",
      "       [-2.16580480e-01,  2.06623524e-01, -5.01116738e-02,\n",
      "         8.51005316e-02,  1.93950608e-02,  8.97334144e-02,\n",
      "        -1.32455453e-01, -3.43267232e-01,  1.22542590e-01,\n",
      "         8.57073367e-02],\n",
      "       [-2.25363504e-02, -8.97749066e-02,  1.21887200e-01,\n",
      "        -6.67115748e-01,  1.20070837e-01, -1.83516890e-02,\n",
      "        -3.38495493e-01, -6.54160557e-03,  6.71001002e-02,\n",
      "         7.96851516e-02],\n",
      "       [ 2.05185711e-02, -4.98652942e-02, -1.76608697e-01,\n",
      "        -3.36533010e-01, -1.03356116e-01, -9.65231210e-02,\n",
      "         3.19734886e-02, -5.05742908e-01, -6.51495680e-02,\n",
      "        -9.22360659e-01],\n",
      "       [-2.25108489e-01,  1.89646542e-01, -5.54330274e-02,\n",
      "        -5.47461748e-01, -3.40456069e-01,  4.42422107e-02,\n",
      "        -8.56066272e-02, -2.12094799e-01, -4.91804518e-02,\n",
      "         1.81753971e-02],\n",
      "       [ 2.08486408e-01, -2.38968596e-01, -3.82274806e-01,\n",
      "         1.32829413e-01, -1.09822914e-01,  3.49172018e-02,\n",
      "        -2.25521103e-02, -6.69105425e-02,  2.85101384e-01,\n",
      "        -3.03034782e-01],\n",
      "       [ 1.60418102e-03, -6.19091213e-01,  5.96760027e-02,\n",
      "        -2.07035780e-01,  5.29874638e-02, -3.09046984e-01,\n",
      "        -1.67360120e-02,  5.93829527e-02,  1.96957037e-01,\n",
      "         1.04144901e-01],\n",
      "       [ 1.03848293e-01,  2.27324143e-01, -1.46995142e-01,\n",
      "         2.91485995e-01,  2.59397954e-01, -4.97215599e-01,\n",
      "         2.12979600e-01,  8.48851800e-02, -1.28874153e-01,\n",
      "        -3.18731405e-02],\n",
      "       [-1.75094217e-01,  2.81921774e-01, -2.38510817e-01,\n",
      "         1.09414242e-01,  5.20334020e-02, -3.68335098e-02,\n",
      "        -2.16094833e-02, -1.53404120e-02,  3.70539837e-02,\n",
      "        -1.11780368e-01],\n",
      "       [-3.97321470e-02, -3.58223289e-01, -9.24518146e-03,\n",
      "         1.82446942e-01, -1.35637552e-01,  1.36572063e-01,\n",
      "        -2.69992203e-01,  9.27305520e-02, -4.29452837e-01,\n",
      "         3.93604971e-02],\n",
      "       [-4.43171173e-01, -3.47691447e-01, -5.05823374e-01,\n",
      "        -4.10386711e-01, -4.12852973e-01,  5.16018979e-02,\n",
      "        -6.80218875e-01,  9.91722196e-02, -2.04857036e-01,\n",
      "         7.43281394e-02],\n",
      "       [ 7.05917403e-02,  2.22429290e-01, -3.40764701e-01,\n",
      "        -9.80637744e-02, -1.41216248e-01, -5.13527691e-02,\n",
      "        -2.26442188e-01, -9.87011269e-02, -2.77394176e-01,\n",
      "         1.13979742e-01],\n",
      "       [ 3.72867137e-02,  1.42599016e-01, -5.10686003e-02,\n",
      "        -7.44978264e-02, -5.65110184e-02, -8.05395395e-02,\n",
      "        -1.46919072e-01, -8.94129202e-02, -2.99711883e-01,\n",
      "         3.79684530e-02],\n",
      "       [ 1.21629424e-01,  1.85131609e-01, -5.68230629e-01,\n",
      "         8.54756460e-02, -3.32761526e-01,  6.32794797e-02,\n",
      "         1.70034662e-01,  5.53415343e-02, -6.92195892e-01,\n",
      "        -4.17890161e-01],\n",
      "       [-2.66130984e-01, -1.92309842e-01, -1.10168070e-01,\n",
      "        -1.80716261e-01, -4.69204873e-01, -2.03742936e-01,\n",
      "        -1.33898497e-01, -3.08842123e-01, -3.61951254e-02,\n",
      "        -3.62358332e-01],\n",
      "       [-2.39802375e-01, -1.33119136e-01, -1.39158085e-01,\n",
      "        -3.52817088e-01, -3.48018080e-01,  7.74058849e-02,\n",
      "        -6.20008409e-01, -1.72206238e-01, -2.07558066e-01,\n",
      "         9.80559736e-02],\n",
      "       [-3.89313012e-01, -1.15154588e+00, -6.40055120e-01,\n",
      "        -3.52558315e-01, -5.24824440e-01, -1.33338988e-01,\n",
      "        -6.33789003e-01,  1.80473626e-02, -2.45046675e-01,\n",
      "         2.80209277e-02],\n",
      "       [-5.47917970e-02, -7.35509917e-02, -1.36135444e-01,\n",
      "        -1.90022871e-01, -1.54528618e-01, -2.26633549e+00,\n",
      "         2.94131320e-02, -9.22726154e-01, -5.10316908e-01,\n",
      "        -1.12311351e+00],\n",
      "       [-8.64434421e-01, -7.55186856e-01,  6.89494014e-02,\n",
      "        -9.93580092e-03,  1.00291826e-01,  1.42433479e-01,\n",
      "         3.15098688e-02, -4.27111052e-02, -4.09539193e-01,\n",
      "         9.13413018e-02],\n",
      "       [ 1.39797404e-01,  7.38567784e-02, -5.70907220e-02,\n",
      "         1.02075413e-01, -3.98002595e-01, -2.11519256e-01,\n",
      "        -7.47692958e-02, -2.64979661e-01, -2.65703112e-01,\n",
      "        -5.36703825e-01],\n",
      "       [-1.19405895e-01, -1.52404800e-01, -1.67778537e-01,\n",
      "        -1.37897372e-01,  2.37408191e-01, -1.55031919e-01,\n",
      "        -1.46961883e-01, -1.37401015e-01, -2.04822838e-01,\n",
      "         3.04535124e-02],\n",
      "       [ 1.29480183e-01, -3.14130515e-01,  2.02111006e-01,\n",
      "         1.22320302e-01, -2.37919182e-01, -5.39712667e-01,\n",
      "         2.27209508e-01, -8.58737528e-01, -1.50928095e-01,\n",
      "        -6.48470879e-01]], dtype=float32), array([-0.03665091, -0.50228184,  0.09827563,  0.16197652, -0.05313858,\n",
      "       -0.07523661,  0.02710334,  0.12314396, -0.08466501, -0.16120592],\n",
      "      dtype=float32)]\n"
     ]
    }
   ],
   "source": [
    "for layer in model.layers:\n",
    "  print(layer.get_config(),\n",
    "        layer.get_weights(),)"
   ]
  },
  {
   "cell_type": "code",
   "execution_count": 33,
   "metadata": {
    "colab": {
     "base_uri": "https://localhost:8080/"
    },
    "executionInfo": {
     "elapsed": 418,
     "status": "ok",
     "timestamp": 1730213480466,
     "user": {
      "displayName": "Marco Piazza",
      "userId": "04040092922552097476"
     },
     "user_tz": -60
    },
    "id": "rnGSpLfwJbhG",
    "outputId": "c76add57-0e9e-4cf5-f33e-f3311114aa98"
   },
   "outputs": [
    {
     "name": "stdout",
     "output_type": "stream",
     "text": [
      "{'name': 'dense_13', 'trainable': True, 'dtype': {'module': 'keras', 'class_name': 'DTypePolicy', 'config': {'name': 'float32'}, 'registered_name': None}, 'units': 128, 'activation': 'relu', 'use_bias': True, 'kernel_initializer': {'module': 'keras.initializers', 'class_name': 'GlorotUniform', 'config': {'seed': None}, 'registered_name': None}, 'bias_initializer': {'module': 'keras.initializers', 'class_name': 'Zeros', 'config': {}, 'registered_name': None}, 'kernel_regularizer': None, 'bias_regularizer': None, 'kernel_constraint': None, 'bias_constraint': None}\n",
      "[array([[-0.18764706, -0.0956119 , -0.01690892, ..., -0.22044316,\n",
      "         0.0071916 , -0.00150167],\n",
      "       [-0.18323597,  0.00308078, -0.05235658, ..., -0.37468317,\n",
      "        -0.09003051,  0.03530531],\n",
      "       [ 0.11363114, -0.1055483 , -0.05543215, ..., -0.20142171,\n",
      "        -0.10253696,  0.14584956],\n",
      "       ...,\n",
      "       [ 0.04215727, -0.15321773, -0.12900507, ...,  0.03480226,\n",
      "         0.06558157, -0.39066458],\n",
      "       [-0.01143036, -0.03035783, -0.0588257 , ..., -0.02609974,\n",
      "        -0.02366592, -0.44435054],\n",
      "       [-0.08185384, -0.0968688 ,  0.06185484, ..., -0.01634392,\n",
      "         0.07391352, -0.27756482]], shape=(256, 128), dtype=float32), array([ 0.11532033, -0.21215415, -0.12066787, -0.15437499,  0.21130525,\n",
      "        0.5154889 ,  0.15956248, -0.24457307, -0.03566192, -0.25737825,\n",
      "       -0.16875654, -0.25615275, -0.12996057,  0.1518093 ,  0.3110601 ,\n",
      "        0.3923793 , -0.12230606,  0.20369053,  0.47002405, -0.16064094,\n",
      "        0.11135655,  0.02479991, -0.11413363, -0.09000449, -0.26803964,\n",
      "       -0.09086257, -0.33873162,  0.5178623 ,  0.41534576,  0.10593724,\n",
      "       -0.3601607 ,  0.05247448,  0.19781633, -0.14607449,  0.5397502 ,\n",
      "       -0.1508534 , -0.26315114, -0.18849747,  0.3693238 , -0.13357428,\n",
      "        0.21477196, -0.02742109, -0.09143572,  0.1020862 ,  0.00732834,\n",
      "       -0.1866219 ,  0.05058751,  0.10806336,  0.31697857,  0.34626088,\n",
      "       -0.17551728,  0.28773305, -0.19193268,  0.328714  ,  0.27468416,\n",
      "        0.22395697, -0.00294877, -0.12942412, -0.06290378,  0.14690807,\n",
      "        0.11176904,  0.237558  ,  0.61831856, -0.17385301,  0.05968007,\n",
      "       -0.11847684, -0.22493926, -0.12554011,  0.50344354,  0.20169601,\n",
      "       -0.32374617,  0.02483447, -0.07654057, -0.08525718,  0.22008483,\n",
      "        0.27904728, -0.1913688 , -0.19761033,  0.4414357 ,  0.55013895,\n",
      "       -0.26496404,  0.09259445, -0.06292558, -0.35334468,  0.25583565,\n",
      "        0.34439167,  0.4986753 , -0.15001741, -0.13515134,  0.3154173 ,\n",
      "        0.22583805, -0.1906785 ,  0.11255443, -0.0780669 ,  0.2604561 ,\n",
      "       -0.13297115,  0.39264965,  0.02997058, -0.09715981, -0.05791353,\n",
      "       -0.00458777, -0.34877145,  0.0935855 ,  0.1866517 ,  0.20417671,\n",
      "       -0.17463425,  0.18758969,  0.15243419, -0.02650683, -0.010849  ,\n",
      "        0.21627393,  0.22138652, -0.13625252,  0.23705703, -0.02482668,\n",
      "       -0.1416694 ,  0.27587065,  0.18313651, -0.13342108,  0.22573341,\n",
      "        0.15402962,  0.46658   , -0.24738592,  0.09750853,  0.2316037 ,\n",
      "        0.17578723, -0.09176035,  0.05359406], dtype=float32)]\n"
     ]
    }
   ],
   "source": [
    "layer = model.layers[3]\n",
    "\n",
    "print(layer.get_config())\n",
    "print(layer.get_weights())"
   ]
  },
  {
   "cell_type": "markdown",
   "metadata": {
    "id": "fjhy5S84Hoo6"
   },
   "source": [
    "# 🛂 Regularization\n",
    "\n",
    "Regularization is a technique that makes slight changes to the learning algorithm to reduce overfitting and generalize better. This in turn improves the performance of the model even on invisible data (test set)."
   ]
  },
  {
   "cell_type": "markdown",
   "metadata": {
    "id": "rRcmNqDpOdNr"
   },
   "source": [
    "### L1 Kernel/Bias regularization\n",
    "\n",
    "Applying [L1 regularization](https://keras.io/api/layers/regularizers/) to the kernel and bias values. New loss function: $$L(x,y) = L(x,y) + \\lambda\\sum_{j=0}^{M}|W_j|$$\n",
    "\n",
    "where:\n",
    "*   $\\lambda$ parameter controls the impact of regularization\n",
    "*   $W$ corresponds to the model weights\n",
    "\n"
   ]
  },
  {
   "cell_type": "code",
   "execution_count": 34,
   "metadata": {
    "id": "aXvCRueAazGi"
   },
   "outputs": [],
   "source": [
    "import numpy as np\n",
    "import matplotlib.pyplot as plt\n",
    "from keras.datasets import fashion_mnist\n",
    "from keras.utils import to_categorical\n",
    "from keras.models import Sequential\n",
    "from keras.layers import Dense, Dropout\n",
    "from keras.optimizers import SGD\n",
    "from sklearn.model_selection import train_test_split\n",
    "from tensorflow.keras import regularizers\n",
    "\n",
    "%matplotlib inline"
   ]
  },
  {
   "cell_type": "code",
   "execution_count": 35,
   "metadata": {
    "id": "Hh22ylOma9rg"
   },
   "outputs": [],
   "source": [
    "(X_train, y_train), (X_test, y_test) = fashion_mnist.load_data()\n",
    "\n",
    "X_train = X_train.reshape(60000, 784)\n",
    "X_test = X_test.reshape(10000, 784)\n",
    "X_train = X_train.astype(\"float32\")\n",
    "X_test = X_test.astype(\"float32\")\n",
    "\n",
    "X_train /= 255\n",
    "X_test /= 255\n",
    "\n",
    "Y_train =  to_categorical(y_train, 10)\n",
    "Y_test = to_categorical(y_test, 10)\n",
    "\n",
    "X_train, X_val, Y_train, Y_val = train_test_split(X_train, Y_train)\n",
    "\n",
    "dims = X_train.shape[1]\n",
    "\n",
    "nb_classes = 10"
   ]
  },
  {
   "cell_type": "markdown",
   "metadata": {
    "id": "1kIlLf18Q-Ez"
   },
   "source": [
    "## L1 Regularization in Practice\n",
    "\n",
    "Use the model defined above and create a copy of it with L1 regularization applied to each layer.\n",
    "\n",
    "\n",
    "*   How does the network's performance change?\n",
    "*   How do different magnitudes of the regularization parameter affect the network's performance?"
   ]
  },
  {
   "cell_type": "code",
   "execution_count": 45,
   "metadata": {
    "id": "1eQZGdWHOb89"
   },
   "outputs": [
    {
     "data": {
      "text/html": [
       "<pre style=\"white-space:pre;overflow-x:auto;line-height:normal;font-family:Menlo,'DejaVu Sans Mono',consolas,'Courier New',monospace\"><span style=\"font-weight: bold\">Model: \"sequential_7\"</span>\n",
       "</pre>\n"
      ],
      "text/plain": [
       "\u001b[1mModel: \"sequential_7\"\u001b[0m\n"
      ]
     },
     "metadata": {},
     "output_type": "display_data"
    },
    {
     "data": {
      "text/html": [
       "<pre style=\"white-space:pre;overflow-x:auto;line-height:normal;font-family:Menlo,'DejaVu Sans Mono',consolas,'Courier New',monospace\">┏━━━━━━━━━━━━━━━━━━━━━━━━━━━━━━━━━┳━━━━━━━━━━━━━━━━━━━━━━━━┳━━━━━━━━━━━━━━━┓\n",
       "┃<span style=\"font-weight: bold\"> Layer (type)                    </span>┃<span style=\"font-weight: bold\"> Output Shape           </span>┃<span style=\"font-weight: bold\">       Param # </span>┃\n",
       "┡━━━━━━━━━━━━━━━━━━━━━━━━━━━━━━━━━╇━━━━━━━━━━━━━━━━━━━━━━━━╇━━━━━━━━━━━━━━━┩\n",
       "│ dense_34 (<span style=\"color: #0087ff; text-decoration-color: #0087ff\">Dense</span>)                │ (<span style=\"color: #00d7ff; text-decoration-color: #00d7ff\">None</span>, <span style=\"color: #00af00; text-decoration-color: #00af00\">512</span>)            │       <span style=\"color: #00af00; text-decoration-color: #00af00\">401,920</span> │\n",
       "├─────────────────────────────────┼────────────────────────┼───────────────┤\n",
       "│ dense_35 (<span style=\"color: #0087ff; text-decoration-color: #0087ff\">Dense</span>)                │ (<span style=\"color: #00d7ff; text-decoration-color: #00d7ff\">None</span>, <span style=\"color: #00af00; text-decoration-color: #00af00\">256</span>)            │       <span style=\"color: #00af00; text-decoration-color: #00af00\">131,328</span> │\n",
       "├─────────────────────────────────┼────────────────────────┼───────────────┤\n",
       "│ dense_36 (<span style=\"color: #0087ff; text-decoration-color: #0087ff\">Dense</span>)                │ (<span style=\"color: #00d7ff; text-decoration-color: #00d7ff\">None</span>, <span style=\"color: #00af00; text-decoration-color: #00af00\">256</span>)            │        <span style=\"color: #00af00; text-decoration-color: #00af00\">65,792</span> │\n",
       "├─────────────────────────────────┼────────────────────────┼───────────────┤\n",
       "│ dense_37 (<span style=\"color: #0087ff; text-decoration-color: #0087ff\">Dense</span>)                │ (<span style=\"color: #00d7ff; text-decoration-color: #00d7ff\">None</span>, <span style=\"color: #00af00; text-decoration-color: #00af00\">128</span>)            │        <span style=\"color: #00af00; text-decoration-color: #00af00\">32,896</span> │\n",
       "├─────────────────────────────────┼────────────────────────┼───────────────┤\n",
       "│ dense_38 (<span style=\"color: #0087ff; text-decoration-color: #0087ff\">Dense</span>)                │ (<span style=\"color: #00d7ff; text-decoration-color: #00d7ff\">None</span>, <span style=\"color: #00af00; text-decoration-color: #00af00\">64</span>)             │         <span style=\"color: #00af00; text-decoration-color: #00af00\">8,256</span> │\n",
       "├─────────────────────────────────┼────────────────────────┼───────────────┤\n",
       "│ dense_39 (<span style=\"color: #0087ff; text-decoration-color: #0087ff\">Dense</span>)                │ (<span style=\"color: #00d7ff; text-decoration-color: #00d7ff\">None</span>, <span style=\"color: #00af00; text-decoration-color: #00af00\">10</span>)             │           <span style=\"color: #00af00; text-decoration-color: #00af00\">650</span> │\n",
       "└─────────────────────────────────┴────────────────────────┴───────────────┘\n",
       "</pre>\n"
      ],
      "text/plain": [
       "┏━━━━━━━━━━━━━━━━━━━━━━━━━━━━━━━━━┳━━━━━━━━━━━━━━━━━━━━━━━━┳━━━━━━━━━━━━━━━┓\n",
       "┃\u001b[1m \u001b[0m\u001b[1mLayer (type)                   \u001b[0m\u001b[1m \u001b[0m┃\u001b[1m \u001b[0m\u001b[1mOutput Shape          \u001b[0m\u001b[1m \u001b[0m┃\u001b[1m \u001b[0m\u001b[1m      Param #\u001b[0m\u001b[1m \u001b[0m┃\n",
       "┡━━━━━━━━━━━━━━━━━━━━━━━━━━━━━━━━━╇━━━━━━━━━━━━━━━━━━━━━━━━╇━━━━━━━━━━━━━━━┩\n",
       "│ dense_34 (\u001b[38;5;33mDense\u001b[0m)                │ (\u001b[38;5;45mNone\u001b[0m, \u001b[38;5;34m512\u001b[0m)            │       \u001b[38;5;34m401,920\u001b[0m │\n",
       "├─────────────────────────────────┼────────────────────────┼───────────────┤\n",
       "│ dense_35 (\u001b[38;5;33mDense\u001b[0m)                │ (\u001b[38;5;45mNone\u001b[0m, \u001b[38;5;34m256\u001b[0m)            │       \u001b[38;5;34m131,328\u001b[0m │\n",
       "├─────────────────────────────────┼────────────────────────┼───────────────┤\n",
       "│ dense_36 (\u001b[38;5;33mDense\u001b[0m)                │ (\u001b[38;5;45mNone\u001b[0m, \u001b[38;5;34m256\u001b[0m)            │        \u001b[38;5;34m65,792\u001b[0m │\n",
       "├─────────────────────────────────┼────────────────────────┼───────────────┤\n",
       "│ dense_37 (\u001b[38;5;33mDense\u001b[0m)                │ (\u001b[38;5;45mNone\u001b[0m, \u001b[38;5;34m128\u001b[0m)            │        \u001b[38;5;34m32,896\u001b[0m │\n",
       "├─────────────────────────────────┼────────────────────────┼───────────────┤\n",
       "│ dense_38 (\u001b[38;5;33mDense\u001b[0m)                │ (\u001b[38;5;45mNone\u001b[0m, \u001b[38;5;34m64\u001b[0m)             │         \u001b[38;5;34m8,256\u001b[0m │\n",
       "├─────────────────────────────────┼────────────────────────┼───────────────┤\n",
       "│ dense_39 (\u001b[38;5;33mDense\u001b[0m)                │ (\u001b[38;5;45mNone\u001b[0m, \u001b[38;5;34m10\u001b[0m)             │           \u001b[38;5;34m650\u001b[0m │\n",
       "└─────────────────────────────────┴────────────────────────┴───────────────┘\n"
      ]
     },
     "metadata": {},
     "output_type": "display_data"
    },
    {
     "data": {
      "text/html": [
       "<pre style=\"white-space:pre;overflow-x:auto;line-height:normal;font-family:Menlo,'DejaVu Sans Mono',consolas,'Courier New',monospace\"><span style=\"font-weight: bold\"> Total params: </span><span style=\"color: #00af00; text-decoration-color: #00af00\">640,842</span> (2.44 MB)\n",
       "</pre>\n"
      ],
      "text/plain": [
       "\u001b[1m Total params: \u001b[0m\u001b[38;5;34m640,842\u001b[0m (2.44 MB)\n"
      ]
     },
     "metadata": {},
     "output_type": "display_data"
    },
    {
     "data": {
      "text/html": [
       "<pre style=\"white-space:pre;overflow-x:auto;line-height:normal;font-family:Menlo,'DejaVu Sans Mono',consolas,'Courier New',monospace\"><span style=\"font-weight: bold\"> Trainable params: </span><span style=\"color: #00af00; text-decoration-color: #00af00\">640,842</span> (2.44 MB)\n",
       "</pre>\n"
      ],
      "text/plain": [
       "\u001b[1m Trainable params: \u001b[0m\u001b[38;5;34m640,842\u001b[0m (2.44 MB)\n"
      ]
     },
     "metadata": {},
     "output_type": "display_data"
    },
    {
     "data": {
      "text/html": [
       "<pre style=\"white-space:pre;overflow-x:auto;line-height:normal;font-family:Menlo,'DejaVu Sans Mono',consolas,'Courier New',monospace\"><span style=\"font-weight: bold\"> Non-trainable params: </span><span style=\"color: #00af00; text-decoration-color: #00af00\">0</span> (0.00 B)\n",
       "</pre>\n"
      ],
      "text/plain": [
       "\u001b[1m Non-trainable params: \u001b[0m\u001b[38;5;34m0\u001b[0m (0.00 B)\n"
      ]
     },
     "metadata": {},
     "output_type": "display_data"
    }
   ],
   "source": [
    "from keras import activations\n",
    "from keras import regularizers\n",
    "\n",
    "# Keras Seed: Reproducible weights initialization\n",
    "# set_random_seed(333)\n",
    "\n",
    "model = Sequential()\n",
    "\n",
    "model.add(Input((784,)))\n",
    "model.add(Dense(512, activation=activations.relu, kernel_regularizer=regularizers.L1(0.001)))\n",
    "model.add(Dense(256, activation=activations.relu, kernel_regularizer=regularizers.L1(0.001)))\n",
    "model.add(Dense(256, activation=activations.relu, kernel_regularizer=regularizers.L1(0.001)))\n",
    "model.add(Dense(128, activation=activations.relu, kernel_regularizer=regularizers.L1(0.001)))\n",
    "model.add(Dense(64, activation=activations.relu, kernel_regularizer=regularizers.L1(0.001)))\n",
    "model.add(Dense(10, activation=activations.softmax, kernel_regularizer=regularizers.L1(0.001)))\n",
    "\n",
    "model.summary()"
   ]
  },
  {
   "cell_type": "markdown",
   "metadata": {
    "id": "lwQdMmBMT9b9"
   },
   "source": [
    "### L2 Kernel/Bias regularization\n",
    "\n",
    "Applying [L2 regularization](https://keras.io/api/layers/regularizers/) to the kernel and bias values. New loss function: $$L(x,y) = L(x,y) + \\lambda\\sum_{j=0}^{M}W_j^2$$\n",
    "\n",
    "where:\n",
    "*   $\\lambda$ parameter controls the impact of regularization\n",
    "*   $W$ corresponds to the model weights\n",
    "\n"
   ]
  },
  {
   "cell_type": "markdown",
   "metadata": {
    "id": "_vXsYym6Rldm"
   },
   "source": [
    "## L2 Regularization in Practice\n",
    "\n",
    "Use the model defined above and create a copy of it with L2 regularization applied to each layer.\n",
    "\n",
    "\n",
    "*   How does the network's performance change?\n",
    "*   How do different magnitudes of the regularization parameter affect the network's performance?"
   ]
  },
  {
   "cell_type": "code",
   "execution_count": 46,
   "metadata": {
    "id": "SIpKz5f3T9cB"
   },
   "outputs": [
    {
     "data": {
      "text/html": [
       "<pre style=\"white-space:pre;overflow-x:auto;line-height:normal;font-family:Menlo,'DejaVu Sans Mono',consolas,'Courier New',monospace\"><span style=\"font-weight: bold\">Model: \"sequential_8\"</span>\n",
       "</pre>\n"
      ],
      "text/plain": [
       "\u001b[1mModel: \"sequential_8\"\u001b[0m\n"
      ]
     },
     "metadata": {},
     "output_type": "display_data"
    },
    {
     "data": {
      "text/html": [
       "<pre style=\"white-space:pre;overflow-x:auto;line-height:normal;font-family:Menlo,'DejaVu Sans Mono',consolas,'Courier New',monospace\">┏━━━━━━━━━━━━━━━━━━━━━━━━━━━━━━━━━┳━━━━━━━━━━━━━━━━━━━━━━━━┳━━━━━━━━━━━━━━━┓\n",
       "┃<span style=\"font-weight: bold\"> Layer (type)                    </span>┃<span style=\"font-weight: bold\"> Output Shape           </span>┃<span style=\"font-weight: bold\">       Param # </span>┃\n",
       "┡━━━━━━━━━━━━━━━━━━━━━━━━━━━━━━━━━╇━━━━━━━━━━━━━━━━━━━━━━━━╇━━━━━━━━━━━━━━━┩\n",
       "│ dense_40 (<span style=\"color: #0087ff; text-decoration-color: #0087ff\">Dense</span>)                │ (<span style=\"color: #00d7ff; text-decoration-color: #00d7ff\">None</span>, <span style=\"color: #00af00; text-decoration-color: #00af00\">512</span>)            │       <span style=\"color: #00af00; text-decoration-color: #00af00\">401,920</span> │\n",
       "├─────────────────────────────────┼────────────────────────┼───────────────┤\n",
       "│ dense_41 (<span style=\"color: #0087ff; text-decoration-color: #0087ff\">Dense</span>)                │ (<span style=\"color: #00d7ff; text-decoration-color: #00d7ff\">None</span>, <span style=\"color: #00af00; text-decoration-color: #00af00\">256</span>)            │       <span style=\"color: #00af00; text-decoration-color: #00af00\">131,328</span> │\n",
       "├─────────────────────────────────┼────────────────────────┼───────────────┤\n",
       "│ dense_42 (<span style=\"color: #0087ff; text-decoration-color: #0087ff\">Dense</span>)                │ (<span style=\"color: #00d7ff; text-decoration-color: #00d7ff\">None</span>, <span style=\"color: #00af00; text-decoration-color: #00af00\">256</span>)            │        <span style=\"color: #00af00; text-decoration-color: #00af00\">65,792</span> │\n",
       "├─────────────────────────────────┼────────────────────────┼───────────────┤\n",
       "│ dense_43 (<span style=\"color: #0087ff; text-decoration-color: #0087ff\">Dense</span>)                │ (<span style=\"color: #00d7ff; text-decoration-color: #00d7ff\">None</span>, <span style=\"color: #00af00; text-decoration-color: #00af00\">128</span>)            │        <span style=\"color: #00af00; text-decoration-color: #00af00\">32,896</span> │\n",
       "├─────────────────────────────────┼────────────────────────┼───────────────┤\n",
       "│ dense_44 (<span style=\"color: #0087ff; text-decoration-color: #0087ff\">Dense</span>)                │ (<span style=\"color: #00d7ff; text-decoration-color: #00d7ff\">None</span>, <span style=\"color: #00af00; text-decoration-color: #00af00\">64</span>)             │         <span style=\"color: #00af00; text-decoration-color: #00af00\">8,256</span> │\n",
       "├─────────────────────────────────┼────────────────────────┼───────────────┤\n",
       "│ dense_45 (<span style=\"color: #0087ff; text-decoration-color: #0087ff\">Dense</span>)                │ (<span style=\"color: #00d7ff; text-decoration-color: #00d7ff\">None</span>, <span style=\"color: #00af00; text-decoration-color: #00af00\">10</span>)             │           <span style=\"color: #00af00; text-decoration-color: #00af00\">650</span> │\n",
       "└─────────────────────────────────┴────────────────────────┴───────────────┘\n",
       "</pre>\n"
      ],
      "text/plain": [
       "┏━━━━━━━━━━━━━━━━━━━━━━━━━━━━━━━━━┳━━━━━━━━━━━━━━━━━━━━━━━━┳━━━━━━━━━━━━━━━┓\n",
       "┃\u001b[1m \u001b[0m\u001b[1mLayer (type)                   \u001b[0m\u001b[1m \u001b[0m┃\u001b[1m \u001b[0m\u001b[1mOutput Shape          \u001b[0m\u001b[1m \u001b[0m┃\u001b[1m \u001b[0m\u001b[1m      Param #\u001b[0m\u001b[1m \u001b[0m┃\n",
       "┡━━━━━━━━━━━━━━━━━━━━━━━━━━━━━━━━━╇━━━━━━━━━━━━━━━━━━━━━━━━╇━━━━━━━━━━━━━━━┩\n",
       "│ dense_40 (\u001b[38;5;33mDense\u001b[0m)                │ (\u001b[38;5;45mNone\u001b[0m, \u001b[38;5;34m512\u001b[0m)            │       \u001b[38;5;34m401,920\u001b[0m │\n",
       "├─────────────────────────────────┼────────────────────────┼───────────────┤\n",
       "│ dense_41 (\u001b[38;5;33mDense\u001b[0m)                │ (\u001b[38;5;45mNone\u001b[0m, \u001b[38;5;34m256\u001b[0m)            │       \u001b[38;5;34m131,328\u001b[0m │\n",
       "├─────────────────────────────────┼────────────────────────┼───────────────┤\n",
       "│ dense_42 (\u001b[38;5;33mDense\u001b[0m)                │ (\u001b[38;5;45mNone\u001b[0m, \u001b[38;5;34m256\u001b[0m)            │        \u001b[38;5;34m65,792\u001b[0m │\n",
       "├─────────────────────────────────┼────────────────────────┼───────────────┤\n",
       "│ dense_43 (\u001b[38;5;33mDense\u001b[0m)                │ (\u001b[38;5;45mNone\u001b[0m, \u001b[38;5;34m128\u001b[0m)            │        \u001b[38;5;34m32,896\u001b[0m │\n",
       "├─────────────────────────────────┼────────────────────────┼───────────────┤\n",
       "│ dense_44 (\u001b[38;5;33mDense\u001b[0m)                │ (\u001b[38;5;45mNone\u001b[0m, \u001b[38;5;34m64\u001b[0m)             │         \u001b[38;5;34m8,256\u001b[0m │\n",
       "├─────────────────────────────────┼────────────────────────┼───────────────┤\n",
       "│ dense_45 (\u001b[38;5;33mDense\u001b[0m)                │ (\u001b[38;5;45mNone\u001b[0m, \u001b[38;5;34m10\u001b[0m)             │           \u001b[38;5;34m650\u001b[0m │\n",
       "└─────────────────────────────────┴────────────────────────┴───────────────┘\n"
      ]
     },
     "metadata": {},
     "output_type": "display_data"
    },
    {
     "data": {
      "text/html": [
       "<pre style=\"white-space:pre;overflow-x:auto;line-height:normal;font-family:Menlo,'DejaVu Sans Mono',consolas,'Courier New',monospace\"><span style=\"font-weight: bold\"> Total params: </span><span style=\"color: #00af00; text-decoration-color: #00af00\">640,842</span> (2.44 MB)\n",
       "</pre>\n"
      ],
      "text/plain": [
       "\u001b[1m Total params: \u001b[0m\u001b[38;5;34m640,842\u001b[0m (2.44 MB)\n"
      ]
     },
     "metadata": {},
     "output_type": "display_data"
    },
    {
     "data": {
      "text/html": [
       "<pre style=\"white-space:pre;overflow-x:auto;line-height:normal;font-family:Menlo,'DejaVu Sans Mono',consolas,'Courier New',monospace\"><span style=\"font-weight: bold\"> Trainable params: </span><span style=\"color: #00af00; text-decoration-color: #00af00\">640,842</span> (2.44 MB)\n",
       "</pre>\n"
      ],
      "text/plain": [
       "\u001b[1m Trainable params: \u001b[0m\u001b[38;5;34m640,842\u001b[0m (2.44 MB)\n"
      ]
     },
     "metadata": {},
     "output_type": "display_data"
    },
    {
     "data": {
      "text/html": [
       "<pre style=\"white-space:pre;overflow-x:auto;line-height:normal;font-family:Menlo,'DejaVu Sans Mono',consolas,'Courier New',monospace\"><span style=\"font-weight: bold\"> Non-trainable params: </span><span style=\"color: #00af00; text-decoration-color: #00af00\">0</span> (0.00 B)\n",
       "</pre>\n"
      ],
      "text/plain": [
       "\u001b[1m Non-trainable params: \u001b[0m\u001b[38;5;34m0\u001b[0m (0.00 B)\n"
      ]
     },
     "metadata": {},
     "output_type": "display_data"
    }
   ],
   "source": [
    "from keras import activations\n",
    "from keras import regularizers\n",
    "\n",
    "# Keras Seed: Reproducible weights initialization\n",
    "# set_random_seed(333)\n",
    "\n",
    "model = Sequential()\n",
    "\n",
    "model.add(Input((784,)))\n",
    "model.add(Dense(512, activation=activations.relu, kernel_regularizer=regularizers.L2(0.001)))\n",
    "model.add(Dense(256, activation=activations.relu, kernel_regularizer=regularizers.L2(0.001)))\n",
    "model.add(Dense(256, activation=activations.relu, kernel_regularizer=regularizers.L2(0.001)))\n",
    "model.add(Dense(128, activation=activations.relu, kernel_regularizer=regularizers.L2(0.001)))\n",
    "model.add(Dense(64, activation=activations.relu, kernel_regularizer=regularizers.L2(0.001)))\n",
    "model.add(Dense(10, activation=activations.softmax, kernel_regularizer=regularizers.L2(0.001)))\n",
    "\n",
    "model.summary()"
   ]
  },
  {
   "cell_type": "markdown",
   "metadata": {
    "id": "7bEw97fA56bY"
   },
   "source": [
    "## L1L2 Regularization in Practice\n",
    "\n",
    "Use the model defined above and create a copy of it with L1L2 regularization applied to each layer.\n",
    "\n",
    "\n",
    "*   How does the network's performance change?\n",
    "*   How do different magnitudes of the regularization parameter affect the network's performance?"
   ]
  },
  {
   "cell_type": "code",
   "execution_count": 49,
   "metadata": {
    "id": "V16ZjVP26A0O"
   },
   "outputs": [
    {
     "data": {
      "text/html": [
       "<pre style=\"white-space:pre;overflow-x:auto;line-height:normal;font-family:Menlo,'DejaVu Sans Mono',consolas,'Courier New',monospace\"><span style=\"font-weight: bold\">Model: \"sequential_9\"</span>\n",
       "</pre>\n"
      ],
      "text/plain": [
       "\u001b[1mModel: \"sequential_9\"\u001b[0m\n"
      ]
     },
     "metadata": {},
     "output_type": "display_data"
    },
    {
     "data": {
      "text/html": [
       "<pre style=\"white-space:pre;overflow-x:auto;line-height:normal;font-family:Menlo,'DejaVu Sans Mono',consolas,'Courier New',monospace\">┏━━━━━━━━━━━━━━━━━━━━━━━━━━━━━━━━━┳━━━━━━━━━━━━━━━━━━━━━━━━┳━━━━━━━━━━━━━━━┓\n",
       "┃<span style=\"font-weight: bold\"> Layer (type)                    </span>┃<span style=\"font-weight: bold\"> Output Shape           </span>┃<span style=\"font-weight: bold\">       Param # </span>┃\n",
       "┡━━━━━━━━━━━━━━━━━━━━━━━━━━━━━━━━━╇━━━━━━━━━━━━━━━━━━━━━━━━╇━━━━━━━━━━━━━━━┩\n",
       "│ dense_46 (<span style=\"color: #0087ff; text-decoration-color: #0087ff\">Dense</span>)                │ (<span style=\"color: #00d7ff; text-decoration-color: #00d7ff\">None</span>, <span style=\"color: #00af00; text-decoration-color: #00af00\">512</span>)            │       <span style=\"color: #00af00; text-decoration-color: #00af00\">401,920</span> │\n",
       "├─────────────────────────────────┼────────────────────────┼───────────────┤\n",
       "│ dense_47 (<span style=\"color: #0087ff; text-decoration-color: #0087ff\">Dense</span>)                │ (<span style=\"color: #00d7ff; text-decoration-color: #00d7ff\">None</span>, <span style=\"color: #00af00; text-decoration-color: #00af00\">256</span>)            │       <span style=\"color: #00af00; text-decoration-color: #00af00\">131,328</span> │\n",
       "├─────────────────────────────────┼────────────────────────┼───────────────┤\n",
       "│ dense_48 (<span style=\"color: #0087ff; text-decoration-color: #0087ff\">Dense</span>)                │ (<span style=\"color: #00d7ff; text-decoration-color: #00d7ff\">None</span>, <span style=\"color: #00af00; text-decoration-color: #00af00\">256</span>)            │        <span style=\"color: #00af00; text-decoration-color: #00af00\">65,792</span> │\n",
       "├─────────────────────────────────┼────────────────────────┼───────────────┤\n",
       "│ dense_49 (<span style=\"color: #0087ff; text-decoration-color: #0087ff\">Dense</span>)                │ (<span style=\"color: #00d7ff; text-decoration-color: #00d7ff\">None</span>, <span style=\"color: #00af00; text-decoration-color: #00af00\">128</span>)            │        <span style=\"color: #00af00; text-decoration-color: #00af00\">32,896</span> │\n",
       "├─────────────────────────────────┼────────────────────────┼───────────────┤\n",
       "│ dense_50 (<span style=\"color: #0087ff; text-decoration-color: #0087ff\">Dense</span>)                │ (<span style=\"color: #00d7ff; text-decoration-color: #00d7ff\">None</span>, <span style=\"color: #00af00; text-decoration-color: #00af00\">64</span>)             │         <span style=\"color: #00af00; text-decoration-color: #00af00\">8,256</span> │\n",
       "├─────────────────────────────────┼────────────────────────┼───────────────┤\n",
       "│ dense_51 (<span style=\"color: #0087ff; text-decoration-color: #0087ff\">Dense</span>)                │ (<span style=\"color: #00d7ff; text-decoration-color: #00d7ff\">None</span>, <span style=\"color: #00af00; text-decoration-color: #00af00\">10</span>)             │           <span style=\"color: #00af00; text-decoration-color: #00af00\">650</span> │\n",
       "└─────────────────────────────────┴────────────────────────┴───────────────┘\n",
       "</pre>\n"
      ],
      "text/plain": [
       "┏━━━━━━━━━━━━━━━━━━━━━━━━━━━━━━━━━┳━━━━━━━━━━━━━━━━━━━━━━━━┳━━━━━━━━━━━━━━━┓\n",
       "┃\u001b[1m \u001b[0m\u001b[1mLayer (type)                   \u001b[0m\u001b[1m \u001b[0m┃\u001b[1m \u001b[0m\u001b[1mOutput Shape          \u001b[0m\u001b[1m \u001b[0m┃\u001b[1m \u001b[0m\u001b[1m      Param #\u001b[0m\u001b[1m \u001b[0m┃\n",
       "┡━━━━━━━━━━━━━━━━━━━━━━━━━━━━━━━━━╇━━━━━━━━━━━━━━━━━━━━━━━━╇━━━━━━━━━━━━━━━┩\n",
       "│ dense_46 (\u001b[38;5;33mDense\u001b[0m)                │ (\u001b[38;5;45mNone\u001b[0m, \u001b[38;5;34m512\u001b[0m)            │       \u001b[38;5;34m401,920\u001b[0m │\n",
       "├─────────────────────────────────┼────────────────────────┼───────────────┤\n",
       "│ dense_47 (\u001b[38;5;33mDense\u001b[0m)                │ (\u001b[38;5;45mNone\u001b[0m, \u001b[38;5;34m256\u001b[0m)            │       \u001b[38;5;34m131,328\u001b[0m │\n",
       "├─────────────────────────────────┼────────────────────────┼───────────────┤\n",
       "│ dense_48 (\u001b[38;5;33mDense\u001b[0m)                │ (\u001b[38;5;45mNone\u001b[0m, \u001b[38;5;34m256\u001b[0m)            │        \u001b[38;5;34m65,792\u001b[0m │\n",
       "├─────────────────────────────────┼────────────────────────┼───────────────┤\n",
       "│ dense_49 (\u001b[38;5;33mDense\u001b[0m)                │ (\u001b[38;5;45mNone\u001b[0m, \u001b[38;5;34m128\u001b[0m)            │        \u001b[38;5;34m32,896\u001b[0m │\n",
       "├─────────────────────────────────┼────────────────────────┼───────────────┤\n",
       "│ dense_50 (\u001b[38;5;33mDense\u001b[0m)                │ (\u001b[38;5;45mNone\u001b[0m, \u001b[38;5;34m64\u001b[0m)             │         \u001b[38;5;34m8,256\u001b[0m │\n",
       "├─────────────────────────────────┼────────────────────────┼───────────────┤\n",
       "│ dense_51 (\u001b[38;5;33mDense\u001b[0m)                │ (\u001b[38;5;45mNone\u001b[0m, \u001b[38;5;34m10\u001b[0m)             │           \u001b[38;5;34m650\u001b[0m │\n",
       "└─────────────────────────────────┴────────────────────────┴───────────────┘\n"
      ]
     },
     "metadata": {},
     "output_type": "display_data"
    },
    {
     "data": {
      "text/html": [
       "<pre style=\"white-space:pre;overflow-x:auto;line-height:normal;font-family:Menlo,'DejaVu Sans Mono',consolas,'Courier New',monospace\"><span style=\"font-weight: bold\"> Total params: </span><span style=\"color: #00af00; text-decoration-color: #00af00\">640,842</span> (2.44 MB)\n",
       "</pre>\n"
      ],
      "text/plain": [
       "\u001b[1m Total params: \u001b[0m\u001b[38;5;34m640,842\u001b[0m (2.44 MB)\n"
      ]
     },
     "metadata": {},
     "output_type": "display_data"
    },
    {
     "data": {
      "text/html": [
       "<pre style=\"white-space:pre;overflow-x:auto;line-height:normal;font-family:Menlo,'DejaVu Sans Mono',consolas,'Courier New',monospace\"><span style=\"font-weight: bold\"> Trainable params: </span><span style=\"color: #00af00; text-decoration-color: #00af00\">640,842</span> (2.44 MB)\n",
       "</pre>\n"
      ],
      "text/plain": [
       "\u001b[1m Trainable params: \u001b[0m\u001b[38;5;34m640,842\u001b[0m (2.44 MB)\n"
      ]
     },
     "metadata": {},
     "output_type": "display_data"
    },
    {
     "data": {
      "text/html": [
       "<pre style=\"white-space:pre;overflow-x:auto;line-height:normal;font-family:Menlo,'DejaVu Sans Mono',consolas,'Courier New',monospace\"><span style=\"font-weight: bold\"> Non-trainable params: </span><span style=\"color: #00af00; text-decoration-color: #00af00\">0</span> (0.00 B)\n",
       "</pre>\n"
      ],
      "text/plain": [
       "\u001b[1m Non-trainable params: \u001b[0m\u001b[38;5;34m0\u001b[0m (0.00 B)\n"
      ]
     },
     "metadata": {},
     "output_type": "display_data"
    }
   ],
   "source": [
    "from keras import activations\n",
    "from keras import regularizers\n",
    "\n",
    "# Keras Seed: Reproducible weights initialization\n",
    "# set_random_seed(333)\n",
    "\n",
    "model = Sequential()\n",
    "\n",
    "model.add(Input((784,)))\n",
    "model.add(Dense(512, activation=activations.relu, kernel_regularizer=regularizers.L1L2(l1=0.001, l2=0.01)))\n",
    "model.add(Dense(256, activation=activations.relu, kernel_regularizer=regularizers.L1L2(l1=0.001, l2=0.01)))\n",
    "model.add(Dense(256, activation=activations.relu, kernel_regularizer=regularizers.L1L2(l1=0.001, l2=0.01)))\n",
    "model.add(Dense(128, activation=activations.relu, kernel_regularizer=regularizers.L1L2(l1=0.001, l2=0.01)))\n",
    "model.add(Dense(64, activation=activations.relu, kernel_regularizer=regularizers.L1L2(l1=0.001, l2=0.01)))\n",
    "model.add(Dense(10, activation=activations.softmax, kernel_regularizer=regularizers.L1L2(l1=0.001, l2=0.01)))\n",
    "\n",
    "model.summary()"
   ]
  },
  {
   "cell_type": "markdown",
   "metadata": {
    "id": "gNLRfzCJgSkW"
   },
   "source": [
    "## Inspect and Compare Different Models\n",
    "\n",
    "1.   Select one layer from each of the three models.\n",
    "2.   Print and plot the corresponding weights ([use a heatmap from Seaborn](https://seaborn.pydata.org/generated/seaborn.heatmap.html)) and their sum.\n",
    "\n",
    "What differences do you observe among the weights of the three models?\n",
    "\n"
   ]
  },
  {
   "cell_type": "code",
   "execution_count": null,
   "metadata": {
    "id": "9q7KxyEQg62E"
   },
   "outputs": [],
   "source": []
  },
  {
   "cell_type": "code",
   "execution_count": null,
   "metadata": {
    "id": "aDLSB3TZT9cV"
   },
   "outputs": [],
   "source": []
  },
  {
   "cell_type": "code",
   "execution_count": null,
   "metadata": {
    "id": "2jIAi_Keg5cX"
   },
   "outputs": [],
   "source": []
  },
  {
   "cell_type": "code",
   "execution_count": null,
   "metadata": {
    "id": "qsIOsGYNU7K3"
   },
   "outputs": [],
   "source": []
  },
  {
   "cell_type": "code",
   "execution_count": null,
   "metadata": {
    "id": "cQWUEH5XkAsx"
   },
   "outputs": [],
   "source": []
  },
  {
   "cell_type": "markdown",
   "metadata": {
    "id": "18VBzM17Kuic"
   },
   "source": [
    "### Dropout\n",
    "\n",
    "[Dropout](https://keras.io/api/layers/regularization_layers/dropout/) is a technique where randomly selected neurons are ignored during training. They are “dropped-out” randomly. This means that their contribution to the activation of downstream neurons is temporally removed on the forward pass and any weight updates are not applied to the neuron on the backward pass\n",
    "\n",
    "\n",
    "<img src=\"https://miro.medium.com/proxy/1*iWQzxhVlvadk6VAJjsgXgg.png\" width=\"60%\" />\n",
    "\n",
    "\n"
   ]
  },
  {
   "cell_type": "code",
   "execution_count": 52,
   "metadata": {
    "id": "DW0EScTakYDK"
   },
   "outputs": [],
   "source": [
    "import numpy as np\n",
    "import matplotlib.pyplot as plt\n",
    "from keras.datasets import fashion_mnist\n",
    "from keras.utils import to_categorical\n",
    "from keras.models import Sequential\n",
    "from keras.layers import Dense, Dropout\n",
    "from keras.optimizers import SGD\n",
    "from sklearn.model_selection import train_test_split\n",
    "from tensorflow.keras import regularizers\n",
    "\n",
    "%matplotlib inline"
   ]
  },
  {
   "cell_type": "code",
   "execution_count": 53,
   "metadata": {
    "id": "F5qTEguOuvLK"
   },
   "outputs": [],
   "source": [
    "(X_train, y_train), (X_test, y_test) = fashion_mnist.load_data()\n",
    "\n",
    "X_train = X_train.reshape(60000, 784)\n",
    "X_test = X_test.reshape(10000, 784)\n",
    "X_train = X_train.astype(\"float32\")\n",
    "X_test = X_test.astype(\"float32\")\n",
    "\n",
    "X_train /= 255\n",
    "X_test /= 255\n",
    "\n",
    "Y_train =  to_categorical(y_train, 10)\n",
    "Y_test = to_categorical(y_test, 10)\n",
    "\n",
    "X_train, X_val, Y_train, Y_val = train_test_split(X_train, Y_train)\n",
    "\n",
    "dims = X_train.shape[1]\n",
    "\n",
    "nb_classes = 10"
   ]
  },
  {
   "cell_type": "markdown",
   "metadata": {
    "id": "Ey0aoGKwS14M"
   },
   "source": [
    "## Dropout in Practice\n",
    "\n",
    "Use the model defined above and create a copy of it with Dropout regularization applied to some layer.\n",
    "\n",
    "\n",
    "*   How does the network's performance change?\n",
    "*   How do different magnitudes of the regularization parameter affect the network's performance?"
   ]
  },
  {
   "cell_type": "code",
   "execution_count": 55,
   "metadata": {
    "id": "p9FArszCLh6G"
   },
   "outputs": [
    {
     "data": {
      "text/html": [
       "<pre style=\"white-space:pre;overflow-x:auto;line-height:normal;font-family:Menlo,'DejaVu Sans Mono',consolas,'Courier New',monospace\"><span style=\"font-weight: bold\">Model: \"sequential_11\"</span>\n",
       "</pre>\n"
      ],
      "text/plain": [
       "\u001b[1mModel: \"sequential_11\"\u001b[0m\n"
      ]
     },
     "metadata": {},
     "output_type": "display_data"
    },
    {
     "data": {
      "text/html": [
       "<pre style=\"white-space:pre;overflow-x:auto;line-height:normal;font-family:Menlo,'DejaVu Sans Mono',consolas,'Courier New',monospace\">┏━━━━━━━━━━━━━━━━━━━━━━━━━━━━━━━━━┳━━━━━━━━━━━━━━━━━━━━━━━━┳━━━━━━━━━━━━━━━┓\n",
       "┃<span style=\"font-weight: bold\"> Layer (type)                    </span>┃<span style=\"font-weight: bold\"> Output Shape           </span>┃<span style=\"font-weight: bold\">       Param # </span>┃\n",
       "┡━━━━━━━━━━━━━━━━━━━━━━━━━━━━━━━━━╇━━━━━━━━━━━━━━━━━━━━━━━━╇━━━━━━━━━━━━━━━┩\n",
       "│ dense_58 (<span style=\"color: #0087ff; text-decoration-color: #0087ff\">Dense</span>)                │ (<span style=\"color: #00d7ff; text-decoration-color: #00d7ff\">None</span>, <span style=\"color: #00af00; text-decoration-color: #00af00\">512</span>)            │       <span style=\"color: #00af00; text-decoration-color: #00af00\">401,920</span> │\n",
       "├─────────────────────────────────┼────────────────────────┼───────────────┤\n",
       "│ dropout_3 (<span style=\"color: #0087ff; text-decoration-color: #0087ff\">Dropout</span>)             │ (<span style=\"color: #00d7ff; text-decoration-color: #00d7ff\">None</span>, <span style=\"color: #00af00; text-decoration-color: #00af00\">512</span>)            │             <span style=\"color: #00af00; text-decoration-color: #00af00\">0</span> │\n",
       "├─────────────────────────────────┼────────────────────────┼───────────────┤\n",
       "│ dense_59 (<span style=\"color: #0087ff; text-decoration-color: #0087ff\">Dense</span>)                │ (<span style=\"color: #00d7ff; text-decoration-color: #00d7ff\">None</span>, <span style=\"color: #00af00; text-decoration-color: #00af00\">256</span>)            │       <span style=\"color: #00af00; text-decoration-color: #00af00\">131,328</span> │\n",
       "├─────────────────────────────────┼────────────────────────┼───────────────┤\n",
       "│ dropout_4 (<span style=\"color: #0087ff; text-decoration-color: #0087ff\">Dropout</span>)             │ (<span style=\"color: #00d7ff; text-decoration-color: #00d7ff\">None</span>, <span style=\"color: #00af00; text-decoration-color: #00af00\">256</span>)            │             <span style=\"color: #00af00; text-decoration-color: #00af00\">0</span> │\n",
       "├─────────────────────────────────┼────────────────────────┼───────────────┤\n",
       "│ dense_60 (<span style=\"color: #0087ff; text-decoration-color: #0087ff\">Dense</span>)                │ (<span style=\"color: #00d7ff; text-decoration-color: #00d7ff\">None</span>, <span style=\"color: #00af00; text-decoration-color: #00af00\">256</span>)            │        <span style=\"color: #00af00; text-decoration-color: #00af00\">65,792</span> │\n",
       "├─────────────────────────────────┼────────────────────────┼───────────────┤\n",
       "│ dropout_5 (<span style=\"color: #0087ff; text-decoration-color: #0087ff\">Dropout</span>)             │ (<span style=\"color: #00d7ff; text-decoration-color: #00d7ff\">None</span>, <span style=\"color: #00af00; text-decoration-color: #00af00\">256</span>)            │             <span style=\"color: #00af00; text-decoration-color: #00af00\">0</span> │\n",
       "├─────────────────────────────────┼────────────────────────┼───────────────┤\n",
       "│ dense_61 (<span style=\"color: #0087ff; text-decoration-color: #0087ff\">Dense</span>)                │ (<span style=\"color: #00d7ff; text-decoration-color: #00d7ff\">None</span>, <span style=\"color: #00af00; text-decoration-color: #00af00\">128</span>)            │        <span style=\"color: #00af00; text-decoration-color: #00af00\">32,896</span> │\n",
       "├─────────────────────────────────┼────────────────────────┼───────────────┤\n",
       "│ dense_62 (<span style=\"color: #0087ff; text-decoration-color: #0087ff\">Dense</span>)                │ (<span style=\"color: #00d7ff; text-decoration-color: #00d7ff\">None</span>, <span style=\"color: #00af00; text-decoration-color: #00af00\">64</span>)             │         <span style=\"color: #00af00; text-decoration-color: #00af00\">8,256</span> │\n",
       "├─────────────────────────────────┼────────────────────────┼───────────────┤\n",
       "│ dense_63 (<span style=\"color: #0087ff; text-decoration-color: #0087ff\">Dense</span>)                │ (<span style=\"color: #00d7ff; text-decoration-color: #00d7ff\">None</span>, <span style=\"color: #00af00; text-decoration-color: #00af00\">10</span>)             │           <span style=\"color: #00af00; text-decoration-color: #00af00\">650</span> │\n",
       "└─────────────────────────────────┴────────────────────────┴───────────────┘\n",
       "</pre>\n"
      ],
      "text/plain": [
       "┏━━━━━━━━━━━━━━━━━━━━━━━━━━━━━━━━━┳━━━━━━━━━━━━━━━━━━━━━━━━┳━━━━━━━━━━━━━━━┓\n",
       "┃\u001b[1m \u001b[0m\u001b[1mLayer (type)                   \u001b[0m\u001b[1m \u001b[0m┃\u001b[1m \u001b[0m\u001b[1mOutput Shape          \u001b[0m\u001b[1m \u001b[0m┃\u001b[1m \u001b[0m\u001b[1m      Param #\u001b[0m\u001b[1m \u001b[0m┃\n",
       "┡━━━━━━━━━━━━━━━━━━━━━━━━━━━━━━━━━╇━━━━━━━━━━━━━━━━━━━━━━━━╇━━━━━━━━━━━━━━━┩\n",
       "│ dense_58 (\u001b[38;5;33mDense\u001b[0m)                │ (\u001b[38;5;45mNone\u001b[0m, \u001b[38;5;34m512\u001b[0m)            │       \u001b[38;5;34m401,920\u001b[0m │\n",
       "├─────────────────────────────────┼────────────────────────┼───────────────┤\n",
       "│ dropout_3 (\u001b[38;5;33mDropout\u001b[0m)             │ (\u001b[38;5;45mNone\u001b[0m, \u001b[38;5;34m512\u001b[0m)            │             \u001b[38;5;34m0\u001b[0m │\n",
       "├─────────────────────────────────┼────────────────────────┼───────────────┤\n",
       "│ dense_59 (\u001b[38;5;33mDense\u001b[0m)                │ (\u001b[38;5;45mNone\u001b[0m, \u001b[38;5;34m256\u001b[0m)            │       \u001b[38;5;34m131,328\u001b[0m │\n",
       "├─────────────────────────────────┼────────────────────────┼───────────────┤\n",
       "│ dropout_4 (\u001b[38;5;33mDropout\u001b[0m)             │ (\u001b[38;5;45mNone\u001b[0m, \u001b[38;5;34m256\u001b[0m)            │             \u001b[38;5;34m0\u001b[0m │\n",
       "├─────────────────────────────────┼────────────────────────┼───────────────┤\n",
       "│ dense_60 (\u001b[38;5;33mDense\u001b[0m)                │ (\u001b[38;5;45mNone\u001b[0m, \u001b[38;5;34m256\u001b[0m)            │        \u001b[38;5;34m65,792\u001b[0m │\n",
       "├─────────────────────────────────┼────────────────────────┼───────────────┤\n",
       "│ dropout_5 (\u001b[38;5;33mDropout\u001b[0m)             │ (\u001b[38;5;45mNone\u001b[0m, \u001b[38;5;34m256\u001b[0m)            │             \u001b[38;5;34m0\u001b[0m │\n",
       "├─────────────────────────────────┼────────────────────────┼───────────────┤\n",
       "│ dense_61 (\u001b[38;5;33mDense\u001b[0m)                │ (\u001b[38;5;45mNone\u001b[0m, \u001b[38;5;34m128\u001b[0m)            │        \u001b[38;5;34m32,896\u001b[0m │\n",
       "├─────────────────────────────────┼────────────────────────┼───────────────┤\n",
       "│ dense_62 (\u001b[38;5;33mDense\u001b[0m)                │ (\u001b[38;5;45mNone\u001b[0m, \u001b[38;5;34m64\u001b[0m)             │         \u001b[38;5;34m8,256\u001b[0m │\n",
       "├─────────────────────────────────┼────────────────────────┼───────────────┤\n",
       "│ dense_63 (\u001b[38;5;33mDense\u001b[0m)                │ (\u001b[38;5;45mNone\u001b[0m, \u001b[38;5;34m10\u001b[0m)             │           \u001b[38;5;34m650\u001b[0m │\n",
       "└─────────────────────────────────┴────────────────────────┴───────────────┘\n"
      ]
     },
     "metadata": {},
     "output_type": "display_data"
    },
    {
     "data": {
      "text/html": [
       "<pre style=\"white-space:pre;overflow-x:auto;line-height:normal;font-family:Menlo,'DejaVu Sans Mono',consolas,'Courier New',monospace\"><span style=\"font-weight: bold\"> Total params: </span><span style=\"color: #00af00; text-decoration-color: #00af00\">640,842</span> (2.44 MB)\n",
       "</pre>\n"
      ],
      "text/plain": [
       "\u001b[1m Total params: \u001b[0m\u001b[38;5;34m640,842\u001b[0m (2.44 MB)\n"
      ]
     },
     "metadata": {},
     "output_type": "display_data"
    },
    {
     "data": {
      "text/html": [
       "<pre style=\"white-space:pre;overflow-x:auto;line-height:normal;font-family:Menlo,'DejaVu Sans Mono',consolas,'Courier New',monospace\"><span style=\"font-weight: bold\"> Trainable params: </span><span style=\"color: #00af00; text-decoration-color: #00af00\">640,842</span> (2.44 MB)\n",
       "</pre>\n"
      ],
      "text/plain": [
       "\u001b[1m Trainable params: \u001b[0m\u001b[38;5;34m640,842\u001b[0m (2.44 MB)\n"
      ]
     },
     "metadata": {},
     "output_type": "display_data"
    },
    {
     "data": {
      "text/html": [
       "<pre style=\"white-space:pre;overflow-x:auto;line-height:normal;font-family:Menlo,'DejaVu Sans Mono',consolas,'Courier New',monospace\"><span style=\"font-weight: bold\"> Non-trainable params: </span><span style=\"color: #00af00; text-decoration-color: #00af00\">0</span> (0.00 B)\n",
       "</pre>\n"
      ],
      "text/plain": [
       "\u001b[1m Non-trainable params: \u001b[0m\u001b[38;5;34m0\u001b[0m (0.00 B)\n"
      ]
     },
     "metadata": {},
     "output_type": "display_data"
    }
   ],
   "source": [
    "from keras import activations\n",
    "from keras.utils import set_random_seed\n",
    "\n",
    "# Keras Seed: Reproducible weights initialization\n",
    "# set_random_seed(333)\n",
    "\n",
    "model = Sequential()\n",
    "\n",
    "model.add(Input((784,)))\n",
    "model.add(Dense(512, activation=activations.relu))\n",
    "model.add(Dropout(0.3))\n",
    "model.add(Dense(256, activation=activations.relu))\n",
    "model.add(Dropout(0.1))\n",
    "model.add(Dense(256, activation=activations.relu))\n",
    "model.add(Dropout(0.1))\n",
    "model.add(Dense(128, activation=activations.relu))\n",
    "model.add(Dense(64, activation=activations.relu))\n",
    "model.add(Dense(10, activation=activations.softmax))\n",
    "\n",
    "model.summary()"
   ]
  },
  {
   "cell_type": "code",
   "execution_count": 56,
   "metadata": {
    "id": "N5t8yqntMsZY"
   },
   "outputs": [
    {
     "name": "stdout",
     "output_type": "stream",
     "text": [
      "Epoch 1/50\n",
      "\u001b[1m563/563\u001b[0m \u001b[32m━━━━━━━━━━━━━━━━━━━━\u001b[0m\u001b[37m\u001b[0m \u001b[1m3s\u001b[0m 3ms/step - accuracy: 0.7764 - loss: 0.6201 - val_accuracy: 0.8329 - val_loss: 0.4652\n",
      "Epoch 2/50\n",
      "\u001b[1m563/563\u001b[0m \u001b[32m━━━━━━━━━━━━━━━━━━━━\u001b[0m\u001b[37m\u001b[0m \u001b[1m2s\u001b[0m 3ms/step - accuracy: 0.8364 - loss: 0.4521 - val_accuracy: 0.8530 - val_loss: 0.4003\n",
      "Epoch 3/50\n",
      "\u001b[1m563/563\u001b[0m \u001b[32m━━━━━━━━━━━━━━━━━━━━\u001b[0m\u001b[37m\u001b[0m \u001b[1m2s\u001b[0m 3ms/step - accuracy: 0.8525 - loss: 0.4066 - val_accuracy: 0.8567 - val_loss: 0.3798\n",
      "Epoch 4/50\n",
      "\u001b[1m563/563\u001b[0m \u001b[32m━━━━━━━━━━━━━━━━━━━━\u001b[0m\u001b[37m\u001b[0m \u001b[1m2s\u001b[0m 3ms/step - accuracy: 0.8600 - loss: 0.3858 - val_accuracy: 0.8644 - val_loss: 0.3707\n",
      "Epoch 5/50\n",
      "\u001b[1m563/563\u001b[0m \u001b[32m━━━━━━━━━━━━━━━━━━━━\u001b[0m\u001b[37m\u001b[0m \u001b[1m2s\u001b[0m 3ms/step - accuracy: 0.8651 - loss: 0.3729 - val_accuracy: 0.8706 - val_loss: 0.3502\n",
      "Epoch 6/50\n",
      "\u001b[1m563/563\u001b[0m \u001b[32m━━━━━━━━━━━━━━━━━━━━\u001b[0m\u001b[37m\u001b[0m \u001b[1m2s\u001b[0m 3ms/step - accuracy: 0.8692 - loss: 0.3574 - val_accuracy: 0.8674 - val_loss: 0.3581\n",
      "Epoch 7/50\n",
      "\u001b[1m563/563\u001b[0m \u001b[32m━━━━━━━━━━━━━━━━━━━━\u001b[0m\u001b[37m\u001b[0m \u001b[1m2s\u001b[0m 3ms/step - accuracy: 0.8743 - loss: 0.3424 - val_accuracy: 0.8649 - val_loss: 0.3662\n",
      "Epoch 8/50\n",
      "\u001b[1m563/563\u001b[0m \u001b[32m━━━━━━━━━━━━━━━━━━━━\u001b[0m\u001b[37m\u001b[0m \u001b[1m2s\u001b[0m 3ms/step - accuracy: 0.8756 - loss: 0.3363 - val_accuracy: 0.8746 - val_loss: 0.3371\n",
      "Epoch 9/50\n",
      "\u001b[1m563/563\u001b[0m \u001b[32m━━━━━━━━━━━━━━━━━━━━\u001b[0m\u001b[37m\u001b[0m \u001b[1m2s\u001b[0m 4ms/step - accuracy: 0.8800 - loss: 0.3249 - val_accuracy: 0.8748 - val_loss: 0.3336\n",
      "Epoch 10/50\n",
      "\u001b[1m563/563\u001b[0m \u001b[32m━━━━━━━━━━━━━━━━━━━━\u001b[0m\u001b[37m\u001b[0m \u001b[1m2s\u001b[0m 3ms/step - accuracy: 0.8851 - loss: 0.3167 - val_accuracy: 0.8760 - val_loss: 0.3401\n",
      "Epoch 11/50\n",
      "\u001b[1m563/563\u001b[0m \u001b[32m━━━━━━━━━━━━━━━━━━━━\u001b[0m\u001b[37m\u001b[0m \u001b[1m2s\u001b[0m 3ms/step - accuracy: 0.8858 - loss: 0.3072 - val_accuracy: 0.8773 - val_loss: 0.3369\n",
      "Epoch 12/50\n",
      "\u001b[1m563/563\u001b[0m \u001b[32m━━━━━━━━━━━━━━━━━━━━\u001b[0m\u001b[37m\u001b[0m \u001b[1m2s\u001b[0m 3ms/step - accuracy: 0.8897 - loss: 0.2972 - val_accuracy: 0.8756 - val_loss: 0.3381\n",
      "Epoch 13/50\n",
      "\u001b[1m563/563\u001b[0m \u001b[32m━━━━━━━━━━━━━━━━━━━━\u001b[0m\u001b[37m\u001b[0m \u001b[1m2s\u001b[0m 3ms/step - accuracy: 0.8906 - loss: 0.2956 - val_accuracy: 0.8831 - val_loss: 0.3238\n",
      "Epoch 14/50\n",
      "\u001b[1m563/563\u001b[0m \u001b[32m━━━━━━━━━━━━━━━━━━━━\u001b[0m\u001b[37m\u001b[0m \u001b[1m2s\u001b[0m 3ms/step - accuracy: 0.8941 - loss: 0.2894 - val_accuracy: 0.8827 - val_loss: 0.3293\n",
      "Epoch 15/50\n",
      "\u001b[1m563/563\u001b[0m \u001b[32m━━━━━━━━━━━━━━━━━━━━\u001b[0m\u001b[37m\u001b[0m \u001b[1m2s\u001b[0m 3ms/step - accuracy: 0.8942 - loss: 0.2842 - val_accuracy: 0.8809 - val_loss: 0.3374\n",
      "Epoch 16/50\n",
      "\u001b[1m563/563\u001b[0m \u001b[32m━━━━━━━━━━━━━━━━━━━━\u001b[0m\u001b[37m\u001b[0m \u001b[1m2s\u001b[0m 3ms/step - accuracy: 0.8952 - loss: 0.2801 - val_accuracy: 0.8838 - val_loss: 0.3205\n",
      "Epoch 17/50\n",
      "\u001b[1m563/563\u001b[0m \u001b[32m━━━━━━━━━━━━━━━━━━━━\u001b[0m\u001b[37m\u001b[0m \u001b[1m2s\u001b[0m 3ms/step - accuracy: 0.8971 - loss: 0.2753 - val_accuracy: 0.8832 - val_loss: 0.3262\n",
      "Epoch 18/50\n",
      "\u001b[1m563/563\u001b[0m \u001b[32m━━━━━━━━━━━━━━━━━━━━\u001b[0m\u001b[37m\u001b[0m \u001b[1m2s\u001b[0m 3ms/step - accuracy: 0.9007 - loss: 0.2647 - val_accuracy: 0.8822 - val_loss: 0.3242\n",
      "Epoch 19/50\n",
      "\u001b[1m563/563\u001b[0m \u001b[32m━━━━━━━━━━━━━━━━━━━━\u001b[0m\u001b[37m\u001b[0m \u001b[1m2s\u001b[0m 3ms/step - accuracy: 0.9015 - loss: 0.2660 - val_accuracy: 0.8820 - val_loss: 0.3329\n",
      "Epoch 20/50\n",
      "\u001b[1m563/563\u001b[0m \u001b[32m━━━━━━━━━━━━━━━━━━━━\u001b[0m\u001b[37m\u001b[0m \u001b[1m2s\u001b[0m 3ms/step - accuracy: 0.9018 - loss: 0.2614 - val_accuracy: 0.8848 - val_loss: 0.3283\n",
      "Epoch 21/50\n",
      "\u001b[1m563/563\u001b[0m \u001b[32m━━━━━━━━━━━━━━━━━━━━\u001b[0m\u001b[37m\u001b[0m \u001b[1m2s\u001b[0m 4ms/step - accuracy: 0.9019 - loss: 0.2580 - val_accuracy: 0.8886 - val_loss: 0.3380\n",
      "Epoch 22/50\n",
      "\u001b[1m563/563\u001b[0m \u001b[32m━━━━━━━━━━━━━━━━━━━━\u001b[0m\u001b[37m\u001b[0m \u001b[1m3s\u001b[0m 5ms/step - accuracy: 0.9067 - loss: 0.2516 - val_accuracy: 0.8898 - val_loss: 0.3241\n",
      "Epoch 23/50\n",
      "\u001b[1m563/563\u001b[0m \u001b[32m━━━━━━━━━━━━━━━━━━━━\u001b[0m\u001b[37m\u001b[0m \u001b[1m2s\u001b[0m 4ms/step - accuracy: 0.9053 - loss: 0.2525 - val_accuracy: 0.8902 - val_loss: 0.3161\n",
      "Epoch 24/50\n",
      "\u001b[1m563/563\u001b[0m \u001b[32m━━━━━━━━━━━━━━━━━━━━\u001b[0m\u001b[37m\u001b[0m \u001b[1m3s\u001b[0m 5ms/step - accuracy: 0.9103 - loss: 0.2410 - val_accuracy: 0.8840 - val_loss: 0.3360\n",
      "Epoch 25/50\n",
      "\u001b[1m563/563\u001b[0m \u001b[32m━━━━━━━━━━━━━━━━━━━━\u001b[0m\u001b[37m\u001b[0m \u001b[1m2s\u001b[0m 4ms/step - accuracy: 0.9083 - loss: 0.2457 - val_accuracy: 0.8916 - val_loss: 0.3015\n",
      "Epoch 26/50\n",
      "\u001b[1m563/563\u001b[0m \u001b[32m━━━━━━━━━━━━━━━━━━━━\u001b[0m\u001b[37m\u001b[0m \u001b[1m3s\u001b[0m 5ms/step - accuracy: 0.9097 - loss: 0.2429 - val_accuracy: 0.8919 - val_loss: 0.3115\n",
      "Epoch 27/50\n",
      "\u001b[1m563/563\u001b[0m \u001b[32m━━━━━━━━━━━━━━━━━━━━\u001b[0m\u001b[37m\u001b[0m \u001b[1m3s\u001b[0m 5ms/step - accuracy: 0.9123 - loss: 0.2340 - val_accuracy: 0.8848 - val_loss: 0.3312\n",
      "Epoch 28/50\n",
      "\u001b[1m563/563\u001b[0m \u001b[32m━━━━━━━━━━━━━━━━━━━━\u001b[0m\u001b[37m\u001b[0m \u001b[1m3s\u001b[0m 5ms/step - accuracy: 0.9107 - loss: 0.2341 - val_accuracy: 0.8890 - val_loss: 0.3164\n",
      "Epoch 29/50\n",
      "\u001b[1m563/563\u001b[0m \u001b[32m━━━━━━━━━━━━━━━━━━━━\u001b[0m\u001b[37m\u001b[0m \u001b[1m3s\u001b[0m 5ms/step - accuracy: 0.9120 - loss: 0.2302 - val_accuracy: 0.8853 - val_loss: 0.3334\n",
      "Epoch 30/50\n",
      "\u001b[1m563/563\u001b[0m \u001b[32m━━━━━━━━━━━━━━━━━━━━\u001b[0m\u001b[37m\u001b[0m \u001b[1m2s\u001b[0m 4ms/step - accuracy: 0.9110 - loss: 0.2361 - val_accuracy: 0.8919 - val_loss: 0.3213\n",
      "Epoch 31/50\n",
      "\u001b[1m563/563\u001b[0m \u001b[32m━━━━━━━━━━━━━━━━━━━━\u001b[0m\u001b[37m\u001b[0m \u001b[1m2s\u001b[0m 4ms/step - accuracy: 0.9138 - loss: 0.2251 - val_accuracy: 0.8908 - val_loss: 0.3197\n",
      "Epoch 32/50\n",
      "\u001b[1m563/563\u001b[0m \u001b[32m━━━━━━━━━━━━━━━━━━━━\u001b[0m\u001b[37m\u001b[0m \u001b[1m3s\u001b[0m 5ms/step - accuracy: 0.9171 - loss: 0.2206 - val_accuracy: 0.8894 - val_loss: 0.3332\n",
      "Epoch 33/50\n",
      "\u001b[1m563/563\u001b[0m \u001b[32m━━━━━━━━━━━━━━━━━━━━\u001b[0m\u001b[37m\u001b[0m \u001b[1m3s\u001b[0m 5ms/step - accuracy: 0.9160 - loss: 0.2241 - val_accuracy: 0.8874 - val_loss: 0.3105\n",
      "Epoch 34/50\n",
      "\u001b[1m563/563\u001b[0m \u001b[32m━━━━━━━━━━━━━━━━━━━━\u001b[0m\u001b[37m\u001b[0m \u001b[1m3s\u001b[0m 5ms/step - accuracy: 0.9197 - loss: 0.2160 - val_accuracy: 0.8893 - val_loss: 0.3294\n",
      "Epoch 35/50\n",
      "\u001b[1m563/563\u001b[0m \u001b[32m━━━━━━━━━━━━━━━━━━━━\u001b[0m\u001b[37m\u001b[0m \u001b[1m3s\u001b[0m 5ms/step - accuracy: 0.9191 - loss: 0.2169 - val_accuracy: 0.8841 - val_loss: 0.3348\n",
      "Epoch 36/50\n",
      "\u001b[1m563/563\u001b[0m \u001b[32m━━━━━━━━━━━━━━━━━━━━\u001b[0m\u001b[37m\u001b[0m \u001b[1m3s\u001b[0m 5ms/step - accuracy: 0.9211 - loss: 0.2120 - val_accuracy: 0.8960 - val_loss: 0.3157\n",
      "Epoch 37/50\n",
      "\u001b[1m563/563\u001b[0m \u001b[32m━━━━━━━━━━━━━━━━━━━━\u001b[0m\u001b[37m\u001b[0m \u001b[1m3s\u001b[0m 5ms/step - accuracy: 0.9208 - loss: 0.2123 - val_accuracy: 0.8900 - val_loss: 0.3238\n",
      "Epoch 38/50\n",
      "\u001b[1m563/563\u001b[0m \u001b[32m━━━━━━━━━━━━━━━━━━━━\u001b[0m\u001b[37m\u001b[0m \u001b[1m3s\u001b[0m 5ms/step - accuracy: 0.9230 - loss: 0.2088 - val_accuracy: 0.8897 - val_loss: 0.3391\n",
      "Epoch 39/50\n",
      "\u001b[1m563/563\u001b[0m \u001b[32m━━━━━━━━━━━━━━━━━━━━\u001b[0m\u001b[37m\u001b[0m \u001b[1m2s\u001b[0m 4ms/step - accuracy: 0.9218 - loss: 0.2075 - val_accuracy: 0.8947 - val_loss: 0.3270\n",
      "Epoch 40/50\n",
      "\u001b[1m563/563\u001b[0m \u001b[32m━━━━━━━━━━━━━━━━━━━━\u001b[0m\u001b[37m\u001b[0m \u001b[1m3s\u001b[0m 5ms/step - accuracy: 0.9236 - loss: 0.2037 - val_accuracy: 0.8917 - val_loss: 0.3179\n",
      "Epoch 41/50\n",
      "\u001b[1m563/563\u001b[0m \u001b[32m━━━━━━━━━━━━━━━━━━━━\u001b[0m\u001b[37m\u001b[0m \u001b[1m3s\u001b[0m 5ms/step - accuracy: 0.9263 - loss: 0.1992 - val_accuracy: 0.8890 - val_loss: 0.3438\n",
      "Epoch 42/50\n",
      "\u001b[1m563/563\u001b[0m \u001b[32m━━━━━━━━━━━━━━━━━━━━\u001b[0m\u001b[37m\u001b[0m \u001b[1m3s\u001b[0m 5ms/step - accuracy: 0.9243 - loss: 0.2024 - val_accuracy: 0.8920 - val_loss: 0.3230\n",
      "Epoch 43/50\n",
      "\u001b[1m563/563\u001b[0m \u001b[32m━━━━━━━━━━━━━━━━━━━━\u001b[0m\u001b[37m\u001b[0m \u001b[1m3s\u001b[0m 5ms/step - accuracy: 0.9256 - loss: 0.1929 - val_accuracy: 0.8934 - val_loss: 0.3368\n",
      "Epoch 44/50\n",
      "\u001b[1m563/563\u001b[0m \u001b[32m━━━━━━━━━━━━━━━━━━━━\u001b[0m\u001b[37m\u001b[0m \u001b[1m3s\u001b[0m 5ms/step - accuracy: 0.9249 - loss: 0.1965 - val_accuracy: 0.8971 - val_loss: 0.3460\n",
      "Epoch 45/50\n",
      "\u001b[1m563/563\u001b[0m \u001b[32m━━━━━━━━━━━━━━━━━━━━\u001b[0m\u001b[37m\u001b[0m \u001b[1m3s\u001b[0m 5ms/step - accuracy: 0.9269 - loss: 0.1957 - val_accuracy: 0.8926 - val_loss: 0.3328\n",
      "Epoch 46/50\n",
      "\u001b[1m563/563\u001b[0m \u001b[32m━━━━━━━━━━━━━━━━━━━━\u001b[0m\u001b[37m\u001b[0m \u001b[1m3s\u001b[0m 5ms/step - accuracy: 0.9272 - loss: 0.1947 - val_accuracy: 0.8946 - val_loss: 0.3262\n",
      "Epoch 47/50\n",
      "\u001b[1m563/563\u001b[0m \u001b[32m━━━━━━━━━━━━━━━━━━━━\u001b[0m\u001b[37m\u001b[0m \u001b[1m3s\u001b[0m 5ms/step - accuracy: 0.9270 - loss: 0.1930 - val_accuracy: 0.8966 - val_loss: 0.3303\n",
      "Epoch 48/50\n",
      "\u001b[1m563/563\u001b[0m \u001b[32m━━━━━━━━━━━━━━━━━━━━\u001b[0m\u001b[37m\u001b[0m \u001b[1m3s\u001b[0m 5ms/step - accuracy: 0.9309 - loss: 0.1878 - val_accuracy: 0.8984 - val_loss: 0.3338\n",
      "Epoch 49/50\n",
      "\u001b[1m563/563\u001b[0m \u001b[32m━━━━━━━━━━━━━━━━━━━━\u001b[0m\u001b[37m\u001b[0m \u001b[1m3s\u001b[0m 5ms/step - accuracy: 0.9291 - loss: 0.1861 - val_accuracy: 0.8951 - val_loss: 0.3367\n",
      "Epoch 50/50\n",
      "\u001b[1m563/563\u001b[0m \u001b[32m━━━━━━━━━━━━━━━━━━━━\u001b[0m\u001b[37m\u001b[0m \u001b[1m3s\u001b[0m 5ms/step - accuracy: 0.9323 - loss: 0.1829 - val_accuracy: 0.8946 - val_loss: 0.3274\n"
     ]
    }
   ],
   "source": [
    "model.compile(loss='categorical_crossentropy', optimizer='adam', metrics=['accuracy'])\n",
    "\n",
    "history = model.fit(X_train, Y_train, epochs=50, batch_size=64, validation_split=0.2, verbose=1)"
   ]
  },
  {
   "cell_type": "code",
   "execution_count": 57,
   "metadata": {},
   "outputs": [
    {
     "data": {
      "image/png": "[encoded data removed]",
      "text/plain": [
       "<Figure size 640x480 with 1 Axes>"
      ]
     },
     "metadata": {},
     "output_type": "display_data"
    },
    {
     "data": {
      "image/png": "[encoded data removed]",
      "text/plain": [
       "<Figure size 640x480 with 1 Axes>"
      ]
     },
     "metadata": {},
     "output_type": "display_data"
    }
   ],
   "source": [
    "import matplotlib.pyplot as plt\n",
    "\n",
    "def plot_loss(history):\n",
    "  x_plot = list(range(1,len(history.history[\"loss\"])+1))\n",
    "  plt.figure()\n",
    "  plt.title(\"Loss\")\n",
    "  plt.xlabel('Epochs')\n",
    "  plt.ylabel('Loss')\n",
    "  plt.plot(x_plot, history.history['loss'])\n",
    "  plt.plot(x_plot, history.history['val_loss'])\n",
    "  plt.legend(['Training', 'Validation'])\n",
    "\n",
    "def plot_accuracy(history):\n",
    "  x_plot = list(range(1,len(history.history[\"accuracy\"])+1))\n",
    "  plt.figure()\n",
    "  plt.title(\"Accuracy\")\n",
    "  plt.xlabel('Epochs')\n",
    "  plt.ylabel('Accuracy')\n",
    "  plt.plot(x_plot, history.history['accuracy'])\n",
    "  plt.plot(x_plot, history.history['val_accuracy'])\n",
    "  plt.legend(['Training', 'Validation'])\n",
    "\n",
    "plot_loss(history)\n",
    "plot_accuracy(history)"
   ]
  },
  {
   "cell_type": "code",
   "execution_count": 58,
   "metadata": {
    "id": "U8B_oulg9gPP"
   },
   "outputs": [],
   "source": [
    "import numpy as np\n",
    "import matplotlib.pyplot as plt\n",
    "from keras.datasets import fashion_mnist\n",
    "from keras.utils import to_categorical\n",
    "from keras.models import Sequential\n",
    "from keras.layers import Dense, Dropout\n",
    "from keras.optimizers import SGD\n",
    "from sklearn.model_selection import train_test_split\n",
    "from tensorflow.keras import regularizers\n",
    "\n",
    "%matplotlib inline"
   ]
  },
  {
   "cell_type": "code",
   "execution_count": 59,
   "metadata": {
    "id": "SbaVDhE4v4Ti"
   },
   "outputs": [],
   "source": [
    "(X_train, y_train), (X_test, y_test) = fashion_mnist.load_data()\n",
    "\n",
    "X_train = X_train.reshape(60000, 784)\n",
    "X_test = X_test.reshape(10000, 784)\n",
    "X_train = X_train.astype(\"float32\")\n",
    "X_test = X_test.astype(\"float32\")\n",
    "\n",
    "X_train /= 255\n",
    "X_test /= 255\n",
    "\n",
    "Y_train =  to_categorical(y_train, 10)\n",
    "Y_test = to_categorical(y_test, 10)\n",
    "\n",
    "X_train, X_val, Y_train, Y_val = train_test_split(X_train, Y_train)\n",
    "\n",
    "dims = X_train.shape[1]\n",
    "\n",
    "nb_classes = 10"
   ]
  },
  {
   "cell_type": "markdown",
   "metadata": {
    "id": "tQyU7RS-TRXu"
   },
   "source": [
    "## Early stopping in Practice\n",
    "\n",
    "Use the model defined above and create a copy of it. Train the model for a large number of epochs (around 500) and apply early stopping with different hyperparameter settings.\n",
    "\n",
    "*   How does the network's performance change?\n",
    "*   How do different values of the regularization parameter influence the performance of the network?"
   ]
  },
  {
   "cell_type": "code",
   "execution_count": 61,
   "metadata": {
    "id": "tJJBGviH8z_U"
   },
   "outputs": [
    {
     "data": {
      "text/html": [
       "<pre style=\"white-space:pre;overflow-x:auto;line-height:normal;font-family:Menlo,'DejaVu Sans Mono',consolas,'Courier New',monospace\"><span style=\"font-weight: bold\">Model: \"sequential_12\"</span>\n",
       "</pre>\n"
      ],
      "text/plain": [
       "\u001b[1mModel: \"sequential_12\"\u001b[0m\n"
      ]
     },
     "metadata": {},
     "output_type": "display_data"
    },
    {
     "data": {
      "text/html": [
       "<pre style=\"white-space:pre;overflow-x:auto;line-height:normal;font-family:Menlo,'DejaVu Sans Mono',consolas,'Courier New',monospace\">┏━━━━━━━━━━━━━━━━━━━━━━━━━━━━━━━━━┳━━━━━━━━━━━━━━━━━━━━━━━━┳━━━━━━━━━━━━━━━┓\n",
       "┃<span style=\"font-weight: bold\"> Layer (type)                    </span>┃<span style=\"font-weight: bold\"> Output Shape           </span>┃<span style=\"font-weight: bold\">       Param # </span>┃\n",
       "┡━━━━━━━━━━━━━━━━━━━━━━━━━━━━━━━━━╇━━━━━━━━━━━━━━━━━━━━━━━━╇━━━━━━━━━━━━━━━┩\n",
       "│ dense_64 (<span style=\"color: #0087ff; text-decoration-color: #0087ff\">Dense</span>)                │ (<span style=\"color: #00d7ff; text-decoration-color: #00d7ff\">None</span>, <span style=\"color: #00af00; text-decoration-color: #00af00\">512</span>)            │       <span style=\"color: #00af00; text-decoration-color: #00af00\">401,920</span> │\n",
       "├─────────────────────────────────┼────────────────────────┼───────────────┤\n",
       "│ dense_65 (<span style=\"color: #0087ff; text-decoration-color: #0087ff\">Dense</span>)                │ (<span style=\"color: #00d7ff; text-decoration-color: #00d7ff\">None</span>, <span style=\"color: #00af00; text-decoration-color: #00af00\">256</span>)            │       <span style=\"color: #00af00; text-decoration-color: #00af00\">131,328</span> │\n",
       "├─────────────────────────────────┼────────────────────────┼───────────────┤\n",
       "│ dense_66 (<span style=\"color: #0087ff; text-decoration-color: #0087ff\">Dense</span>)                │ (<span style=\"color: #00d7ff; text-decoration-color: #00d7ff\">None</span>, <span style=\"color: #00af00; text-decoration-color: #00af00\">256</span>)            │        <span style=\"color: #00af00; text-decoration-color: #00af00\">65,792</span> │\n",
       "├─────────────────────────────────┼────────────────────────┼───────────────┤\n",
       "│ dense_67 (<span style=\"color: #0087ff; text-decoration-color: #0087ff\">Dense</span>)                │ (<span style=\"color: #00d7ff; text-decoration-color: #00d7ff\">None</span>, <span style=\"color: #00af00; text-decoration-color: #00af00\">128</span>)            │        <span style=\"color: #00af00; text-decoration-color: #00af00\">32,896</span> │\n",
       "├─────────────────────────────────┼────────────────────────┼───────────────┤\n",
       "│ dense_68 (<span style=\"color: #0087ff; text-decoration-color: #0087ff\">Dense</span>)                │ (<span style=\"color: #00d7ff; text-decoration-color: #00d7ff\">None</span>, <span style=\"color: #00af00; text-decoration-color: #00af00\">64</span>)             │         <span style=\"color: #00af00; text-decoration-color: #00af00\">8,256</span> │\n",
       "├─────────────────────────────────┼────────────────────────┼───────────────┤\n",
       "│ dense_69 (<span style=\"color: #0087ff; text-decoration-color: #0087ff\">Dense</span>)                │ (<span style=\"color: #00d7ff; text-decoration-color: #00d7ff\">None</span>, <span style=\"color: #00af00; text-decoration-color: #00af00\">10</span>)             │           <span style=\"color: #00af00; text-decoration-color: #00af00\">650</span> │\n",
       "└─────────────────────────────────┴────────────────────────┴───────────────┘\n",
       "</pre>\n"
      ],
      "text/plain": [
       "┏━━━━━━━━━━━━━━━━━━━━━━━━━━━━━━━━━┳━━━━━━━━━━━━━━━━━━━━━━━━┳━━━━━━━━━━━━━━━┓\n",
       "┃\u001b[1m \u001b[0m\u001b[1mLayer (type)                   \u001b[0m\u001b[1m \u001b[0m┃\u001b[1m \u001b[0m\u001b[1mOutput Shape          \u001b[0m\u001b[1m \u001b[0m┃\u001b[1m \u001b[0m\u001b[1m      Param #\u001b[0m\u001b[1m \u001b[0m┃\n",
       "┡━━━━━━━━━━━━━━━━━━━━━━━━━━━━━━━━━╇━━━━━━━━━━━━━━━━━━━━━━━━╇━━━━━━━━━━━━━━━┩\n",
       "│ dense_64 (\u001b[38;5;33mDense\u001b[0m)                │ (\u001b[38;5;45mNone\u001b[0m, \u001b[38;5;34m512\u001b[0m)            │       \u001b[38;5;34m401,920\u001b[0m │\n",
       "├─────────────────────────────────┼────────────────────────┼───────────────┤\n",
       "│ dense_65 (\u001b[38;5;33mDense\u001b[0m)                │ (\u001b[38;5;45mNone\u001b[0m, \u001b[38;5;34m256\u001b[0m)            │       \u001b[38;5;34m131,328\u001b[0m │\n",
       "├─────────────────────────────────┼────────────────────────┼───────────────┤\n",
       "│ dense_66 (\u001b[38;5;33mDense\u001b[0m)                │ (\u001b[38;5;45mNone\u001b[0m, \u001b[38;5;34m256\u001b[0m)            │        \u001b[38;5;34m65,792\u001b[0m │\n",
       "├─────────────────────────────────┼────────────────────────┼───────────────┤\n",
       "│ dense_67 (\u001b[38;5;33mDense\u001b[0m)                │ (\u001b[38;5;45mNone\u001b[0m, \u001b[38;5;34m128\u001b[0m)            │        \u001b[38;5;34m32,896\u001b[0m │\n",
       "├─────────────────────────────────┼────────────────────────┼───────────────┤\n",
       "│ dense_68 (\u001b[38;5;33mDense\u001b[0m)                │ (\u001b[38;5;45mNone\u001b[0m, \u001b[38;5;34m64\u001b[0m)             │         \u001b[38;5;34m8,256\u001b[0m │\n",
       "├─────────────────────────────────┼────────────────────────┼───────────────┤\n",
       "│ dense_69 (\u001b[38;5;33mDense\u001b[0m)                │ (\u001b[38;5;45mNone\u001b[0m, \u001b[38;5;34m10\u001b[0m)             │           \u001b[38;5;34m650\u001b[0m │\n",
       "└─────────────────────────────────┴────────────────────────┴───────────────┘\n"
      ]
     },
     "metadata": {},
     "output_type": "display_data"
    },
    {
     "data": {
      "text/html": [
       "<pre style=\"white-space:pre;overflow-x:auto;line-height:normal;font-family:Menlo,'DejaVu Sans Mono',consolas,'Courier New',monospace\"><span style=\"font-weight: bold\"> Total params: </span><span style=\"color: #00af00; text-decoration-color: #00af00\">640,842</span> (2.44 MB)\n",
       "</pre>\n"
      ],
      "text/plain": [
       "\u001b[1m Total params: \u001b[0m\u001b[38;5;34m640,842\u001b[0m (2.44 MB)\n"
      ]
     },
     "metadata": {},
     "output_type": "display_data"
    },
    {
     "data": {
      "text/html": [
       "<pre style=\"white-space:pre;overflow-x:auto;line-height:normal;font-family:Menlo,'DejaVu Sans Mono',consolas,'Courier New',monospace\"><span style=\"font-weight: bold\"> Trainable params: </span><span style=\"color: #00af00; text-decoration-color: #00af00\">640,842</span> (2.44 MB)\n",
       "</pre>\n"
      ],
      "text/plain": [
       "\u001b[1m Trainable params: \u001b[0m\u001b[38;5;34m640,842\u001b[0m (2.44 MB)\n"
      ]
     },
     "metadata": {},
     "output_type": "display_data"
    },
    {
     "data": {
      "text/html": [
       "<pre style=\"white-space:pre;overflow-x:auto;line-height:normal;font-family:Menlo,'DejaVu Sans Mono',consolas,'Courier New',monospace\"><span style=\"font-weight: bold\"> Non-trainable params: </span><span style=\"color: #00af00; text-decoration-color: #00af00\">0</span> (0.00 B)\n",
       "</pre>\n"
      ],
      "text/plain": [
       "\u001b[1m Non-trainable params: \u001b[0m\u001b[38;5;34m0\u001b[0m (0.00 B)\n"
      ]
     },
     "metadata": {},
     "output_type": "display_data"
    }
   ],
   "source": [
    "from keras import activations\n",
    "from keras.utils import set_random_seed\n",
    "from keras.callbacks import EarlyStopping\n",
    "\n",
    "# Keras Seed: Reproducible weights initialization\n",
    "# set_random_seed(333)\n",
    "\n",
    "model = Sequential()\n",
    "\n",
    "model.add(Input((784,)))\n",
    "model.add(Dense(512, activation=activations.relu))\n",
    "model.add(Dense(256, activation=activations.relu))\n",
    "model.add(Dense(256, activation=activations.relu))\n",
    "model.add(Dense(128, activation=activations.relu))\n",
    "model.add(Dense(64, activation=activations.relu))\n",
    "model.add(Dense(10, activation=activations.softmax))\n",
    "\n",
    "model.summary()"
   ]
  },
  {
   "cell_type": "code",
   "execution_count": 68,
   "metadata": {
    "id": "o_qDNuRE8-Yi"
   },
   "outputs": [
    {
     "name": "stdout",
     "output_type": "stream",
     "text": [
      "Epoch 1/500\n",
      "\u001b[1m563/563\u001b[0m \u001b[32m━━━━━━━━━━━━━━━━━━━━\u001b[0m\u001b[37m\u001b[0m \u001b[1m2s\u001b[0m 2ms/step - accuracy: 0.9883 - loss: 0.0337 - val_accuracy: 0.8960 - val_loss: 0.6882\n",
      "Epoch 2/500\n",
      "\u001b[1m563/563\u001b[0m \u001b[32m━━━━━━━━━━━━━━━━━━━━\u001b[0m\u001b[37m\u001b[0m \u001b[1m1s\u001b[0m 2ms/step - accuracy: 0.9925 - loss: 0.0220 - val_accuracy: 0.8954 - val_loss: 0.7222\n",
      "Epoch 3/500\n",
      "\u001b[1m563/563\u001b[0m \u001b[32m━━━━━━━━━━━━━━━━━━━━\u001b[0m\u001b[37m\u001b[0m \u001b[1m1s\u001b[0m 2ms/step - accuracy: 0.9944 - loss: 0.0182 - val_accuracy: 0.8964 - val_loss: 0.7560\n",
      "Epoch 4/500\n",
      "\u001b[1m563/563\u001b[0m \u001b[32m━━━━━━━━━━━━━━━━━━━━\u001b[0m\u001b[37m\u001b[0m \u001b[1m1s\u001b[0m 2ms/step - accuracy: 0.9948 - loss: 0.0159 - val_accuracy: 0.8959 - val_loss: 0.7832\n",
      "Epoch 5/500\n",
      "\u001b[1m563/563\u001b[0m \u001b[32m━━━━━━━━━━━━━━━━━━━━\u001b[0m\u001b[37m\u001b[0m \u001b[1m1s\u001b[0m 2ms/step - accuracy: 0.9954 - loss: 0.0143 - val_accuracy: 0.8957 - val_loss: 0.8116\n",
      "Epoch 6/500\n",
      "\u001b[1m563/563\u001b[0m \u001b[32m━━━━━━━━━━━━━━━━━━━━\u001b[0m\u001b[37m\u001b[0m \u001b[1m1s\u001b[0m 2ms/step - accuracy: 0.9957 - loss: 0.0130 - val_accuracy: 0.8961 - val_loss: 0.8316\n"
     ]
    }
   ],
   "source": [
    "from keras.callbacks import EarlyStopping\n",
    "\n",
    "earlystop = EarlyStopping(monitor='val_loss', patience=5)\n",
    "\n",
    "model.compile(loss='categorical_crossentropy', optimizer='sgd', metrics=['accuracy'])\n",
    "\n",
    "history = model.fit(X_train, Y_train, epochs=500, batch_size=64, validation_split=0.2, verbose=1, callbacks=[earlystop])"
   ]
  },
  {
   "cell_type": "code",
   "execution_count": 69,
   "metadata": {},
   "outputs": [
    {
     "data": {
      "image/png": "[encoded data removed]",
      "text/plain": [
       "<Figure size 640x480 with 1 Axes>"
      ]
     },
     "metadata": {},
     "output_type": "display_data"
    },
    {
     "data": {
      "image/png": "[encoded data removed]",
      "text/plain": [
       "<Figure size 640x480 with 1 Axes>"
      ]
     },
     "metadata": {},
     "output_type": "display_data"
    }
   ],
   "source": [
    "import matplotlib.pyplot as plt\n",
    "\n",
    "def plot_loss(history):\n",
    "  x_plot = list(range(1,len(history.history[\"loss\"])+1))\n",
    "  plt.figure()\n",
    "  plt.title(\"Loss\")\n",
    "  plt.xlabel('Epochs')\n",
    "  plt.ylabel('Loss')\n",
    "  plt.plot(x_plot, history.history['loss'])\n",
    "  plt.plot(x_plot, history.history['val_loss'])\n",
    "  plt.legend(['Training', 'Validation'])\n",
    "\n",
    "def plot_accuracy(history):\n",
    "  x_plot = list(range(1,len(history.history[\"accuracy\"])+1))\n",
    "  plt.figure()\n",
    "  plt.title(\"Accuracy\")\n",
    "  plt.xlabel('Epochs')\n",
    "  plt.ylabel('Accuracy')\n",
    "  plt.plot(x_plot, history.history['accuracy'])\n",
    "  plt.plot(x_plot, history.history['val_accuracy'])\n",
    "  plt.legend(['Training', 'Validation'])\n",
    "\n",
    "plot_loss(history)\n",
    "plot_accuracy(history)"
   ]
  },
  {
   "cell_type": "markdown",
   "metadata": {
    "id": "qqzUba3Vw2U3"
   },
   "source": [
    "## 📕 Exercise\n",
    "\n",
    "Take a [dataset](https://keras.io/api/datasets/) from keras (or from Kaggle), create a neural network and apply regulizers. Monitor the effect on model performance and analyze how the loss and accuracy changes by using regularization methods during training.\n",
    "\n",
    "Plot and analyze the weights of the network using different regularization methods (particularly L2 and Dropout) and also compare with the use of different learning rate values."
   ]
  }
 ],
 "metadata": {
  "accelerator": "GPU",
  "colab": {
   "provenance": []
  },
  "kernelspec": {
   "display_name": "Python 3",
   "language": "python",
   "name": "python3"
  },
  "language_info": {
   "codemirror_mode": {
    "name": "ipython",
    "version": 3
   },
   "file_extension": ".py",
   "mimetype": "text/x-python",
   "name": "python",
   "nbconvert_exporter": "python",
   "pygments_lexer": "ipython3",
   "version": "3.12.10"
  }
 },
 "nbformat": 4,
 "nbformat_minor": 0
}
