{
 "cells": [
  {
   "cell_type": "code",
   "execution_count": 64,
   "id": "7393af39",
   "metadata": {},
   "outputs": [
    {
     "name": "stdout",
     "output_type": "stream",
     "text": [
      "Requirement already satisfied: pandas in c:\\users\\davoleo\\appdata\\local\\python\\pythoncore-3.12-64\\lib\\site-packages (2.3.3)\n",
      "Requirement already satisfied: scikit-image in c:\\users\\davoleo\\appdata\\local\\python\\pythoncore-3.12-64\\lib\\site-packages (0.25.2)\n",
      "Requirement already satisfied: matplotlib in c:\\users\\davoleo\\appdata\\local\\python\\pythoncore-3.12-64\\lib\\site-packages (3.10.7)\n",
      "Collecting seaborn\n",
      "  Downloading seaborn-0.13.2-py3-none-any.whl.metadata (5.4 kB)\n",
      "Requirement already satisfied: kagglehub[pandas-datasets] in c:\\users\\davoleo\\appdata\\local\\python\\pythoncore-3.12-64\\lib\\site-packages (0.3.13)\n",
      "Requirement already satisfied: numpy>=1.26.0 in c:\\users\\davoleo\\appdata\\local\\python\\pythoncore-3.12-64\\lib\\site-packages (from pandas) (2.3.4)\n",
      "Requirement already satisfied: python-dateutil>=2.8.2 in c:\\users\\davoleo\\appdata\\roaming\\python\\python312\\site-packages (from pandas) (2.9.0.post0)\n",
      "Requirement already satisfied: pytz>=2020.1 in c:\\users\\davoleo\\appdata\\local\\python\\pythoncore-3.12-64\\lib\\site-packages (from pandas) (2025.2)\n",
      "Requirement already satisfied: tzdata>=2022.7 in c:\\users\\davoleo\\appdata\\local\\python\\pythoncore-3.12-64\\lib\\site-packages (from pandas) (2025.2)\n",
      "Requirement already satisfied: packaging in c:\\users\\davoleo\\appdata\\roaming\\python\\python312\\site-packages (from kagglehub[pandas-datasets]) (25.0)\n",
      "Requirement already satisfied: pyyaml in c:\\users\\davoleo\\appdata\\local\\python\\pythoncore-3.12-64\\lib\\site-packages (from kagglehub[pandas-datasets]) (6.0.3)\n",
      "Requirement already satisfied: requests in c:\\users\\davoleo\\appdata\\local\\python\\pythoncore-3.12-64\\lib\\site-packages (from kagglehub[pandas-datasets]) (2.32.5)\n",
      "Requirement already satisfied: tqdm in c:\\users\\davoleo\\appdata\\local\\python\\pythoncore-3.12-64\\lib\\site-packages (from kagglehub[pandas-datasets]) (4.67.1)\n",
      "Requirement already satisfied: scipy>=1.11.4 in c:\\users\\davoleo\\appdata\\local\\python\\pythoncore-3.12-64\\lib\\site-packages (from scikit-image) (1.16.2)\n",
      "Requirement already satisfied: networkx>=3.0 in c:\\users\\davoleo\\appdata\\local\\python\\pythoncore-3.12-64\\lib\\site-packages (from scikit-image) (3.5)\n",
      "Requirement already satisfied: pillow>=10.1 in c:\\users\\davoleo\\appdata\\local\\python\\pythoncore-3.12-64\\lib\\site-packages (from scikit-image) (12.0.0)\n",
      "Requirement already satisfied: imageio!=2.35.0,>=2.33 in c:\\users\\davoleo\\appdata\\local\\python\\pythoncore-3.12-64\\lib\\site-packages (from scikit-image) (2.37.0)\n",
      "Requirement already satisfied: tifffile>=2022.8.12 in c:\\users\\davoleo\\appdata\\local\\python\\pythoncore-3.12-64\\lib\\site-packages (from scikit-image) (2025.10.16)\n",
      "Requirement already satisfied: lazy-loader>=0.4 in c:\\users\\davoleo\\appdata\\local\\python\\pythoncore-3.12-64\\lib\\site-packages (from scikit-image) (0.4)\n",
      "Requirement already satisfied: contourpy>=1.0.1 in c:\\users\\davoleo\\appdata\\local\\python\\pythoncore-3.12-64\\lib\\site-packages (from matplotlib) (1.3.3)\n",
      "Requirement already satisfied: cycler>=0.10 in c:\\users\\davoleo\\appdata\\local\\python\\pythoncore-3.12-64\\lib\\site-packages (from matplotlib) (0.12.1)\n",
      "Requirement already satisfied: fonttools>=4.22.0 in c:\\users\\davoleo\\appdata\\local\\python\\pythoncore-3.12-64\\lib\\site-packages (from matplotlib) (4.60.1)\n",
      "Requirement already satisfied: kiwisolver>=1.3.1 in c:\\users\\davoleo\\appdata\\local\\python\\pythoncore-3.12-64\\lib\\site-packages (from matplotlib) (1.4.9)\n",
      "Requirement already satisfied: pyparsing>=3 in c:\\users\\davoleo\\appdata\\local\\python\\pythoncore-3.12-64\\lib\\site-packages (from matplotlib) (3.2.5)\n",
      "Requirement already satisfied: six>=1.5 in c:\\users\\davoleo\\appdata\\roaming\\python\\python312\\site-packages (from python-dateutil>=2.8.2->pandas) (1.17.0)\n",
      "Requirement already satisfied: charset_normalizer<4,>=2 in c:\\users\\davoleo\\appdata\\local\\python\\pythoncore-3.12-64\\lib\\site-packages (from requests->kagglehub[pandas-datasets]) (3.4.4)\n",
      "Requirement already satisfied: idna<4,>=2.5 in c:\\users\\davoleo\\appdata\\local\\python\\pythoncore-3.12-64\\lib\\site-packages (from requests->kagglehub[pandas-datasets]) (3.11)\n",
      "Requirement already satisfied: urllib3<3,>=1.21.1 in c:\\users\\davoleo\\appdata\\local\\python\\pythoncore-3.12-64\\lib\\site-packages (from requests->kagglehub[pandas-datasets]) (2.5.0)\n",
      "Requirement already satisfied: certifi>=2017.4.17 in c:\\users\\davoleo\\appdata\\local\\python\\pythoncore-3.12-64\\lib\\site-packages (from requests->kagglehub[pandas-datasets]) (2025.10.5)\n",
      "Requirement already satisfied: colorama in c:\\users\\davoleo\\appdata\\roaming\\python\\python312\\site-packages (from tqdm->kagglehub[pandas-datasets]) (0.4.6)\n",
      "Downloading seaborn-0.13.2-py3-none-any.whl (294 kB)\n",
      "Installing collected packages: seaborn\n",
      "Successfully installed seaborn-0.13.2\n",
      "Note: you may need to restart the kernel to use updated packages.\n"
     ]
    },
    {
     "name": "stderr",
     "output_type": "stream",
     "text": [
      "\n",
      "[notice] A new release of pip is available: 25.0.1 -> 25.2\n",
      "[notice] To update, run: python.exe -m pip install --upgrade pip\n"
     ]
    },
    {
     "name": "stdout",
     "output_type": "stream",
     "text": [
      "Requirement already satisfied: tensorflow in c:\\users\\davoleo\\appdata\\local\\python\\pythoncore-3.12-64\\lib\\site-packages (2.20.0)\n",
      "Requirement already satisfied: keras in c:\\users\\davoleo\\appdata\\local\\python\\pythoncore-3.12-64\\lib\\site-packages (3.11.3)\n",
      "Requirement already satisfied: scikit-learn in c:\\users\\davoleo\\appdata\\local\\python\\pythoncore-3.12-64\\lib\\site-packages (1.7.2)\n",
      "Requirement already satisfied: absl-py>=1.0.0 in c:\\users\\davoleo\\appdata\\local\\python\\pythoncore-3.12-64\\lib\\site-packages (from tensorflow) (2.3.1)\n",
      "Requirement already satisfied: astunparse>=1.6.0 in c:\\users\\davoleo\\appdata\\local\\python\\pythoncore-3.12-64\\lib\\site-packages (from tensorflow) (1.6.3)\n",
      "Requirement already satisfied: flatbuffers>=24.3.25 in c:\\users\\davoleo\\appdata\\local\\python\\pythoncore-3.12-64\\lib\\site-packages (from tensorflow) (25.9.23)\n",
      "Requirement already satisfied: gast!=0.5.0,!=0.5.1,!=0.5.2,>=0.2.1 in c:\\users\\davoleo\\appdata\\local\\python\\pythoncore-3.12-64\\lib\\site-packages (from tensorflow) (0.6.0)\n",
      "Requirement already satisfied: google_pasta>=0.1.1 in c:\\users\\davoleo\\appdata\\local\\python\\pythoncore-3.12-64\\lib\\site-packages (from tensorflow) (0.2.0)\n",
      "Requirement already satisfied: libclang>=13.0.0 in c:\\users\\davoleo\\appdata\\local\\python\\pythoncore-3.12-64\\lib\\site-packages (from tensorflow) (18.1.1)\n",
      "Requirement already satisfied: opt_einsum>=2.3.2 in c:\\users\\davoleo\\appdata\\local\\python\\pythoncore-3.12-64\\lib\\site-packages (from tensorflow) (3.4.0)\n",
      "Requirement already satisfied: packaging in c:\\users\\davoleo\\appdata\\roaming\\python\\python312\\site-packages (from tensorflow) (25.0)\n",
      "Requirement already satisfied: protobuf>=5.28.0 in c:\\users\\davoleo\\appdata\\local\\python\\pythoncore-3.12-64\\lib\\site-packages (from tensorflow) (6.33.0)\n",
      "Requirement already satisfied: requests<3,>=2.21.0 in c:\\users\\davoleo\\appdata\\local\\python\\pythoncore-3.12-64\\lib\\site-packages (from tensorflow) (2.32.5)\n",
      "Requirement already satisfied: setuptools in c:\\users\\davoleo\\appdata\\local\\python\\pythoncore-3.12-64\\lib\\site-packages (from tensorflow) (80.9.0)\n",
      "Requirement already satisfied: six>=1.12.0 in c:\\users\\davoleo\\appdata\\roaming\\python\\python312\\site-packages (from tensorflow) (1.17.0)\n",
      "Requirement already satisfied: termcolor>=1.1.0 in c:\\users\\davoleo\\appdata\\local\\python\\pythoncore-3.12-64\\lib\\site-packages (from tensorflow) (3.1.0)\n",
      "Requirement already satisfied: typing_extensions>=3.6.6 in c:\\users\\davoleo\\appdata\\local\\python\\pythoncore-3.12-64\\lib\\site-packages (from tensorflow) (4.15.0)\n",
      "Requirement already satisfied: wrapt>=1.11.0 in c:\\users\\davoleo\\appdata\\local\\python\\pythoncore-3.12-64\\lib\\site-packages (from tensorflow) (2.0.0)\n",
      "Requirement already satisfied: grpcio<2.0,>=1.24.3 in c:\\users\\davoleo\\appdata\\local\\python\\pythoncore-3.12-64\\lib\\site-packages (from tensorflow) (1.76.0)\n",
      "Requirement already satisfied: tensorboard~=2.20.0 in c:\\users\\davoleo\\appdata\\local\\python\\pythoncore-3.12-64\\lib\\site-packages (from tensorflow) (2.20.0)\n",
      "Requirement already satisfied: numpy>=1.26.0 in c:\\users\\davoleo\\appdata\\local\\python\\pythoncore-3.12-64\\lib\\site-packages (from tensorflow) (2.3.4)\n",
      "Requirement already satisfied: h5py>=3.11.0 in c:\\users\\davoleo\\appdata\\local\\python\\pythoncore-3.12-64\\lib\\site-packages (from tensorflow) (3.15.1)\n",
      "Requirement already satisfied: ml_dtypes<1.0.0,>=0.5.1 in c:\\users\\davoleo\\appdata\\local\\python\\pythoncore-3.12-64\\lib\\site-packages (from tensorflow) (0.5.3)\n",
      "Requirement already satisfied: rich in c:\\users\\davoleo\\appdata\\local\\python\\pythoncore-3.12-64\\lib\\site-packages (from keras) (14.2.0)\n",
      "Requirement already satisfied: namex in c:\\users\\davoleo\\appdata\\local\\python\\pythoncore-3.12-64\\lib\\site-packages (from keras) (0.1.0)\n",
      "Requirement already satisfied: optree in c:\\users\\davoleo\\appdata\\local\\python\\pythoncore-3.12-64\\lib\\site-packages (from keras) (0.17.0)\n",
      "Requirement already satisfied: scipy>=1.8.0 in c:\\users\\davoleo\\appdata\\local\\python\\pythoncore-3.12-64\\lib\\site-packages (from scikit-learn) (1.16.2)\n",
      "Requirement already satisfied: joblib>=1.2.0 in c:\\users\\davoleo\\appdata\\local\\python\\pythoncore-3.12-64\\lib\\site-packages (from scikit-learn) (1.5.2)\n",
      "Requirement already satisfied: threadpoolctl>=3.1.0 in c:\\users\\davoleo\\appdata\\local\\python\\pythoncore-3.12-64\\lib\\site-packages (from scikit-learn) (3.6.0)\n",
      "Requirement already satisfied: wheel<1.0,>=0.23.0 in c:\\users\\davoleo\\appdata\\local\\python\\pythoncore-3.12-64\\lib\\site-packages (from astunparse>=1.6.0->tensorflow) (0.45.1)\n",
      "Requirement already satisfied: charset_normalizer<4,>=2 in c:\\users\\davoleo\\appdata\\local\\python\\pythoncore-3.12-64\\lib\\site-packages (from requests<3,>=2.21.0->tensorflow) (3.4.4)\n",
      "Requirement already satisfied: idna<4,>=2.5 in c:\\users\\davoleo\\appdata\\local\\python\\pythoncore-3.12-64\\lib\\site-packages (from requests<3,>=2.21.0->tensorflow) (3.11)\n",
      "Requirement already satisfied: urllib3<3,>=1.21.1 in c:\\users\\davoleo\\appdata\\local\\python\\pythoncore-3.12-64\\lib\\site-packages (from requests<3,>=2.21.0->tensorflow) (2.5.0)\n",
      "Requirement already satisfied: certifi>=2017.4.17 in c:\\users\\davoleo\\appdata\\local\\python\\pythoncore-3.12-64\\lib\\site-packages (from requests<3,>=2.21.0->tensorflow) (2025.10.5)\n",
      "Requirement already satisfied: markdown>=2.6.8 in c:\\users\\davoleo\\appdata\\local\\python\\pythoncore-3.12-64\\lib\\site-packages (from tensorboard~=2.20.0->tensorflow) (3.9)\n",
      "Requirement already satisfied: pillow in c:\\users\\davoleo\\appdata\\local\\python\\pythoncore-3.12-64\\lib\\site-packages (from tensorboard~=2.20.0->tensorflow) (12.0.0)\n",
      "Requirement already satisfied: tensorboard-data-server<0.8.0,>=0.7.0 in c:\\users\\davoleo\\appdata\\local\\python\\pythoncore-3.12-64\\lib\\site-packages (from tensorboard~=2.20.0->tensorflow) (0.7.2)\n",
      "Requirement already satisfied: werkzeug>=1.0.1 in c:\\users\\davoleo\\appdata\\local\\python\\pythoncore-3.12-64\\lib\\site-packages (from tensorboard~=2.20.0->tensorflow) (3.1.3)\n",
      "Requirement already satisfied: markdown-it-py>=2.2.0 in c:\\users\\davoleo\\appdata\\local\\python\\pythoncore-3.12-64\\lib\\site-packages (from rich->keras) (4.0.0)\n",
      "Requirement already satisfied: pygments<3.0.0,>=2.13.0 in c:\\users\\davoleo\\appdata\\roaming\\python\\python312\\site-packages (from rich->keras) (2.19.2)\n",
      "Requirement already satisfied: mdurl~=0.1 in c:\\users\\davoleo\\appdata\\local\\python\\pythoncore-3.12-64\\lib\\site-packages (from markdown-it-py>=2.2.0->rich->keras) (0.1.2)\n",
      "Requirement already satisfied: MarkupSafe>=2.1.1 in c:\\users\\davoleo\\appdata\\local\\python\\pythoncore-3.12-64\\lib\\site-packages (from werkzeug>=1.0.1->tensorboard~=2.20.0->tensorflow) (3.0.3)\n",
      "Note: you may need to restart the kernel to use updated packages.\n"
     ]
    },
    {
     "name": "stderr",
     "output_type": "stream",
     "text": [
      "\n",
      "[notice] A new release of pip is available: 25.0.1 -> 25.2\n",
      "[notice] To update, run: python.exe -m pip install --upgrade pip\n"
     ]
    }
   ],
   "source": [
    "%pip install pandas kagglehub[pandas-datasets] scikit-image matplotlib seaborn\n",
    "%pip install tensorflow keras scikit-learn"
   ]
  },
  {
   "cell_type": "code",
   "execution_count": 3,
   "id": "665b09db",
   "metadata": {},
   "outputs": [
    {
     "name": "stderr",
     "output_type": "stream",
     "text": [
      "c:\\Users\\Davoleo\\AppData\\Local\\Python\\pythoncore-3.12-64\\Lib\\site-packages\\tqdm\\auto.py:21: TqdmWarning: IProgress not found. Please update jupyter and ipywidgets. See https://ipywidgets.readthedocs.io/en/stable/user_install.html\n",
      "  from .autonotebook import tqdm as notebook_tqdm\n"
     ]
    },
    {
     "name": "stdout",
     "output_type": "stream",
     "text": [
      "dataset path: C:\\Users\\Davoleo\\.cache\\kagglehub\\datasets\\meowmeowmeowmeowmeow\\gtsrb-german-traffic-sign\\versions\\1\n"
     ]
    }
   ],
   "source": [
    "# Install dependencies as needed:\n",
    "# pip install kagglehub[pandas-datasets]\n",
    "import kagglehub\n",
    "\n",
    "# folder\n",
    "folder = \"dataset\"\n",
    "\n",
    "# Download latest version\n",
    "datapath = kagglehub.dataset_download(\"meowmeowmeowmeowmeow/gtsrb-german-traffic-sign\")\n",
    "\n",
    "print('dataset path: ' + datapath)"
   ]
  },
  {
   "cell_type": "markdown",
   "id": "84f1fb45",
   "metadata": {},
   "source": [
    "# Data preparation"
   ]
  },
  {
   "cell_type": "code",
   "execution_count": 36,
   "id": "01bc5282",
   "metadata": {},
   "outputs": [
    {
     "name": "stdout",
     "output_type": "stream",
     "text": [
      "Training set loaded!!\n",
      "Test set loaded!!\n"
     ]
    }
   ],
   "source": [
    "import numpy as np\n",
    "import pandas as pd\n",
    "import matplotlib.pyplot as plt\n",
    "from skimage import io as skio\n",
    "from skimage import transform as skitrans\n",
    "\n",
    "train = pd.read_csv(datapath + \"\\\\Train.csv\")\n",
    "test = pd.read_csv(datapath + \"\\\\Test.csv\")\n",
    "\n",
    "#print(train.describe())\n",
    "#print(train.dtypes)\n",
    "\n",
    "HEIGHT = 32\n",
    "WIDTH = 32\n",
    "\n",
    "\n",
    "def load_data(data_csv):\n",
    "\n",
    "    ims = []\n",
    "    classes = []\n",
    "\n",
    "    for t in data_csv.itertuples(index=False):\n",
    "        # Only use one size\n",
    "        # if (not t.Path.endswith('00012.png')):\n",
    "        #     continue\n",
    "\n",
    "        impath = datapath + '\\\\' + t.Path\n",
    "        \n",
    "        fullim = skio.imread(impath)\n",
    "        # plt.figure(1)\n",
    "        # plt.subplot(1,3,1)\n",
    "        # plt.imshow(fullim)\n",
    "\n",
    "        # crop on: (Roi.X1, Roi.X2), (Roi.Y1, Roi.Y2)\n",
    "        # print(\"crop: \", (t._2, t._4), (t._3, t._5))\n",
    "        cropim = fullim[t._2:t._4, t._3:t._5]\n",
    "\n",
    "        # plt.subplot(1,3,2)\n",
    "        # plt.imshow(cropim)\n",
    "\n",
    "        finalim = skitrans.resize(cropim, (WIDTH, HEIGHT))\n",
    "        # plt.subplot(1,3,3)\n",
    "        # plt.imshow(finalim)\n",
    "\n",
    "        ims.append(finalim)\n",
    "        classes.append(t.ClassId)\n",
    "    \n",
    "    return (ims, classes)\n",
    "\n",
    "\n",
    "train_ims, train_class = load_data(train)\n",
    "print(\"Training set loaded!!\")\n",
    "test_ims, test_class = load_data(test)\n",
    "print(\"Test set loaded!!\")\n"
   ]
  },
  {
   "cell_type": "code",
   "execution_count": 52,
   "id": "93d49cc6",
   "metadata": {},
   "outputs": [
    {
     "name": "stdout",
     "output_type": "stream",
     "text": [
      "(39209, 32, 32, 3) (39209,)\n",
      "(12630, 32, 32, 3) (12630,)\n"
     ]
    }
   ],
   "source": [
    "train_x = np.stack(train_ims, axis=0)\n",
    "train_y = np.array(train_class)\n",
    "\n",
    "test_x = np.stack(test_ims, axis=0)\n",
    "test_y = np.array(test_class)\n",
    "\n",
    "print(train_x.shape, train_y.shape)\n",
    "print(test_x.shape, test_y.shape)"
   ]
  },
  {
   "cell_type": "code",
   "execution_count": 53,
   "id": "17924097",
   "metadata": {},
   "outputs": [
    {
     "name": "stdout",
     "output_type": "stream",
     "text": [
      "Classes:  [ 0  1  2  3  4  5  6  7  8  9 10 11 12 13 14 15 16 17 18 19 20 21 22 23\n",
      " 24 25 26 27 28 29 30 31 32 33 34 35 36 37 38 39 40 41 42]\n"
     ]
    },
    {
     "data": {
      "text/plain": [
       "(39209, 3072)"
      ]
     },
     "execution_count": 53,
     "metadata": {},
     "output_type": "execute_result"
    }
   ],
   "source": [
    "from tensorflow.keras.utils import to_categorical\n",
    "from sklearn.utils import shuffle\n",
    "\n",
    "train_x = train_x.reshape(train_x.shape[0], HEIGHT*WIDTH*3)\n",
    "\n",
    "train_x, train_y = shuffle(train_x, train_y, random_state=0)\n",
    "\n",
    "print(\"Classes: \", np.unique(train_y))\n",
    "# One-Hot Encoding\n",
    "train_y = to_categorical(train_y)\n",
    "\n",
    "train_x.shape"
   ]
  },
  {
   "cell_type": "code",
   "execution_count": null,
   "id": "b3701980",
   "metadata": {},
   "outputs": [
    {
     "name": "stdout",
     "output_type": "stream",
     "text": [
      "Classes:  [ 0  1  2  3  4  5  6  7  8  9 10 11 12 13 14 15 16 17 18 19 20 21 22 23\n",
      " 24 25 26 27 28 29 30 31 32 33 34 35 36 37 38 39 40 41 42]\n"
     ]
    },
    {
     "data": {
      "text/plain": [
       "(12630, 3072)"
      ]
     },
     "execution_count": 54,
     "metadata": {},
     "output_type": "execute_result"
    }
   ],
   "source": [
    "from tensorflow.keras.utils import to_categorical\n",
    "\n",
    "test_x = test_x.reshape(test_x.shape[0], HEIGHT*WIDTH*3)\n",
    "\n",
    "print(\"Classes: \", np.unique(test_y))\n",
    "hot_test_y = to_categorical(test_y)\n",
    "\n",
    "\n",
    "test_x.shape"
   ]
  },
  {
   "cell_type": "markdown",
   "id": "946520b6",
   "metadata": {},
   "source": [
    "# Neural Network"
   ]
  },
  {
   "cell_type": "code",
   "execution_count": 56,
   "id": "7c8bc3c7",
   "metadata": {},
   "outputs": [
    {
     "data": {
      "text/html": [
       "<pre style=\"white-space:pre;overflow-x:auto;line-height:normal;font-family:Menlo,'DejaVu Sans Mono',consolas,'Courier New',monospace\"><span style=\"font-weight: bold\">Model: \"sequential_4\"</span>\n",
       "</pre>\n"
      ],
      "text/plain": [
       "\u001b[1mModel: \"sequential_4\"\u001b[0m\n"
      ]
     },
     "metadata": {},
     "output_type": "display_data"
    },
    {
     "data": {
      "text/html": [
       "<pre style=\"white-space:pre;overflow-x:auto;line-height:normal;font-family:Menlo,'DejaVu Sans Mono',consolas,'Courier New',monospace\">┏━━━━━━━━━━━━━━━━━━━━━━━━━━━━━━━━━┳━━━━━━━━━━━━━━━━━━━━━━━━┳━━━━━━━━━━━━━━━┓\n",
       "┃<span style=\"font-weight: bold\"> Layer (type)                    </span>┃<span style=\"font-weight: bold\"> Output Shape           </span>┃<span style=\"font-weight: bold\">       Param # </span>┃\n",
       "┡━━━━━━━━━━━━━━━━━━━━━━━━━━━━━━━━━╇━━━━━━━━━━━━━━━━━━━━━━━━╇━━━━━━━━━━━━━━━┩\n",
       "│ dense_16 (<span style=\"color: #0087ff; text-decoration-color: #0087ff\">Dense</span>)                │ (<span style=\"color: #00d7ff; text-decoration-color: #00d7ff\">None</span>, <span style=\"color: #00af00; text-decoration-color: #00af00\">512</span>)            │     <span style=\"color: #00af00; text-decoration-color: #00af00\">1,573,376</span> │\n",
       "├─────────────────────────────────┼────────────────────────┼───────────────┤\n",
       "│ dense_17 (<span style=\"color: #0087ff; text-decoration-color: #0087ff\">Dense</span>)                │ (<span style=\"color: #00d7ff; text-decoration-color: #00d7ff\">None</span>, <span style=\"color: #00af00; text-decoration-color: #00af00\">256</span>)            │       <span style=\"color: #00af00; text-decoration-color: #00af00\">131,328</span> │\n",
       "├─────────────────────────────────┼────────────────────────┼───────────────┤\n",
       "│ dense_18 (<span style=\"color: #0087ff; text-decoration-color: #0087ff\">Dense</span>)                │ (<span style=\"color: #00d7ff; text-decoration-color: #00d7ff\">None</span>, <span style=\"color: #00af00; text-decoration-color: #00af00\">128</span>)            │        <span style=\"color: #00af00; text-decoration-color: #00af00\">32,896</span> │\n",
       "├─────────────────────────────────┼────────────────────────┼───────────────┤\n",
       "│ dense_19 (<span style=\"color: #0087ff; text-decoration-color: #0087ff\">Dense</span>)                │ (<span style=\"color: #00d7ff; text-decoration-color: #00d7ff\">None</span>, <span style=\"color: #00af00; text-decoration-color: #00af00\">43</span>)             │         <span style=\"color: #00af00; text-decoration-color: #00af00\">5,547</span> │\n",
       "└─────────────────────────────────┴────────────────────────┴───────────────┘\n",
       "</pre>\n"
      ],
      "text/plain": [
       "┏━━━━━━━━━━━━━━━━━━━━━━━━━━━━━━━━━┳━━━━━━━━━━━━━━━━━━━━━━━━┳━━━━━━━━━━━━━━━┓\n",
       "┃\u001b[1m \u001b[0m\u001b[1mLayer (type)                   \u001b[0m\u001b[1m \u001b[0m┃\u001b[1m \u001b[0m\u001b[1mOutput Shape          \u001b[0m\u001b[1m \u001b[0m┃\u001b[1m \u001b[0m\u001b[1m      Param #\u001b[0m\u001b[1m \u001b[0m┃\n",
       "┡━━━━━━━━━━━━━━━━━━━━━━━━━━━━━━━━━╇━━━━━━━━━━━━━━━━━━━━━━━━╇━━━━━━━━━━━━━━━┩\n",
       "│ dense_16 (\u001b[38;5;33mDense\u001b[0m)                │ (\u001b[38;5;45mNone\u001b[0m, \u001b[38;5;34m512\u001b[0m)            │     \u001b[38;5;34m1,573,376\u001b[0m │\n",
       "├─────────────────────────────────┼────────────────────────┼───────────────┤\n",
       "│ dense_17 (\u001b[38;5;33mDense\u001b[0m)                │ (\u001b[38;5;45mNone\u001b[0m, \u001b[38;5;34m256\u001b[0m)            │       \u001b[38;5;34m131,328\u001b[0m │\n",
       "├─────────────────────────────────┼────────────────────────┼───────────────┤\n",
       "│ dense_18 (\u001b[38;5;33mDense\u001b[0m)                │ (\u001b[38;5;45mNone\u001b[0m, \u001b[38;5;34m128\u001b[0m)            │        \u001b[38;5;34m32,896\u001b[0m │\n",
       "├─────────────────────────────────┼────────────────────────┼───────────────┤\n",
       "│ dense_19 (\u001b[38;5;33mDense\u001b[0m)                │ (\u001b[38;5;45mNone\u001b[0m, \u001b[38;5;34m43\u001b[0m)             │         \u001b[38;5;34m5,547\u001b[0m │\n",
       "└─────────────────────────────────┴────────────────────────┴───────────────┘\n"
      ]
     },
     "metadata": {},
     "output_type": "display_data"
    },
    {
     "data": {
      "text/html": [
       "<pre style=\"white-space:pre;overflow-x:auto;line-height:normal;font-family:Menlo,'DejaVu Sans Mono',consolas,'Courier New',monospace\"><span style=\"font-weight: bold\"> Total params: </span><span style=\"color: #00af00; text-decoration-color: #00af00\">1,743,147</span> (6.65 MB)\n",
       "</pre>\n"
      ],
      "text/plain": [
       "\u001b[1m Total params: \u001b[0m\u001b[38;5;34m1,743,147\u001b[0m (6.65 MB)\n"
      ]
     },
     "metadata": {},
     "output_type": "display_data"
    },
    {
     "data": {
      "text/html": [
       "<pre style=\"white-space:pre;overflow-x:auto;line-height:normal;font-family:Menlo,'DejaVu Sans Mono',consolas,'Courier New',monospace\"><span style=\"font-weight: bold\"> Trainable params: </span><span style=\"color: #00af00; text-decoration-color: #00af00\">1,743,147</span> (6.65 MB)\n",
       "</pre>\n"
      ],
      "text/plain": [
       "\u001b[1m Trainable params: \u001b[0m\u001b[38;5;34m1,743,147\u001b[0m (6.65 MB)\n"
      ]
     },
     "metadata": {},
     "output_type": "display_data"
    },
    {
     "data": {
      "text/html": [
       "<pre style=\"white-space:pre;overflow-x:auto;line-height:normal;font-family:Menlo,'DejaVu Sans Mono',consolas,'Courier New',monospace\"><span style=\"font-weight: bold\"> Non-trainable params: </span><span style=\"color: #00af00; text-decoration-color: #00af00\">0</span> (0.00 B)\n",
       "</pre>\n"
      ],
      "text/plain": [
       "\u001b[1m Non-trainable params: \u001b[0m\u001b[38;5;34m0\u001b[0m (0.00 B)\n"
      ]
     },
     "metadata": {},
     "output_type": "display_data"
    }
   ],
   "source": [
    "from keras import Sequential\n",
    "from keras.layers import Dense, Activation, Input\n",
    "from keras import activations\n",
    "\n",
    "model = Sequential()\n",
    "\n",
    "model.add(Input((HEIGHT*WIDTH*3,)))\n",
    "model.add(Dense(512, activation=activations.relu))\n",
    "model.add(Dense(256, activation=activations.relu))\n",
    "model.add(Dense(128, activation=activations.relu))\n",
    "model.add(Dense(43, activation=activations.softmax))\n",
    "\n",
    "model.summary()"
   ]
  },
  {
   "cell_type": "code",
   "execution_count": 57,
   "id": "d4224034",
   "metadata": {},
   "outputs": [],
   "source": [
    "from tensorflow.keras.optimizers import Adam\n",
    "\n",
    "model.compile(loss='categorical_crossentropy', optimizer=Adam(learning_rate=0.001), metrics=['accuracy'])"
   ]
  },
  {
   "cell_type": "code",
   "execution_count": 58,
   "id": "2ee310c3",
   "metadata": {},
   "outputs": [
    {
     "name": "stdout",
     "output_type": "stream",
     "text": [
      "Epoch 1/20\n",
      "\u001b[1m246/246\u001b[0m \u001b[32m━━━━━━━━━━━━━━━━━━━━\u001b[0m\u001b[37m\u001b[0m \u001b[1m7s\u001b[0m 24ms/step - accuracy: 0.4372 - loss: 2.1671 - val_accuracy: 0.5594 - val_loss: 1.4972\n",
      "Epoch 2/20\n",
      "\u001b[1m246/246\u001b[0m \u001b[32m━━━━━━━━━━━━━━━━━━━━\u001b[0m\u001b[37m\u001b[0m \u001b[1m6s\u001b[0m 24ms/step - accuracy: 0.6918 - loss: 1.1027 - val_accuracy: 0.6964 - val_loss: 1.0504\n",
      "Epoch 3/20\n",
      "\u001b[1m246/246\u001b[0m \u001b[32m━━━━━━━━━━━━━━━━━━━━\u001b[0m\u001b[37m\u001b[0m \u001b[1m6s\u001b[0m 24ms/step - accuracy: 0.7789 - loss: 0.7938 - val_accuracy: 0.7469 - val_loss: 0.8952\n",
      "Epoch 4/20\n",
      "\u001b[1m246/246\u001b[0m \u001b[32m━━━━━━━━━━━━━━━━━━━━\u001b[0m\u001b[37m\u001b[0m \u001b[1m6s\u001b[0m 25ms/step - accuracy: 0.8148 - loss: 0.6499 - val_accuracy: 0.7793 - val_loss: 0.7778\n",
      "Epoch 5/20\n",
      "\u001b[1m246/246\u001b[0m \u001b[32m━━━━━━━━━━━━━━━━━━━━\u001b[0m\u001b[37m\u001b[0m \u001b[1m6s\u001b[0m 24ms/step - accuracy: 0.8522 - loss: 0.5316 - val_accuracy: 0.8184 - val_loss: 0.6822\n",
      "Epoch 6/20\n",
      "\u001b[1m246/246\u001b[0m \u001b[32m━━━━━━━━━━━━━━━━━━━━\u001b[0m\u001b[37m\u001b[0m \u001b[1m6s\u001b[0m 25ms/step - accuracy: 0.8652 - loss: 0.4760 - val_accuracy: 0.8625 - val_loss: 0.5103\n",
      "Epoch 7/20\n",
      "\u001b[1m246/246\u001b[0m \u001b[32m━━━━━━━━━━━━━━━━━━━━\u001b[0m\u001b[37m\u001b[0m \u001b[1m6s\u001b[0m 24ms/step - accuracy: 0.8846 - loss: 0.4007 - val_accuracy: 0.8528 - val_loss: 0.5190\n",
      "Epoch 8/20\n",
      "\u001b[1m246/246\u001b[0m \u001b[32m━━━━━━━━━━━━━━━━━━━━\u001b[0m\u001b[37m\u001b[0m \u001b[1m6s\u001b[0m 26ms/step - accuracy: 0.8994 - loss: 0.3488 - val_accuracy: 0.8653 - val_loss: 0.4943\n",
      "Epoch 9/20\n",
      "\u001b[1m246/246\u001b[0m \u001b[32m━━━━━━━━━━━━━━━━━━━━\u001b[0m\u001b[37m\u001b[0m \u001b[1m6s\u001b[0m 26ms/step - accuracy: 0.9082 - loss: 0.3188 - val_accuracy: 0.8771 - val_loss: 0.4579\n",
      "Epoch 10/20\n",
      "\u001b[1m246/246\u001b[0m \u001b[32m━━━━━━━━━━━━━━━━━━━━\u001b[0m\u001b[37m\u001b[0m \u001b[1m6s\u001b[0m 26ms/step - accuracy: 0.9177 - loss: 0.2863 - val_accuracy: 0.8914 - val_loss: 0.3758\n",
      "Epoch 11/20\n",
      "\u001b[1m246/246\u001b[0m \u001b[32m━━━━━━━━━━━━━━━━━━━━\u001b[0m\u001b[37m\u001b[0m \u001b[1m7s\u001b[0m 27ms/step - accuracy: 0.9233 - loss: 0.2592 - val_accuracy: 0.9199 - val_loss: 0.3033\n",
      "Epoch 12/20\n",
      "\u001b[1m246/246\u001b[0m \u001b[32m━━━━━━━━━━━━━━━━━━━━\u001b[0m\u001b[37m\u001b[0m \u001b[1m7s\u001b[0m 26ms/step - accuracy: 0.9269 - loss: 0.2397 - val_accuracy: 0.9232 - val_loss: 0.2957\n",
      "Epoch 13/20\n",
      "\u001b[1m246/246\u001b[0m \u001b[32m━━━━━━━━━━━━━━━━━━━━\u001b[0m\u001b[37m\u001b[0m \u001b[1m6s\u001b[0m 26ms/step - accuracy: 0.9356 - loss: 0.2136 - val_accuracy: 0.9249 - val_loss: 0.2923\n",
      "Epoch 14/20\n",
      "\u001b[1m246/246\u001b[0m \u001b[32m━━━━━━━━━━━━━━━━━━━━\u001b[0m\u001b[37m\u001b[0m \u001b[1m7s\u001b[0m 26ms/step - accuracy: 0.9441 - loss: 0.1898 - val_accuracy: 0.9170 - val_loss: 0.3062\n",
      "Epoch 15/20\n",
      "\u001b[1m246/246\u001b[0m \u001b[32m━━━━━━━━━━━━━━━━━━━━\u001b[0m\u001b[37m\u001b[0m \u001b[1m6s\u001b[0m 26ms/step - accuracy: 0.9423 - loss: 0.1940 - val_accuracy: 0.9343 - val_loss: 0.2621\n",
      "Epoch 16/20\n",
      "\u001b[1m246/246\u001b[0m \u001b[32m━━━━━━━━━━━━━━━━━━━━\u001b[0m\u001b[37m\u001b[0m \u001b[1m6s\u001b[0m 26ms/step - accuracy: 0.9412 - loss: 0.1878 - val_accuracy: 0.9343 - val_loss: 0.2562\n",
      "Epoch 17/20\n",
      "\u001b[1m246/246\u001b[0m \u001b[32m━━━━━━━━━━━━━━━━━━━━\u001b[0m\u001b[37m\u001b[0m \u001b[1m6s\u001b[0m 26ms/step - accuracy: 0.9471 - loss: 0.1806 - val_accuracy: 0.9259 - val_loss: 0.3201\n",
      "Epoch 18/20\n",
      "\u001b[1m246/246\u001b[0m \u001b[32m━━━━━━━━━━━━━━━━━━━━\u001b[0m\u001b[37m\u001b[0m \u001b[1m6s\u001b[0m 26ms/step - accuracy: 0.9506 - loss: 0.1649 - val_accuracy: 0.9092 - val_loss: 0.3514\n",
      "Epoch 19/20\n",
      "\u001b[1m246/246\u001b[0m \u001b[32m━━━━━━━━━━━━━━━━━━━━\u001b[0m\u001b[37m\u001b[0m \u001b[1m7s\u001b[0m 26ms/step - accuracy: 0.9551 - loss: 0.1462 - val_accuracy: 0.9366 - val_loss: 0.2821\n",
      "Epoch 20/20\n",
      "\u001b[1m246/246\u001b[0m \u001b[32m━━━━━━━━━━━━━━━━━━━━\u001b[0m\u001b[37m\u001b[0m \u001b[1m7s\u001b[0m 26ms/step - accuracy: 0.9569 - loss: 0.1405 - val_accuracy: 0.9010 - val_loss: 0.3736\n"
     ]
    }
   ],
   "source": [
    "history = model.fit(train_x, train_y, epochs=20, batch_size=128, validation_split=0.2, verbose=1)"
   ]
  },
  {
   "cell_type": "code",
   "execution_count": 59,
   "id": "76e68b28",
   "metadata": {},
   "outputs": [],
   "source": [
    "import matplotlib.pyplot as plt\n",
    "\n",
    "def plot_loss(history):\n",
    "  x_plot = list(range(1,len(history.history[\"loss\"])+1))\n",
    "  plt.figure()\n",
    "  plt.title(\"Loss\")\n",
    "  plt.xlabel('Epochs')\n",
    "  plt.ylabel('Loss')\n",
    "  plt.plot(x_plot, history.history['loss'])\n",
    "  plt.plot(x_plot, history.history['val_loss'])\n",
    "  plt.legend(['Training', 'Validation'])\n",
    "\n",
    "def plot_accuracy(history):\n",
    "  x_plot = list(range(1,len(history.history[\"accuracy\"])+1))\n",
    "  plt.figure()\n",
    "  plt.title(\"Accuracy\")\n",
    "  plt.xlabel('Epochs')\n",
    "  plt.ylabel('Accuracy')\n",
    "  plt.plot(x_plot, history.history['accuracy'])\n",
    "  plt.plot(x_plot, history.history['val_accuracy'])\n",
    "  plt.legend(['Training', 'Validation'])"
   ]
  },
  {
   "cell_type": "code",
   "execution_count": 60,
   "id": "18a7689c",
   "metadata": {},
   "outputs": [
    {
     "data": {
      "image/png": "[encoded data removed]",
      "text/plain": [
       "<Figure size 640x480 with 1 Axes>"
      ]
     },
     "metadata": {},
     "output_type": "display_data"
    },
    {
     "data": {
      "image/png": "[encoded data removed]",
      "text/plain": [
       "<Figure size 640x480 with 1 Axes>"
      ]
     },
     "metadata": {},
     "output_type": "display_data"
    }
   ],
   "source": [
    "plot_loss(history)\n",
    "plot_accuracy(history)"
   ]
  },
  {
   "cell_type": "code",
   "execution_count": null,
   "id": "49e68c2f",
   "metadata": {},
   "outputs": [
    {
     "name": "stdout",
     "output_type": "stream",
     "text": [
      "\u001b[1m395/395\u001b[0m \u001b[32m━━━━━━━━━━━━━━━━━━━━\u001b[0m\u001b[37m\u001b[0m \u001b[1m1s\u001b[0m 3ms/step - accuracy: 0.8010 - loss: 1.2426\n",
      "\n",
      "\n",
      "Loss: 1.2426\tAccuracy: 0.8010\n"
     ]
    }
   ],
   "source": [
    "loss, precision = model.evaluate(test_x, hot_test_y, verbose=1)\n",
    "\n",
    "# Output Loss / Accuracy of the model after evaluating the model against the test set.\n",
    "print(\"\\n\\nLoss: %6.4f\\tAccuracy: %6.4f\" % (loss, precision))\n"
   ]
  },
  {
   "cell_type": "code",
   "execution_count": 63,
   "id": "80f31356",
   "metadata": {},
   "outputs": [
    {
     "name": "stdout",
     "output_type": "stream",
     "text": [
      "\u001b[1m395/395\u001b[0m \u001b[32m━━━━━━━━━━━━━━━━━━━━\u001b[0m\u001b[37m\u001b[0m \u001b[1m1s\u001b[0m 3ms/step\n"
     ]
    },
    {
     "data": {
      "text/plain": [
       "array([[0.0000000e+00, 1.5168026e-35, 1.0108798e-33, ..., 0.0000000e+00,\n",
       "        0.0000000e+00, 0.0000000e+00],\n",
       "       [1.9744850e-30, 6.0285308e-15, 1.2399788e-14, ..., 3.1867496e-13,\n",
       "        2.8539249e-18, 1.1421665e-19],\n",
       "       [1.6813000e-28, 5.1042240e-19, 5.1831961e-09, ..., 5.4360527e-05,\n",
       "        8.2106517e-13, 5.3611155e-25],\n",
       "       ...,\n",
       "       [1.7875104e-10, 1.0983785e-04, 6.5028129e-05, ..., 6.7535134e-06,\n",
       "        9.4881676e-14, 6.0654010e-14],\n",
       "       [0.0000000e+00, 0.0000000e+00, 8.8688633e-34, ..., 1.4744248e-37,\n",
       "        0.0000000e+00, 0.0000000e+00],\n",
       "       [2.5262268e-13, 2.1030765e-07, 1.2527444e-07, ..., 6.3725480e-08,\n",
       "        7.8457157e-11, 1.9563372e-12]], shape=(12630, 43), dtype=float32)"
      ]
     },
     "execution_count": 63,
     "metadata": {},
     "output_type": "execute_result"
    }
   ],
   "source": [
    "prediction = model.predict(test_x)\n",
    "prediction"
   ]
  },
  {
   "cell_type": "markdown",
   "id": "ccf5eb40",
   "metadata": {},
   "source": [
    "## Confusion Matrix"
   ]
  },
  {
   "cell_type": "code",
   "execution_count": null,
   "id": "3588e6c9",
   "metadata": {},
   "outputs": [],
   "source": [
    "from sklearn.metrics import confusion_matrix\n",
    "import seaborn as sns\n",
    "\n",
    "class_predict = np.argmax(prediction, axis=1)\n",
    "\n",
    "print(len(test_y), len(class_predict))\n",
    "print(\"---------\")\n",
    "matrix = confusion_matrix(test_y, class_predict)\n",
    "print(matrix)\n",
    "print(\"---------\")\n",
    "\n",
    "# Confusion matrix heatmap\n",
    "plt.figure(figsize=(20,20))\n",
    "labels = np.unique(test_y)\n",
    "ax=plt.subplot()\n",
    "sns.heatmap(matrix, annot=True, ax=ax, fmt=',d')\n",
    "ax.set_xlabel(\"predicted labels\")\n",
    "ax.set_ylabel(\"true labels\")\n",
    "ax.set_title(\"confusion matrix\")\n",
    "ax.xaxis.set_ticklabels(labels)\n",
    "ax.yaxis.set_ticklabels(labels)\n",
    "\n",
    "print(\"salofa\")"
   ]
  }
 ],
 "metadata": {
  "kernelspec": {
   "display_name": "Python 3",
   "language": "python",
   "name": "python3"
  },
  "language_info": {
   "codemirror_mode": {
    "name": "ipython",
    "version": 3
   },
   "file_extension": ".py",
   "mimetype": "text/x-python",
   "name": "python",
   "nbconvert_exporter": "python",
   "pygments_lexer": "ipython3",
   "version": "3.12.10"
  }
 },
 "nbformat": 4,
 "nbformat_minor": 5
}
