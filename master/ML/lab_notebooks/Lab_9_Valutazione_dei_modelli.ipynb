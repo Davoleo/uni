{
  "cells": [
    {
      "cell_type": "markdown",
      "metadata": {
        "id": "tEYqjwwMFiZ7"
      },
      "source": [
        "# Valutazione dei modelli\n",
        "\n",
        "In questo laboratorio vedremo diverse tecniche per valutare un modello e come confrontare diversi modelli di ML per scegliere il migliore.\n",
        "\n",
        "Useremo un dataset sul churn recuperato da Kaggle"
      ]
    },
    {
      "cell_type": "code",
      "execution_count": 1,
      "metadata": {
        "id": "TUZzFvW1rH_S"
      },
      "outputs": [],
      "source": [
        "import pandas as pd\n",
        "import numpy as np\n",
        "import scipy.stats as st"
      ]
    },
    {
      "cell_type": "code",
      "execution_count": 2,
      "metadata": {
        "id": "UZf7nMVZFdKg"
      },
      "outputs": [
        {
          "data": {
            "text/html": [
              "<div>\n",
              "<style scoped>\n",
              "    .dataframe tbody tr th:only-of-type {\n",
              "        vertical-align: middle;\n",
              "    }\n",
              "\n",
              "    .dataframe tbody tr th {\n",
              "        vertical-align: top;\n",
              "    }\n",
              "\n",
              "    .dataframe thead th {\n",
              "        text-align: right;\n",
              "    }\n",
              "</style>\n",
              "<table border=\"1\" class=\"dataframe\">\n",
              "  <thead>\n",
              "    <tr style=\"text-align: right;\">\n",
              "      <th></th>\n",
              "      <th>State</th>\n",
              "      <th>Account Length</th>\n",
              "      <th>Area Code</th>\n",
              "      <th>Phone</th>\n",
              "      <th>Int'l Plan</th>\n",
              "      <th>VMail Plan</th>\n",
              "      <th>VMail Message</th>\n",
              "      <th>Day Mins</th>\n",
              "      <th>Day Calls</th>\n",
              "      <th>Day Charge</th>\n",
              "      <th>...</th>\n",
              "      <th>Eve Calls</th>\n",
              "      <th>Eve Charge</th>\n",
              "      <th>Night Mins</th>\n",
              "      <th>Night Calls</th>\n",
              "      <th>Night Charge</th>\n",
              "      <th>Intl Mins</th>\n",
              "      <th>Intl Calls</th>\n",
              "      <th>Intl Charge</th>\n",
              "      <th>CustServ Calls</th>\n",
              "      <th>Churn?</th>\n",
              "    </tr>\n",
              "  </thead>\n",
              "  <tbody>\n",
              "    <tr>\n",
              "      <th>0</th>\n",
              "      <td>KS</td>\n",
              "      <td>128</td>\n",
              "      <td>415</td>\n",
              "      <td>382-4657</td>\n",
              "      <td>no</td>\n",
              "      <td>yes</td>\n",
              "      <td>25</td>\n",
              "      <td>265.1</td>\n",
              "      <td>110</td>\n",
              "      <td>45.07</td>\n",
              "      <td>...</td>\n",
              "      <td>99</td>\n",
              "      <td>16.78</td>\n",
              "      <td>244.7</td>\n",
              "      <td>91</td>\n",
              "      <td>11.01</td>\n",
              "      <td>10.0</td>\n",
              "      <td>3</td>\n",
              "      <td>2.70</td>\n",
              "      <td>1</td>\n",
              "      <td>False.</td>\n",
              "    </tr>\n",
              "    <tr>\n",
              "      <th>1</th>\n",
              "      <td>OH</td>\n",
              "      <td>107</td>\n",
              "      <td>415</td>\n",
              "      <td>371-7191</td>\n",
              "      <td>no</td>\n",
              "      <td>yes</td>\n",
              "      <td>26</td>\n",
              "      <td>161.6</td>\n",
              "      <td>123</td>\n",
              "      <td>27.47</td>\n",
              "      <td>...</td>\n",
              "      <td>103</td>\n",
              "      <td>16.62</td>\n",
              "      <td>254.4</td>\n",
              "      <td>103</td>\n",
              "      <td>11.45</td>\n",
              "      <td>13.7</td>\n",
              "      <td>3</td>\n",
              "      <td>3.70</td>\n",
              "      <td>1</td>\n",
              "      <td>False.</td>\n",
              "    </tr>\n",
              "    <tr>\n",
              "      <th>2</th>\n",
              "      <td>NJ</td>\n",
              "      <td>137</td>\n",
              "      <td>415</td>\n",
              "      <td>358-1921</td>\n",
              "      <td>no</td>\n",
              "      <td>no</td>\n",
              "      <td>0</td>\n",
              "      <td>243.4</td>\n",
              "      <td>114</td>\n",
              "      <td>41.38</td>\n",
              "      <td>...</td>\n",
              "      <td>110</td>\n",
              "      <td>10.30</td>\n",
              "      <td>162.6</td>\n",
              "      <td>104</td>\n",
              "      <td>7.32</td>\n",
              "      <td>12.2</td>\n",
              "      <td>5</td>\n",
              "      <td>3.29</td>\n",
              "      <td>0</td>\n",
              "      <td>False.</td>\n",
              "    </tr>\n",
              "    <tr>\n",
              "      <th>3</th>\n",
              "      <td>OH</td>\n",
              "      <td>84</td>\n",
              "      <td>408</td>\n",
              "      <td>375-9999</td>\n",
              "      <td>yes</td>\n",
              "      <td>no</td>\n",
              "      <td>0</td>\n",
              "      <td>299.4</td>\n",
              "      <td>71</td>\n",
              "      <td>50.90</td>\n",
              "      <td>...</td>\n",
              "      <td>88</td>\n",
              "      <td>5.26</td>\n",
              "      <td>196.9</td>\n",
              "      <td>89</td>\n",
              "      <td>8.86</td>\n",
              "      <td>6.6</td>\n",
              "      <td>7</td>\n",
              "      <td>1.78</td>\n",
              "      <td>2</td>\n",
              "      <td>False.</td>\n",
              "    </tr>\n",
              "    <tr>\n",
              "      <th>4</th>\n",
              "      <td>OK</td>\n",
              "      <td>75</td>\n",
              "      <td>415</td>\n",
              "      <td>330-6626</td>\n",
              "      <td>yes</td>\n",
              "      <td>no</td>\n",
              "      <td>0</td>\n",
              "      <td>166.7</td>\n",
              "      <td>113</td>\n",
              "      <td>28.34</td>\n",
              "      <td>...</td>\n",
              "      <td>122</td>\n",
              "      <td>12.61</td>\n",
              "      <td>186.9</td>\n",
              "      <td>121</td>\n",
              "      <td>8.41</td>\n",
              "      <td>10.1</td>\n",
              "      <td>3</td>\n",
              "      <td>2.73</td>\n",
              "      <td>3</td>\n",
              "      <td>False.</td>\n",
              "    </tr>\n",
              "  </tbody>\n",
              "</table>\n",
              "<p>5 rows × 21 columns</p>\n",
              "</div>"
            ],
            "text/plain": [
              "  State  Account Length  Area Code     Phone Int'l Plan VMail Plan  \\\n",
              "0    KS             128        415  382-4657         no        yes   \n",
              "1    OH             107        415  371-7191         no        yes   \n",
              "2    NJ             137        415  358-1921         no         no   \n",
              "3    OH              84        408  375-9999        yes         no   \n",
              "4    OK              75        415  330-6626        yes         no   \n",
              "\n",
              "   VMail Message  Day Mins  Day Calls  Day Charge  ...  Eve Calls  Eve Charge  \\\n",
              "0             25     265.1        110       45.07  ...         99       16.78   \n",
              "1             26     161.6        123       27.47  ...        103       16.62   \n",
              "2              0     243.4        114       41.38  ...        110       10.30   \n",
              "3              0     299.4         71       50.90  ...         88        5.26   \n",
              "4              0     166.7        113       28.34  ...        122       12.61   \n",
              "\n",
              "   Night Mins  Night Calls  Night Charge  Intl Mins  Intl Calls  Intl Charge  \\\n",
              "0       244.7           91         11.01       10.0           3         2.70   \n",
              "1       254.4          103         11.45       13.7           3         3.70   \n",
              "2       162.6          104          7.32       12.2           5         3.29   \n",
              "3       196.9           89          8.86        6.6           7         1.78   \n",
              "4       186.9          121          8.41       10.1           3         2.73   \n",
              "\n",
              "   CustServ Calls  Churn?  \n",
              "0               1  False.  \n",
              "1               1  False.  \n",
              "2               0  False.  \n",
              "3               2  False.  \n",
              "4               3  False.  \n",
              "\n",
              "[5 rows x 21 columns]"
            ]
          },
          "execution_count": 2,
          "metadata": {},
          "output_type": "execute_result"
        }
      ],
      "source": [
        "# Carica il dataset dal file CSV\n",
        "df = pd.read_csv(\"https://raw.githubusercontent.com/albayraktaroglu/Datasets/master/churn.csv\")\n",
        "\n",
        "# Visualizza le prime righe del dataset\n",
        "df.head()"
      ]
    },
    {
      "cell_type": "markdown",
      "metadata": {
        "id": "cDUmM-5EHBgX"
      },
      "source": [
        "Eliminiamo le prime quattro colonne"
      ]
    },
    {
      "cell_type": "code",
      "execution_count": 3,
      "metadata": {
        "id": "_jZXEmDyG2_p"
      },
      "outputs": [],
      "source": [
        "df.drop([\"Phone\", \"State\", \"Account Length\", \"Area Code\"], axis=1, inplace=True)"
      ]
    },
    {
      "cell_type": "code",
      "execution_count": 4,
      "metadata": {
        "id": "I3LCj3KoHvwJ"
      },
      "outputs": [
        {
          "data": {
            "text/html": [
              "<div>\n",
              "<style scoped>\n",
              "    .dataframe tbody tr th:only-of-type {\n",
              "        vertical-align: middle;\n",
              "    }\n",
              "\n",
              "    .dataframe tbody tr th {\n",
              "        vertical-align: top;\n",
              "    }\n",
              "\n",
              "    .dataframe thead th {\n",
              "        text-align: right;\n",
              "    }\n",
              "</style>\n",
              "<table border=\"1\" class=\"dataframe\">\n",
              "  <thead>\n",
              "    <tr style=\"text-align: right;\">\n",
              "      <th></th>\n",
              "      <th>Int'l Plan</th>\n",
              "      <th>VMail Plan</th>\n",
              "      <th>VMail Message</th>\n",
              "      <th>Day Mins</th>\n",
              "      <th>Day Calls</th>\n",
              "      <th>Day Charge</th>\n",
              "      <th>Eve Mins</th>\n",
              "      <th>Eve Calls</th>\n",
              "      <th>Eve Charge</th>\n",
              "      <th>Night Mins</th>\n",
              "      <th>Night Calls</th>\n",
              "      <th>Night Charge</th>\n",
              "      <th>Intl Mins</th>\n",
              "      <th>Intl Calls</th>\n",
              "      <th>Intl Charge</th>\n",
              "      <th>CustServ Calls</th>\n",
              "      <th>Churn?</th>\n",
              "    </tr>\n",
              "  </thead>\n",
              "  <tbody>\n",
              "    <tr>\n",
              "      <th>0</th>\n",
              "      <td>no</td>\n",
              "      <td>yes</td>\n",
              "      <td>25</td>\n",
              "      <td>265.1</td>\n",
              "      <td>110</td>\n",
              "      <td>45.07</td>\n",
              "      <td>197.4</td>\n",
              "      <td>99</td>\n",
              "      <td>16.78</td>\n",
              "      <td>244.7</td>\n",
              "      <td>91</td>\n",
              "      <td>11.01</td>\n",
              "      <td>10.0</td>\n",
              "      <td>3</td>\n",
              "      <td>2.70</td>\n",
              "      <td>1</td>\n",
              "      <td>False.</td>\n",
              "    </tr>\n",
              "    <tr>\n",
              "      <th>1</th>\n",
              "      <td>no</td>\n",
              "      <td>yes</td>\n",
              "      <td>26</td>\n",
              "      <td>161.6</td>\n",
              "      <td>123</td>\n",
              "      <td>27.47</td>\n",
              "      <td>195.5</td>\n",
              "      <td>103</td>\n",
              "      <td>16.62</td>\n",
              "      <td>254.4</td>\n",
              "      <td>103</td>\n",
              "      <td>11.45</td>\n",
              "      <td>13.7</td>\n",
              "      <td>3</td>\n",
              "      <td>3.70</td>\n",
              "      <td>1</td>\n",
              "      <td>False.</td>\n",
              "    </tr>\n",
              "    <tr>\n",
              "      <th>2</th>\n",
              "      <td>no</td>\n",
              "      <td>no</td>\n",
              "      <td>0</td>\n",
              "      <td>243.4</td>\n",
              "      <td>114</td>\n",
              "      <td>41.38</td>\n",
              "      <td>121.2</td>\n",
              "      <td>110</td>\n",
              "      <td>10.30</td>\n",
              "      <td>162.6</td>\n",
              "      <td>104</td>\n",
              "      <td>7.32</td>\n",
              "      <td>12.2</td>\n",
              "      <td>5</td>\n",
              "      <td>3.29</td>\n",
              "      <td>0</td>\n",
              "      <td>False.</td>\n",
              "    </tr>\n",
              "    <tr>\n",
              "      <th>3</th>\n",
              "      <td>yes</td>\n",
              "      <td>no</td>\n",
              "      <td>0</td>\n",
              "      <td>299.4</td>\n",
              "      <td>71</td>\n",
              "      <td>50.90</td>\n",
              "      <td>61.9</td>\n",
              "      <td>88</td>\n",
              "      <td>5.26</td>\n",
              "      <td>196.9</td>\n",
              "      <td>89</td>\n",
              "      <td>8.86</td>\n",
              "      <td>6.6</td>\n",
              "      <td>7</td>\n",
              "      <td>1.78</td>\n",
              "      <td>2</td>\n",
              "      <td>False.</td>\n",
              "    </tr>\n",
              "    <tr>\n",
              "      <th>4</th>\n",
              "      <td>yes</td>\n",
              "      <td>no</td>\n",
              "      <td>0</td>\n",
              "      <td>166.7</td>\n",
              "      <td>113</td>\n",
              "      <td>28.34</td>\n",
              "      <td>148.3</td>\n",
              "      <td>122</td>\n",
              "      <td>12.61</td>\n",
              "      <td>186.9</td>\n",
              "      <td>121</td>\n",
              "      <td>8.41</td>\n",
              "      <td>10.1</td>\n",
              "      <td>3</td>\n",
              "      <td>2.73</td>\n",
              "      <td>3</td>\n",
              "      <td>False.</td>\n",
              "    </tr>\n",
              "  </tbody>\n",
              "</table>\n",
              "</div>"
            ],
            "text/plain": [
              "  Int'l Plan VMail Plan  VMail Message  Day Mins  Day Calls  Day Charge  \\\n",
              "0         no        yes             25     265.1        110       45.07   \n",
              "1         no        yes             26     161.6        123       27.47   \n",
              "2         no         no              0     243.4        114       41.38   \n",
              "3        yes         no              0     299.4         71       50.90   \n",
              "4        yes         no              0     166.7        113       28.34   \n",
              "\n",
              "   Eve Mins  Eve Calls  Eve Charge  Night Mins  Night Calls  Night Charge  \\\n",
              "0     197.4         99       16.78       244.7           91         11.01   \n",
              "1     195.5        103       16.62       254.4          103         11.45   \n",
              "2     121.2        110       10.30       162.6          104          7.32   \n",
              "3      61.9         88        5.26       196.9           89          8.86   \n",
              "4     148.3        122       12.61       186.9          121          8.41   \n",
              "\n",
              "   Intl Mins  Intl Calls  Intl Charge  CustServ Calls  Churn?  \n",
              "0       10.0           3         2.70               1  False.  \n",
              "1       13.7           3         3.70               1  False.  \n",
              "2       12.2           5         3.29               0  False.  \n",
              "3        6.6           7         1.78               2  False.  \n",
              "4       10.1           3         2.73               3  False.  "
            ]
          },
          "execution_count": 4,
          "metadata": {},
          "output_type": "execute_result"
        }
      ],
      "source": [
        "df.head()"
      ]
    },
    {
      "cell_type": "code",
      "execution_count": 5,
      "metadata": {
        "id": "89WwKYpJHyTR"
      },
      "outputs": [
        {
          "data": {
            "text/plain": [
              "Int'l Plan         object\n",
              "VMail Plan         object\n",
              "VMail Message       int64\n",
              "Day Mins          float64\n",
              "Day Calls           int64\n",
              "Day Charge        float64\n",
              "Eve Mins          float64\n",
              "Eve Calls           int64\n",
              "Eve Charge        float64\n",
              "Night Mins        float64\n",
              "Night Calls         int64\n",
              "Night Charge      float64\n",
              "Intl Mins         float64\n",
              "Intl Calls          int64\n",
              "Intl Charge       float64\n",
              "CustServ Calls      int64\n",
              "Churn?             object\n",
              "dtype: object"
            ]
          },
          "execution_count": 5,
          "metadata": {},
          "output_type": "execute_result"
        }
      ],
      "source": [
        "df.dtypes"
      ]
    },
    {
      "cell_type": "markdown",
      "metadata": {
        "id": "BUZ0sY6gJLKA"
      },
      "source": [
        "Applichiamo il label encoding per convertire le colonne categoriche in numeriche, in quanto è necessario per allenare un modello SVM"
      ]
    },
    {
      "cell_type": "code",
      "execution_count": 6,
      "metadata": {
        "id": "ZfrVtYgHHNM-"
      },
      "outputs": [
        {
          "data": {
            "text/html": [
              "<div>\n",
              "<style scoped>\n",
              "    .dataframe tbody tr th:only-of-type {\n",
              "        vertical-align: middle;\n",
              "    }\n",
              "\n",
              "    .dataframe tbody tr th {\n",
              "        vertical-align: top;\n",
              "    }\n",
              "\n",
              "    .dataframe thead th {\n",
              "        text-align: right;\n",
              "    }\n",
              "</style>\n",
              "<table border=\"1\" class=\"dataframe\">\n",
              "  <thead>\n",
              "    <tr style=\"text-align: right;\">\n",
              "      <th></th>\n",
              "      <th>Int'l Plan</th>\n",
              "      <th>VMail Plan</th>\n",
              "      <th>VMail Message</th>\n",
              "      <th>Day Mins</th>\n",
              "      <th>Day Calls</th>\n",
              "      <th>Day Charge</th>\n",
              "      <th>Eve Mins</th>\n",
              "      <th>Eve Calls</th>\n",
              "      <th>Eve Charge</th>\n",
              "      <th>Night Mins</th>\n",
              "      <th>Night Calls</th>\n",
              "      <th>Night Charge</th>\n",
              "      <th>Intl Mins</th>\n",
              "      <th>Intl Calls</th>\n",
              "      <th>Intl Charge</th>\n",
              "      <th>CustServ Calls</th>\n",
              "      <th>Churn?</th>\n",
              "    </tr>\n",
              "  </thead>\n",
              "  <tbody>\n",
              "    <tr>\n",
              "      <th>0</th>\n",
              "      <td>0</td>\n",
              "      <td>1</td>\n",
              "      <td>25</td>\n",
              "      <td>265.1</td>\n",
              "      <td>110</td>\n",
              "      <td>45.07</td>\n",
              "      <td>197.4</td>\n",
              "      <td>99</td>\n",
              "      <td>16.78</td>\n",
              "      <td>244.7</td>\n",
              "      <td>91</td>\n",
              "      <td>11.01</td>\n",
              "      <td>10.0</td>\n",
              "      <td>3</td>\n",
              "      <td>2.70</td>\n",
              "      <td>1</td>\n",
              "      <td>0</td>\n",
              "    </tr>\n",
              "    <tr>\n",
              "      <th>1</th>\n",
              "      <td>0</td>\n",
              "      <td>1</td>\n",
              "      <td>26</td>\n",
              "      <td>161.6</td>\n",
              "      <td>123</td>\n",
              "      <td>27.47</td>\n",
              "      <td>195.5</td>\n",
              "      <td>103</td>\n",
              "      <td>16.62</td>\n",
              "      <td>254.4</td>\n",
              "      <td>103</td>\n",
              "      <td>11.45</td>\n",
              "      <td>13.7</td>\n",
              "      <td>3</td>\n",
              "      <td>3.70</td>\n",
              "      <td>1</td>\n",
              "      <td>0</td>\n",
              "    </tr>\n",
              "    <tr>\n",
              "      <th>2</th>\n",
              "      <td>0</td>\n",
              "      <td>0</td>\n",
              "      <td>0</td>\n",
              "      <td>243.4</td>\n",
              "      <td>114</td>\n",
              "      <td>41.38</td>\n",
              "      <td>121.2</td>\n",
              "      <td>110</td>\n",
              "      <td>10.30</td>\n",
              "      <td>162.6</td>\n",
              "      <td>104</td>\n",
              "      <td>7.32</td>\n",
              "      <td>12.2</td>\n",
              "      <td>5</td>\n",
              "      <td>3.29</td>\n",
              "      <td>0</td>\n",
              "      <td>0</td>\n",
              "    </tr>\n",
              "    <tr>\n",
              "      <th>3</th>\n",
              "      <td>1</td>\n",
              "      <td>0</td>\n",
              "      <td>0</td>\n",
              "      <td>299.4</td>\n",
              "      <td>71</td>\n",
              "      <td>50.90</td>\n",
              "      <td>61.9</td>\n",
              "      <td>88</td>\n",
              "      <td>5.26</td>\n",
              "      <td>196.9</td>\n",
              "      <td>89</td>\n",
              "      <td>8.86</td>\n",
              "      <td>6.6</td>\n",
              "      <td>7</td>\n",
              "      <td>1.78</td>\n",
              "      <td>2</td>\n",
              "      <td>0</td>\n",
              "    </tr>\n",
              "    <tr>\n",
              "      <th>4</th>\n",
              "      <td>1</td>\n",
              "      <td>0</td>\n",
              "      <td>0</td>\n",
              "      <td>166.7</td>\n",
              "      <td>113</td>\n",
              "      <td>28.34</td>\n",
              "      <td>148.3</td>\n",
              "      <td>122</td>\n",
              "      <td>12.61</td>\n",
              "      <td>186.9</td>\n",
              "      <td>121</td>\n",
              "      <td>8.41</td>\n",
              "      <td>10.1</td>\n",
              "      <td>3</td>\n",
              "      <td>2.73</td>\n",
              "      <td>3</td>\n",
              "      <td>0</td>\n",
              "    </tr>\n",
              "  </tbody>\n",
              "</table>\n",
              "</div>"
            ],
            "text/plain": [
              "   Int'l Plan  VMail Plan  VMail Message  Day Mins  Day Calls  Day Charge  \\\n",
              "0           0           1             25     265.1        110       45.07   \n",
              "1           0           1             26     161.6        123       27.47   \n",
              "2           0           0              0     243.4        114       41.38   \n",
              "3           1           0              0     299.4         71       50.90   \n",
              "4           1           0              0     166.7        113       28.34   \n",
              "\n",
              "   Eve Mins  Eve Calls  Eve Charge  Night Mins  Night Calls  Night Charge  \\\n",
              "0     197.4         99       16.78       244.7           91         11.01   \n",
              "1     195.5        103       16.62       254.4          103         11.45   \n",
              "2     121.2        110       10.30       162.6          104          7.32   \n",
              "3      61.9         88        5.26       196.9           89          8.86   \n",
              "4     148.3        122       12.61       186.9          121          8.41   \n",
              "\n",
              "   Intl Mins  Intl Calls  Intl Charge  CustServ Calls  Churn?  \n",
              "0       10.0           3         2.70               1       0  \n",
              "1       13.7           3         3.70               1       0  \n",
              "2       12.2           5         3.29               0       0  \n",
              "3        6.6           7         1.78               2       0  \n",
              "4       10.1           3         2.73               3       0  "
            ]
          },
          "execution_count": 6,
          "metadata": {},
          "output_type": "execute_result"
        }
      ],
      "source": [
        "from sklearn.preprocessing import LabelEncoder\n",
        "\n",
        "df[\"Int'l Plan\"] = df[\"Int'l Plan\"].astype(\"category\")\n",
        "df[\"VMail Plan\"] = df[\"VMail Plan\"].astype(\"category\")\n",
        "df[\"Churn?\"] = df[\"Churn?\"].astype(\"category\")\n",
        "\n",
        "# Applica il LabelEncoder alle colonne categoriche\n",
        "for col in [\"Int'l Plan\", \"VMail Plan\", \"Churn?\"]:\n",
        "    le = LabelEncoder()\n",
        "    df[col] = le.fit_transform(df[col])\n",
        "\n",
        "# Stampa il dataset trasformato\n",
        "df.head()"
      ]
    },
    {
      "cell_type": "code",
      "execution_count": 7,
      "metadata": {
        "id": "ztaEiRjLHX0U"
      },
      "outputs": [
        {
          "data": {
            "text/plain": [
              "Int'l Plan          int32\n",
              "VMail Plan          int32\n",
              "VMail Message       int64\n",
              "Day Mins          float64\n",
              "Day Calls           int64\n",
              "Day Charge        float64\n",
              "Eve Mins          float64\n",
              "Eve Calls           int64\n",
              "Eve Charge        float64\n",
              "Night Mins        float64\n",
              "Night Calls         int64\n",
              "Night Charge      float64\n",
              "Intl Mins         float64\n",
              "Intl Calls          int64\n",
              "Intl Charge       float64\n",
              "CustServ Calls      int64\n",
              "Churn?              int32\n",
              "dtype: object"
            ]
          },
          "execution_count": 7,
          "metadata": {},
          "output_type": "execute_result"
        }
      ],
      "source": [
        "df.dtypes"
      ]
    },
    {
      "cell_type": "code",
      "execution_count": 8,
      "metadata": {
        "id": "q6iRpMRpH2f2"
      },
      "outputs": [
        {
          "name": "stdout",
          "output_type": "stream",
          "text": [
            "Dimensione dati di addestramento: (2666, 16)\n",
            "Dimensione dati di test: (667, 16)\n"
          ]
        }
      ],
      "source": [
        "from sklearn.model_selection import train_test_split\n",
        "\n",
        "X_train, X_test, y_train, y_test = train_test_split(df.drop('Churn?', axis=1), df['Churn?'], test_size=0.2, stratify=df['Churn?'], random_state=42)\n",
        "\n",
        "# Stampa la dimensione dei dati di addestramento e dei dati di test\n",
        "print('Dimensione dati di addestramento:', X_train.shape)\n",
        "print('Dimensione dati di test:', X_test.shape)"
      ]
    },
    {
      "cell_type": "markdown",
      "metadata": {
        "id": "UehTwwSAIYay"
      },
      "source": [
        "Alleniamo una SVM e calcoliamo le performance"
      ]
    },
    {
      "cell_type": "code",
      "execution_count": 9,
      "metadata": {
        "id": "iK241iywIOv8"
      },
      "outputs": [
        {
          "name": "stdout",
          "output_type": "stream",
          "text": [
            "Accuracy: 0.856071964017991\n",
            "Precision: 1.0\n",
            "Recall: 0.010309278350515464\n",
            "F1-score: 0.02040816326530612\n"
          ]
        }
      ],
      "source": [
        "from sklearn.svm import SVC\n",
        "from sklearn.metrics import accuracy_score, precision_score, recall_score, f1_score\n",
        "import pandas as pd\n",
        "\n",
        "# Addestra la SVM\n",
        "svm = SVC(random_state=42)\n",
        "svm.fit(X_train, y_train)\n",
        "\n",
        "# Valuta il modello utilizzando i dati di test\n",
        "y_pred = svm.predict(X_test)\n",
        "accuracy_train_test = accuracy_score(y_test, y_pred)\n",
        "precision = precision_score(y_test, y_pred)\n",
        "recall = recall_score(y_test, y_pred)\n",
        "f1 = f1_score(y_test, y_pred)\n",
        "\n",
        "# Stampa le prestazioni del modello\n",
        "print('Accuracy:', accuracy_train_test)\n",
        "print('Precision:', precision)\n",
        "print('Recall:', recall)\n",
        "print('F1-score:', f1)"
      ]
    },
    {
      "cell_type": "code",
      "execution_count": 10,
      "metadata": {
        "id": "4EIVWmXGJ9tT"
      },
      "outputs": [
        {
          "data": {
            "text/plain": [
              "array([[570,  96],\n",
              "       [  0,   1]], dtype=int64)"
            ]
          },
          "execution_count": 10,
          "metadata": {},
          "output_type": "execute_result"
        }
      ],
      "source": [
        "from sklearn.metrics import confusion_matrix\n",
        "\n",
        "confusion_matrix(y_pred, y_test)"
      ]
    },
    {
      "cell_type": "code",
      "execution_count": 11,
      "metadata": {
        "id": "78mrF0xsKYH5"
      },
      "outputs": [
        {
          "name": "stdout",
          "output_type": "stream",
          "text": [
            "              precision    recall  f1-score   support\n",
            "\n",
            "           0       1.00      0.86      0.92       666\n",
            "           1       0.01      1.00      0.02         1\n",
            "\n",
            "    accuracy                           0.86       667\n",
            "   macro avg       0.51      0.93      0.47       667\n",
            "weighted avg       1.00      0.86      0.92       667\n",
            "\n"
          ]
        }
      ],
      "source": [
        "from sklearn.metrics import classification_report\n",
        "\n",
        "print(classification_report(y_pred, y_test))"
      ]
    },
    {
      "cell_type": "markdown",
      "metadata": {
        "id": "B7Wrh-wbKyU_"
      },
      "source": [
        "Essendo un problema sbilanciato, l'accuratezza è fuorviante. Bisogna analizzare altre metriche, come precision, recall e f1-score."
      ]
    },
    {
      "cell_type": "markdown",
      "metadata": {
        "id": "9Gz4p_S7L4No"
      },
      "source": [
        "Vediamo ora un altro metodo per valutare le performance di un classificatore: la curva ROC."
      ]
    },
    {
      "cell_type": "code",
      "execution_count": 12,
      "metadata": {
        "id": "2pznoxUiKtZn"
      },
      "outputs": [
        {
          "data": {
            "image/png": "[encoded data removed]",
            "text/plain": [
              "<Figure size 640x480 with 1 Axes>"
            ]
          },
          "metadata": {},
          "output_type": "display_data"
        }
      ],
      "source": [
        "from sklearn.metrics import roc_curve, roc_auc_score\n",
        "import matplotlib.pyplot as plt\n",
        "\n",
        "# Calcola le probabilità di predizione del modello\n",
        "svm = SVC(kernel='linear', C=1, random_state=42, probability=True)\n",
        "svm.fit(X_train, y_train)\n",
        "y_pred_prob = svm.predict_proba(X_test)[:, 1]\n",
        "\n",
        "# Calcola la curva ROC\n",
        "fpr, tpr, thresholds = roc_curve(y_test, y_pred_prob)\n",
        "\n",
        "# Calcola l'AUC della curva ROC\n",
        "roc_auc = roc_auc_score(y_test, y_pred_prob)\n",
        "\n",
        "# Disegna la curva ROC\n",
        "plt.plot(fpr, tpr, label='ROC curve (area = %0.2f)' % roc_auc)\n",
        "plt.plot([0, 1], [0, 1], 'k--')\n",
        "plt.xlim([0.0, 1.0])\n",
        "plt.ylim([0.0, 1.05])\n",
        "plt.xlabel('False Positive Rate')\n",
        "plt.ylabel('True Positive Rate')\n",
        "plt.title('Receiver operating characteristic')\n",
        "plt.legend(loc=\"lower right\")\n",
        "plt.show()"
      ]
    },
    {
      "cell_type": "markdown",
      "metadata": {
        "id": "dCTr1weJMlMb"
      },
      "source": [
        "La curva ROC può essere usata per comparare diversi modelli di ML per capire quale è migliore. Facciamo il training di un albero decisionale e confrontiamo quest'ultimo con l'SVM precedentemente allenato."
      ]
    },
    {
      "cell_type": "code",
      "execution_count": 13,
      "metadata": {
        "id": "T0VdMPmfLsJt"
      },
      "outputs": [
        {
          "data": {
            "image/png": "[encoded data removed]",
            "text/plain": [
              "<Figure size 640x480 with 1 Axes>"
            ]
          },
          "metadata": {},
          "output_type": "display_data"
        }
      ],
      "source": [
        "from sklearn.tree import DecisionTreeClassifier\n",
        "\n",
        "y_svm_pred_prob = y_pred_prob\n",
        "\n",
        "# Addestra l'albero decisionale\n",
        "dt = DecisionTreeClassifier(max_depth=3, random_state=42)\n",
        "dt.fit(X_train, y_train)\n",
        "\n",
        "# Calcola la curva ROC e l'AUC della SVM\n",
        "fpr_svm, tpr_svm, thresholds_svm = roc_curve(y_test, y_svm_pred_prob)\n",
        "auc_svm = roc_auc_score(y_test, y_svm_pred_prob)\n",
        "\n",
        "# Calcola le probabilità di predizione del modello dell'albero decisionale utilizzando predict_proba\n",
        "y_dt_pred_prob = dt.predict_proba(X_test)[:, 1]\n",
        "\n",
        "# Calcola la curva ROC e l'AUC dell'albero decisionale\n",
        "fpr_dt, tpr_dt, thresholds_dt = roc_curve(y_test, y_dt_pred_prob)\n",
        "auc_dt = roc_auc_score(y_test, y_dt_pred_prob)\n",
        "\n",
        "# Plotta la curva ROC dei due modelli per comparare le performance\n",
        "plt.plot(fpr_svm, tpr_svm, label=f'SVM (AUC = {auc_svm:.2f})')\n",
        "plt.plot(fpr_dt, tpr_dt, label=f'Decision Tree (AUC = {auc_dt:.2f})')\n",
        "plt.plot([0, 1], [0, 1], 'k--')\n",
        "plt.xlabel('False Positive Rate')\n",
        "plt.ylabel('True Positive Rate')\n",
        "plt.title('ROC Curve')\n",
        "plt.legend()\n",
        "plt.show()"
      ]
    },
    {
      "cell_type": "markdown",
      "metadata": {
        "id": "vy5A5BifNt4B"
      },
      "source": [
        "Due o più modelli possono anche essere comparati in termini di tempo impiegato in fase di training."
      ]
    },
    {
      "cell_type": "code",
      "execution_count": 14,
      "metadata": {
        "colab": {
          "base_uri": "https://localhost:8080/"
        },
        "id": "UF3zZduwNKgd",
        "outputId": "99b7925e-9bf3-47db-cfed-6f612b776fee"
      },
      "outputs": [
        {
          "name": "stdout",
          "output_type": "stream",
          "text": [
            "Tempo di training SVM: 31.84 secondi\n",
            "Tempo di training Decision Tree: 0.01 secondi\n"
          ]
        }
      ],
      "source": [
        "from time import time\n",
        "\n",
        "# Addestra la SVM e calcola il tempo di training\n",
        "start_time = time()\n",
        "svm = SVC(kernel='linear', C=1, random_state=42)\n",
        "svm.fit(X_train, y_train)\n",
        "end_time = time()\n",
        "svm_training_time = end_time - start_time\n",
        "\n",
        "# Addestra l'albero decisionale e calcola il tempo di training\n",
        "start_time = time()\n",
        "dt = DecisionTreeClassifier(max_depth=3, random_state=42)\n",
        "dt.fit(X_train, y_train)\n",
        "end_time = time()\n",
        "dt_training_time = end_time - start_time\n",
        "\n",
        "# Stampa il tempo di training dei due modelli\n",
        "print(f'Tempo di training SVM: {svm_training_time:.2f} secondi')\n",
        "print(f'Tempo di training Decision Tree: {dt_training_time:.2f} secondi')"
      ]
    },
    {
      "cell_type": "markdown",
      "metadata": {
        "id": "GgWw9MPQEtO7"
      },
      "source": [
        "# 10-fold Cross-Validation"
      ]
    },
    {
      "cell_type": "code",
      "execution_count": 15,
      "metadata": {
        "id": "wzgiH-Q7DeQi"
      },
      "outputs": [],
      "source": [
        "from sklearn.model_selection import KFold,StratifiedKFold"
      ]
    },
    {
      "cell_type": "code",
      "execution_count": 16,
      "metadata": {
        "id": "P--cMB66DjjB"
      },
      "outputs": [],
      "source": [
        "n_fold = 10\n",
        "folds = KFold(n_splits=n_fold, shuffle=True)"
      ]
    },
    {
      "cell_type": "code",
      "execution_count": 17,
      "metadata": {
        "id": "qXmhYA7YGQek"
      },
      "outputs": [],
      "source": [
        "y=df['Churn?']\n",
        "df = df.drop('Churn?', axis=1)"
      ]
    },
    {
      "cell_type": "code",
      "execution_count": 18,
      "metadata": {
        "id": "PeNQ26CFDl2Y"
      },
      "outputs": [],
      "source": [
        "test_pred_proba = np.zeros((df.shape[0], 2))\n",
        "accuracy_k_fold = []\n",
        "\n",
        "for n_fold, (train_idx, valid_idx) in enumerate(folds.split(df, y)):\n",
        "        X_train, X_valid = df.iloc[train_idx], df.iloc[valid_idx]\n",
        "        y_train, y_valid = y[train_idx], y[valid_idx]\n",
        "\n",
        "        model = DecisionTreeClassifier(max_depth=3, random_state=42)\n",
        "        model.fit(X_train, y_train)\n",
        "\n",
        "        y_pred_valid = model.predict(X_valid)\n",
        "        accuracy_k_fold.append(accuracy_score(y_valid,y_pred_valid))"
      ]
    },
    {
      "cell_type": "code",
      "execution_count": 19,
      "metadata": {
        "id": "V-UOxcwyEf5y"
      },
      "outputs": [
        {
          "data": {
            "text/plain": [
              "[0.8592814371257484,\n",
              " 0.9101796407185628,\n",
              " 0.9131736526946108,\n",
              " 0.8828828828828829,\n",
              " 0.8888888888888888,\n",
              " 0.9309309309309309,\n",
              " 0.9219219219219219,\n",
              " 0.8978978978978979,\n",
              " 0.9219219219219219,\n",
              " 0.8948948948948949]"
            ]
          },
          "execution_count": 19,
          "metadata": {},
          "output_type": "execute_result"
        }
      ],
      "source": [
        "accuracy_k_fold"
      ]
    },
    {
      "cell_type": "code",
      "execution_count": 20,
      "metadata": {
        "id": "Q_vJeHeAraOB"
      },
      "outputs": [
        {
          "data": {
            "text/plain": [
              "(0.8895980495688628, 0.9147967644067895)"
            ]
          },
          "execution_count": 20,
          "metadata": {},
          "output_type": "execute_result"
        }
      ],
      "source": [
        "st.t.interval(confidence=0.90, df=len(accuracy_k_fold)-1, loc=np.mean(accuracy_k_fold), scale=st.sem(accuracy_k_fold))"
      ]
    },
    {
      "cell_type": "markdown",
      "metadata": {
        "id": "6C7IOyxAEzgA"
      },
      "source": [
        "# Stratified Cross-validation"
      ]
    },
    {
      "cell_type": "code",
      "execution_count": 21,
      "metadata": {
        "id": "ajKPaPwkEneP"
      },
      "outputs": [],
      "source": [
        "n_fold = 10\n",
        "folds = StratifiedKFold(n_splits=n_fold, shuffle=True)"
      ]
    },
    {
      "cell_type": "code",
      "execution_count": 22,
      "metadata": {
        "id": "xc1Rh_wUFIqL"
      },
      "outputs": [],
      "source": [
        "accuracy_stratified = []\n",
        "\n",
        "for n_fold, (train_idx, valid_idx) in enumerate(folds.split(df, y)):\n",
        "        X_train, X_valid = df.iloc[train_idx], df.iloc[valid_idx]\n",
        "        y_train, y_valid = y[train_idx], y[valid_idx]\n",
        "\n",
        "        model = DecisionTreeClassifier(max_depth=3, random_state=42)\n",
        "        model.fit(X_train, y_train)\n",
        "\n",
        "        y_pred_valid = model.predict(X_valid)\n",
        "        accuracy_stratified.append(accuracy_score(y_valid,y_pred_valid))"
      ]
    },
    {
      "cell_type": "code",
      "execution_count": 23,
      "metadata": {
        "id": "fNK5g-8JFbLo"
      },
      "outputs": [
        {
          "data": {
            "text/plain": [
              "[0.8982035928143712,\n",
              " 0.9041916167664671,\n",
              " 0.8832335329341318,\n",
              " 0.8978978978978979,\n",
              " 0.9069069069069069,\n",
              " 0.9009009009009009,\n",
              " 0.9069069069069069,\n",
              " 0.8978978978978979,\n",
              " 0.9069069069069069,\n",
              " 0.9219219219219219]"
            ]
          },
          "execution_count": 23,
          "metadata": {},
          "output_type": "execute_result"
        }
      ],
      "source": [
        "accuracy_stratified"
      ]
    },
    {
      "cell_type": "code",
      "execution_count": 24,
      "metadata": {
        "id": "-X7lOBR5rVug"
      },
      "outputs": [
        {
          "data": {
            "text/plain": [
              "(0.8967879155697605, 0.9082057008011011)"
            ]
          },
          "execution_count": 24,
          "metadata": {},
          "output_type": "execute_result"
        }
      ],
      "source": [
        "st.t.interval(confidence=0.90, df=len(accuracy_stratified)-1, loc=np.mean(accuracy_stratified), scale=st.sem(accuracy_stratified))"
      ]
    },
    {
      "cell_type": "markdown",
      "metadata": {
        "id": "rjB1WHS2G7Ag"
      },
      "source": [
        "# Leave-One-Out"
      ]
    },
    {
      "cell_type": "code",
      "execution_count": 25,
      "metadata": {
        "id": "lD-aOFS2G6XT"
      },
      "outputs": [],
      "source": [
        "from sklearn.model_selection import LeaveOneOut\n",
        "from sklearn.model_selection import cross_val_score"
      ]
    },
    {
      "cell_type": "code",
      "execution_count": 26,
      "metadata": {
        "id": "1q4B3pb2aI6S"
      },
      "outputs": [],
      "source": [
        "loocv = LeaveOneOut()\n",
        "model = DecisionTreeClassifier(max_depth=3, random_state=42)\n",
        "results = cross_val_score(model, df, y, cv=loocv)"
      ]
    },
    {
      "cell_type": "code",
      "execution_count": 27,
      "metadata": {
        "id": "AQmYWHjgaLU9"
      },
      "outputs": [
        {
          "data": {
            "text/plain": [
              "array([1., 1., 1., ..., 1., 1., 1.])"
            ]
          },
          "execution_count": 27,
          "metadata": {},
          "output_type": "execute_result"
        }
      ],
      "source": [
        "results"
      ]
    },
    {
      "cell_type": "code",
      "execution_count": 28,
      "metadata": {
        "id": "jRArhUDGaO2h"
      },
      "outputs": [
        {
          "data": {
            "text/plain": [
              "0.9042904290429042"
            ]
          },
          "execution_count": 28,
          "metadata": {},
          "output_type": "execute_result"
        }
      ],
      "source": [
        "results.mean()"
      ]
    },
    {
      "cell_type": "markdown",
      "metadata": {
        "id": "sur-0nG9gs4v"
      },
      "source": [
        "# Repeated cv"
      ]
    },
    {
      "cell_type": "code",
      "execution_count": 29,
      "metadata": {
        "id": "iZ0WYVCGgsH0"
      },
      "outputs": [],
      "source": [
        "from sklearn.model_selection import RepeatedKFold"
      ]
    },
    {
      "cell_type": "code",
      "execution_count": 30,
      "metadata": {
        "id": "p5m5q64lnnVj"
      },
      "outputs": [
        {
          "data": {
            "text/plain": [
              "50"
            ]
          },
          "execution_count": 30,
          "metadata": {},
          "output_type": "execute_result"
        }
      ],
      "source": [
        "rkf = RepeatedKFold(n_splits=10, n_repeats=5, random_state=42)\n",
        "rkf.get_n_splits(df, y)"
      ]
    },
    {
      "cell_type": "code",
      "execution_count": 31,
      "metadata": {
        "id": "2ugjnTCHgyGR"
      },
      "outputs": [],
      "source": [
        "accuracy_repeated_cv = []\n",
        "for n_fold, (train_idx, valid_idx) in enumerate(rkf.split(df, y)):\n",
        "        X_train, X_valid = df.iloc[train_idx], df.iloc[valid_idx]\n",
        "        y_train, y_valid = y[train_idx], y[valid_idx]\n",
        "\n",
        "        model = DecisionTreeClassifier(max_depth=3, random_state=42)\n",
        "        model.fit(X_train, y_train)\n",
        "\n",
        "        y_pred_valid = model.predict(X_valid)\n",
        "        accuracy_repeated_cv.append(accuracy_score(y_valid,y_pred_valid))"
      ]
    },
    {
      "cell_type": "code",
      "execution_count": 32,
      "metadata": {
        "id": "WaYt_kWGn0xU"
      },
      "outputs": [
        {
          "data": {
            "text/plain": [
              "[0.8832335329341318,\n",
              " 0.9041916167664671,\n",
              " 0.9101796407185628,\n",
              " 0.8858858858858859,\n",
              " 0.9039039039039038,\n",
              " 0.9069069069069069,\n",
              " 0.9219219219219219,\n",
              " 0.918918918918919,\n",
              " 0.8978978978978979,\n",
              " 0.9009009009009009,\n",
              " 0.9401197604790419,\n",
              " 0.8952095808383234,\n",
              " 0.907185628742515,\n",
              " 0.9009009009009009,\n",
              " 0.8558558558558559,\n",
              " 0.918918918918919,\n",
              " 0.8858858858858859,\n",
              " 0.9009009009009009,\n",
              " 0.93993993993994,\n",
              " 0.8888888888888888,\n",
              " 0.9281437125748503,\n",
              " 0.9101796407185628,\n",
              " 0.8982035928143712,\n",
              " 0.8888888888888888,\n",
              " 0.8948948948948949,\n",
              " 0.8978978978978979,\n",
              " 0.9009009009009009,\n",
              " 0.9009009009009009,\n",
              " 0.8948948948948949,\n",
              " 0.8978978978978979,\n",
              " 0.907185628742515,\n",
              " 0.8832335329341318,\n",
              " 0.9161676646706587,\n",
              " 0.8918918918918919,\n",
              " 0.9039039039039038,\n",
              " 0.8828828828828829,\n",
              " 0.8978978978978979,\n",
              " 0.9069069069069069,\n",
              " 0.9039039039039038,\n",
              " 0.9069069069069069,\n",
              " 0.9251497005988024,\n",
              " 0.9041916167664671,\n",
              " 0.9041916167664671,\n",
              " 0.8828828828828829,\n",
              " 0.9099099099099099,\n",
              " 0.918918918918919,\n",
              " 0.8708708708708709,\n",
              " 0.9369369369369369,\n",
              " 0.8948948948948949,\n",
              " 0.8858858858858859]"
            ]
          },
          "execution_count": 32,
          "metadata": {},
          "output_type": "execute_result"
        }
      ],
      "source": [
        "accuracy_repeated_cv"
      ]
    },
    {
      "cell_type": "code",
      "execution_count": 33,
      "metadata": {
        "colab": {
          "base_uri": "https://localhost:8080/"
        },
        "id": "xleYtnAXoWR6",
        "outputId": "adfa3cb6-7ecb-4902-b8ed-93d7547d2989"
      },
      "outputs": [
        {
          "data": {
            "text/plain": [
              "(0.8984173351510224, 0.9061932634715525)"
            ]
          },
          "execution_count": 33,
          "metadata": {},
          "output_type": "execute_result"
        }
      ],
      "source": [
        "# create 95% confidence interval\n",
        "st.t.interval(confidence=0.90, df=len(accuracy_repeated_cv)-1, loc=np.mean(accuracy_repeated_cv), scale=st.sem(accuracy_repeated_cv))"
      ]
    },
    {
      "cell_type": "code",
      "execution_count": 34,
      "metadata": {
        "id": "zbm2Zh3Nu9Yz"
      },
      "outputs": [
        {
          "data": {
            "image/png": "[encoded data removed]",
            "text/plain": [
              "<Figure size 640x480 with 1 Axes>"
            ]
          },
          "metadata": {},
          "output_type": "display_data"
        }
      ],
      "source": [
        "import numpy as np\n",
        "import matplotlib.pyplot as plt\n",
        "from scipy import stats\n",
        "\n",
        "# Calculate mean and confidence interval on repeated k-fold\n",
        "mean_value = np.mean(accuracy_repeated_cv)\n",
        "confidence_interval = stats.t.interval(0.95, len(accuracy_repeated_cv)-1, loc=np.mean(accuracy_repeated_cv), scale=stats.sem(accuracy_repeated_cv))\n",
        "\n",
        "# Plot the mean and confidence interval\n",
        "plt.errorbar(0, mean_value, yerr=(confidence_interval[1] - confidence_interval[0])/2, fmt='o', label='Repeated CV')\n",
        "\n",
        "# Calculate mean and confidence interval on k-fold\n",
        "mean_value = np.mean(accuracy_k_fold)\n",
        "confidence_interval = stats.t.interval(0.95, len(accuracy_k_fold)-1, loc=np.mean(accuracy_k_fold), scale=stats.sem(accuracy_k_fold))\n",
        "\n",
        "# Plot the mean and confidence interval\n",
        "plt.errorbar(1, mean_value, yerr=(confidence_interval[1] - confidence_interval[0])/2, fmt='o', label='K-Fold')\n",
        "\n",
        "\n",
        "# Add labels and title\n",
        "plt.xlabel('Group')\n",
        "plt.ylabel('Value')\n",
        "plt.title('Mean with Confidence Interval')\n",
        "\n",
        "# Show the plot\n",
        "plt.legend()\n",
        "plt.show()\n"
      ]
    },
    {
      "cell_type": "markdown",
      "metadata": {
        "id": "1_8z4dcS2m2R"
      },
      "source": [
        "# Assignment\n",
        "Indurre un modello Naive Bayes e confrontarlo con i modelli Decision Tree e SVM in termini di:\n",
        "- capacità capacità predittive (accuratezza, f-measure, roc, auc)\n",
        "- tempi di training\n",
        "- intervalli di confidenza su una misura adeguata"
      ]
    }
  ],
  "metadata": {
    "colab": {
      "provenance": []
    },
    "kernelspec": {
      "display_name": "Python 3",
      "name": "python3"
    },
    "language_info": {
      "codemirror_mode": {
        "name": "ipython",
        "version": 3
      },
      "file_extension": ".py",
      "mimetype": "text/x-python",
      "name": "python",
      "nbconvert_exporter": "python",
      "pygments_lexer": "ipython3",
      "version": "3.11.4"
    }
  },
  "nbformat": 4,
  "nbformat_minor": 0
}
