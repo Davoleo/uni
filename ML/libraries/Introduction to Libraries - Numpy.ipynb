{
 "cells": [
  {
   "cell_type": "markdown",
   "metadata": {
    "id": "mEdYRRMxK8W_"
   },
   "source": [
    "<span style=\"font-family:Charter; font-size:1.5em;\"> Some examples taken from E. Duchesnay et al. \"Statistics and Machine Learning in Python\" (2019) </span>"
   ]
  },
  {
   "cell_type": "markdown",
   "metadata": {
    "id": "ElOCK1uFK8XA"
   },
   "source": [
    "<span style=\"font-family:Charter; font-size:1.5em;\">  Is an extension of the Python programming language </span>\n",
    "\n",
    "\n",
    "\n",
    "\n",
    "\n",
    "<span style=\"font-family:Charter; font-size:1.5em;\">  Adds support for multidimensional arrays (called ndarrays), along with mathematical functions to operate on these arrays </span>\n",
    "\n",
    "\n",
    "<span style=\"font-family:Charter; font-size:1.5em;\"> Reference: https://numpy.org </span>\n"
   ]
  },
  {
   "cell_type": "markdown",
   "metadata": {
    "id": "z06UAji4K8XB"
   },
   "source": [
    "<span style=\"font-family:Charter; font-size:1.5em;\">  We can import NumPy with command </span>"
   ]
  },
  {
   "cell_type": "code",
   "execution_count": 1,
   "metadata": {
    "executionInfo": {
     "elapsed": 760,
     "status": "ok",
     "timestamp": 1727417639155,
     "user": {
      "displayName": "Carlo Adornetto",
      "userId": "12456770947398655820"
     },
     "user_tz": -120
    },
    "id": "AuhP_B0tK8XC"
   },
   "outputs": [],
   "source": [
    "import numpy as np"
   ]
  },
  {
   "cell_type": "markdown",
   "metadata": {
    "id": "2WCQkABJK8XD"
   },
   "source": [
    "<span style=\"font-family:Charter; font-size:1.5em;\">  We can create ndarrays from lists </span>"
   ]
  },
  {
   "cell_type": "code",
   "execution_count": 2,
   "metadata": {
    "colab": {
     "base_uri": "https://localhost:8080/"
    },
    "executionInfo": {
     "elapsed": 1623,
     "status": "ok",
     "timestamp": 1727417663676,
     "user": {
      "displayName": "Carlo Adornetto",
      "userId": "12456770947398655820"
     },
     "user_tz": -120
    },
    "id": "NoA-12n8i8YJ",
    "outputId": "cfe0e39a-8ac2-403f-c006-a16b24c9d795"
   },
   "outputs": [
    {
     "data": {
      "text/plain": [
       "[]"
      ]
     },
     "execution_count": 2,
     "metadata": {},
     "output_type": "execute_result"
    }
   ],
   "source": [
    "list()"
   ]
  },
  {
   "cell_type": "code",
   "execution_count": 3,
   "metadata": {
    "colab": {
     "base_uri": "https://localhost:8080/"
    },
    "executionInfo": {
     "elapsed": 265,
     "status": "ok",
     "timestamp": 1727417666807,
     "user": {
      "displayName": "Carlo Adornetto",
      "userId": "12456770947398655820"
     },
     "user_tz": -120
    },
    "id": "Mtv8_GvjK8XD",
    "outputId": "f458b5d9-8a06-46f3-f536-c1605b7df69a"
   },
   "outputs": [
    {
     "data": {
      "text/plain": [
       "array([1, 2, 3])"
      ]
     },
     "execution_count": 3,
     "metadata": {},
     "output_type": "execute_result"
    }
   ],
   "source": [
    "list1 = [1, 2, 3]\n",
    "array1 = np.array(list1) # 1d array\n",
    "array1"
   ]
  },
  {
   "cell_type": "code",
   "execution_count": 4,
   "metadata": {
    "id": "AcepEb2bK8XE"
   },
   "outputs": [
    {
     "data": {
      "text/plain": [
       "numpy.ndarray"
      ]
     },
     "execution_count": 4,
     "metadata": {},
     "output_type": "execute_result"
    }
   ],
   "source": [
    "type(array1)"
   ]
  },
  {
   "cell_type": "code",
   "execution_count": 5,
   "metadata": {
    "id": "Nd3WIOjNK8XF"
   },
   "outputs": [
    {
     "data": {
      "text/plain": [
       "array([1., 2., 3.])"
      ]
     },
     "execution_count": 5,
     "metadata": {},
     "output_type": "execute_result"
    }
   ],
   "source": [
    "array1 = np.array(list1, dtype='float64')\n",
    "array1"
   ]
  },
  {
   "cell_type": "code",
   "execution_count": 6,
   "metadata": {
    "id": "gDLiBP5HK8XF"
   },
   "outputs": [
    {
     "data": {
      "text/plain": [
       "array([1, 2, 3])"
      ]
     },
     "execution_count": 6,
     "metadata": {},
     "output_type": "execute_result"
    }
   ],
   "source": [
    "array1 = np.array(list1)\n",
    "array1"
   ]
  },
  {
   "cell_type": "code",
   "execution_count": 7,
   "metadata": {
    "id": "bfT8fhTeK8XG"
   },
   "outputs": [
    {
     "data": {
      "text/plain": [
       "array([1., 2., 3.])"
      ]
     },
     "execution_count": 7,
     "metadata": {},
     "output_type": "execute_result"
    }
   ],
   "source": [
    "array1 = array1.astype('float64')\n",
    "array1"
   ]
  },
  {
   "cell_type": "code",
   "execution_count": 8,
   "metadata": {
    "id": "6lTFsOWCK8XG"
   },
   "outputs": [
    {
     "data": {
      "text/plain": [
       "array([[1, 2, 3],\n",
       "       [5, 6, 7]])"
      ]
     },
     "execution_count": 8,
     "metadata": {},
     "output_type": "execute_result"
    }
   ],
   "source": [
    "d2 = [range(1,4), range(5,8)]\n",
    "array2 = np.array(d2) # 2d array\n",
    "array2"
   ]
  },
  {
   "cell_type": "markdown",
   "metadata": {
    "id": "loXGvVteK8XH"
   },
   "source": [
    "<span style=\"font-family:Charter; font-size:1.5em;\">  We can create ndarrays of objects of different types </span>"
   ]
  },
  {
   "cell_type": "code",
   "execution_count": 9,
   "metadata": {
    "id": "d1dd6iThK8XH"
   },
   "outputs": [
    {
     "data": {
      "text/plain": [
       "array([0, 'Hello', None, nan], dtype=object)"
      ]
     },
     "execution_count": 9,
     "metadata": {},
     "output_type": "execute_result"
    }
   ],
   "source": [
    "array3 = np.array([0, 'Hello', None, np.nan])\n",
    "array3"
   ]
  },
  {
   "cell_type": "markdown",
   "metadata": {
    "id": "k32e01cJK8XH"
   },
   "source": [
    "<span style=\"font-family:Charter; font-size:1.5em;\">  It is possible create arrays with: </span>\n",
    "<span style=\"font-family:Charter; color: red; font-size:1.5em;\">  *np.arange(start, stop, step)* </span>\n",
    "<span style=\"font-family:Charter; font-size:1.5em;\">  that returns equidistant values within a given interval </span>\n",
    "\n",
    "\n",
    "\n",
    "<span style=\"font-family:Charter; font-size:1.5em;\">  The values are generated within the *start* (included) and *stop* (excluded) interval </span>\n",
    "\n",
    "\n",
    "<span style=\"font-family:Charter; font-size:1.5em;\">  *start* and *step* arguments are optional </span>\n",
    "\n",
    "\n",
    "    \n",
    "      "
   ]
  },
  {
   "cell_type": "code",
   "execution_count": 10,
   "metadata": {
    "colab": {
     "base_uri": "https://localhost:8080/"
    },
    "executionInfo": {
     "elapsed": 272,
     "status": "ok",
     "timestamp": 1727417641392,
     "user": {
      "displayName": "Carlo Adornetto",
      "userId": "12456770947398655820"
     },
     "user_tz": -120
    },
    "id": "ZGdL5EQBK8XI",
    "outputId": "76418a2d-2b2a-484d-a10b-622dde98fa53"
   },
   "outputs": [
    {
     "data": {
      "text/plain": [
       "array([0, 1, 2])"
      ]
     },
     "execution_count": 10,
     "metadata": {},
     "output_type": "execute_result"
    }
   ],
   "source": [
    "np.arange(3)"
   ]
  },
  {
   "cell_type": "code",
   "execution_count": 11,
   "metadata": {
    "colab": {
     "base_uri": "https://localhost:8080/"
    },
    "executionInfo": {
     "elapsed": 399,
     "status": "ok",
     "timestamp": 1727417650558,
     "user": {
      "displayName": "Carlo Adornetto",
      "userId": "12456770947398655820"
     },
     "user_tz": -120
    },
    "id": "rLJQq0IvK8XI",
    "outputId": "f68db5b7-72d5-4412-c1e3-dd018dc290ce"
   },
   "outputs": [
    {
     "data": {
      "text/plain": [
       "array([3, 4, 5, 6])"
      ]
     },
     "execution_count": 11,
     "metadata": {},
     "output_type": "execute_result"
    }
   ],
   "source": [
    "np.arange(3,7)"
   ]
  },
  {
   "cell_type": "code",
   "execution_count": 12,
   "metadata": {
    "id": "QS6RKLjOK8XI"
   },
   "outputs": [
    {
     "data": {
      "text/plain": [
       "array([3, 5])"
      ]
     },
     "execution_count": 12,
     "metadata": {},
     "output_type": "execute_result"
    }
   ],
   "source": [
    "np.arange(3,7,2)"
   ]
  },
  {
   "cell_type": "markdown",
   "metadata": {
    "id": "oyWZXE9nK8XJ"
   },
   "source": [
    "<span style=\"font-family:Charter; font-size:1.5em;\">  It is possible create special arrays </span>\n",
    "\n"
   ]
  },
  {
   "cell_type": "code",
   "execution_count": 13,
   "metadata": {
    "id": "ZObssozSK8XJ"
   },
   "outputs": [
    {
     "data": {
      "text/plain": [
       "array([0., 0., 0., 0., 0.])"
      ]
     },
     "execution_count": 13,
     "metadata": {},
     "output_type": "execute_result"
    }
   ],
   "source": [
    "np.zeros(5)"
   ]
  },
  {
   "cell_type": "code",
   "execution_count": 14,
   "metadata": {
    "id": "6i2OO1I9K8XJ"
   },
   "outputs": [
    {
     "data": {
      "text/plain": [
       "array([[0., 0., 0.],\n",
       "       [0., 0., 0.]])"
      ]
     },
     "execution_count": 14,
     "metadata": {},
     "output_type": "execute_result"
    }
   ],
   "source": [
    "np.zeros((2, 3))"
   ]
  },
  {
   "cell_type": "code",
   "execution_count": 15,
   "metadata": {
    "id": "sB0A7FfOK8XJ"
   },
   "outputs": [
    {
     "data": {
      "text/plain": [
       "array([1., 1., 1., 1., 1.])"
      ]
     },
     "execution_count": 15,
     "metadata": {},
     "output_type": "execute_result"
    }
   ],
   "source": [
    "np.ones(5)"
   ]
  },
  {
   "cell_type": "code",
   "execution_count": 16,
   "metadata": {
    "id": "UUE_enPTK8XK"
   },
   "outputs": [
    {
     "data": {
      "text/plain": [
       "array([0.  , 0.25, 0.5 , 0.75, 1.  ])"
      ]
     },
     "execution_count": 16,
     "metadata": {},
     "output_type": "execute_result"
    }
   ],
   "source": [
    "np.linspace(0, 1, 5)"
   ]
  },
  {
   "cell_type": "code",
   "execution_count": 17,
   "metadata": {
    "id": "sS_ggpVWK8XK"
   },
   "outputs": [
    {
     "data": {
      "text/plain": [
       "array([   1.,   10.,  100., 1000.])"
      ]
     },
     "execution_count": 17,
     "metadata": {},
     "output_type": "execute_result"
    }
   ],
   "source": [
    "np.logspace(0, 3, 4)"
   ]
  },
  {
   "cell_type": "markdown",
   "metadata": {
    "id": "oQA75qlVK8XK"
   },
   "source": [
    "<span style=\"font-family:Charter; font-size:3em;\">Properties </span>"
   ]
  },
  {
   "cell_type": "code",
   "execution_count": 24,
   "metadata": {
    "id": "C9NAYaIQK8XK"
   },
   "outputs": [
    {
     "data": {
      "text/plain": [
       "array([[[0., 0., 0., 0., 0., 0.],\n",
       "        [0., 0., 0., 0., 0., 0.],\n",
       "        [0., 0., 0., 0., 0., 0.],\n",
       "        [0., 0., 0., 0., 0., 0.]],\n",
       "\n",
       "       [[0., 0., 0., 0., 0., 0.],\n",
       "        [0., 0., 0., 0., 0., 0.],\n",
       "        [0., 0., 0., 0., 0., 0.],\n",
       "        [0., 0., 0., 0., 0., 0.]],\n",
       "\n",
       "       [[0., 0., 0., 0., 0., 0.],\n",
       "        [0., 0., 0., 0., 0., 0.],\n",
       "        [0., 0., 0., 0., 0., 0.],\n",
       "        [0., 0., 0., 0., 0., 0.]],\n",
       "\n",
       "       [[0., 0., 0., 0., 0., 0.],\n",
       "        [0., 0., 0., 0., 0., 0.],\n",
       "        [0., 0., 0., 0., 0., 0.],\n",
       "        [0., 0., 0., 0., 0., 0.]]])"
      ]
     },
     "execution_count": 24,
     "metadata": {},
     "output_type": "execute_result"
    }
   ],
   "source": [
    "zeros_ = np.zeros((4, 4, 6)) # 3d array\n",
    "zeros_"
   ]
  },
  {
   "cell_type": "code",
   "execution_count": 25,
   "metadata": {
    "id": "wpq61RZDK8XK"
   },
   "outputs": [
    {
     "data": {
      "text/plain": [
       "dtype('float64')"
      ]
     },
     "execution_count": 25,
     "metadata": {},
     "output_type": "execute_result"
    }
   ],
   "source": [
    "zeros_.dtype"
   ]
  },
  {
   "cell_type": "code",
   "execution_count": 26,
   "metadata": {
    "id": "y2Henex-K8XL"
   },
   "outputs": [
    {
     "data": {
      "text/plain": [
       "3"
      ]
     },
     "execution_count": 26,
     "metadata": {},
     "output_type": "execute_result"
    }
   ],
   "source": [
    "zeros_.ndim"
   ]
  },
  {
   "cell_type": "code",
   "execution_count": 27,
   "metadata": {
    "id": "CLkSft5-K8XL"
   },
   "outputs": [
    {
     "data": {
      "text/plain": [
       "(4, 4, 6)"
      ]
     },
     "execution_count": 27,
     "metadata": {},
     "output_type": "execute_result"
    }
   ],
   "source": [
    "zeros_.shape"
   ]
  },
  {
   "cell_type": "code",
   "execution_count": 28,
   "metadata": {
    "id": "ikiqVFLGK8XL"
   },
   "outputs": [
    {
     "data": {
      "text/plain": [
       "96"
      ]
     },
     "execution_count": 28,
     "metadata": {},
     "output_type": "execute_result"
    }
   ],
   "source": [
    "zeros_.size"
   ]
  },
  {
   "cell_type": "code",
   "execution_count": 29,
   "metadata": {
    "id": "4uVBDINvK8XL"
   },
   "outputs": [
    {
     "data": {
      "text/plain": [
       "4"
      ]
     },
     "execution_count": 29,
     "metadata": {},
     "output_type": "execute_result"
    }
   ],
   "source": [
    "len(zeros_)"
   ]
  },
  {
   "cell_type": "markdown",
   "metadata": {
    "id": "l1vuukJ8K8XL"
   },
   "source": [
    "<span style=\"font-family:Charter; font-size:3em;\"> Selection and Slicing </span>"
   ]
  },
  {
   "cell_type": "code",
   "execution_count": 30,
   "metadata": {
    "id": "oVN7JblUK8XM"
   },
   "outputs": [
    {
     "data": {
      "text/plain": [
       "array([[10, 11, 12, 13],\n",
       "       [14, 15, 16, 17]])"
      ]
     },
     "execution_count": 30,
     "metadata": {},
     "output_type": "execute_result"
    }
   ],
   "source": [
    "array = np.array([[10, 11, 12, 13], [14, 15, 16, 17]])\n",
    "array"
   ]
  },
  {
   "cell_type": "code",
   "execution_count": 31,
   "metadata": {
    "id": "TzP-5bSjK8XM"
   },
   "outputs": [
    {
     "data": {
      "text/plain": [
       "array([10, 11, 12, 13])"
      ]
     },
     "execution_count": 31,
     "metadata": {},
     "output_type": "execute_result"
    }
   ],
   "source": [
    "array[0]"
   ]
  },
  {
   "cell_type": "code",
   "execution_count": 33,
   "metadata": {
    "id": "bA7VDD4_K8XM"
   },
   "outputs": [
    {
     "data": {
      "text/plain": [
       "np.int64(12)"
      ]
     },
     "execution_count": 33,
     "metadata": {},
     "output_type": "execute_result"
    }
   ],
   "source": [
    "array[0][2]"
   ]
  },
  {
   "cell_type": "code",
   "execution_count": 32,
   "metadata": {
    "id": "hGBo6pm7K8XM"
   },
   "outputs": [
    {
     "data": {
      "text/plain": [
       "np.int64(12)"
      ]
     },
     "execution_count": 32,
     "metadata": {},
     "output_type": "execute_result"
    }
   ],
   "source": [
    "array[0, 2]"
   ]
  },
  {
   "cell_type": "code",
   "execution_count": 34,
   "metadata": {
    "id": "ctr_Hbu4K8XM"
   },
   "outputs": [
    {
     "data": {
      "text/plain": [
       "array([10, 11, 12, 13])"
      ]
     },
     "execution_count": 34,
     "metadata": {},
     "output_type": "execute_result"
    }
   ],
   "source": [
    "array[0, :]"
   ]
  },
  {
   "cell_type": "code",
   "execution_count": 35,
   "metadata": {
    "id": "1Lq2jWwhK8XN"
   },
   "outputs": [
    {
     "data": {
      "text/plain": [
       "array([10, 14])"
      ]
     },
     "execution_count": 35,
     "metadata": {},
     "output_type": "execute_result"
    }
   ],
   "source": [
    "array[:, 0]"
   ]
  },
  {
   "cell_type": "code",
   "execution_count": 36,
   "metadata": {
    "id": "5g0kEDfBK8XN"
   },
   "outputs": [
    {
     "data": {
      "text/plain": [
       "array([[10, 11],\n",
       "       [14, 15]])"
      ]
     },
     "execution_count": 36,
     "metadata": {},
     "output_type": "execute_result"
    }
   ],
   "source": [
    "array[:, :2]"
   ]
  },
  {
   "cell_type": "code",
   "execution_count": 37,
   "metadata": {
    "id": "T_fh-K6XK8XN"
   },
   "outputs": [
    {
     "data": {
      "text/plain": [
       "array([[12, 13],\n",
       "       [16, 17]])"
      ]
     },
     "execution_count": 37,
     "metadata": {},
     "output_type": "execute_result"
    }
   ],
   "source": [
    "array[:, 2:]"
   ]
  },
  {
   "cell_type": "code",
   "execution_count": 38,
   "metadata": {
    "id": "4Jzmk0wQK8XN"
   },
   "outputs": [
    {
     "data": {
      "text/plain": [
       "array([[11, 12],\n",
       "       [15, 16]])"
      ]
     },
     "execution_count": 38,
     "metadata": {},
     "output_type": "execute_result"
    }
   ],
   "source": [
    "array[:, 1:3]"
   ]
  },
  {
   "cell_type": "markdown",
   "metadata": {
    "id": "b9eBQfLJK8XN"
   },
   "source": [
    "<span style=\"font-family:Charter; font-size:3em;\">  Reshaping </span>\n",
    "\n",
    "<span style=\"font-family:Charter; font-size:1.5em;\">  Allows to resize the array. It can only be done when keeping the number of elements, otherwise it gives error </span>"
   ]
  },
  {
   "cell_type": "code",
   "execution_count": 39,
   "metadata": {
    "id": "RZuvhLnOK8XN"
   },
   "outputs": [
    {
     "data": {
      "text/plain": [
       "array([[1, 2],\n",
       "       [3, 4],\n",
       "       [5, 6]])"
      ]
     },
     "execution_count": 39,
     "metadata": {},
     "output_type": "execute_result"
    }
   ],
   "source": [
    "array1 = np.array([[1,2], [3,4], [5,6]])\n",
    "array1"
   ]
  },
  {
   "cell_type": "code",
   "execution_count": 40,
   "metadata": {
    "id": "w1K0LQPpK8XO"
   },
   "outputs": [
    {
     "data": {
      "text/plain": [
       "array([[1, 2, 3],\n",
       "       [4, 5, 6]])"
      ]
     },
     "execution_count": 40,
     "metadata": {},
     "output_type": "execute_result"
    }
   ],
   "source": [
    "array2 = array1.reshape((2,3))\n",
    "array2"
   ]
  },
  {
   "cell_type": "code",
   "execution_count": null,
   "metadata": {
    "id": "je-qAWoCK8XO"
   },
   "outputs": [],
   "source": [
    "#array1.reshape((2,2))"
   ]
  },
  {
   "cell_type": "markdown",
   "metadata": {
    "id": "V_u8jLEDK8XO"
   },
   "source": [
    "<span style=\"font-family:Charter; font-size:1.5em;\">  It has practically no cost as it does not make a physical copy of the array that has been resized </span>\n",
    "\n",
    "<span style=\"font-family:Charter; font-size:1.5em;\">  So, for example, if we replace a value in array that has been resized, the value will also be replaced in the original array</span>"
   ]
  },
  {
   "cell_type": "code",
   "execution_count": 41,
   "metadata": {
    "id": "Sh9p_mECK8XO"
   },
   "outputs": [
    {
     "data": {
      "text/plain": [
       "array([[100,   2,   3],\n",
       "       [  4,   5,   6]])"
      ]
     },
     "execution_count": 41,
     "metadata": {},
     "output_type": "execute_result"
    }
   ],
   "source": [
    "array2[0][0] = 100 # alternative way array2[0, 0] = 100\n",
    "array2"
   ]
  },
  {
   "cell_type": "code",
   "execution_count": 42,
   "metadata": {
    "id": "oyPVa9RcK8XO"
   },
   "outputs": [
    {
     "data": {
      "text/plain": [
       "array([[100,   2],\n",
       "       [  3,   4],\n",
       "       [  5,   6]])"
      ]
     },
     "execution_count": 42,
     "metadata": {},
     "output_type": "execute_result"
    }
   ],
   "source": [
    "array1"
   ]
  },
  {
   "cell_type": "code",
   "execution_count": 43,
   "metadata": {
    "id": "aBGyD6WeK8XP"
   },
   "outputs": [
    {
     "data": {
      "text/plain": [
       "array([ 0,  1,  2,  3,  4,  5,  6,  7,  8,  9, 10, 11, 12, 13, 14, 15, 16,\n",
       "       17, 18, 19, 20, 21, 22, 23])"
      ]
     },
     "execution_count": 43,
     "metadata": {},
     "output_type": "execute_result"
    }
   ],
   "source": [
    "array = np.arange(2*3*4)\n",
    "array"
   ]
  },
  {
   "cell_type": "code",
   "execution_count": 45,
   "metadata": {
    "id": "XsxeVJD8K8XP"
   },
   "outputs": [
    {
     "data": {
      "text/plain": [
       "array([[[ 0,  1,  2,  3],\n",
       "        [ 4,  5,  6,  7],\n",
       "        [ 8,  9, 10, 11]],\n",
       "\n",
       "       [[12, 13, 14, 15],\n",
       "        [16, 17, 18, 19],\n",
       "        [20, 21, 22, 23]]])"
      ]
     },
     "execution_count": 45,
     "metadata": {},
     "output_type": "execute_result"
    }
   ],
   "source": [
    "array = array.reshape(2, 3, 4)\n",
    "array"
   ]
  },
  {
   "cell_type": "code",
   "execution_count": 46,
   "metadata": {
    "id": "p-ARwpr7K8XP"
   },
   "outputs": [
    {
     "data": {
      "text/plain": [
       "array([[ 0,  1,  2,  3],\n",
       "       [ 4,  5,  6,  7],\n",
       "       [ 8,  9, 10, 11]])"
      ]
     },
     "execution_count": 46,
     "metadata": {},
     "output_type": "execute_result"
    }
   ],
   "source": [
    "array[0, :, :]"
   ]
  },
  {
   "cell_type": "code",
   "execution_count": 47,
   "metadata": {
    "id": "EHQAtledK8XP"
   },
   "outputs": [
    {
     "data": {
      "text/plain": [
       "array([[ 0,  1,  2,  3],\n",
       "       [12, 13, 14, 15]])"
      ]
     },
     "execution_count": 47,
     "metadata": {},
     "output_type": "execute_result"
    }
   ],
   "source": [
    "array[:, 0, :]"
   ]
  },
  {
   "cell_type": "code",
   "execution_count": 48,
   "metadata": {
    "id": "Pta90xKNK8XP"
   },
   "outputs": [
    {
     "data": {
      "text/plain": [
       "array([[ 0,  4,  8],\n",
       "       [12, 16, 20]])"
      ]
     },
     "execution_count": 48,
     "metadata": {},
     "output_type": "execute_result"
    }
   ],
   "source": [
    "array[:, :, 0]"
   ]
  },
  {
   "cell_type": "markdown",
   "metadata": {
    "id": "IRk8BD6aK8XP"
   },
   "source": [
    "<span style=\"font-family:Charter; font-size:3em;\"> Transpose </span>\n",
    "\n",
    "\n",
    "<span style=\"font-family:Charter; font-size:1.5em;\"> We can transpose axes </span>"
   ]
  },
  {
   "cell_type": "code",
   "execution_count": 49,
   "metadata": {
    "id": "FJC_KzMyK8XQ"
   },
   "outputs": [
    {
     "data": {
      "text/plain": [
       "array([[1, 2, 3, 4],\n",
       "       [5, 6, 7, 8]])"
      ]
     },
     "execution_count": 49,
     "metadata": {},
     "output_type": "execute_result"
    }
   ],
   "source": [
    "array = np.array([[1, 2, 3, 4], [5, 6, 7, 8]])\n",
    "array"
   ]
  },
  {
   "cell_type": "code",
   "execution_count": 50,
   "metadata": {
    "id": "CUeruR_GK8XQ"
   },
   "outputs": [
    {
     "data": {
      "text/plain": [
       "array([[1, 5],\n",
       "       [2, 6],\n",
       "       [3, 7],\n",
       "       [4, 8]])"
      ]
     },
     "execution_count": 50,
     "metadata": {},
     "output_type": "execute_result"
    }
   ],
   "source": [
    "array.T"
   ]
  },
  {
   "cell_type": "markdown",
   "metadata": {
    "id": "hpD3bOHqK8XQ"
   },
   "source": [
    "<span style=\"font-family:Charter; font-size:3em;\"> Flatten </span>\n",
    "\n",
    "<span style=\"font-family:Charter; font-size:1.5em;\"> We can flatten the array: it creates a copy of the array in only dimension </span>"
   ]
  },
  {
   "cell_type": "code",
   "execution_count": 51,
   "metadata": {
    "id": "1l9MQoQpK8XQ"
   },
   "outputs": [
    {
     "data": {
      "text/plain": [
       "array([1, 2, 3, 4, 5, 6, 7, 8])"
      ]
     },
     "execution_count": 51,
     "metadata": {},
     "output_type": "execute_result"
    }
   ],
   "source": [
    "array.flatten()"
   ]
  },
  {
   "cell_type": "markdown",
   "metadata": {
    "id": "2H0nJDQMK8XQ"
   },
   "source": [
    "<span style=\"font-family:Charter; font-size:3em;\"> Vectorized operations </span>"
   ]
  },
  {
   "cell_type": "code",
   "execution_count": 52,
   "metadata": {
    "id": "tdCKQZfEK8XQ"
   },
   "outputs": [
    {
     "data": {
      "text/plain": [
       "array([0, 1, 2, 3, 4])"
      ]
     },
     "execution_count": 52,
     "metadata": {},
     "output_type": "execute_result"
    }
   ],
   "source": [
    "array1 = np.arange(5)\n",
    "array1"
   ]
  },
  {
   "cell_type": "code",
   "execution_count": 53,
   "metadata": {
    "id": "TOp5fC8tK8XQ"
   },
   "outputs": [
    {
     "data": {
      "text/plain": [
       "array([0, 2, 4, 6, 8])"
      ]
     },
     "execution_count": 53,
     "metadata": {},
     "output_type": "execute_result"
    }
   ],
   "source": [
    "array1 * 2"
   ]
  },
  {
   "cell_type": "code",
   "execution_count": 54,
   "metadata": {
    "id": "f5qOsF0VK8XR"
   },
   "outputs": [
    {
     "data": {
      "text/plain": [
       "array([0.        , 1.        , 1.41421356, 1.73205081, 2.        ])"
      ]
     },
     "execution_count": 54,
     "metadata": {},
     "output_type": "execute_result"
    }
   ],
   "source": [
    "arraySQRT = np.sqrt(array1)\n",
    "arraySQRT"
   ]
  },
  {
   "cell_type": "code",
   "execution_count": 55,
   "metadata": {
    "id": "LExJzBd1K8XR"
   },
   "outputs": [
    {
     "data": {
      "text/plain": [
       "array([0., 1., 2., 2., 2.])"
      ]
     },
     "execution_count": 55,
     "metadata": {},
     "output_type": "execute_result"
    }
   ],
   "source": [
    "np.ceil(arraySQRT)"
   ]
  },
  {
   "cell_type": "code",
   "execution_count": 56,
   "metadata": {
    "id": "gb-1JCEnK8XR"
   },
   "outputs": [
    {
     "data": {
      "text/plain": [
       "array([False, False, False, False, False])"
      ]
     },
     "execution_count": 56,
     "metadata": {},
     "output_type": "execute_result"
    }
   ],
   "source": [
    "np.isnan(array1)"
   ]
  },
  {
   "cell_type": "code",
   "execution_count": 57,
   "metadata": {
    "id": "U4IHby0LK8XR"
   },
   "outputs": [
    {
     "data": {
      "text/plain": [
       "array([ 1., nan,  2.])"
      ]
     },
     "execution_count": 57,
     "metadata": {},
     "output_type": "execute_result"
    }
   ],
   "source": [
    "array1 = np.array([1, np.nan, 2])\n",
    "array1"
   ]
  },
  {
   "cell_type": "code",
   "execution_count": 58,
   "metadata": {
    "id": "w0lhlmorK8XR"
   },
   "outputs": [
    {
     "data": {
      "text/plain": [
       "array([False,  True, False])"
      ]
     },
     "execution_count": 58,
     "metadata": {},
     "output_type": "execute_result"
    }
   ],
   "source": [
    "np.isnan(array1)"
   ]
  },
  {
   "cell_type": "code",
   "execution_count": 59,
   "metadata": {
    "id": "t9f0TQsgK8XR"
   },
   "outputs": [
    {
     "data": {
      "text/plain": [
       "array([0, 1, 2, 3, 4])"
      ]
     },
     "execution_count": 59,
     "metadata": {},
     "output_type": "execute_result"
    }
   ],
   "source": [
    "array1 = np.arange(5)\n",
    "array1"
   ]
  },
  {
   "cell_type": "code",
   "execution_count": 60,
   "metadata": {
    "id": "J9Tpuv4RK8XS"
   },
   "outputs": [
    {
     "data": {
      "text/plain": [
       "array([5, 6, 7, 8, 9])"
      ]
     },
     "execution_count": 60,
     "metadata": {},
     "output_type": "execute_result"
    }
   ],
   "source": [
    "array2 = np.arange(5, 10)\n",
    "array2"
   ]
  },
  {
   "cell_type": "code",
   "execution_count": 61,
   "metadata": {
    "id": "HTr4WYWZK8XS"
   },
   "outputs": [
    {
     "data": {
      "text/plain": [
       "array([ 5,  7,  9, 11, 13])"
      ]
     },
     "execution_count": 61,
     "metadata": {},
     "output_type": "execute_result"
    }
   ],
   "source": [
    "array1 + array2"
   ]
  },
  {
   "cell_type": "code",
   "execution_count": 62,
   "metadata": {
    "id": "bNYGDfCKK8XS"
   },
   "outputs": [
    {
     "data": {
      "text/plain": [
       "array([ 0,  1,  4,  9, 16])"
      ]
     },
     "execution_count": 62,
     "metadata": {},
     "output_type": "execute_result"
    }
   ],
   "source": [
    "array1 * array1"
   ]
  },
  {
   "cell_type": "code",
   "execution_count": null,
   "metadata": {
    "id": "8KNJlYLfK8XS"
   },
   "outputs": [],
   "source": [
    "array1 @ array1"
   ]
  },
  {
   "cell_type": "code",
   "execution_count": null,
   "metadata": {
    "id": "Vug4BoXTK8XS"
   },
   "outputs": [],
   "source": [
    "np.dot(array1, array1)"
   ]
  },
  {
   "cell_type": "markdown",
   "metadata": {
    "id": "JE-QWzFdK8XS"
   },
   "source": [
    "<span style=\"font-family:Charter; font-size:1.5em;\"> When we use the random numbers, it is important to set the seed to avoid that each time we run the cell, the values change </span>"
   ]
  },
  {
   "cell_type": "code",
   "execution_count": null,
   "metadata": {
    "id": "RE16VPMqK8XS"
   },
   "outputs": [],
   "source": [
    "import numpy.random as rand"
   ]
  },
  {
   "cell_type": "code",
   "execution_count": null,
   "metadata": {
    "id": "0vfzi3FGK8XT"
   },
   "outputs": [],
   "source": [
    "array1 = rand.random((2, 3))\n",
    "array1"
   ]
  },
  {
   "cell_type": "code",
   "execution_count": null,
   "metadata": {
    "id": "tjP-7A3nK8XT"
   },
   "outputs": [],
   "source": [
    "rand.seed(42)\n",
    "\n",
    "array1 = rand.random((2, 3))\n",
    "array1"
   ]
  },
  {
   "cell_type": "code",
   "execution_count": null,
   "metadata": {
    "id": "coquKUI5K8XT"
   },
   "outputs": [],
   "source": [
    "array1.mean()"
   ]
  },
  {
   "cell_type": "code",
   "execution_count": null,
   "metadata": {
    "id": "kreI-5GTK8XT"
   },
   "outputs": [],
   "source": [
    "array1.std()"
   ]
  },
  {
   "cell_type": "code",
   "execution_count": null,
   "metadata": {
    "id": "cBjA7zI6K8XU"
   },
   "outputs": [],
   "source": [
    "array1.min()"
   ]
  },
  {
   "cell_type": "code",
   "execution_count": null,
   "metadata": {
    "id": "Pe_HBayYK8XU"
   },
   "outputs": [],
   "source": [
    "array1.argmin()"
   ]
  },
  {
   "cell_type": "code",
   "execution_count": null,
   "metadata": {
    "id": "uSoTl7QaK8XU"
   },
   "outputs": [],
   "source": [
    "array1.max()"
   ]
  },
  {
   "cell_type": "code",
   "execution_count": null,
   "metadata": {
    "id": "OYCqezjSK8XU"
   },
   "outputs": [],
   "source": [
    "array1.argmax()"
   ]
  },
  {
   "cell_type": "code",
   "execution_count": null,
   "metadata": {
    "id": "YAZRaXUoK8XU"
   },
   "outputs": [],
   "source": [
    "array1.sum()"
   ]
  },
  {
   "cell_type": "code",
   "execution_count": null,
   "metadata": {
    "id": "qDHjGnYQK8XV"
   },
   "outputs": [],
   "source": [
    "array1.sum(axis=0)"
   ]
  },
  {
   "cell_type": "code",
   "execution_count": null,
   "metadata": {
    "id": "rUahhrZnK8XV"
   },
   "outputs": [],
   "source": [
    "array1.sum(axis=1)"
   ]
  },
  {
   "cell_type": "markdown",
   "metadata": {
    "id": "Z2_7gQoNK8XV"
   },
   "source": [
    "<span style=\"font-family:Charter; font-size:3em;\"> Methods </span>"
   ]
  },
  {
   "cell_type": "code",
   "execution_count": null,
   "metadata": {
    "id": "0Y3kyXX4K8XV"
   },
   "outputs": [],
   "source": [
    "array1 = np.arange(20, 25)\n",
    "print(array1, '\\n')\n",
    "\n",
    "array1 = np.insert(array1, 2, 4)\n",
    "print(array1)"
   ]
  },
  {
   "cell_type": "code",
   "execution_count": null,
   "metadata": {
    "id": "otUMIvblK8XV"
   },
   "outputs": [],
   "source": [
    "array1 = np.append(array1, 2)\n",
    "print(array1)"
   ]
  },
  {
   "cell_type": "code",
   "execution_count": null,
   "metadata": {
    "id": "eJhuYiH9K8XV"
   },
   "outputs": [],
   "source": [
    "array_temp = np.delete(array1, 2)\n",
    "print(array1)\n",
    "print(array_temp)"
   ]
  },
  {
   "cell_type": "code",
   "execution_count": null,
   "metadata": {
    "id": "DGxY-tn6K8XV"
   },
   "outputs": [],
   "source": [
    "array1 = np.array([1, 2, 3, 2, 5, 1, 2])\n",
    "print(array1, '\\n')\n",
    "\n",
    "array1 = np.delete(array1, np.where(array1 == 2))\n",
    "print(array1)"
   ]
  },
  {
   "cell_type": "code",
   "execution_count": null,
   "metadata": {
    "id": "jnu16ESrK8XW"
   },
   "outputs": [],
   "source": [
    "np.where(array1 == 1)"
   ]
  },
  {
   "cell_type": "code",
   "execution_count": null,
   "metadata": {
    "id": "n_UywHH-K8XW"
   },
   "outputs": [],
   "source": [
    "array1 = np.array([1, 2, 3, 2, 5, 1, 2])\n",
    "print(array1, '\\n')\n",
    "\n",
    "array1[3] = 4\n",
    "print(array1)"
   ]
  },
  {
   "cell_type": "code",
   "execution_count": null,
   "metadata": {
    "id": "-MdcP08bK8XW"
   },
   "outputs": [],
   "source": [
    "array1 = np.array([[[1, 2, 5, 6], [3, 4, 7, 8]], [[10, 4, 5, 6], [9, 8, 7, 6]]])\n",
    "print('Before \\n', array1, '\\n')\n",
    "\n",
    "array1[1, 1, 2] = 20\n",
    "print('After \\n', array1)"
   ]
  },
  {
   "cell_type": "code",
   "execution_count": null,
   "metadata": {
    "id": "7dmliDPjK8XW"
   },
   "outputs": [],
   "source": [
    "array1 = np.array([1, 2, 3, 2, 5, 1, 2])\n",
    "print(array1, '\\n')\n",
    "\n",
    "array1[np.where(array1 == 2)] = 4\n",
    "print(array1)"
   ]
  },
  {
   "cell_type": "code",
   "execution_count": null,
   "metadata": {
    "id": "I-YCC7W7K8XW"
   },
   "outputs": [],
   "source": [
    "array1 = np.array([[0,  1,  2], [3,  4,  5], [6,  7,  8], [9, 10, 11]])\n",
    "print(array1, '\\n')\n",
    "\n",
    "array2 = array1[array1 > 5]\n",
    "print(array2)"
   ]
  },
  {
   "cell_type": "code",
   "execution_count": null,
   "metadata": {
    "id": "ebpWaGFYK8XW"
   },
   "outputs": [],
   "source": [
    "array1 = np.array([np.nan, 1, 2, np.nan, 3, 4, 5])\n",
    "print(array1, '\\n')\n",
    "\n",
    "array2 = array1[~np.isnan(array1)]\n",
    "print(array2)"
   ]
  },
  {
   "cell_type": "code",
   "execution_count": null,
   "metadata": {
    "id": "C6VRYjbMK8XX"
   },
   "outputs": [],
   "source": [
    "array1 = np.arange(0, 50, 5)\n",
    "array2 = np.arange(50, 100, 5)\n",
    "\n",
    "print('Array1: \\n', array1, '\\n')\n",
    "print('Array2: \\n', array2, '\\n')\n",
    "\n",
    "print(np.concatenate((array1, array2)))"
   ]
  },
  {
   "cell_type": "code",
   "execution_count": null,
   "metadata": {
    "id": "n2vB6thjK8XX"
   },
   "outputs": [],
   "source": [
    "array1 = np.array([[1, 2], [3, 4]])\n",
    "array2 = np.array([[5, 6], [7, 8]])\n",
    "\n",
    "print('Array1: \\n', array1, '\\n')\n",
    "print('Array2: \\n', array2, '\\n')\n",
    "\n",
    "print(np.concatenate((array1, array2)))"
   ]
  },
  {
   "cell_type": "code",
   "execution_count": null,
   "metadata": {
    "id": "PKNHRQG7K8XX"
   },
   "outputs": [],
   "source": [
    "array1 = np.array([[1, 2], [3, 4]])\n",
    "array2 = np.array([[5, 6], [7, 8]])\n",
    "\n",
    "print('Array1: \\n', array1, '\\n')\n",
    "print('Array2: \\n', array2, '\\n')\n",
    "\n",
    "print(np.concatenate((array1, array2), axis = 1))"
   ]
  },
  {
   "cell_type": "code",
   "execution_count": null,
   "metadata": {
    "id": "r-wUudSZK8XX"
   },
   "outputs": [],
   "source": [
    "array1 = np.array([1, 2, 3, 4, 6, 6, 6, 3, 4])\n",
    "print(array1, '\\n')\n",
    "\n",
    "print(np.unique(array1))"
   ]
  }
 ],
 "metadata": {
  "colab": {
   "provenance": []
  },
  "kernelspec": {
   "display_name": "Python 3",
   "language": "python",
   "name": "python3"
  },
  "language_info": {
   "codemirror_mode": {
    "name": "ipython",
    "version": 3
   },
   "file_extension": ".py",
   "mimetype": "text/x-python",
   "name": "python",
   "nbconvert_exporter": "python",
   "pygments_lexer": "ipython3",
   "version": "3.11.4"
  }
 },
 "nbformat": 4,
 "nbformat_minor": 0
}
