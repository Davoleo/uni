{
 "cells": [
  {
   "cell_type": "markdown",
   "metadata": {
    "id": "-UPqyys0F2zo"
   },
   "source": [
    "# Introduzione a Python"
   ]
  },
  {
   "cell_type": "markdown",
   "metadata": {
    "id": "AiUDjMcIHUTg"
   },
   "source": [
    "# Cos'è Python?\n",
    "\n",
    "Python è un linguaggio di programmazione ad alto livello, orientato agli oggetti, che è stato sviluppato da Guido van Rossum negli anni '90. Python è noto per essere un linguaggio di facile apprendimento e utilizzo, grazie alla sua sintassi pulita e alla vasta gamma di librerie disponibili.\n",
    "\n",
    "Python può essere utilizzato per una vasta gamma di scopi, tra cui lo sviluppo web, la data science, l'elaborazione delle immagini e molto altro."
   ]
  },
  {
   "cell_type": "markdown",
   "metadata": {
    "id": "Tz_Osin1HnSm"
   },
   "source": [
    "# Installazione di Python\n",
    "\n",
    "Sebbene sia possibile utilizzare Python sfruttando un inteprete online come https://colab.research.google.com, è sempre possibile programmre in Python in locale sul proprio PC.\n",
    "\n",
    "Per fare ciò, è necessario installare l'interprete Python. Ci sono diverse opzioni disponibili per l'installazione, ma una delle più semplici è quella di scaricare e installare l'ultima versione di Python dal sito web ufficiale di Python: https://www.python.org/downloads/.\n",
    "\n",
    "Dopo aver installato Python, è possibile accedere al prompt di Python. Il prompt di Python è un'interfaccia a riga di comando in cui è possibile inserire e eseguire istruzioni Python.\n",
    "\n",
    "Per accedere al prompt di Python, apri il terminale o il prompt dei comandi del tuo computer e digita python o python3 (a seconda della versione di Python che hai installato).\n",
    "\n",
    "Una volta avviato il prompt di Python, puoi iniziare a inserire istruzioni Python. Ad esempio, digita print(\"Hello, world!\") e premi Invio. Il prompt di Python dovrebbe restituire \"Hello, world!\" come output.\n",
    "\n",
    "Nel caso di un interprete online, come Google Colab, basterà inserire il codice in una cella e premere il pulsante \"play\". Qui un esempio:"
   ]
  },
  {
   "cell_type": "code",
   "execution_count": 2,
   "metadata": {
    "colab": {
     "base_uri": "https://localhost:8080/"
    },
    "executionInfo": {
     "elapsed": 6,
     "status": "ok",
     "timestamp": 1676817923459,
     "user": {
      "displayName": "Simone Paolo Mottadelli",
      "userId": "04527667705370282454"
     },
     "user_tz": -60
    },
    "id": "Ffgldjc3Iqhf",
    "outputId": "5435646c-15b4-42b6-fccf-893aaf10e9ee"
   },
   "outputs": [
    {
     "name": "stdout",
     "output_type": "stream",
     "text": [
      "Hello, world!\n"
     ]
    }
   ],
   "source": [
    "print(\"Hello, world!\")"
   ]
  },
  {
   "cell_type": "markdown",
   "metadata": {
    "id": "5LW2vbpsHna9"
   },
   "source": [
    "# Le basi di Python"
   ]
  },
  {
   "cell_type": "markdown",
   "metadata": {
    "id": "m5rL9FJ_Hnd5"
   },
   "source": [
    "## Variabili\n",
    "In Python, una variabile è un contenitore per un valore. Per assegnare un valore a una variabile, utilizziamo l'operatore di assegnazione \"=\".\n",
    "\n",
    "Ad esempio, il seguente codice assegna il valore \"42\" alla variabile \"x\":"
   ]
  },
  {
   "cell_type": "code",
   "execution_count": 1,
   "metadata": {
    "colab": {
     "base_uri": "https://localhost:8080/"
    },
    "executionInfo": {
     "elapsed": 393,
     "status": "ok",
     "timestamp": 1729090639846,
     "user": {
      "displayName": "Leonardo Davoli",
      "userId": "17136115848095922755"
     },
     "user_tz": -120
    },
    "id": "Vhl0dT2NFsTw",
    "outputId": "41d20308-e58f-425a-f58c-098460f608aa"
   },
   "outputs": [
    {
     "data": {
      "text/plain": [
       "42"
      ]
     },
     "execution_count": 1,
     "metadata": {},
     "output_type": "execute_result"
    }
   ],
   "source": [
    "x = 42\n",
    "x"
   ]
  },
  {
   "cell_type": "markdown",
   "metadata": {
    "id": "I28VgLvlJLCp"
   },
   "source": [
    "## Tipi di dati\n",
    "In Python, ci sono diversi tipi di dati, tra cui:\n",
    "\n",
    "\n",
    "*   Integers: numeri interi, come 1, 2, 3, ecc.\n",
    "*   Floats: numeri decimali, come 3.14, 2.718, ecc.\n",
    "* Strings: sequenze di caratteri, come \"Hello, world!\"\n",
    "* Booleans: valori di verità, True o False\n",
    "\n",
    "Per determinare il tipo di dati di una variabile, è possibile utilizzare la funzione type(). Ad esempio, il seguente codice restituisce **<class 'int'>**, che indica che la variabile \"x\" è un integer:"
   ]
  },
  {
   "cell_type": "code",
   "execution_count": 3,
   "metadata": {
    "colab": {
     "base_uri": "https://localhost:8080/"
    },
    "executionInfo": {
     "elapsed": 206,
     "status": "ok",
     "timestamp": 1676818111208,
     "user": {
      "displayName": "Simone Paolo Mottadelli",
      "userId": "04527667705370282454"
     },
     "user_tz": -60
    },
    "id": "CtK7amHNJGgL",
    "outputId": "696accd1-da24-424d-9638-2d5b1eebd4ff"
   },
   "outputs": [
    {
     "name": "stdout",
     "output_type": "stream",
     "text": [
      "<class 'int'>\n"
     ]
    }
   ],
   "source": [
    "print(type(x))"
   ]
  },
  {
   "cell_type": "markdown",
   "metadata": {
    "id": "MmQ5x2YaV4nQ"
   },
   "source": [
    "Per convertire una variabile da un tipo ad un altro, si procede nel seguente modo."
   ]
  },
  {
   "cell_type": "code",
   "execution_count": 4,
   "metadata": {
    "colab": {
     "base_uri": "https://localhost:8080/"
    },
    "executionInfo": {
     "elapsed": 614,
     "status": "ok",
     "timestamp": 1729090713673,
     "user": {
      "displayName": "Leonardo Davoli",
      "userId": "17136115848095922755"
     },
     "user_tz": -120
    },
    "id": "rzd3xxGjV3E2",
    "outputId": "8a5fa827-506a-4ad4-f7e2-c0a76c4894b2"
   },
   "outputs": [
    {
     "name": "stdout",
     "output_type": "stream",
     "text": [
      "<class 'int'>\n",
      "<class 'str'>\n"
     ]
    }
   ],
   "source": [
    "x = 2\n",
    "print(type(x))\n",
    "x = str(2)\n",
    "print(type(x))"
   ]
  },
  {
   "cell_type": "markdown",
   "metadata": {
    "id": "jyf13j_9Jenp"
   },
   "source": [
    "## Operatori\n",
    "In Python, ci sono diversi operatori che possono essere utilizzati per effettuare operazioni su variabili. Alcuni degli operatori più comuni includono:\n",
    "\n",
    "* **\\+** (somma)\n",
    "* **\\-** (sottrazione)\n",
    "* **\\*** (moltiplicazione)\n",
    "* **/** (divisione)\n",
    "* **//** (divisione intera)\n",
    "* **%** (modulo)\n",
    "* ****** (elevamento a potenza)\n",
    "* **=** (assegnazione)\n",
    "\n",
    "Ad esempio, il codice seguente utilizza l'operatore di somma + per sommare due numeri interi e assegnare il risultato alla variabile \"z\":"
   ]
  },
  {
   "cell_type": "code",
   "execution_count": 5,
   "metadata": {
    "colab": {
     "base_uri": "https://localhost:8080/"
    },
    "executionInfo": {
     "elapsed": 513,
     "status": "ok",
     "timestamp": 1676818195068,
     "user": {
      "displayName": "Simone Paolo Mottadelli",
      "userId": "04527667705370282454"
     },
     "user_tz": -60
    },
    "id": "yeI_PzNXJe1J",
    "outputId": "8bd5e63e-62e3-4a66-e1f4-a0b9f21d341e"
   },
   "outputs": [
    {
     "name": "stdout",
     "output_type": "stream",
     "text": [
      "30\n"
     ]
    }
   ],
   "source": [
    "x = 10\n",
    "y = 20\n",
    "z = x + y\n",
    "print(z)"
   ]
  },
  {
   "cell_type": "markdown",
   "metadata": {
    "id": "SlewBrxgJ0_R"
   },
   "source": [
    "## Strutture dati\n",
    "In Python, ci sono diverse strutture dati che possono essere utilizzate per organizzare e gestire i dati. Alcune delle strutture dati più comuni includono:\n",
    "\n",
    "* **List**: una sequenza ordinata di elementi, racchiusi tra parentesi quadre, come [1, 2, 3]\n",
    "* **Tuple**: una sequenza ordinata di elementi immutabili, racchiusi tra parentesi tonde, come (1, 2, 3)\n",
    "* **Set**: una raccolta non ordinata di elementi unici, racchiusi tra parentesi graffe, come {1, 2, 3}\n",
    "* **Dictionary**: una raccolta di coppie chiave-valore, racchiusi tra parentesi graffe, come {'nome': 'Mario', 'età': 30}\n",
    "\n",
    "Ad esempio, il seguente codice crea una lista di numeri, aggiunge un nuovo numero alla lista e stampa la lunghezza della lista:"
   ]
  },
  {
   "cell_type": "code",
   "execution_count": 6,
   "metadata": {
    "colab": {
     "base_uri": "https://localhost:8080/"
    },
    "executionInfo": {
     "elapsed": 379,
     "status": "ok",
     "timestamp": 1729090858446,
     "user": {
      "displayName": "Leonardo Davoli",
      "userId": "17136115848095922755"
     },
     "user_tz": -120
    },
    "id": "fu_80vA0J1Gn",
    "outputId": "c3fada70-8491-4f0b-dcf0-cbcf5f13f6c5"
   },
   "outputs": [
    {
     "name": "stdout",
     "output_type": "stream",
     "text": [
      "6\n"
     ]
    }
   ],
   "source": [
    "numeri = [1, 2, 3, 4, 5]\n",
    "numeri.append(6)\n",
    "print(len(numeri))"
   ]
  },
  {
   "cell_type": "markdown",
   "metadata": {
    "id": "5JujLFiRTjba"
   },
   "source": [
    "Come ulteriore esempio, il seguente codice recupera il valore associato ad una chiave in un dizionario. Il valore, in questo caso, è una lista di numeri."
   ]
  },
  {
   "cell_type": "code",
   "execution_count": null,
   "metadata": {
    "colab": {
     "base_uri": "https://localhost:8080/"
    },
    "executionInfo": {
     "elapsed": 8,
     "status": "ok",
     "timestamp": 1676837685449,
     "user": {
      "displayName": "Simone Paolo Mottadelli",
      "userId": "04527667705370282454"
     },
     "user_tz": -60
    },
    "id": "zqA3uNaxTi72",
    "outputId": "fe65ee97-0711-4a28-c880-45b07242cfef"
   },
   "outputs": [
    {
     "name": "stdout",
     "output_type": "stream",
     "text": [
      "[2, 12.5, 33]\n"
     ]
    }
   ],
   "source": [
    "dizionario = {\"chiave\" : [2, 12.5, 33]}\n",
    "print(dizionario[\"chiave\"])"
   ]
  },
  {
   "cell_type": "code",
   "execution_count": 7,
   "metadata": {
    "colab": {
     "base_uri": "https://localhost:8080/"
    },
    "executionInfo": {
     "elapsed": 418,
     "status": "ok",
     "timestamp": 1676838121973,
     "user": {
      "displayName": "Simone Paolo Mottadelli",
      "userId": "04527667705370282454"
     },
     "user_tz": -60
    },
    "id": "vAoeCGNdVmP-",
    "outputId": "d923e1da-d00c-477b-e250-489bef223cab"
   },
   "outputs": [
    {
     "name": "stdout",
     "output_type": "stream",
     "text": [
      "{4, 6}\n",
      "{2, 3}\n"
     ]
    }
   ],
   "source": [
    "# Build a set from an array notation\n",
    "a = set([1, 4, 6])\n",
    "b = set([5, 4, 3, 6])\n",
    "print(a.intersection(b))\n",
    "\n",
    "c = {1,2,3}\n",
    "d = {2,3,4}\n",
    "print(c.intersection(d))"
   ]
  },
  {
   "cell_type": "markdown",
   "metadata": {
    "id": "0XXd6aZCKEgP"
   },
   "source": [
    "## Controllo del flusso\n",
    "In Python, è possibile utilizzare le istruzioni di controllo del flusso per decidere quali istruzioni eseguire in base a determinate condizioni. Alcune delle istruzioni di controllo del flusso più comuni includono:\n",
    "\n",
    "* **if**: esegue un blocco di codice se una determinata condizione è vera\n",
    "* **else**: esegue un blocco di codice se la condizione nell'if è falsa\n",
    "* **elif**: esegue un blocco di codice se una condizione diversa dall'if è vera\n",
    "* **for**: esegue un blocco di codice per ogni elemento in una sequenza\n",
    "* **while**: esegue un blocco di codice fintanto che una determinata condizione è vera\n",
    "\n",
    "Ad esempio, il seguente codice utilizza un'istruzione if per stampare un messaggio diverso in base al valore della variabile \"x\":"
   ]
  },
  {
   "cell_type": "code",
   "execution_count": 11,
   "metadata": {
    "colab": {
     "base_uri": "https://localhost:8080/"
    },
    "executionInfo": {
     "elapsed": 490,
     "status": "ok",
     "timestamp": 1729090909136,
     "user": {
      "displayName": "Leonardo Davoli",
      "userId": "17136115848095922755"
     },
     "user_tz": -120
    },
    "id": "CIxVsBgXJ-3Y",
    "outputId": "95f3dc89-34e0-4e57-b4dc-d9b2c8792b00"
   },
   "outputs": [
    {
     "name": "stdout",
     "output_type": "stream",
     "text": [
      "x è negativo\n"
     ]
    }
   ],
   "source": [
    "x = -1\n",
    "if x > 0:\n",
    "    print(\"x è positivo\")\n",
    "elif x == 0:\n",
    "  print(\"x è nullo\")\n",
    "else:\n",
    "    print(\"x è negativo\")"
   ]
  },
  {
   "cell_type": "markdown",
   "metadata": {
    "id": "p5ys8qogUWXV"
   },
   "source": [
    "Invece, i codici seguenti mostrano come creare dei cicli for o while."
   ]
  },
  {
   "cell_type": "code",
   "execution_count": 12,
   "metadata": {
    "colab": {
     "base_uri": "https://localhost:8080/"
    },
    "executionInfo": {
     "elapsed": 21,
     "status": "ok",
     "timestamp": 1676837863524,
     "user": {
      "displayName": "Simone Paolo Mottadelli",
      "userId": "04527667705370282454"
     },
     "user_tz": -60
    },
    "id": "uMa-_Xk1UWl9",
    "outputId": "87d32975-50a5-4aa6-eadf-b4e805f546bc"
   },
   "outputs": [
    {
     "name": "stdout",
     "output_type": "stream",
     "text": [
      "Ho trovato il valore 4!\n"
     ]
    }
   ],
   "source": [
    "lista_valori = [1, 5, 4, 3, 6]\n",
    "for valore in lista_valori:\n",
    "  if valore == 4:\n",
    "    print(\"Ho trovato il valore 4!\")"
   ]
  },
  {
   "cell_type": "code",
   "execution_count": 13,
   "metadata": {
    "colab": {
     "base_uri": "https://localhost:8080/"
    },
    "executionInfo": {
     "elapsed": 5,
     "status": "ok",
     "timestamp": 1676837974114,
     "user": {
      "displayName": "Simone Paolo Mottadelli",
      "userId": "04527667705370282454"
     },
     "user_tz": -60
    },
    "id": "imtslZFxU4Tu",
    "outputId": "b93ab0a0-5d3d-45dd-ada2-d2f6e32b91bf"
   },
   "outputs": [
    {
     "name": "stdout",
     "output_type": "stream",
     "text": [
      "Ho trovato il valore 4! E si trova in posizione 2 nella lista!\n"
     ]
    }
   ],
   "source": [
    "lista_valori = [1, 5, 4, 3, 6]\n",
    "# range da 0 a lunghezza dell'array (esclusivo)\n",
    "for i in range(0, len(lista_valori)):\n",
    "  if lista_valori[i] == 4:\n",
    "    print(\"Ho trovato il valore 4! E si trova in posizione \" + str(i) + \" nella lista!\")"
   ]
  },
  {
   "cell_type": "code",
   "execution_count": 14,
   "metadata": {
    "colab": {
     "base_uri": "https://localhost:8080/"
    },
    "executionInfo": {
     "elapsed": 9,
     "status": "ok",
     "timestamp": 1676838021744,
     "user": {
      "displayName": "Simone Paolo Mottadelli",
      "userId": "04527667705370282454"
     },
     "user_tz": -60
    },
    "id": "MzBTrpZ1VQmu",
    "outputId": "57dc8ea3-2049-4509-a0e5-6cde675ca4ef"
   },
   "outputs": [
    {
     "name": "stdout",
     "output_type": "stream",
     "text": [
      "Ho trovato il valore 4! E si trova in posizione 2 nella lista!\n"
     ]
    }
   ],
   "source": [
    "lista_valori = [1, 5, 4, 3, 6]\n",
    "i = 0\n",
    "while i < len(lista_valori):\n",
    "  if lista_valori[i] == 4:\n",
    "    print(\"Ho trovato il valore 4! E si trova in posizione \" + str(i) + \" nella lista!\")\n",
    "  i += 1"
   ]
  },
  {
   "cell_type": "markdown",
   "metadata": {
    "id": "akkprYVjiVA1"
   },
   "source": [
    "## Operazioni booleane"
   ]
  },
  {
   "cell_type": "markdown",
   "metadata": {
    "id": "PUx6NwMAiYXy"
   },
   "source": [
    "In Python, è possibile manipolare e valutare espressioni booleane. Nella sezione abbiamo visto qualche espressione booleana semplice, come verificare che un numero fosse minore, maggiore o uguale a zero. Ma è possibile anche costruire espressioni booleane complesse, tramite i connettori logici AND, OR e NOT."
   ]
  },
  {
   "cell_type": "code",
   "execution_count": 15,
   "metadata": {
    "colab": {
     "base_uri": "https://localhost:8080/"
    },
    "executionInfo": {
     "elapsed": 367,
     "status": "ok",
     "timestamp": 1676841540066,
     "user": {
      "displayName": "Simone Paolo Mottadelli",
      "userId": "04527667705370282454"
     },
     "user_tz": -60
    },
    "id": "jVV-6PjMiXj1",
    "outputId": "b59bb5a2-3a1f-41ff-d84f-60a1f0b6cc6a"
   },
   "outputs": [
    {
     "name": "stdout",
     "output_type": "stream",
     "text": [
      "2 è maggiore o uguale a 0\n"
     ]
    }
   ],
   "source": [
    "x = 2\n",
    "if x == 0 or x > 0:\n",
    "  print(f\"{x} è maggiore o uguale a 0\")"
   ]
  },
  {
   "cell_type": "markdown",
   "metadata": {
    "id": "Yw77lCqVKQz_"
   },
   "source": [
    "## Funzioni\n",
    "In Python, una funzione è un blocco di codice che può essere richiamato da altre parti del programma. Le funzioni sono utili per ripetere il codice e per organizzare il codice in modo più chiaro e leggibile.\n",
    "\n",
    "Per definire una funzione, utilizziamo la parola chiave **def**, seguita dal nome della funzione e da eventuali parametri che la funzione accetta. All'interno della funzione, specificare il codice da eseguire quando la funzione viene chiamata.\n",
    "\n",
    "Ad esempio, il seguente codice definisce una funzione che accetta un numero come parametro e restituisce il quadrato di quel numero:"
   ]
  },
  {
   "cell_type": "code",
   "execution_count": 16,
   "metadata": {
    "colab": {
     "base_uri": "https://localhost:8080/"
    },
    "executionInfo": {
     "elapsed": 465,
     "status": "ok",
     "timestamp": 1676818437425,
     "user": {
      "displayName": "Simone Paolo Mottadelli",
      "userId": "04527667705370282454"
     },
     "user_tz": -60
    },
    "id": "yosGRiCDKRJv",
    "outputId": "fb75b3ac-dd4c-42ce-dd68-1a767c6914ac"
   },
   "outputs": [
    {
     "name": "stdout",
     "output_type": "stream",
     "text": [
      "25\n"
     ]
    }
   ],
   "source": [
    "def quadrato(x):\n",
    "    return x ** 2\n",
    "\n",
    "print(quadrato(5))"
   ]
  },
  {
   "cell_type": "markdown",
   "metadata": {
    "id": "-DvtKEzLWcnp"
   },
   "source": [
    "## Installazione e import di librerie\n",
    "\n",
    "Fino ad ora abbiamo utilizzato funzioni presenti nella libreria standard di Python. Tuttavia, se si vogliono sfruttare funzionalità avanzate di Python, per esempio fare il training di un modello di Machine Learning, è necessario installare ed importare delle librerie esterne.\n",
    "\n",
    "Per poter fare ciò, si esegue il comando **pip install** seguito dal nome della libreria che si vuole installare. Una volta installata la libreria, è possibile importarla con il comando **import**. Ad esempio:"
   ]
  },
  {
   "cell_type": "code",
   "execution_count": null,
   "metadata": {
    "colab": {
     "base_uri": "https://localhost:8080/"
    },
    "executionInfo": {
     "elapsed": 4617,
     "status": "ok",
     "timestamp": 1676838580002,
     "user": {
      "displayName": "Simone Paolo Mottadelli",
      "userId": "04527667705370282454"
     },
     "user_tz": -60
    },
    "id": "bKfTJquaWqGL",
    "outputId": "404aa11c-1d34-4d67-edfc-4aa293e16a73",
    "vscode": {
     "languageId": "bat"
    }
   },
   "outputs": [
    {
     "name": "stdout",
     "output_type": "stream",
     "text": [
      "Collecting scikit-learn\n",
      "  Downloading scikit_learn-1.5.2-cp311-cp311-win_amd64.whl.metadata (13 kB)\n",
      "Collecting numpy>=1.19.5 (from scikit-learn)\n",
      "  Downloading numpy-2.1.3-cp311-cp311-win_amd64.whl.metadata (60 kB)\n",
      "     ---------------------------------------- 0.0/60.8 kB ? eta -:--:--\n",
      "     ---------------------------------------- 60.8/60.8 kB 3.2 MB/s eta 0:00:00\n",
      "Collecting scipy>=1.6.0 (from scikit-learn)\n",
      "  Downloading scipy-1.14.1-cp311-cp311-win_amd64.whl.metadata (60 kB)\n",
      "     ---------------------------------------- 0.0/60.8 kB ? eta -:--:--\n",
      "     ---------------------------------------- 60.8/60.8 kB 3.4 MB/s eta 0:00:00\n",
      "Collecting joblib>=1.2.0 (from scikit-learn)\n",
      "  Downloading joblib-1.4.2-py3-none-any.whl.metadata (5.4 kB)\n",
      "Collecting threadpoolctl>=3.1.0 (from scikit-learn)\n",
      "  Downloading threadpoolctl-3.5.0-py3-none-any.whl.metadata (13 kB)\n",
      "Downloading scikit_learn-1.5.2-cp311-cp311-win_amd64.whl (11.0 MB)\n",
      "   ---------------------------------------- 0.0/11.0 MB ? eta -:--:--\n",
      "    --------------------------------------- 0.2/11.0 MB 4.6 MB/s eta 0:00:03\n",
      "   - -------------------------------------- 0.4/11.0 MB 4.9 MB/s eta 0:00:03\n",
      "   -- ------------------------------------- 0.6/11.0 MB 4.5 MB/s eta 0:00:03\n",
      "   -- ------------------------------------- 0.8/11.0 MB 4.4 MB/s eta 0:00:03\n",
      "   --- ------------------------------------ 1.0/11.0 MB 4.6 MB/s eta 0:00:03\n",
      "   ---- ----------------------------------- 1.2/11.0 MB 4.4 MB/s eta 0:00:03\n",
      "   ---- ----------------------------------- 1.4/11.0 MB 4.6 MB/s eta 0:00:03\n",
      "   ----- ---------------------------------- 1.6/11.0 MB 4.4 MB/s eta 0:00:03\n",
      "   ------ --------------------------------- 1.8/11.0 MB 4.1 MB/s eta 0:00:03\n",
      "   ------ --------------------------------- 1.9/11.0 MB 4.2 MB/s eta 0:00:03\n",
      "   ------- -------------------------------- 2.2/11.0 MB 4.2 MB/s eta 0:00:03\n",
      "   -------- ------------------------------- 2.3/11.0 MB 4.2 MB/s eta 0:00:03\n",
      "   -------- ------------------------------- 2.4/11.0 MB 4.1 MB/s eta 0:00:03\n",
      "   -------- ------------------------------- 2.5/11.0 MB 3.8 MB/s eta 0:00:03\n",
      "   --------- ------------------------------ 2.7/11.0 MB 3.9 MB/s eta 0:00:03\n",
      "   ---------- ----------------------------- 2.9/11.0 MB 3.8 MB/s eta 0:00:03\n",
      "   ---------- ----------------------------- 3.0/11.0 MB 3.9 MB/s eta 0:00:03\n",
      "   ----------- ---------------------------- 3.2/11.0 MB 3.8 MB/s eta 0:00:03\n",
      "   ----------- ---------------------------- 3.3/11.0 MB 3.6 MB/s eta 0:00:03\n",
      "   ------------ --------------------------- 3.3/11.0 MB 3.6 MB/s eta 0:00:03\n",
      "   ------------ --------------------------- 3.4/11.0 MB 3.5 MB/s eta 0:00:03\n",
      "   ------------ --------------------------- 3.5/11.0 MB 3.5 MB/s eta 0:00:03\n",
      "   ------------- -------------------------- 3.7/11.0 MB 3.4 MB/s eta 0:00:03\n",
      "   ------------- -------------------------- 3.7/11.0 MB 3.4 MB/s eta 0:00:03\n",
      "   -------------- ------------------------- 3.9/11.0 MB 3.3 MB/s eta 0:00:03\n",
      "   -------------- ------------------------- 4.0/11.0 MB 3.3 MB/s eta 0:00:03\n",
      "   -------------- ------------------------- 4.1/11.0 MB 3.2 MB/s eta 0:00:03\n",
      "   --------------- ------------------------ 4.1/11.0 MB 3.2 MB/s eta 0:00:03\n",
      "   --------------- ------------------------ 4.3/11.0 MB 3.2 MB/s eta 0:00:03\n",
      "   ---------------- ----------------------- 4.4/11.0 MB 3.1 MB/s eta 0:00:03\n",
      "   ---------------- ----------------------- 4.6/11.0 MB 3.1 MB/s eta 0:00:03\n",
      "   ---------------- ----------------------- 4.7/11.0 MB 3.1 MB/s eta 0:00:03\n",
      "   ----------------- ---------------------- 4.8/11.0 MB 3.1 MB/s eta 0:00:02\n",
      "   ----------------- ---------------------- 4.9/11.0 MB 3.1 MB/s eta 0:00:02\n",
      "   ------------------ --------------------- 5.0/11.0 MB 3.1 MB/s eta 0:00:02\n",
      "   ------------------ --------------------- 5.2/11.0 MB 3.1 MB/s eta 0:00:02\n",
      "   ------------------- -------------------- 5.3/11.0 MB 3.1 MB/s eta 0:00:02\n",
      "   ------------------- -------------------- 5.5/11.0 MB 3.1 MB/s eta 0:00:02\n",
      "   -------------------- ------------------- 5.7/11.0 MB 3.1 MB/s eta 0:00:02\n",
      "   --------------------- ------------------ 5.9/11.0 MB 3.1 MB/s eta 0:00:02\n",
      "   --------------------- ------------------ 6.1/11.0 MB 3.1 MB/s eta 0:00:02\n",
      "   ---------------------- ----------------- 6.2/11.0 MB 3.2 MB/s eta 0:00:02\n",
      "   ----------------------- ---------------- 6.4/11.0 MB 3.2 MB/s eta 0:00:02\n",
      "   ----------------------- ---------------- 6.5/11.0 MB 3.2 MB/s eta 0:00:02\n",
      "   ------------------------ --------------- 6.6/11.0 MB 3.2 MB/s eta 0:00:02\n",
      "   ------------------------ --------------- 6.7/11.0 MB 3.1 MB/s eta 0:00:02\n",
      "   ------------------------ --------------- 6.8/11.0 MB 3.1 MB/s eta 0:00:02\n",
      "   ------------------------ --------------- 6.9/11.0 MB 3.1 MB/s eta 0:00:02\n",
      "   ------------------------- -------------- 7.0/11.0 MB 3.1 MB/s eta 0:00:02\n",
      "   ------------------------- -------------- 7.1/11.0 MB 3.0 MB/s eta 0:00:02\n",
      "   -------------------------- ------------- 7.2/11.0 MB 3.0 MB/s eta 0:00:02\n",
      "   -------------------------- ------------- 7.4/11.0 MB 3.0 MB/s eta 0:00:02\n",
      "   --------------------------- ------------ 7.5/11.0 MB 3.0 MB/s eta 0:00:02\n",
      "   --------------------------- ------------ 7.6/11.0 MB 3.0 MB/s eta 0:00:02\n",
      "   ---------------------------- ----------- 7.7/11.0 MB 3.0 MB/s eta 0:00:02\n",
      "   ---------------------------- ----------- 7.8/11.0 MB 3.0 MB/s eta 0:00:02\n",
      "   ---------------------------- ----------- 7.8/11.0 MB 2.9 MB/s eta 0:00:02\n",
      "   ---------------------------- ----------- 7.9/11.0 MB 2.9 MB/s eta 0:00:02\n",
      "   ----------------------------- ---------- 8.0/11.0 MB 2.9 MB/s eta 0:00:02\n",
      "   ----------------------------- ---------- 8.1/11.0 MB 2.9 MB/s eta 0:00:02\n",
      "   ----------------------------- ---------- 8.1/11.0 MB 2.9 MB/s eta 0:00:02\n",
      "   ----------------------------- ---------- 8.2/11.0 MB 2.8 MB/s eta 0:00:01\n",
      "   ------------------------------ --------- 8.3/11.0 MB 2.8 MB/s eta 0:00:01\n",
      "   ------------------------------ --------- 8.4/11.0 MB 2.8 MB/s eta 0:00:01\n",
      "   ------------------------------ --------- 8.5/11.0 MB 2.8 MB/s eta 0:00:01\n",
      "   ------------------------------- -------- 8.6/11.0 MB 2.8 MB/s eta 0:00:01\n",
      "   ------------------------------- -------- 8.7/11.0 MB 2.8 MB/s eta 0:00:01\n",
      "   ------------------------------- -------- 8.8/11.0 MB 2.8 MB/s eta 0:00:01\n",
      "   -------------------------------- ------- 8.8/11.0 MB 2.7 MB/s eta 0:00:01\n",
      "   -------------------------------- ------- 8.9/11.0 MB 2.7 MB/s eta 0:00:01\n",
      "   -------------------------------- ------- 9.0/11.0 MB 2.7 MB/s eta 0:00:01\n",
      "   -------------------------------- ------- 9.1/11.0 MB 2.7 MB/s eta 0:00:01\n",
      "   --------------------------------- ------ 9.2/11.0 MB 2.7 MB/s eta 0:00:01\n",
      "   --------------------------------- ------ 9.2/11.0 MB 2.7 MB/s eta 0:00:01\n",
      "   --------------------------------- ------ 9.3/11.0 MB 2.7 MB/s eta 0:00:01\n",
      "   ---------------------------------- ----- 9.4/11.0 MB 2.6 MB/s eta 0:00:01\n",
      "   ---------------------------------- ----- 9.5/11.0 MB 2.6 MB/s eta 0:00:01\n",
      "   ---------------------------------- ----- 9.6/11.0 MB 2.6 MB/s eta 0:00:01\n",
      "   ----------------------------------- ---- 9.7/11.0 MB 2.6 MB/s eta 0:00:01\n",
      "   ----------------------------------- ---- 9.9/11.0 MB 2.6 MB/s eta 0:00:01\n",
      "   ------------------------------------ --- 10.0/11.0 MB 2.6 MB/s eta 0:00:01\n",
      "   ------------------------------------ --- 10.1/11.0 MB 2.6 MB/s eta 0:00:01\n",
      "   ------------------------------------- -- 10.2/11.0 MB 2.6 MB/s eta 0:00:01\n",
      "   ------------------------------------- -- 10.4/11.0 MB 2.6 MB/s eta 0:00:01\n",
      "   -------------------------------------- - 10.5/11.0 MB 2.6 MB/s eta 0:00:01\n",
      "   -------------------------------------- - 10.6/11.0 MB 2.6 MB/s eta 0:00:01\n",
      "   ---------------------------------------  10.8/11.0 MB 2.6 MB/s eta 0:00:01\n",
      "   ---------------------------------------  10.9/11.0 MB 2.6 MB/s eta 0:00:01\n",
      "   ---------------------------------------  11.0/11.0 MB 2.6 MB/s eta 0:00:01\n",
      "   ---------------------------------------- 11.0/11.0 MB 2.6 MB/s eta 0:00:00\n",
      "Downloading joblib-1.4.2-py3-none-any.whl (301 kB)\n",
      "   ---------------------------------------- 0.0/301.8 kB ? eta -:--:--\n",
      "   -------------- ------------------------- 112.6/301.8 kB 3.3 MB/s eta 0:00:01\n",
      "   -------------------------------- ------- 245.8/301.8 kB 3.0 MB/s eta 0:00:01\n",
      "   ---------------------------------------- 301.8/301.8 kB 2.7 MB/s eta 0:00:00\n",
      "Downloading numpy-2.1.3-cp311-cp311-win_amd64.whl (12.9 MB)\n",
      "   ---------------------------------------- 0.0/12.9 MB ? eta -:--:--\n",
      "   ---------------------------------------- 0.2/12.9 MB 4.6 MB/s eta 0:00:03\n",
      "    --------------------------------------- 0.3/12.9 MB 3.5 MB/s eta 0:00:04\n",
      "   - -------------------------------------- 0.4/12.9 MB 3.3 MB/s eta 0:00:04\n",
      "   - -------------------------------------- 0.6/12.9 MB 3.2 MB/s eta 0:00:04\n",
      "   -- ------------------------------------- 0.7/12.9 MB 3.0 MB/s eta 0:00:05\n",
      "   -- ------------------------------------- 0.8/12.9 MB 2.9 MB/s eta 0:00:05\n",
      "   -- ------------------------------------- 0.8/12.9 MB 2.6 MB/s eta 0:00:05\n",
      "   -- ------------------------------------- 0.9/12.9 MB 2.4 MB/s eta 0:00:05\n",
      "   --- ------------------------------------ 1.0/12.9 MB 2.4 MB/s eta 0:00:06\n",
      "   --- ------------------------------------ 1.1/12.9 MB 2.3 MB/s eta 0:00:06\n",
      "   --- ------------------------------------ 1.2/12.9 MB 2.3 MB/s eta 0:00:06\n",
      "   ---- ----------------------------------- 1.3/12.9 MB 2.3 MB/s eta 0:00:05\n",
      "   ---- ----------------------------------- 1.4/12.9 MB 2.3 MB/s eta 0:00:05\n",
      "   ---- ----------------------------------- 1.5/12.9 MB 2.3 MB/s eta 0:00:05\n",
      "   ---- ----------------------------------- 1.5/12.9 MB 2.3 MB/s eta 0:00:05\n",
      "   ----- ---------------------------------- 1.7/12.9 MB 2.3 MB/s eta 0:00:05\n",
      "   ----- ---------------------------------- 1.8/12.9 MB 2.2 MB/s eta 0:00:05\n",
      "   ----- ---------------------------------- 1.8/12.9 MB 2.2 MB/s eta 0:00:06\n",
      "   ----- ---------------------------------- 1.9/12.9 MB 2.2 MB/s eta 0:00:06\n",
      "   ------ --------------------------------- 2.0/12.9 MB 2.2 MB/s eta 0:00:06\n",
      "   ------ --------------------------------- 2.1/12.9 MB 2.2 MB/s eta 0:00:05\n",
      "   ------ --------------------------------- 2.2/12.9 MB 2.2 MB/s eta 0:00:05\n",
      "   ------- -------------------------------- 2.3/12.9 MB 2.2 MB/s eta 0:00:05\n",
      "   ------- -------------------------------- 2.5/12.9 MB 2.2 MB/s eta 0:00:05\n",
      "   -------- ------------------------------- 2.6/12.9 MB 2.2 MB/s eta 0:00:05\n",
      "   -------- ------------------------------- 2.7/12.9 MB 2.2 MB/s eta 0:00:05\n",
      "   -------- ------------------------------- 2.9/12.9 MB 2.3 MB/s eta 0:00:05\n",
      "   --------- ------------------------------ 3.0/12.9 MB 2.3 MB/s eta 0:00:05\n",
      "   --------- ------------------------------ 3.1/12.9 MB 2.3 MB/s eta 0:00:05\n",
      "   ---------- ----------------------------- 3.3/12.9 MB 2.3 MB/s eta 0:00:05\n",
      "   ---------- ----------------------------- 3.4/12.9 MB 2.4 MB/s eta 0:00:05\n",
      "   ---------- ----------------------------- 3.5/12.9 MB 2.4 MB/s eta 0:00:04\n",
      "   ----------- ---------------------------- 3.7/12.9 MB 2.4 MB/s eta 0:00:04\n",
      "   ----------- ---------------------------- 3.8/12.9 MB 2.4 MB/s eta 0:00:04\n",
      "   ------------ --------------------------- 4.0/12.9 MB 2.4 MB/s eta 0:00:04\n",
      "   ------------ --------------------------- 4.1/12.9 MB 2.5 MB/s eta 0:00:04\n",
      "   ------------- -------------------------- 4.3/12.9 MB 2.5 MB/s eta 0:00:04\n",
      "   ------------- -------------------------- 4.5/12.9 MB 2.5 MB/s eta 0:00:04\n",
      "   -------------- ------------------------- 4.6/12.9 MB 2.5 MB/s eta 0:00:04\n",
      "   -------------- ------------------------- 4.8/12.9 MB 2.6 MB/s eta 0:00:04\n",
      "   --------------- ------------------------ 5.0/12.9 MB 2.6 MB/s eta 0:00:04\n",
      "   ---------------- ----------------------- 5.2/12.9 MB 2.6 MB/s eta 0:00:03\n",
      "   ---------------- ----------------------- 5.3/12.9 MB 2.7 MB/s eta 0:00:03\n",
      "   ----------------- ---------------------- 5.5/12.9 MB 2.7 MB/s eta 0:00:03\n",
      "   ----------------- ---------------------- 5.7/12.9 MB 2.7 MB/s eta 0:00:03\n",
      "   ------------------ --------------------- 5.9/12.9 MB 2.8 MB/s eta 0:00:03\n",
      "   ------------------ --------------------- 6.1/12.9 MB 2.8 MB/s eta 0:00:03\n",
      "   ------------------- -------------------- 6.2/12.9 MB 2.8 MB/s eta 0:00:03\n",
      "   ------------------- -------------------- 6.4/12.9 MB 2.8 MB/s eta 0:00:03\n",
      "   -------------------- ------------------- 6.5/12.9 MB 2.8 MB/s eta 0:00:03\n",
      "   -------------------- ------------------- 6.6/12.9 MB 2.8 MB/s eta 0:00:03\n",
      "   --------------------- ------------------ 6.8/12.9 MB 2.8 MB/s eta 0:00:03\n",
      "   --------------------- ------------------ 6.9/12.9 MB 2.8 MB/s eta 0:00:03\n",
      "   --------------------- ------------------ 7.0/12.9 MB 2.8 MB/s eta 0:00:03\n",
      "   ---------------------- ----------------- 7.1/12.9 MB 2.8 MB/s eta 0:00:03\n",
      "   ---------------------- ----------------- 7.2/12.9 MB 2.8 MB/s eta 0:00:03\n",
      "   ---------------------- ----------------- 7.2/12.9 MB 2.8 MB/s eta 0:00:03\n",
      "   ---------------------- ----------------- 7.2/12.9 MB 2.7 MB/s eta 0:00:03\n",
      "   ---------------------- ----------------- 7.2/12.9 MB 2.7 MB/s eta 0:00:03\n",
      "   ---------------------- ----------------- 7.3/12.9 MB 2.6 MB/s eta 0:00:03\n",
      "   ---------------------- ----------------- 7.4/12.9 MB 2.6 MB/s eta 0:00:03\n",
      "   ---------------------- ----------------- 7.4/12.9 MB 2.6 MB/s eta 0:00:03\n",
      "   ----------------------- ---------------- 7.4/12.9 MB 2.5 MB/s eta 0:00:03\n",
      "   ----------------------- ---------------- 7.5/12.9 MB 2.5 MB/s eta 0:00:03\n",
      "   ----------------------- ---------------- 7.6/12.9 MB 2.5 MB/s eta 0:00:03\n",
      "   ----------------------- ---------------- 7.7/12.9 MB 2.5 MB/s eta 0:00:03\n",
      "   ------------------------ --------------- 7.8/12.9 MB 2.5 MB/s eta 0:00:03\n",
      "   ------------------------ --------------- 7.8/12.9 MB 2.5 MB/s eta 0:00:03\n",
      "   ------------------------ --------------- 7.9/12.9 MB 2.5 MB/s eta 0:00:03\n",
      "   ------------------------ --------------- 7.9/12.9 MB 2.4 MB/s eta 0:00:03\n",
      "   ------------------------ --------------- 8.0/12.9 MB 2.4 MB/s eta 0:00:02\n",
      "   ------------------------- -------------- 8.1/12.9 MB 2.4 MB/s eta 0:00:02\n",
      "   ------------------------- -------------- 8.1/12.9 MB 2.4 MB/s eta 0:00:02\n",
      "   ------------------------- -------------- 8.2/12.9 MB 2.4 MB/s eta 0:00:02\n",
      "   ------------------------- -------------- 8.2/12.9 MB 2.4 MB/s eta 0:00:02\n",
      "   ------------------------- -------------- 8.2/12.9 MB 2.4 MB/s eta 0:00:02\n",
      "   ------------------------- -------------- 8.3/12.9 MB 2.3 MB/s eta 0:00:02\n",
      "   ------------------------- -------------- 8.3/12.9 MB 2.3 MB/s eta 0:00:02\n",
      "   ------------------------- -------------- 8.4/12.9 MB 2.3 MB/s eta 0:00:02\n",
      "   -------------------------- ------------- 8.4/12.9 MB 2.3 MB/s eta 0:00:02\n",
      "   -------------------------- ------------- 8.4/12.9 MB 2.2 MB/s eta 0:00:02\n",
      "   -------------------------- ------------- 8.5/12.9 MB 2.2 MB/s eta 0:00:02\n",
      "   -------------------------- ------------- 8.6/12.9 MB 2.2 MB/s eta 0:00:02\n",
      "   -------------------------- ------------- 8.6/12.9 MB 2.2 MB/s eta 0:00:02\n",
      "   --------------------------- ------------ 8.7/12.9 MB 2.2 MB/s eta 0:00:02\n",
      "   --------------------------- ------------ 8.8/12.9 MB 2.2 MB/s eta 0:00:02\n",
      "   --------------------------- ------------ 8.8/12.9 MB 2.2 MB/s eta 0:00:02\n",
      "   --------------------------- ------------ 8.9/12.9 MB 2.2 MB/s eta 0:00:02\n",
      "   --------------------------- ------------ 9.0/12.9 MB 2.2 MB/s eta 0:00:02\n",
      "   ---------------------------- ----------- 9.0/12.9 MB 2.2 MB/s eta 0:00:02\n",
      "   ---------------------------- ----------- 9.1/12.9 MB 2.1 MB/s eta 0:00:02\n",
      "   ---------------------------- ----------- 9.1/12.9 MB 2.1 MB/s eta 0:00:02\n",
      "   ---------------------------- ----------- 9.2/12.9 MB 2.1 MB/s eta 0:00:02\n",
      "   ---------------------------- ----------- 9.3/12.9 MB 2.1 MB/s eta 0:00:02\n",
      "   ----------------------------- ---------- 9.4/12.9 MB 2.1 MB/s eta 0:00:02\n",
      "   ----------------------------- ---------- 9.5/12.9 MB 2.1 MB/s eta 0:00:02\n",
      "   ----------------------------- ---------- 9.5/12.9 MB 2.1 MB/s eta 0:00:02\n",
      "   ----------------------------- ---------- 9.6/12.9 MB 2.1 MB/s eta 0:00:02\n",
      "   ----------------------------- ---------- 9.6/12.9 MB 2.1 MB/s eta 0:00:02\n",
      "   ------------------------------ --------- 9.8/12.9 MB 2.1 MB/s eta 0:00:02\n",
      "   ------------------------------ --------- 9.9/12.9 MB 2.1 MB/s eta 0:00:02\n",
      "   ------------------------------ --------- 9.9/12.9 MB 2.1 MB/s eta 0:00:02\n",
      "   ------------------------------- -------- 10.0/12.9 MB 2.1 MB/s eta 0:00:02\n",
      "   ------------------------------- -------- 10.1/12.9 MB 2.1 MB/s eta 0:00:02\n",
      "   ------------------------------- -------- 10.2/12.9 MB 2.1 MB/s eta 0:00:02\n",
      "   ------------------------------- -------- 10.3/12.9 MB 2.1 MB/s eta 0:00:02\n",
      "   -------------------------------- ------- 10.4/12.9 MB 2.1 MB/s eta 0:00:02\n",
      "   -------------------------------- ------- 10.5/12.9 MB 2.1 MB/s eta 0:00:02\n",
      "   -------------------------------- ------- 10.6/12.9 MB 2.1 MB/s eta 0:00:02\n",
      "   --------------------------------- ------ 10.7/12.9 MB 2.1 MB/s eta 0:00:02\n",
      "   --------------------------------- ------ 10.8/12.9 MB 2.1 MB/s eta 0:00:01\n",
      "   --------------------------------- ------ 10.9/12.9 MB 2.1 MB/s eta 0:00:01\n",
      "   ---------------------------------- ----- 11.1/12.9 MB 2.1 MB/s eta 0:00:01\n",
      "   ---------------------------------- ----- 11.2/12.9 MB 2.1 MB/s eta 0:00:01\n",
      "   ----------------------------------- ---- 11.3/12.9 MB 2.1 MB/s eta 0:00:01\n",
      "   ----------------------------------- ---- 11.5/12.9 MB 2.1 MB/s eta 0:00:01\n",
      "   ------------------------------------ --- 11.6/12.9 MB 2.1 MB/s eta 0:00:01\n",
      "   ------------------------------------ --- 11.8/12.9 MB 2.1 MB/s eta 0:00:01\n",
      "   ------------------------------------ --- 11.9/12.9 MB 2.1 MB/s eta 0:00:01\n",
      "   ------------------------------------- -- 12.0/12.9 MB 2.1 MB/s eta 0:00:01\n",
      "   ------------------------------------- -- 12.0/12.9 MB 2.1 MB/s eta 0:00:01\n",
      "   ------------------------------------- -- 12.2/12.9 MB 2.1 MB/s eta 0:00:01\n",
      "   ------------------------------------- -- 12.2/12.9 MB 2.1 MB/s eta 0:00:01\n",
      "   -------------------------------------- - 12.2/12.9 MB 2.1 MB/s eta 0:00:01\n",
      "   -------------------------------------- - 12.3/12.9 MB 2.1 MB/s eta 0:00:01\n",
      "   -------------------------------------- - 12.4/12.9 MB 2.1 MB/s eta 0:00:01\n",
      "   -------------------------------------- - 12.5/12.9 MB 2.1 MB/s eta 0:00:01\n",
      "   -------------------------------------- - 12.5/12.9 MB 2.1 MB/s eta 0:00:01\n",
      "   ---------------------------------------  12.6/12.9 MB 2.1 MB/s eta 0:00:01\n",
      "   ---------------------------------------  12.7/12.9 MB 2.1 MB/s eta 0:00:01\n",
      "   ---------------------------------------  12.7/12.9 MB 2.1 MB/s eta 0:00:01\n",
      "   ---------------------------------------  12.8/12.9 MB 2.0 MB/s eta 0:00:01\n",
      "   ---------------------------------------  12.8/12.9 MB 2.0 MB/s eta 0:00:01\n",
      "   ---------------------------------------  12.8/12.9 MB 2.0 MB/s eta 0:00:01\n",
      "   ---------------------------------------- 12.9/12.9 MB 2.0 MB/s eta 0:00:00\n",
      "Downloading scipy-1.14.1-cp311-cp311-win_amd64.whl (44.8 MB)\n",
      "   ---------------------------------------- 0.0/44.8 MB ? eta -:--:--\n",
      "   ---------------------------------------- 0.0/44.8 MB ? eta -:--:--\n",
      "   ---------------------------------------- 0.0/44.8 MB 991.0 kB/s eta 0:00:46\n",
      "   ---------------------------------------- 0.1/44.8 MB 787.7 kB/s eta 0:00:57\n",
      "   ---------------------------------------- 0.1/44.8 MB 901.1 kB/s eta 0:00:50\n",
      "   ---------------------------------------- 0.2/44.8 MB 1.1 MB/s eta 0:00:42\n",
      "   ---------------------------------------- 0.3/44.8 MB 1.2 MB/s eta 0:00:37\n",
      "   ---------------------------------------- 0.3/44.8 MB 1.2 MB/s eta 0:00:37\n",
      "   ---------------------------------------- 0.4/44.8 MB 1.2 MB/s eta 0:00:37\n",
      "   ---------------------------------------- 0.4/44.8 MB 1.2 MB/s eta 0:00:39\n",
      "   ---------------------------------------- 0.5/44.8 MB 1.3 MB/s eta 0:00:36\n",
      "   ---------------------------------------- 0.5/44.8 MB 1.2 MB/s eta 0:00:38\n",
      "    --------------------------------------- 0.6/44.8 MB 1.2 MB/s eta 0:00:38\n",
      "    --------------------------------------- 0.6/44.8 MB 1.1 MB/s eta 0:00:39\n",
      "    --------------------------------------- 0.7/44.8 MB 1.1 MB/s eta 0:00:40\n",
      "    --------------------------------------- 0.7/44.8 MB 1.2 MB/s eta 0:00:38\n",
      "    --------------------------------------- 0.8/44.8 MB 1.2 MB/s eta 0:00:38\n",
      "    --------------------------------------- 0.9/44.8 MB 1.2 MB/s eta 0:00:37\n",
      "    --------------------------------------- 0.9/44.8 MB 1.2 MB/s eta 0:00:37\n",
      "    --------------------------------------- 1.0/44.8 MB 1.3 MB/s eta 0:00:35\n",
      "    --------------------------------------- 1.1/44.8 MB 1.3 MB/s eta 0:00:35\n",
      "   - -------------------------------------- 1.2/44.8 MB 1.3 MB/s eta 0:00:35\n",
      "   - -------------------------------------- 1.3/44.8 MB 1.3 MB/s eta 0:00:33\n",
      "   - -------------------------------------- 1.4/44.8 MB 1.3 MB/s eta 0:00:33\n",
      "   - -------------------------------------- 1.5/44.8 MB 1.4 MB/s eta 0:00:32\n",
      "   - -------------------------------------- 1.5/44.8 MB 1.4 MB/s eta 0:00:31\n",
      "   - -------------------------------------- 1.7/44.8 MB 1.4 MB/s eta 0:00:30\n",
      "   - -------------------------------------- 1.8/44.8 MB 1.5 MB/s eta 0:00:30\n",
      "   - -------------------------------------- 1.9/44.8 MB 1.5 MB/s eta 0:00:29\n",
      "   - -------------------------------------- 2.0/44.8 MB 1.5 MB/s eta 0:00:29\n",
      "   - -------------------------------------- 2.1/44.8 MB 1.5 MB/s eta 0:00:28\n",
      "   - -------------------------------------- 2.2/44.8 MB 1.5 MB/s eta 0:00:28\n",
      "   - -------------------------------------- 2.2/44.8 MB 1.6 MB/s eta 0:00:28\n",
      "   -- ------------------------------------- 2.3/44.8 MB 1.6 MB/s eta 0:00:27\n",
      "   -- ------------------------------------- 2.4/44.8 MB 1.6 MB/s eta 0:00:28\n",
      "   -- ------------------------------------- 2.4/44.8 MB 1.5 MB/s eta 0:00:28\n",
      "   -- ------------------------------------- 2.5/44.8 MB 1.6 MB/s eta 0:00:28\n",
      "   -- ------------------------------------- 2.6/44.8 MB 1.6 MB/s eta 0:00:27\n",
      "   -- ------------------------------------- 2.7/44.8 MB 1.6 MB/s eta 0:00:27\n",
      "   -- ------------------------------------- 2.8/44.8 MB 1.6 MB/s eta 0:00:27\n",
      "   -- ------------------------------------- 2.9/44.8 MB 1.6 MB/s eta 0:00:27\n",
      "   -- ------------------------------------- 3.0/44.8 MB 1.6 MB/s eta 0:00:27\n",
      "   -- ------------------------------------- 3.1/44.8 MB 1.6 MB/s eta 0:00:26\n",
      "   -- ------------------------------------- 3.2/44.8 MB 1.6 MB/s eta 0:00:26\n",
      "   -- ------------------------------------- 3.3/44.8 MB 1.7 MB/s eta 0:00:25\n",
      "   --- ------------------------------------ 3.5/44.8 MB 1.7 MB/s eta 0:00:25\n",
      "   --- ------------------------------------ 3.6/44.8 MB 1.7 MB/s eta 0:00:25\n",
      "   --- ------------------------------------ 3.7/44.8 MB 1.7 MB/s eta 0:00:25\n",
      "   --- ------------------------------------ 3.8/44.8 MB 1.7 MB/s eta 0:00:24\n",
      "   --- ------------------------------------ 4.0/44.8 MB 1.8 MB/s eta 0:00:23\n",
      "   --- ------------------------------------ 4.1/44.8 MB 1.8 MB/s eta 0:00:23\n",
      "   --- ------------------------------------ 4.3/44.8 MB 1.9 MB/s eta 0:00:22\n",
      "   --- ------------------------------------ 4.4/44.8 MB 1.9 MB/s eta 0:00:22\n",
      "   ---- ----------------------------------- 4.6/44.8 MB 1.9 MB/s eta 0:00:22\n",
      "   ---- ----------------------------------- 4.7/44.8 MB 1.9 MB/s eta 0:00:22\n",
      "   ---- ----------------------------------- 4.7/44.8 MB 1.9 MB/s eta 0:00:22\n",
      "   ---- ----------------------------------- 4.7/44.8 MB 1.9 MB/s eta 0:00:22\n",
      "   ---- ----------------------------------- 4.9/44.8 MB 1.9 MB/s eta 0:00:22\n",
      "   ---- ----------------------------------- 5.1/44.8 MB 1.9 MB/s eta 0:00:21\n",
      "   ---- ----------------------------------- 5.3/44.8 MB 1.9 MB/s eta 0:00:21\n",
      "   ---- ----------------------------------- 5.4/44.8 MB 2.0 MB/s eta 0:00:21\n",
      "   ---- ----------------------------------- 5.6/44.8 MB 2.0 MB/s eta 0:00:20\n",
      "   ----- ---------------------------------- 5.7/44.8 MB 2.0 MB/s eta 0:00:20\n",
      "   ----- ---------------------------------- 5.9/44.8 MB 2.0 MB/s eta 0:00:20\n",
      "   ----- ---------------------------------- 6.1/44.8 MB 2.1 MB/s eta 0:00:19\n",
      "   ----- ---------------------------------- 6.2/44.8 MB 2.1 MB/s eta 0:00:19\n",
      "   ----- ---------------------------------- 6.3/44.8 MB 2.1 MB/s eta 0:00:19\n",
      "   ----- ---------------------------------- 6.5/44.8 MB 2.1 MB/s eta 0:00:19\n",
      "   ----- ---------------------------------- 6.6/44.8 MB 2.1 MB/s eta 0:00:18\n",
      "   ------ --------------------------------- 6.8/44.8 MB 2.1 MB/s eta 0:00:18\n",
      "   ------ --------------------------------- 7.0/44.8 MB 2.2 MB/s eta 0:00:18\n",
      "   ------ --------------------------------- 7.1/44.8 MB 2.2 MB/s eta 0:00:18\n",
      "   ------ --------------------------------- 7.3/44.8 MB 2.2 MB/s eta 0:00:18\n",
      "   ------ --------------------------------- 7.4/44.8 MB 2.2 MB/s eta 0:00:18\n",
      "   ------ --------------------------------- 7.5/44.8 MB 2.2 MB/s eta 0:00:17\n",
      "   ------ --------------------------------- 7.5/44.8 MB 2.2 MB/s eta 0:00:18\n",
      "   ------ --------------------------------- 7.6/44.8 MB 2.2 MB/s eta 0:00:18\n",
      "   ------ --------------------------------- 7.8/44.8 MB 2.2 MB/s eta 0:00:17\n",
      "   ------- -------------------------------- 7.9/44.8 MB 2.2 MB/s eta 0:00:17\n",
      "   ------- -------------------------------- 8.0/44.8 MB 2.2 MB/s eta 0:00:17\n",
      "   ------- -------------------------------- 8.1/44.8 MB 2.2 MB/s eta 0:00:17\n",
      "   ------- -------------------------------- 8.2/44.8 MB 2.2 MB/s eta 0:00:17\n",
      "   ------- -------------------------------- 8.2/44.8 MB 2.2 MB/s eta 0:00:17\n",
      "   ------- -------------------------------- 8.2/44.8 MB 2.1 MB/s eta 0:00:18\n",
      "   ------- -------------------------------- 8.3/44.8 MB 2.1 MB/s eta 0:00:18\n",
      "   ------- -------------------------------- 8.4/44.8 MB 2.1 MB/s eta 0:00:18\n",
      "   ------- -------------------------------- 8.5/44.8 MB 2.1 MB/s eta 0:00:17\n",
      "   ------- -------------------------------- 8.6/44.8 MB 2.1 MB/s eta 0:00:17\n",
      "   ------- -------------------------------- 8.7/44.8 MB 2.1 MB/s eta 0:00:17\n",
      "   ------- -------------------------------- 8.8/44.8 MB 2.1 MB/s eta 0:00:17\n",
      "   ------- -------------------------------- 8.9/44.8 MB 2.1 MB/s eta 0:00:17\n",
      "   -------- ------------------------------- 9.0/44.8 MB 2.2 MB/s eta 0:00:17\n",
      "   -------- ------------------------------- 9.2/44.8 MB 2.2 MB/s eta 0:00:17\n",
      "   -------- ------------------------------- 9.3/44.8 MB 2.2 MB/s eta 0:00:17\n",
      "   -------- ------------------------------- 9.4/44.8 MB 2.2 MB/s eta 0:00:17\n",
      "   -------- ------------------------------- 9.5/44.8 MB 2.2 MB/s eta 0:00:17\n",
      "   -------- ------------------------------- 9.7/44.8 MB 2.2 MB/s eta 0:00:16\n",
      "   -------- ------------------------------- 9.8/44.8 MB 2.2 MB/s eta 0:00:16\n",
      "   -------- ------------------------------- 10.0/44.8 MB 2.2 MB/s eta 0:00:16\n",
      "   --------- ------------------------------ 10.1/44.8 MB 2.2 MB/s eta 0:00:16\n",
      "   --------- ------------------------------ 10.2/44.8 MB 2.2 MB/s eta 0:00:16\n",
      "   --------- ------------------------------ 10.3/44.8 MB 2.2 MB/s eta 0:00:16\n",
      "   --------- ------------------------------ 10.4/44.8 MB 2.3 MB/s eta 0:00:16\n",
      "   --------- ------------------------------ 10.5/44.8 MB 2.3 MB/s eta 0:00:16\n",
      "   --------- ------------------------------ 10.6/44.8 MB 2.3 MB/s eta 0:00:15\n",
      "   --------- ------------------------------ 10.8/44.8 MB 2.3 MB/s eta 0:00:15\n",
      "   --------- ------------------------------ 10.9/44.8 MB 2.4 MB/s eta 0:00:15\n",
      "   --------- ------------------------------ 11.0/44.8 MB 2.4 MB/s eta 0:00:15\n",
      "   --------- ------------------------------ 11.1/44.8 MB 2.4 MB/s eta 0:00:15\n",
      "   --------- ------------------------------ 11.2/44.8 MB 2.4 MB/s eta 0:00:14\n",
      "   ---------- ----------------------------- 11.3/44.8 MB 2.4 MB/s eta 0:00:14\n",
      "   ---------- ----------------------------- 11.5/44.8 MB 2.5 MB/s eta 0:00:14\n",
      "   ---------- ----------------------------- 11.6/44.8 MB 2.5 MB/s eta 0:00:14\n",
      "   ---------- ----------------------------- 11.8/44.8 MB 2.5 MB/s eta 0:00:14\n",
      "   ---------- ----------------------------- 12.0/44.8 MB 2.5 MB/s eta 0:00:14\n",
      "   ---------- ----------------------------- 12.1/44.8 MB 2.5 MB/s eta 0:00:14\n",
      "   ---------- ----------------------------- 12.1/44.8 MB 2.5 MB/s eta 0:00:14\n",
      "   ---------- ----------------------------- 12.3/44.8 MB 2.5 MB/s eta 0:00:14\n",
      "   ---------- ----------------------------- 12.3/44.8 MB 2.5 MB/s eta 0:00:13\n",
      "   ----------- ---------------------------- 12.4/44.8 MB 2.5 MB/s eta 0:00:14\n",
      "   ----------- ---------------------------- 12.4/44.8 MB 2.5 MB/s eta 0:00:14\n",
      "   ----------- ---------------------------- 12.4/44.8 MB 2.4 MB/s eta 0:00:14\n",
      "   ----------- ---------------------------- 12.5/44.8 MB 2.4 MB/s eta 0:00:14\n",
      "   ----------- ---------------------------- 12.5/44.8 MB 2.4 MB/s eta 0:00:14\n",
      "   ----------- ---------------------------- 12.5/44.8 MB 2.4 MB/s eta 0:00:14\n",
      "   ----------- ---------------------------- 12.6/44.8 MB 2.4 MB/s eta 0:00:14\n",
      "   ----------- ---------------------------- 12.6/44.8 MB 2.4 MB/s eta 0:00:14\n",
      "   ----------- ---------------------------- 12.7/44.8 MB 2.4 MB/s eta 0:00:14\n",
      "   ----------- ---------------------------- 12.7/44.8 MB 2.4 MB/s eta 0:00:14\n",
      "   ----------- ---------------------------- 12.8/44.8 MB 2.4 MB/s eta 0:00:14\n",
      "   ----------- ---------------------------- 12.9/44.8 MB 2.4 MB/s eta 0:00:14\n",
      "   ----------- ---------------------------- 13.0/44.8 MB 2.4 MB/s eta 0:00:14\n",
      "   ----------- ---------------------------- 13.0/44.8 MB 2.4 MB/s eta 0:00:14\n",
      "   ----------- ---------------------------- 13.1/44.8 MB 2.3 MB/s eta 0:00:14\n",
      "   ----------- ---------------------------- 13.1/44.8 MB 2.3 MB/s eta 0:00:14\n",
      "   ----------- ---------------------------- 13.2/44.8 MB 2.3 MB/s eta 0:00:14\n",
      "   ----------- ---------------------------- 13.3/44.8 MB 2.3 MB/s eta 0:00:14\n",
      "   ----------- ---------------------------- 13.3/44.8 MB 2.3 MB/s eta 0:00:14\n",
      "   ----------- ---------------------------- 13.4/44.8 MB 2.3 MB/s eta 0:00:14\n",
      "   ------------ --------------------------- 13.5/44.8 MB 2.3 MB/s eta 0:00:14\n",
      "   ------------ --------------------------- 13.6/44.8 MB 2.3 MB/s eta 0:00:14\n",
      "   ------------ --------------------------- 13.7/44.8 MB 2.3 MB/s eta 0:00:14\n",
      "   ------------ --------------------------- 13.8/44.8 MB 2.3 MB/s eta 0:00:14\n",
      "   ------------ --------------------------- 13.9/44.8 MB 2.3 MB/s eta 0:00:14\n",
      "   ------------ --------------------------- 14.0/44.8 MB 2.3 MB/s eta 0:00:14\n",
      "   ------------ --------------------------- 14.0/44.8 MB 2.3 MB/s eta 0:00:14\n",
      "   ------------ --------------------------- 14.1/44.8 MB 2.2 MB/s eta 0:00:14\n",
      "   ------------ --------------------------- 14.2/44.8 MB 2.2 MB/s eta 0:00:14\n",
      "   ------------ --------------------------- 14.3/44.8 MB 2.2 MB/s eta 0:00:14\n",
      "   ------------ --------------------------- 14.4/44.8 MB 2.2 MB/s eta 0:00:14\n",
      "   ------------ --------------------------- 14.6/44.8 MB 2.2 MB/s eta 0:00:14\n",
      "   ------------- -------------------------- 14.7/44.8 MB 2.2 MB/s eta 0:00:14\n",
      "   ------------- -------------------------- 14.8/44.8 MB 2.2 MB/s eta 0:00:14\n",
      "   ------------- -------------------------- 14.9/44.8 MB 2.2 MB/s eta 0:00:14\n",
      "   ------------- -------------------------- 15.0/44.8 MB 2.2 MB/s eta 0:00:14\n",
      "   ------------- -------------------------- 15.1/44.8 MB 2.2 MB/s eta 0:00:14\n",
      "   ------------- -------------------------- 15.2/44.8 MB 2.2 MB/s eta 0:00:14\n",
      "   ------------- -------------------------- 15.4/44.8 MB 2.2 MB/s eta 0:00:14\n",
      "   ------------- -------------------------- 15.5/44.8 MB 2.2 MB/s eta 0:00:14\n",
      "   ------------- -------------------------- 15.6/44.8 MB 2.2 MB/s eta 0:00:14\n",
      "   -------------- ------------------------- 15.7/44.8 MB 2.2 MB/s eta 0:00:14\n",
      "   -------------- ------------------------- 15.8/44.8 MB 2.2 MB/s eta 0:00:14\n",
      "   -------------- ------------------------- 15.9/44.8 MB 2.2 MB/s eta 0:00:14\n",
      "   -------------- ------------------------- 16.0/44.8 MB 2.2 MB/s eta 0:00:14\n",
      "   -------------- ------------------------- 16.1/44.8 MB 2.2 MB/s eta 0:00:14\n",
      "   -------------- ------------------------- 16.2/44.8 MB 2.2 MB/s eta 0:00:14\n",
      "   -------------- ------------------------- 16.3/44.8 MB 2.1 MB/s eta 0:00:14\n",
      "   -------------- ------------------------- 16.4/44.8 MB 2.1 MB/s eta 0:00:14\n",
      "   -------------- ------------------------- 16.4/44.8 MB 2.1 MB/s eta 0:00:14\n",
      "   -------------- ------------------------- 16.4/44.8 MB 2.1 MB/s eta 0:00:14\n",
      "   -------------- ------------------------- 16.5/44.8 MB 2.1 MB/s eta 0:00:14\n",
      "   -------------- ------------------------- 16.6/44.8 MB 2.1 MB/s eta 0:00:14\n",
      "   -------------- ------------------------- 16.7/44.8 MB 2.1 MB/s eta 0:00:14\n",
      "   -------------- ------------------------- 16.8/44.8 MB 2.1 MB/s eta 0:00:14\n",
      "   --------------- ------------------------ 16.8/44.8 MB 2.1 MB/s eta 0:00:14\n",
      "   --------------- ------------------------ 16.9/44.8 MB 2.0 MB/s eta 0:00:14\n",
      "   --------------- ------------------------ 17.0/44.8 MB 2.0 MB/s eta 0:00:14\n",
      "   --------------- ------------------------ 17.0/44.8 MB 2.0 MB/s eta 0:00:14\n",
      "   --------------- ------------------------ 17.0/44.8 MB 2.0 MB/s eta 0:00:14\n",
      "   --------------- ------------------------ 17.1/44.8 MB 2.0 MB/s eta 0:00:14\n",
      "   --------------- ------------------------ 17.1/44.8 MB 2.0 MB/s eta 0:00:14\n",
      "   --------------- ------------------------ 17.2/44.8 MB 2.0 MB/s eta 0:00:15\n",
      "   --------------- ------------------------ 17.2/44.8 MB 2.0 MB/s eta 0:00:15\n",
      "   --------------- ------------------------ 17.3/44.8 MB 1.9 MB/s eta 0:00:15\n",
      "   --------------- ------------------------ 17.3/44.8 MB 1.9 MB/s eta 0:00:15\n",
      "   --------------- ------------------------ 17.4/44.8 MB 1.9 MB/s eta 0:00:15\n",
      "   --------------- ------------------------ 17.5/44.8 MB 1.9 MB/s eta 0:00:15\n",
      "   --------------- ------------------------ 17.5/44.8 MB 1.9 MB/s eta 0:00:15\n",
      "   --------------- ------------------------ 17.6/44.8 MB 1.9 MB/s eta 0:00:15\n",
      "   --------------- ------------------------ 17.7/44.8 MB 1.9 MB/s eta 0:00:15\n",
      "   --------------- ------------------------ 17.7/44.8 MB 1.9 MB/s eta 0:00:15\n",
      "   --------------- ------------------------ 17.8/44.8 MB 1.9 MB/s eta 0:00:15\n",
      "   --------------- ------------------------ 17.9/44.8 MB 1.9 MB/s eta 0:00:15\n",
      "   ---------------- ----------------------- 17.9/44.8 MB 1.9 MB/s eta 0:00:15\n",
      "   ---------------- ----------------------- 18.0/44.8 MB 1.9 MB/s eta 0:00:15\n",
      "   ---------------- ----------------------- 18.1/44.8 MB 1.9 MB/s eta 0:00:15\n",
      "   ---------------- ----------------------- 18.1/44.8 MB 1.9 MB/s eta 0:00:15\n",
      "   ---------------- ----------------------- 18.2/44.8 MB 1.8 MB/s eta 0:00:15\n",
      "   ---------------- ----------------------- 18.3/44.8 MB 1.8 MB/s eta 0:00:15\n",
      "   ---------------- ----------------------- 18.4/44.8 MB 1.8 MB/s eta 0:00:15\n",
      "   ---------------- ----------------------- 18.4/44.8 MB 1.9 MB/s eta 0:00:15\n",
      "   ---------------- ----------------------- 18.5/44.8 MB 1.9 MB/s eta 0:00:15\n",
      "   ---------------- ----------------------- 18.5/44.8 MB 1.8 MB/s eta 0:00:15\n",
      "   ---------------- ----------------------- 18.5/44.8 MB 1.8 MB/s eta 0:00:15\n",
      "   ---------------- ----------------------- 18.6/44.8 MB 1.8 MB/s eta 0:00:15\n",
      "   ---------------- ----------------------- 18.6/44.8 MB 1.8 MB/s eta 0:00:15\n",
      "   ---------------- ----------------------- 18.7/44.8 MB 1.8 MB/s eta 0:00:15\n",
      "   ---------------- ----------------------- 18.7/44.8 MB 1.8 MB/s eta 0:00:15\n",
      "   ---------------- ----------------------- 18.8/44.8 MB 1.8 MB/s eta 0:00:15\n",
      "   ---------------- ----------------------- 18.8/44.8 MB 1.8 MB/s eta 0:00:15\n",
      "   ---------------- ----------------------- 18.8/44.8 MB 1.8 MB/s eta 0:00:15\n",
      "   ---------------- ----------------------- 18.8/44.8 MB 1.8 MB/s eta 0:00:15\n",
      "   ---------------- ----------------------- 18.8/44.8 MB 1.8 MB/s eta 0:00:15\n",
      "   ---------------- ----------------------- 18.9/44.8 MB 1.7 MB/s eta 0:00:15\n",
      "   ---------------- ----------------------- 18.9/44.8 MB 1.7 MB/s eta 0:00:15\n",
      "   ---------------- ----------------------- 19.0/44.8 MB 1.7 MB/s eta 0:00:15\n",
      "   ----------------- ---------------------- 19.0/44.8 MB 1.7 MB/s eta 0:00:15\n",
      "   ----------------- ---------------------- 19.1/44.8 MB 1.7 MB/s eta 0:00:15\n",
      "   ----------------- ---------------------- 19.2/44.8 MB 1.7 MB/s eta 0:00:15\n",
      "   ----------------- ---------------------- 19.3/44.8 MB 1.7 MB/s eta 0:00:15\n",
      "   ----------------- ---------------------- 19.4/44.8 MB 1.7 MB/s eta 0:00:15\n",
      "   ----------------- ---------------------- 19.5/44.8 MB 1.7 MB/s eta 0:00:15\n",
      "   ----------------- ---------------------- 19.5/44.8 MB 1.7 MB/s eta 0:00:15\n",
      "   ----------------- ---------------------- 19.6/44.8 MB 1.7 MB/s eta 0:00:15\n",
      "   ----------------- ---------------------- 19.6/44.8 MB 1.7 MB/s eta 0:00:16\n",
      "   ----------------- ---------------------- 19.7/44.8 MB 1.7 MB/s eta 0:00:16\n",
      "   ----------------- ---------------------- 19.7/44.8 MB 1.7 MB/s eta 0:00:16\n",
      "   ----------------- ---------------------- 19.8/44.8 MB 1.7 MB/s eta 0:00:16\n",
      "   ----------------- ---------------------- 19.8/44.8 MB 1.6 MB/s eta 0:00:16\n",
      "   ----------------- ---------------------- 19.8/44.8 MB 1.6 MB/s eta 0:00:16\n",
      "   ----------------- ---------------------- 19.9/44.8 MB 1.6 MB/s eta 0:00:16\n",
      "   ----------------- ---------------------- 19.9/44.8 MB 1.6 MB/s eta 0:00:16\n",
      "   ----------------- ---------------------- 20.0/44.8 MB 1.6 MB/s eta 0:00:16\n",
      "   ----------------- ---------------------- 20.0/44.8 MB 1.6 MB/s eta 0:00:16\n",
      "   ----------------- ---------------------- 20.1/44.8 MB 1.6 MB/s eta 0:00:16\n",
      "   ------------------ --------------------- 20.2/44.8 MB 1.6 MB/s eta 0:00:16\n",
      "   ------------------ --------------------- 20.2/44.8 MB 1.6 MB/s eta 0:00:16\n",
      "   ------------------ --------------------- 20.3/44.8 MB 1.6 MB/s eta 0:00:16\n",
      "   ------------------ --------------------- 20.4/44.8 MB 1.6 MB/s eta 0:00:16\n",
      "   ------------------ --------------------- 20.5/44.8 MB 1.6 MB/s eta 0:00:16\n",
      "   ------------------ --------------------- 20.6/44.8 MB 1.6 MB/s eta 0:00:16\n",
      "   ------------------ --------------------- 20.7/44.8 MB 1.6 MB/s eta 0:00:16\n",
      "   ------------------ --------------------- 20.8/44.8 MB 1.6 MB/s eta 0:00:16\n",
      "   ------------------ --------------------- 20.8/44.8 MB 1.6 MB/s eta 0:00:16\n",
      "   ------------------ --------------------- 20.9/44.8 MB 1.6 MB/s eta 0:00:16\n",
      "   ------------------ --------------------- 21.0/44.8 MB 1.6 MB/s eta 0:00:16\n",
      "   ------------------ --------------------- 21.1/44.8 MB 1.6 MB/s eta 0:00:16\n",
      "   ------------------ --------------------- 21.1/44.8 MB 1.6 MB/s eta 0:00:16\n",
      "   ------------------- -------------------- 21.3/44.8 MB 1.5 MB/s eta 0:00:16\n",
      "   ------------------- -------------------- 21.4/44.8 MB 1.6 MB/s eta 0:00:16\n",
      "   ------------------- -------------------- 21.5/44.8 MB 1.6 MB/s eta 0:00:15\n",
      "   ------------------- -------------------- 21.7/44.8 MB 1.6 MB/s eta 0:00:15\n",
      "   ------------------- -------------------- 21.8/44.8 MB 1.6 MB/s eta 0:00:15\n",
      "   ------------------- -------------------- 21.9/44.8 MB 1.6 MB/s eta 0:00:15\n",
      "   ------------------- -------------------- 21.9/44.8 MB 1.5 MB/s eta 0:00:15\n",
      "   ------------------- -------------------- 21.9/44.8 MB 1.5 MB/s eta 0:00:15\n",
      "   ------------------- -------------------- 22.0/44.8 MB 1.5 MB/s eta 0:00:15\n",
      "   ------------------- -------------------- 22.1/44.8 MB 1.5 MB/s eta 0:00:15\n",
      "   ------------------- -------------------- 22.3/44.8 MB 1.5 MB/s eta 0:00:15\n",
      "   ------------------- -------------------- 22.3/44.8 MB 1.5 MB/s eta 0:00:15\n",
      "   -------------------- ------------------- 22.4/44.8 MB 1.5 MB/s eta 0:00:15\n",
      "   -------------------- ------------------- 22.5/44.8 MB 1.5 MB/s eta 0:00:15\n",
      "   -------------------- ------------------- 22.6/44.8 MB 1.6 MB/s eta 0:00:15\n",
      "   -------------------- ------------------- 22.8/44.8 MB 1.6 MB/s eta 0:00:14\n",
      "   -------------------- ------------------- 22.9/44.8 MB 1.6 MB/s eta 0:00:14\n",
      "   -------------------- ------------------- 22.9/44.8 MB 1.6 MB/s eta 0:00:14\n",
      "   -------------------- ------------------- 23.1/44.8 MB 1.6 MB/s eta 0:00:14\n",
      "   -------------------- ------------------- 23.2/44.8 MB 1.6 MB/s eta 0:00:14\n",
      "   -------------------- ------------------- 23.2/44.8 MB 1.6 MB/s eta 0:00:14\n",
      "   -------------------- ------------------- 23.3/44.8 MB 1.6 MB/s eta 0:00:14\n",
      "   -------------------- ------------------- 23.4/44.8 MB 1.6 MB/s eta 0:00:14\n",
      "   --------------------- ------------------ 23.5/44.8 MB 1.6 MB/s eta 0:00:14\n",
      "   --------------------- ------------------ 23.7/44.8 MB 1.6 MB/s eta 0:00:13\n",
      "   --------------------- ------------------ 23.7/44.8 MB 1.6 MB/s eta 0:00:13\n",
      "   --------------------- ------------------ 23.8/44.8 MB 1.6 MB/s eta 0:00:13\n",
      "   --------------------- ------------------ 23.8/44.8 MB 1.6 MB/s eta 0:00:13\n",
      "   --------------------- ------------------ 23.9/44.8 MB 1.6 MB/s eta 0:00:13\n",
      "   --------------------- ------------------ 24.0/44.8 MB 1.6 MB/s eta 0:00:13\n",
      "   --------------------- ------------------ 24.1/44.8 MB 1.6 MB/s eta 0:00:13\n",
      "   --------------------- ------------------ 24.1/44.8 MB 1.6 MB/s eta 0:00:13\n",
      "   --------------------- ------------------ 24.2/44.8 MB 1.6 MB/s eta 0:00:13\n",
      "   --------------------- ------------------ 24.3/44.8 MB 1.6 MB/s eta 0:00:13\n",
      "   --------------------- ------------------ 24.3/44.8 MB 1.6 MB/s eta 0:00:13\n",
      "   --------------------- ------------------ 24.4/44.8 MB 1.6 MB/s eta 0:00:13\n",
      "   --------------------- ------------------ 24.5/44.8 MB 1.6 MB/s eta 0:00:13\n",
      "   --------------------- ------------------ 24.6/44.8 MB 1.6 MB/s eta 0:00:13\n",
      "   ---------------------- ----------------- 24.7/44.8 MB 1.6 MB/s eta 0:00:13\n",
      "   ---------------------- ----------------- 24.8/44.8 MB 1.6 MB/s eta 0:00:13\n",
      "   ---------------------- ----------------- 24.9/44.8 MB 1.6 MB/s eta 0:00:13\n",
      "   ---------------------- ----------------- 25.0/44.8 MB 1.6 MB/s eta 0:00:13\n",
      "   ---------------------- ----------------- 25.1/44.8 MB 1.6 MB/s eta 0:00:13\n",
      "   ---------------------- ----------------- 25.2/44.8 MB 1.6 MB/s eta 0:00:13\n",
      "   ---------------------- ----------------- 25.3/44.8 MB 1.6 MB/s eta 0:00:13\n",
      "   ---------------------- ----------------- 25.3/44.8 MB 1.6 MB/s eta 0:00:13\n",
      "   ---------------------- ----------------- 25.4/44.8 MB 1.6 MB/s eta 0:00:13\n",
      "   ---------------------- ----------------- 25.5/44.8 MB 1.6 MB/s eta 0:00:13\n",
      "   ---------------------- ----------------- 25.6/44.8 MB 1.6 MB/s eta 0:00:13\n",
      "   ---------------------- ----------------- 25.7/44.8 MB 1.6 MB/s eta 0:00:13\n",
      "   ----------------------- ---------------- 25.8/44.8 MB 1.6 MB/s eta 0:00:13\n",
      "   ----------------------- ---------------- 25.9/44.8 MB 1.6 MB/s eta 0:00:13\n",
      "   ----------------------- ---------------- 25.9/44.8 MB 1.6 MB/s eta 0:00:13\n",
      "   ----------------------- ---------------- 26.0/44.8 MB 1.6 MB/s eta 0:00:13\n",
      "   ----------------------- ---------------- 26.1/44.8 MB 1.6 MB/s eta 0:00:13\n",
      "   ----------------------- ---------------- 26.1/44.8 MB 1.5 MB/s eta 0:00:13\n",
      "   ----------------------- ---------------- 26.1/44.8 MB 1.5 MB/s eta 0:00:13\n",
      "   ----------------------- ---------------- 26.2/44.8 MB 1.5 MB/s eta 0:00:13\n",
      "   ----------------------- ---------------- 26.2/44.8 MB 1.5 MB/s eta 0:00:13\n",
      "   ----------------------- ---------------- 26.2/44.8 MB 1.5 MB/s eta 0:00:13\n",
      "   ----------------------- ---------------- 26.2/44.8 MB 1.5 MB/s eta 0:00:13\n",
      "   ----------------------- ---------------- 26.2/44.8 MB 1.5 MB/s eta 0:00:13\n",
      "   ----------------------- ---------------- 26.3/44.8 MB 1.5 MB/s eta 0:00:13\n",
      "   ----------------------- ---------------- 26.3/44.8 MB 1.5 MB/s eta 0:00:13\n",
      "   ----------------------- ---------------- 26.3/44.8 MB 1.5 MB/s eta 0:00:13\n",
      "   ----------------------- ---------------- 26.4/44.8 MB 1.5 MB/s eta 0:00:13\n",
      "   ----------------------- ---------------- 26.4/44.8 MB 1.5 MB/s eta 0:00:13\n",
      "   ----------------------- ---------------- 26.4/44.8 MB 1.5 MB/s eta 0:00:13\n",
      "   ----------------------- ---------------- 26.5/44.8 MB 1.5 MB/s eta 0:00:13\n",
      "   ----------------------- ---------------- 26.5/44.8 MB 1.5 MB/s eta 0:00:13\n",
      "   ----------------------- ---------------- 26.6/44.8 MB 1.4 MB/s eta 0:00:13\n",
      "   ----------------------- ---------------- 26.6/44.8 MB 1.4 MB/s eta 0:00:13\n",
      "   ----------------------- ---------------- 26.6/44.8 MB 1.4 MB/s eta 0:00:13\n",
      "   ----------------------- ---------------- 26.7/44.8 MB 1.4 MB/s eta 0:00:13\n",
      "   ----------------------- ---------------- 26.7/44.8 MB 1.4 MB/s eta 0:00:13\n",
      "   ----------------------- ---------------- 26.7/44.8 MB 1.4 MB/s eta 0:00:13\n",
      "   ----------------------- ---------------- 26.8/44.8 MB 1.4 MB/s eta 0:00:13\n",
      "   ----------------------- ---------------- 26.8/44.8 MB 1.4 MB/s eta 0:00:13\n",
      "   ------------------------ --------------- 26.9/44.8 MB 1.4 MB/s eta 0:00:13\n",
      "   ------------------------ --------------- 27.0/44.8 MB 1.4 MB/s eta 0:00:13\n",
      "   ------------------------ --------------- 27.0/44.8 MB 1.4 MB/s eta 0:00:13\n",
      "   ------------------------ --------------- 27.0/44.8 MB 1.4 MB/s eta 0:00:13\n",
      "   ------------------------ --------------- 27.1/44.8 MB 1.4 MB/s eta 0:00:13\n",
      "   ------------------------ --------------- 27.1/44.8 MB 1.4 MB/s eta 0:00:13\n",
      "   ------------------------ --------------- 27.2/44.8 MB 1.4 MB/s eta 0:00:13\n",
      "   ------------------------ --------------- 27.2/44.8 MB 1.4 MB/s eta 0:00:13\n",
      "   ------------------------ --------------- 27.2/44.8 MB 1.4 MB/s eta 0:00:13\n",
      "   ------------------------ --------------- 27.2/44.8 MB 1.4 MB/s eta 0:00:13\n",
      "   ------------------------ --------------- 27.2/44.8 MB 1.4 MB/s eta 0:00:13\n",
      "   ------------------------ --------------- 27.3/44.8 MB 1.4 MB/s eta 0:00:13\n",
      "   ------------------------ --------------- 27.3/44.8 MB 1.4 MB/s eta 0:00:13\n",
      "   ------------------------ --------------- 27.3/44.8 MB 1.4 MB/s eta 0:00:13\n",
      "   ------------------------ --------------- 27.3/44.8 MB 1.4 MB/s eta 0:00:13\n",
      "   ------------------------ --------------- 27.3/44.8 MB 1.4 MB/s eta 0:00:13\n",
      "   ------------------------ --------------- 27.4/44.8 MB 1.4 MB/s eta 0:00:13\n",
      "   ------------------------ --------------- 27.4/44.8 MB 1.3 MB/s eta 0:00:13\n",
      "   ------------------------ --------------- 27.4/44.8 MB 1.3 MB/s eta 0:00:13\n",
      "   ------------------------ --------------- 27.4/44.8 MB 1.3 MB/s eta 0:00:13\n",
      "   ------------------------ --------------- 27.5/44.8 MB 1.3 MB/s eta 0:00:13\n",
      "   ------------------------ --------------- 27.5/44.8 MB 1.3 MB/s eta 0:00:13\n",
      "   ------------------------ --------------- 27.5/44.8 MB 1.3 MB/s eta 0:00:13\n",
      "   ------------------------ --------------- 27.6/44.8 MB 1.3 MB/s eta 0:00:13\n",
      "   ------------------------ --------------- 27.6/44.8 MB 1.3 MB/s eta 0:00:13\n",
      "   ------------------------ --------------- 27.7/44.8 MB 1.3 MB/s eta 0:00:13\n",
      "   ------------------------ --------------- 27.7/44.8 MB 1.3 MB/s eta 0:00:13\n",
      "   ------------------------ --------------- 27.8/44.8 MB 1.3 MB/s eta 0:00:13\n",
      "   ------------------------ --------------- 27.9/44.8 MB 1.3 MB/s eta 0:00:13\n",
      "   ------------------------ --------------- 27.9/44.8 MB 1.3 MB/s eta 0:00:13\n",
      "   ------------------------ --------------- 28.0/44.8 MB 1.3 MB/s eta 0:00:13\n",
      "   ------------------------- -------------- 28.0/44.8 MB 1.3 MB/s eta 0:00:13\n",
      "   ------------------------- -------------- 28.1/44.8 MB 1.3 MB/s eta 0:00:13\n",
      "   ------------------------- -------------- 28.1/44.8 MB 1.3 MB/s eta 0:00:13\n",
      "   ------------------------- -------------- 28.2/44.8 MB 1.3 MB/s eta 0:00:13\n",
      "   ------------------------- -------------- 28.2/44.8 MB 1.3 MB/s eta 0:00:13\n",
      "   ------------------------- -------------- 28.3/44.8 MB 1.3 MB/s eta 0:00:13\n",
      "   ------------------------- -------------- 28.3/44.8 MB 1.3 MB/s eta 0:00:13\n",
      "   ------------------------- -------------- 28.3/44.8 MB 1.3 MB/s eta 0:00:13\n",
      "   ------------------------- -------------- 28.3/44.8 MB 1.3 MB/s eta 0:00:13\n",
      "   ------------------------- -------------- 28.4/44.8 MB 1.3 MB/s eta 0:00:13\n",
      "   ------------------------- -------------- 28.4/44.8 MB 1.3 MB/s eta 0:00:13\n",
      "   ------------------------- -------------- 28.5/44.8 MB 1.3 MB/s eta 0:00:13\n",
      "   ------------------------- -------------- 28.5/44.8 MB 1.3 MB/s eta 0:00:13\n",
      "   ------------------------- -------------- 28.6/44.8 MB 1.3 MB/s eta 0:00:13\n",
      "   ------------------------- -------------- 28.6/44.8 MB 1.3 MB/s eta 0:00:13\n",
      "   ------------------------- -------------- 28.7/44.8 MB 1.3 MB/s eta 0:00:13\n",
      "   ------------------------- -------------- 28.8/44.8 MB 1.3 MB/s eta 0:00:13\n",
      "   ------------------------- -------------- 28.8/44.8 MB 1.3 MB/s eta 0:00:13\n",
      "   ------------------------- -------------- 28.8/44.8 MB 1.3 MB/s eta 0:00:13\n",
      "   ------------------------- -------------- 28.9/44.8 MB 1.3 MB/s eta 0:00:13\n",
      "   ------------------------- -------------- 28.9/44.8 MB 1.3 MB/s eta 0:00:13\n",
      "   ------------------------- -------------- 29.0/44.8 MB 1.3 MB/s eta 0:00:13\n",
      "   ------------------------- -------------- 29.1/44.8 MB 1.3 MB/s eta 0:00:12\n",
      "   -------------------------- ------------- 29.1/44.8 MB 1.3 MB/s eta 0:00:12\n",
      "   -------------------------- ------------- 29.2/44.8 MB 1.3 MB/s eta 0:00:12\n",
      "   -------------------------- ------------- 29.2/44.8 MB 1.3 MB/s eta 0:00:12\n",
      "   -------------------------- ------------- 29.2/44.8 MB 1.3 MB/s eta 0:00:12\n",
      "   -------------------------- ------------- 29.3/44.8 MB 1.3 MB/s eta 0:00:12\n",
      "   -------------------------- ------------- 29.3/44.8 MB 1.3 MB/s eta 0:00:12\n",
      "   -------------------------- ------------- 29.3/44.8 MB 1.3 MB/s eta 0:00:12\n",
      "   -------------------------- ------------- 29.4/44.8 MB 1.3 MB/s eta 0:00:12\n",
      "   -------------------------- ------------- 29.4/44.8 MB 1.3 MB/s eta 0:00:12\n",
      "   -------------------------- ------------- 29.4/44.8 MB 1.3 MB/s eta 0:00:12\n",
      "   -------------------------- ------------- 29.5/44.8 MB 1.3 MB/s eta 0:00:12\n",
      "   -------------------------- ------------- 29.5/44.8 MB 1.3 MB/s eta 0:00:13\n",
      "   -------------------------- ------------- 29.6/44.8 MB 1.3 MB/s eta 0:00:12\n",
      "   -------------------------- ------------- 29.6/44.8 MB 1.3 MB/s eta 0:00:12\n",
      "   -------------------------- ------------- 29.6/44.8 MB 1.3 MB/s eta 0:00:12\n",
      "   -------------------------- ------------- 29.7/44.8 MB 1.3 MB/s eta 0:00:12\n",
      "   -------------------------- ------------- 29.7/44.8 MB 1.3 MB/s eta 0:00:12\n",
      "   -------------------------- ------------- 29.8/44.8 MB 1.3 MB/s eta 0:00:12\n",
      "   -------------------------- ------------- 29.8/44.8 MB 1.3 MB/s eta 0:00:12\n",
      "   -------------------------- ------------- 29.8/44.8 MB 1.3 MB/s eta 0:00:12\n",
      "   -------------------------- ------------- 29.9/44.8 MB 1.3 MB/s eta 0:00:12\n",
      "   -------------------------- ------------- 29.9/44.8 MB 1.2 MB/s eta 0:00:12\n",
      "   -------------------------- ------------- 30.0/44.8 MB 1.2 MB/s eta 0:00:12\n",
      "   -------------------------- ------------- 30.0/44.8 MB 1.2 MB/s eta 0:00:12\n",
      "   -------------------------- ------------- 30.1/44.8 MB 1.2 MB/s eta 0:00:12\n",
      "   -------------------------- ------------- 30.1/44.8 MB 1.3 MB/s eta 0:00:12\n",
      "   -------------------------- ------------- 30.2/44.8 MB 1.3 MB/s eta 0:00:12\n",
      "   -------------------------- ------------- 30.2/44.8 MB 1.3 MB/s eta 0:00:12\n",
      "   -------------------------- ------------- 30.2/44.8 MB 1.2 MB/s eta 0:00:12\n",
      "   --------------------------- ------------ 30.3/44.8 MB 1.2 MB/s eta 0:00:12\n",
      "   --------------------------- ------------ 30.3/44.8 MB 1.2 MB/s eta 0:00:12\n",
      "   --------------------------- ------------ 30.4/44.8 MB 1.2 MB/s eta 0:00:12\n",
      "   --------------------------- ------------ 30.5/44.8 MB 1.2 MB/s eta 0:00:12\n",
      "   --------------------------- ------------ 30.5/44.8 MB 1.2 MB/s eta 0:00:12\n",
      "   --------------------------- ------------ 30.5/44.8 MB 1.2 MB/s eta 0:00:12\n",
      "   --------------------------- ------------ 30.6/44.8 MB 1.2 MB/s eta 0:00:12\n",
      "   --------------------------- ------------ 30.6/44.8 MB 1.2 MB/s eta 0:00:12\n",
      "   --------------------------- ------------ 30.7/44.8 MB 1.2 MB/s eta 0:00:12\n",
      "   --------------------------- ------------ 30.7/44.8 MB 1.2 MB/s eta 0:00:12\n",
      "   --------------------------- ------------ 30.8/44.8 MB 1.2 MB/s eta 0:00:12\n",
      "   --------------------------- ------------ 30.8/44.8 MB 1.2 MB/s eta 0:00:12\n",
      "   --------------------------- ------------ 30.9/44.8 MB 1.2 MB/s eta 0:00:12\n",
      "   --------------------------- ------------ 30.9/44.8 MB 1.2 MB/s eta 0:00:12\n",
      "   --------------------------- ------------ 31.0/44.8 MB 1.2 MB/s eta 0:00:12\n",
      "   --------------------------- ------------ 31.0/44.8 MB 1.2 MB/s eta 0:00:12\n",
      "   --------------------------- ------------ 31.1/44.8 MB 1.2 MB/s eta 0:00:12\n",
      "   --------------------------- ------------ 31.2/44.8 MB 1.2 MB/s eta 0:00:12\n",
      "   --------------------------- ------------ 31.2/44.8 MB 1.2 MB/s eta 0:00:12\n",
      "   --------------------------- ------------ 31.3/44.8 MB 1.2 MB/s eta 0:00:12\n",
      "   ---------------------------- ----------- 31.4/44.8 MB 1.2 MB/s eta 0:00:12\n",
      "   ---------------------------- ----------- 31.4/44.8 MB 1.2 MB/s eta 0:00:12\n",
      "   ---------------------------- ----------- 31.5/44.8 MB 1.2 MB/s eta 0:00:12\n",
      "   ---------------------------- ----------- 31.5/44.8 MB 1.2 MB/s eta 0:00:12\n",
      "   ---------------------------- ----------- 31.6/44.8 MB 1.2 MB/s eta 0:00:12\n",
      "   ---------------------------- ----------- 31.6/44.8 MB 1.2 MB/s eta 0:00:12\n",
      "   ---------------------------- ----------- 31.7/44.8 MB 1.2 MB/s eta 0:00:12\n",
      "   ---------------------------- ----------- 31.7/44.8 MB 1.2 MB/s eta 0:00:12\n",
      "   ---------------------------- ----------- 31.8/44.8 MB 1.2 MB/s eta 0:00:12\n",
      "   ---------------------------- ----------- 31.8/44.8 MB 1.2 MB/s eta 0:00:12\n",
      "   ---------------------------- ----------- 31.9/44.8 MB 1.2 MB/s eta 0:00:12\n",
      "   ---------------------------- ----------- 31.9/44.8 MB 1.2 MB/s eta 0:00:12\n",
      "   ---------------------------- ----------- 32.0/44.8 MB 1.2 MB/s eta 0:00:12\n",
      "   ---------------------------- ----------- 32.1/44.8 MB 1.2 MB/s eta 0:00:11\n",
      "   ---------------------------- ----------- 32.1/44.8 MB 1.2 MB/s eta 0:00:11\n",
      "   ---------------------------- ----------- 32.2/44.8 MB 1.2 MB/s eta 0:00:11\n",
      "   ---------------------------- ----------- 32.3/44.8 MB 1.2 MB/s eta 0:00:11\n",
      "   ---------------------------- ----------- 32.4/44.8 MB 1.2 MB/s eta 0:00:11\n",
      "   ----------------------------- ---------- 32.5/44.8 MB 1.2 MB/s eta 0:00:11\n",
      "   ----------------------------- ---------- 32.6/44.8 MB 1.2 MB/s eta 0:00:11\n",
      "   ----------------------------- ---------- 32.7/44.8 MB 1.2 MB/s eta 0:00:11\n",
      "   ----------------------------- ---------- 32.8/44.8 MB 1.2 MB/s eta 0:00:11\n",
      "   ----------------------------- ---------- 32.8/44.8 MB 1.2 MB/s eta 0:00:11\n",
      "   ----------------------------- ---------- 33.0/44.8 MB 1.2 MB/s eta 0:00:11\n",
      "   ----------------------------- ---------- 33.0/44.8 MB 1.2 MB/s eta 0:00:11\n",
      "   ----------------------------- ---------- 33.2/44.8 MB 1.2 MB/s eta 0:00:11\n",
      "   ----------------------------- ---------- 33.3/44.8 MB 1.2 MB/s eta 0:00:10\n",
      "   ----------------------------- ---------- 33.4/44.8 MB 1.2 MB/s eta 0:00:10\n",
      "   ----------------------------- ---------- 33.5/44.8 MB 1.2 MB/s eta 0:00:10\n",
      "   ------------------------------ --------- 33.6/44.8 MB 1.2 MB/s eta 0:00:10\n",
      "   ------------------------------ --------- 33.7/44.8 MB 1.2 MB/s eta 0:00:10\n",
      "   ------------------------------ --------- 33.8/44.8 MB 1.2 MB/s eta 0:00:10\n",
      "   ------------------------------ --------- 33.9/44.8 MB 1.2 MB/s eta 0:00:10\n",
      "   ------------------------------ --------- 34.0/44.8 MB 1.2 MB/s eta 0:00:10\n",
      "   ------------------------------ --------- 34.2/44.8 MB 1.2 MB/s eta 0:00:10\n",
      "   ------------------------------ --------- 34.2/44.8 MB 1.2 MB/s eta 0:00:09\n",
      "   ------------------------------ --------- 34.3/44.8 MB 1.2 MB/s eta 0:00:09\n",
      "   ------------------------------ --------- 34.4/44.8 MB 1.2 MB/s eta 0:00:09\n",
      "   ------------------------------ --------- 34.5/44.8 MB 1.2 MB/s eta 0:00:09\n",
      "   ------------------------------ --------- 34.6/44.8 MB 1.2 MB/s eta 0:00:09\n",
      "   ------------------------------ --------- 34.7/44.8 MB 1.2 MB/s eta 0:00:09\n",
      "   ------------------------------- -------- 34.8/44.8 MB 1.2 MB/s eta 0:00:09\n",
      "   ------------------------------- -------- 34.9/44.8 MB 1.2 MB/s eta 0:00:09\n",
      "   ------------------------------- -------- 35.0/44.8 MB 1.2 MB/s eta 0:00:09\n",
      "   ------------------------------- -------- 35.0/44.8 MB 1.2 MB/s eta 0:00:09\n",
      "   ------------------------------- -------- 35.1/44.8 MB 1.2 MB/s eta 0:00:09\n",
      "   ------------------------------- -------- 35.2/44.8 MB 1.2 MB/s eta 0:00:09\n",
      "   ------------------------------- -------- 35.3/44.8 MB 1.2 MB/s eta 0:00:09\n",
      "   ------------------------------- -------- 35.5/44.8 MB 1.2 MB/s eta 0:00:08\n",
      "   ------------------------------- -------- 35.5/44.8 MB 1.2 MB/s eta 0:00:08\n",
      "   ------------------------------- -------- 35.6/44.8 MB 1.2 MB/s eta 0:00:08\n",
      "   ------------------------------- -------- 35.6/44.8 MB 1.2 MB/s eta 0:00:08\n",
      "   ------------------------------- -------- 35.7/44.8 MB 1.2 MB/s eta 0:00:08\n",
      "   ------------------------------- -------- 35.7/44.8 MB 1.2 MB/s eta 0:00:08\n",
      "   -------------------------------- ------- 35.8/44.8 MB 1.2 MB/s eta 0:00:08\n",
      "   -------------------------------- ------- 35.9/44.8 MB 1.2 MB/s eta 0:00:08\n",
      "   -------------------------------- ------- 36.0/44.8 MB 1.2 MB/s eta 0:00:08\n",
      "   -------------------------------- ------- 36.0/44.8 MB 1.2 MB/s eta 0:00:08\n",
      "   -------------------------------- ------- 36.0/44.8 MB 1.2 MB/s eta 0:00:08\n",
      "   -------------------------------- ------- 36.1/44.8 MB 1.2 MB/s eta 0:00:08\n",
      "   -------------------------------- ------- 36.1/44.8 MB 1.1 MB/s eta 0:00:08\n",
      "   -------------------------------- ------- 36.1/44.8 MB 1.1 MB/s eta 0:00:08\n",
      "   -------------------------------- ------- 36.2/44.8 MB 1.1 MB/s eta 0:00:08\n",
      "   -------------------------------- ------- 36.2/44.8 MB 1.1 MB/s eta 0:00:08\n",
      "   -------------------------------- ------- 36.2/44.8 MB 1.1 MB/s eta 0:00:08\n",
      "   -------------------------------- ------- 36.3/44.8 MB 1.1 MB/s eta 0:00:08\n",
      "   -------------------------------- ------- 36.3/44.8 MB 1.1 MB/s eta 0:00:08\n",
      "   -------------------------------- ------- 36.4/44.8 MB 1.1 MB/s eta 0:00:08\n",
      "   -------------------------------- ------- 36.5/44.8 MB 1.2 MB/s eta 0:00:08\n",
      "   -------------------------------- ------- 36.5/44.8 MB 1.2 MB/s eta 0:00:08\n",
      "   -------------------------------- ------- 36.6/44.8 MB 1.2 MB/s eta 0:00:07\n",
      "   -------------------------------- ------- 36.7/44.8 MB 1.2 MB/s eta 0:00:07\n",
      "   -------------------------------- ------- 36.8/44.8 MB 1.2 MB/s eta 0:00:07\n",
      "   -------------------------------- ------- 36.8/44.8 MB 1.2 MB/s eta 0:00:07\n",
      "   -------------------------------- ------- 36.9/44.8 MB 1.2 MB/s eta 0:00:07\n",
      "   -------------------------------- ------- 36.9/44.8 MB 1.2 MB/s eta 0:00:07\n",
      "   --------------------------------- ------ 37.0/44.8 MB 1.2 MB/s eta 0:00:07\n",
      "   --------------------------------- ------ 37.0/44.8 MB 1.2 MB/s eta 0:00:07\n",
      "   --------------------------------- ------ 37.1/44.8 MB 1.2 MB/s eta 0:00:07\n",
      "   --------------------------------- ------ 37.1/44.8 MB 1.2 MB/s eta 0:00:07\n",
      "   --------------------------------- ------ 37.2/44.8 MB 1.2 MB/s eta 0:00:07\n",
      "   --------------------------------- ------ 37.2/44.8 MB 1.2 MB/s eta 0:00:07\n",
      "   --------------------------------- ------ 37.3/44.8 MB 1.2 MB/s eta 0:00:07\n",
      "   --------------------------------- ------ 37.3/44.8 MB 1.2 MB/s eta 0:00:07\n",
      "   --------------------------------- ------ 37.4/44.8 MB 1.2 MB/s eta 0:00:07\n",
      "   --------------------------------- ------ 37.4/44.8 MB 1.2 MB/s eta 0:00:07\n",
      "   --------------------------------- ------ 37.5/44.8 MB 1.2 MB/s eta 0:00:06\n",
      "   --------------------------------- ------ 37.5/44.8 MB 1.2 MB/s eta 0:00:06\n",
      "   --------------------------------- ------ 37.6/44.8 MB 1.2 MB/s eta 0:00:06\n",
      "   --------------------------------- ------ 37.6/44.8 MB 1.2 MB/s eta 0:00:06\n",
      "   --------------------------------- ------ 37.6/44.8 MB 1.2 MB/s eta 0:00:06\n",
      "   --------------------------------- ------ 37.7/44.8 MB 1.3 MB/s eta 0:00:06\n",
      "   --------------------------------- ------ 37.7/44.8 MB 1.2 MB/s eta 0:00:06\n",
      "   --------------------------------- ------ 37.7/44.8 MB 1.2 MB/s eta 0:00:06\n",
      "   --------------------------------- ------ 37.8/44.8 MB 1.2 MB/s eta 0:00:06\n",
      "   --------------------------------- ------ 37.8/44.8 MB 1.2 MB/s eta 0:00:06\n",
      "   --------------------------------- ------ 37.9/44.8 MB 1.3 MB/s eta 0:00:06\n",
      "   --------------------------------- ------ 37.9/44.8 MB 1.2 MB/s eta 0:00:06\n",
      "   --------------------------------- ------ 38.0/44.8 MB 1.2 MB/s eta 0:00:06\n",
      "   --------------------------------- ------ 38.0/44.8 MB 1.2 MB/s eta 0:00:06\n",
      "   --------------------------------- ------ 38.0/44.8 MB 1.2 MB/s eta 0:00:06\n",
      "   ---------------------------------- ----- 38.1/44.8 MB 1.2 MB/s eta 0:00:06\n",
      "   ---------------------------------- ----- 38.2/44.8 MB 1.2 MB/s eta 0:00:06\n",
      "   ---------------------------------- ----- 38.2/44.8 MB 1.2 MB/s eta 0:00:06\n",
      "   ---------------------------------- ----- 38.2/44.8 MB 1.2 MB/s eta 0:00:06\n",
      "   ---------------------------------- ----- 38.3/44.8 MB 1.2 MB/s eta 0:00:06\n",
      "   ---------------------------------- ----- 38.4/44.8 MB 1.2 MB/s eta 0:00:06\n",
      "   ---------------------------------- ----- 38.5/44.8 MB 1.2 MB/s eta 0:00:06\n",
      "   ---------------------------------- ----- 38.5/44.8 MB 1.3 MB/s eta 0:00:05\n",
      "   ---------------------------------- ----- 38.6/44.8 MB 1.3 MB/s eta 0:00:05\n",
      "   ---------------------------------- ----- 38.7/44.8 MB 1.3 MB/s eta 0:00:05\n",
      "   ---------------------------------- ----- 38.8/44.8 MB 1.3 MB/s eta 0:00:05\n",
      "   ---------------------------------- ----- 38.9/44.8 MB 1.3 MB/s eta 0:00:05\n",
      "   ---------------------------------- ----- 38.9/44.8 MB 1.3 MB/s eta 0:00:05\n",
      "   ---------------------------------- ----- 39.0/44.8 MB 1.3 MB/s eta 0:00:05\n",
      "   ---------------------------------- ----- 39.0/44.8 MB 1.3 MB/s eta 0:00:05\n",
      "   ---------------------------------- ----- 39.1/44.8 MB 1.3 MB/s eta 0:00:05\n",
      "   ---------------------------------- ----- 39.1/44.8 MB 1.3 MB/s eta 0:00:05\n",
      "   ---------------------------------- ----- 39.2/44.8 MB 1.3 MB/s eta 0:00:05\n",
      "   ----------------------------------- ---- 39.2/44.8 MB 1.3 MB/s eta 0:00:05\n",
      "   ----------------------------------- ---- 39.3/44.8 MB 1.3 MB/s eta 0:00:05\n",
      "   ----------------------------------- ---- 39.3/44.8 MB 1.3 MB/s eta 0:00:05\n",
      "   ----------------------------------- ---- 39.4/44.8 MB 1.3 MB/s eta 0:00:05\n",
      "   ----------------------------------- ---- 39.4/44.8 MB 1.3 MB/s eta 0:00:05\n",
      "   ----------------------------------- ---- 39.5/44.8 MB 1.3 MB/s eta 0:00:05\n",
      "   ----------------------------------- ---- 39.5/44.8 MB 1.3 MB/s eta 0:00:05\n",
      "   ----------------------------------- ---- 39.6/44.8 MB 1.3 MB/s eta 0:00:04\n",
      "   ----------------------------------- ---- 39.6/44.8 MB 1.3 MB/s eta 0:00:04\n",
      "   ----------------------------------- ---- 39.7/44.8 MB 1.3 MB/s eta 0:00:04\n",
      "   ----------------------------------- ---- 39.8/44.8 MB 1.3 MB/s eta 0:00:04\n",
      "   ----------------------------------- ---- 39.8/44.8 MB 1.3 MB/s eta 0:00:04\n",
      "   ----------------------------------- ---- 39.9/44.8 MB 1.3 MB/s eta 0:00:04\n",
      "   ----------------------------------- ---- 39.9/44.8 MB 1.3 MB/s eta 0:00:04\n",
      "   ----------------------------------- ---- 40.0/44.8 MB 1.3 MB/s eta 0:00:04\n",
      "   ----------------------------------- ---- 40.0/44.8 MB 1.3 MB/s eta 0:00:04\n",
      "   ----------------------------------- ---- 40.1/44.8 MB 1.3 MB/s eta 0:00:04\n",
      "   ----------------------------------- ---- 40.1/44.8 MB 1.3 MB/s eta 0:00:04\n",
      "   ----------------------------------- ---- 40.2/44.8 MB 1.3 MB/s eta 0:00:04\n",
      "   ----------------------------------- ---- 40.2/44.8 MB 1.3 MB/s eta 0:00:04\n",
      "   ----------------------------------- ---- 40.2/44.8 MB 1.3 MB/s eta 0:00:04\n",
      "   ----------------------------------- ---- 40.2/44.8 MB 1.3 MB/s eta 0:00:04\n",
      "   ----------------------------------- ---- 40.3/44.8 MB 1.3 MB/s eta 0:00:04\n",
      "   ------------------------------------ --- 40.4/44.8 MB 1.3 MB/s eta 0:00:04\n",
      "   ------------------------------------ --- 40.4/44.8 MB 1.3 MB/s eta 0:00:04\n",
      "   ------------------------------------ --- 40.5/44.8 MB 1.3 MB/s eta 0:00:04\n",
      "   ------------------------------------ --- 40.6/44.8 MB 1.3 MB/s eta 0:00:04\n",
      "   ------------------------------------ --- 40.7/44.8 MB 1.3 MB/s eta 0:00:04\n",
      "   ------------------------------------ --- 40.8/44.8 MB 1.3 MB/s eta 0:00:03\n",
      "   ------------------------------------ --- 40.8/44.8 MB 1.3 MB/s eta 0:00:03\n",
      "   ------------------------------------ --- 40.9/44.8 MB 1.3 MB/s eta 0:00:03\n",
      "   ------------------------------------ --- 40.9/44.8 MB 1.3 MB/s eta 0:00:03\n",
      "   ------------------------------------ --- 41.0/44.8 MB 1.4 MB/s eta 0:00:03\n",
      "   ------------------------------------ --- 41.1/44.8 MB 1.4 MB/s eta 0:00:03\n",
      "   ------------------------------------ --- 41.1/44.8 MB 1.4 MB/s eta 0:00:03\n",
      "   ------------------------------------ --- 41.1/44.8 MB 1.3 MB/s eta 0:00:03\n",
      "   ------------------------------------ --- 41.2/44.8 MB 1.4 MB/s eta 0:00:03\n",
      "   ------------------------------------ --- 41.2/44.8 MB 1.4 MB/s eta 0:00:03\n",
      "   ------------------------------------ --- 41.3/44.8 MB 1.4 MB/s eta 0:00:03\n",
      "   ------------------------------------ --- 41.3/44.8 MB 1.3 MB/s eta 0:00:03\n",
      "   ------------------------------------ --- 41.4/44.8 MB 1.3 MB/s eta 0:00:03\n",
      "   ------------------------------------ --- 41.4/44.8 MB 1.3 MB/s eta 0:00:03\n",
      "   ------------------------------------- -- 41.4/44.8 MB 1.3 MB/s eta 0:00:03\n",
      "   ------------------------------------- -- 41.5/44.8 MB 1.3 MB/s eta 0:00:03\n",
      "   ------------------------------------- -- 41.5/44.8 MB 1.3 MB/s eta 0:00:03\n",
      "   ------------------------------------- -- 41.5/44.8 MB 1.3 MB/s eta 0:00:03\n",
      "   ------------------------------------- -- 41.6/44.8 MB 1.3 MB/s eta 0:00:03\n",
      "   ------------------------------------- -- 41.6/44.8 MB 1.3 MB/s eta 0:00:03\n",
      "   ------------------------------------- -- 41.7/44.8 MB 1.3 MB/s eta 0:00:03\n",
      "   ------------------------------------- -- 41.7/44.8 MB 1.3 MB/s eta 0:00:03\n",
      "   ------------------------------------- -- 41.8/44.8 MB 1.3 MB/s eta 0:00:03\n",
      "   ------------------------------------- -- 41.8/44.8 MB 1.3 MB/s eta 0:00:03\n",
      "   ------------------------------------- -- 41.8/44.8 MB 1.3 MB/s eta 0:00:03\n",
      "   ------------------------------------- -- 41.9/44.8 MB 1.3 MB/s eta 0:00:03\n",
      "   ------------------------------------- -- 41.9/44.8 MB 1.3 MB/s eta 0:00:03\n",
      "   ------------------------------------- -- 41.9/44.8 MB 1.3 MB/s eta 0:00:03\n",
      "   ------------------------------------- -- 42.0/44.8 MB 1.3 MB/s eta 0:00:03\n",
      "   ------------------------------------- -- 42.0/44.8 MB 1.3 MB/s eta 0:00:03\n",
      "   ------------------------------------- -- 42.0/44.8 MB 1.3 MB/s eta 0:00:03\n",
      "   ------------------------------------- -- 42.1/44.8 MB 1.3 MB/s eta 0:00:03\n",
      "   ------------------------------------- -- 42.1/44.8 MB 1.3 MB/s eta 0:00:03\n",
      "   ------------------------------------- -- 42.2/44.8 MB 1.3 MB/s eta 0:00:02\n",
      "   ------------------------------------- -- 42.2/44.8 MB 1.3 MB/s eta 0:00:02\n",
      "   ------------------------------------- -- 42.3/44.8 MB 1.3 MB/s eta 0:00:02\n",
      "   ------------------------------------- -- 42.3/44.8 MB 1.3 MB/s eta 0:00:02\n",
      "   ------------------------------------- -- 42.3/44.8 MB 1.3 MB/s eta 0:00:02\n",
      "   ------------------------------------- -- 42.4/44.8 MB 1.3 MB/s eta 0:00:02\n",
      "   ------------------------------------- -- 42.4/44.8 MB 1.3 MB/s eta 0:00:02\n",
      "   ------------------------------------- -- 42.5/44.8 MB 1.3 MB/s eta 0:00:02\n",
      "   ------------------------------------- -- 42.5/44.8 MB 1.3 MB/s eta 0:00:02\n",
      "   ------------------------------------- -- 42.5/44.8 MB 1.3 MB/s eta 0:00:02\n",
      "   -------------------------------------- - 42.6/44.8 MB 1.3 MB/s eta 0:00:02\n",
      "   -------------------------------------- - 42.6/44.8 MB 1.3 MB/s eta 0:00:02\n",
      "   -------------------------------------- - 42.7/44.8 MB 1.3 MB/s eta 0:00:02\n",
      "   -------------------------------------- - 42.8/44.8 MB 1.2 MB/s eta 0:00:02\n",
      "   -------------------------------------- - 42.8/44.8 MB 1.2 MB/s eta 0:00:02\n",
      "   -------------------------------------- - 42.8/44.8 MB 1.2 MB/s eta 0:00:02\n",
      "   -------------------------------------- - 42.9/44.8 MB 1.2 MB/s eta 0:00:02\n",
      "   -------------------------------------- - 42.9/44.8 MB 1.2 MB/s eta 0:00:02\n",
      "   -------------------------------------- - 42.9/44.8 MB 1.2 MB/s eta 0:00:02\n",
      "   -------------------------------------- - 43.0/44.8 MB 1.2 MB/s eta 0:00:02\n",
      "   -------------------------------------- - 43.0/44.8 MB 1.2 MB/s eta 0:00:02\n",
      "   -------------------------------------- - 43.1/44.8 MB 1.2 MB/s eta 0:00:02\n",
      "   -------------------------------------- - 43.2/44.8 MB 1.2 MB/s eta 0:00:02\n",
      "   -------------------------------------- - 43.2/44.8 MB 1.2 MB/s eta 0:00:02\n",
      "   -------------------------------------- - 43.3/44.8 MB 1.2 MB/s eta 0:00:02\n",
      "   -------------------------------------- - 43.3/44.8 MB 1.2 MB/s eta 0:00:02\n",
      "   -------------------------------------- - 43.4/44.8 MB 1.2 MB/s eta 0:00:02\n",
      "   -------------------------------------- - 43.4/44.8 MB 1.2 MB/s eta 0:00:02\n",
      "   -------------------------------------- - 43.5/44.8 MB 1.2 MB/s eta 0:00:02\n",
      "   -------------------------------------- - 43.5/44.8 MB 1.2 MB/s eta 0:00:02\n",
      "   -------------------------------------- - 43.5/44.8 MB 1.2 MB/s eta 0:00:02\n",
      "   -------------------------------------- - 43.6/44.8 MB 1.2 MB/s eta 0:00:02\n",
      "   -------------------------------------- - 43.6/44.8 MB 1.2 MB/s eta 0:00:02\n",
      "   -------------------------------------- - 43.6/44.8 MB 1.2 MB/s eta 0:00:01\n",
      "   -------------------------------------- - 43.7/44.8 MB 1.2 MB/s eta 0:00:01\n",
      "   ---------------------------------------  43.7/44.8 MB 1.2 MB/s eta 0:00:01\n",
      "   ---------------------------------------  43.7/44.8 MB 1.2 MB/s eta 0:00:01\n",
      "   ---------------------------------------  43.7/44.8 MB 1.2 MB/s eta 0:00:01\n",
      "   ---------------------------------------  43.8/44.8 MB 1.2 MB/s eta 0:00:01\n",
      "   ---------------------------------------  43.8/44.8 MB 1.2 MB/s eta 0:00:01\n",
      "   ---------------------------------------  43.8/44.8 MB 1.1 MB/s eta 0:00:01\n",
      "   ---------------------------------------  43.8/44.8 MB 1.1 MB/s eta 0:00:01\n",
      "   ---------------------------------------  43.9/44.8 MB 1.1 MB/s eta 0:00:01\n",
      "   ---------------------------------------  43.9/44.8 MB 1.1 MB/s eta 0:00:01\n",
      "   ---------------------------------------  43.9/44.8 MB 1.1 MB/s eta 0:00:01\n",
      "   ---------------------------------------  43.9/44.8 MB 1.1 MB/s eta 0:00:01\n",
      "   ---------------------------------------  44.0/44.8 MB 1.1 MB/s eta 0:00:01\n",
      "   ---------------------------------------  44.0/44.8 MB 1.1 MB/s eta 0:00:01\n",
      "   ---------------------------------------  44.0/44.8 MB 1.1 MB/s eta 0:00:01\n",
      "   ---------------------------------------  44.0/44.8 MB 1.1 MB/s eta 0:00:01\n",
      "   ---------------------------------------  44.0/44.8 MB 1.1 MB/s eta 0:00:01\n",
      "   ---------------------------------------  44.1/44.8 MB 1.1 MB/s eta 0:00:01\n",
      "   ---------------------------------------  44.1/44.8 MB 1.1 MB/s eta 0:00:01\n",
      "   ---------------------------------------  44.1/44.8 MB 1.1 MB/s eta 0:00:01\n",
      "   ---------------------------------------  44.2/44.8 MB 1.1 MB/s eta 0:00:01\n",
      "   ---------------------------------------  44.3/44.8 MB 1.1 MB/s eta 0:00:01\n",
      "   ---------------------------------------  44.3/44.8 MB 1.1 MB/s eta 0:00:01\n",
      "   ---------------------------------------  44.4/44.8 MB 1.1 MB/s eta 0:00:01\n",
      "   ---------------------------------------  44.4/44.8 MB 1.1 MB/s eta 0:00:01\n",
      "   ---------------------------------------  44.5/44.8 MB 1.1 MB/s eta 0:00:01\n",
      "   ---------------------------------------  44.5/44.8 MB 1.1 MB/s eta 0:00:01\n",
      "   ---------------------------------------  44.6/44.8 MB 1.1 MB/s eta 0:00:01\n",
      "   ---------------------------------------  44.6/44.8 MB 1.1 MB/s eta 0:00:01\n",
      "   ---------------------------------------  44.7/44.8 MB 1.1 MB/s eta 0:00:01\n",
      "   ---------------------------------------  44.7/44.8 MB 1.1 MB/s eta 0:00:01\n",
      "   ---------------------------------------  44.7/44.8 MB 1.1 MB/s eta 0:00:01\n",
      "   ---------------------------------------  44.8/44.8 MB 1.1 MB/s eta 0:00:01\n",
      "   ---------------------------------------  44.8/44.8 MB 1.1 MB/s eta 0:00:01\n",
      "   ---------------------------------------- 44.8/44.8 MB 1.0 MB/s eta 0:00:00\n",
      "Downloading threadpoolctl-3.5.0-py3-none-any.whl (18 kB)\n",
      "Installing collected packages: threadpoolctl, numpy, joblib, scipy, scikit-learn\n",
      "Successfully installed joblib-1.4.2 numpy-2.1.3 scikit-learn-1.5.2 scipy-1.14.1 threadpoolctl-3.5.0\n",
      "Note: you may need to restart the kernel to use updated packages.\n"
     ]
    },
    {
     "name": "stderr",
     "output_type": "stream",
     "text": [
      "\n",
      "[notice] A new release of pip is available: 24.0 -> 24.3.1\n",
      "[notice] To update, run: python.exe -m pip install --upgrade pip\n"
     ]
    }
   ],
   "source": [
    "pip install scikit-learn"
   ]
  },
  {
   "cell_type": "code",
   "execution_count": 18,
   "metadata": {
    "colab": {
     "base_uri": "https://localhost:8080/"
    },
    "executionInfo": {
     "elapsed": 11,
     "status": "ok",
     "timestamp": 1676838697268,
     "user": {
      "displayName": "Simone Paolo Mottadelli",
      "userId": "04527667705370282454"
     },
     "user_tz": -60
    },
    "id": "gZls_9fnXj93",
    "outputId": "41f1b826-aeae-480d-ebf4-bfee2c9f8b9c"
   },
   "outputs": [
    {
     "name": "stdout",
     "output_type": "stream",
     "text": [
      "E' stata importata la versione di Scikit-learn seguente: 1.5.2\n"
     ]
    }
   ],
   "source": [
    "import sklearn\n",
    "\n",
    "print(f\"E' stata importata la versione di Scikit-learn seguente: {sklearn.__version__}\")"
   ]
  },
  {
   "cell_type": "markdown",
   "metadata": {
    "id": "dy36RJqWYB-F"
   },
   "source": [
    "Come vedremo anche in seguito, **Scikit-Learn** è una delle librerie utilizzate in Data Science ad esempio per fare il training di modelli di Machine Learning."
   ]
  },
  {
   "cell_type": "markdown",
   "metadata": {
    "id": "XZqQX2WdK5Nx"
   },
   "source": [
    "## Link alla documentazione\n",
    "\n",
    "Per ulteriori informazioni su Python, visita la documentazione ufficiale: https://docs.python.org/3/"
   ]
  },
  {
   "cell_type": "markdown",
   "metadata": {
    "id": "CZMsJjssYelL"
   },
   "source": [
    "## Libreria Numpy"
   ]
  },
  {
   "cell_type": "markdown",
   "metadata": {
    "id": "k7U6aWZJY6cF"
   },
   "source": [
    "**NumPy** è una libreria Python per il calcolo scientifico che fornisce supporto per **array multidimensionali** e **funzioni matematiche avanzate**.\n",
    "\n",
    "Per prima cosa, installiamo la libreria ed importiamola nell'ambiente di sviluppo di Google Colab."
   ]
  },
  {
   "cell_type": "code",
   "execution_count": 19,
   "metadata": {
    "colab": {
     "base_uri": "https://localhost:8080/"
    },
    "executionInfo": {
     "elapsed": 3995,
     "status": "ok",
     "timestamp": 1729091103423,
     "user": {
      "displayName": "Leonardo Davoli",
      "userId": "17136115848095922755"
     },
     "user_tz": -120
    },
    "id": "mtUPq0JoLB26",
    "outputId": "8089c2bf-b3b1-4e63-8b33-5a0f8ad9f766",
    "vscode": {
     "languageId": "bat"
    }
   },
   "outputs": [
    {
     "name": "stdout",
     "output_type": "stream",
     "text": [
      "Requirement already satisfied: numpy in d:\\programs\\python\\python311\\lib\\site-packages (2.1.3)\n",
      "Note: you may need to restart the kernel to use updated packages.\n"
     ]
    }
   ],
   "source": [
    "pip install numpy"
   ]
  },
  {
   "cell_type": "markdown",
   "metadata": {
    "id": "OCi-HbzAZPWJ"
   },
   "source": [
    "Il seguente comando importa NumPy e lo assegna all'alias \"np\". L'utilizzo di \"np\" come alias è comune nella comunità Python."
   ]
  },
  {
   "cell_type": "code",
   "execution_count": 20,
   "metadata": {
    "id": "bJmNzentZIjg"
   },
   "outputs": [],
   "source": [
    "import numpy as np"
   ]
  },
  {
   "cell_type": "markdown",
   "metadata": {
    "id": "KIXMI7YHZY7V"
   },
   "source": [
    "NumPy consente di creare array multidimensionali di numeri utilizzando la funzione \"array\". Ad esempio, il seguente codice crea un array di numeri da 1 a 3:"
   ]
  },
  {
   "cell_type": "code",
   "execution_count": 22,
   "metadata": {
    "colab": {
     "base_uri": "https://localhost:8080/"
    },
    "executionInfo": {
     "elapsed": 389,
     "status": "ok",
     "timestamp": 1729091125662,
     "user": {
      "displayName": "Leonardo Davoli",
      "userId": "17136115848095922755"
     },
     "user_tz": -120
    },
    "id": "VFFybpyoZZgI",
    "outputId": "8d1e2b70-6b2a-4060-89ee-fc0de61397bc"
   },
   "outputs": [
    {
     "name": "stdout",
     "output_type": "stream",
     "text": [
      "[1 2 3]\n"
     ]
    }
   ],
   "source": [
    "arr1d = np.array([1, 2, 3])\n",
    "print(arr1d)"
   ]
  },
  {
   "cell_type": "markdown",
   "metadata": {
    "id": "rsJ_qZzVZgC2"
   },
   "source": [
    "È possibile creare array **multidimensionali** NumPy utilizzando la funzione \"array\". Ad esempio, il seguente codice crea una matrice bidimensionale 3x3 di numeri da 0 a 8:"
   ]
  },
  {
   "cell_type": "code",
   "execution_count": 23,
   "metadata": {
    "colab": {
     "base_uri": "https://localhost:8080/"
    },
    "executionInfo": {
     "elapsed": 9,
     "status": "ok",
     "timestamp": 1676839188765,
     "user": {
      "displayName": "Simone Paolo Mottadelli",
      "userId": "04527667705370282454"
     },
     "user_tz": -60
    },
    "id": "pOM0PLuaZbC3",
    "outputId": "fe343d3a-37d9-4a19-cd30-3835441f04ed"
   },
   "outputs": [
    {
     "name": "stdout",
     "output_type": "stream",
     "text": [
      "[[0 1 2]\n",
      " [3 4 5]\n",
      " [6 7 8]]\n"
     ]
    }
   ],
   "source": [
    "arr2d = np.array([[0, 1, 2], [3, 4, 5], [6, 7, 8]])\n",
    "print(arr2d)"
   ]
  },
  {
   "cell_type": "markdown",
   "metadata": {
    "id": "nfEUGMRLZq0z"
   },
   "source": [
    "NumPy fornisce funzioni matematiche avanzate che consentono di eseguire operazioni su array NumPy. Ad esempio, il seguente codice esegue una moltiplicazione tra un array 1D e un array 2D, sfruttando la funzione **dot**:"
   ]
  },
  {
   "cell_type": "code",
   "execution_count": 24,
   "metadata": {
    "colab": {
     "base_uri": "https://localhost:8080/"
    },
    "executionInfo": {
     "elapsed": 9,
     "status": "ok",
     "timestamp": 1676839189177,
     "user": {
      "displayName": "Simone Paolo Mottadelli",
      "userId": "04527667705370282454"
     },
     "user_tz": -60
    },
    "id": "eeG1qHrRZjVu",
    "outputId": "a0b27f58-160f-4282-d5bd-c6fd91262bc5"
   },
   "outputs": [
    {
     "name": "stdout",
     "output_type": "stream",
     "text": [
      "[24 30 36]\n"
     ]
    }
   ],
   "source": [
    "result = np.dot(arr1d, arr2d)\n",
    "print(result)"
   ]
  },
  {
   "cell_type": "markdown",
   "metadata": {
    "id": "P9kbGGUdcvNM"
   },
   "source": [
    "Questi sono solo alcuni dei concetti di Numpy. E' possibile vedere tutte le altre funzionalità messe a disposizione dalla libreria al seguente link: https://numpy.org/"
   ]
  },
  {
   "cell_type": "markdown",
   "metadata": {
    "id": "wkgXBWsfZ9O7"
   },
   "source": [
    "## Libreria Pandas"
   ]
  },
  {
   "cell_type": "markdown",
   "metadata": {
    "id": "nYymzJCFaRTD"
   },
   "source": [
    "**Pandas** è una libreria Python per la manipolazione e l'analisi di dati. Permette di avere delle strutture dati analoghe ai **Data Frame** del linguaggio R.\n",
    "\n",
    "Anche in questo caso, installiamo e importiamo la libreria Pandas."
   ]
  },
  {
   "cell_type": "code",
   "execution_count": 25,
   "metadata": {
    "colab": {
     "base_uri": "https://localhost:8080/"
    },
    "executionInfo": {
     "elapsed": 4211,
     "status": "ok",
     "timestamp": 1676839361153,
     "user": {
      "displayName": "Simone Paolo Mottadelli",
      "userId": "04527667705370282454"
     },
     "user_tz": -60
    },
    "id": "tKvrFEvYaPNN",
    "outputId": "7ad2babf-0c5b-42d1-a806-57aef9553620",
    "vscode": {
     "languageId": "bat"
    }
   },
   "outputs": [
    {
     "name": "stdout",
     "output_type": "stream",
     "text": [
      "Collecting pandas\n",
      "  Downloading pandas-2.2.3-cp311-cp311-win_amd64.whl.metadata (19 kB)\n",
      "Requirement already satisfied: numpy>=1.23.2 in d:\\programs\\python\\python311\\lib\\site-packages (from pandas) (2.1.3)\n",
      "Requirement already satisfied: python-dateutil>=2.8.2 in c:\\users\\davoleo\\appdata\\roaming\\python\\python311\\site-packages (from pandas) (2.9.0.post0)\n",
      "Collecting pytz>=2020.1 (from pandas)\n",
      "  Downloading pytz-2024.2-py2.py3-none-any.whl.metadata (22 kB)\n",
      "Collecting tzdata>=2022.7 (from pandas)\n",
      "  Downloading tzdata-2024.2-py2.py3-none-any.whl.metadata (1.4 kB)\n",
      "Requirement already satisfied: six>=1.5 in d:\\programs\\python\\python311\\lib\\site-packages (from python-dateutil>=2.8.2->pandas) (1.16.0)\n",
      "Downloading pandas-2.2.3-cp311-cp311-win_amd64.whl (11.6 MB)\n",
      "   ---------------------------------------- 0.0/11.6 MB ? eta -:--:--\n",
      "   -- ------------------------------------- 0.8/11.6 MB 4.8 MB/s eta 0:00:03\n",
      "   ---- ----------------------------------- 1.3/11.6 MB 3.5 MB/s eta 0:00:03\n",
      "   ------ --------------------------------- 1.8/11.6 MB 3.1 MB/s eta 0:00:04\n",
      "   -------- ------------------------------- 2.4/11.6 MB 2.9 MB/s eta 0:00:04\n",
      "   ----------- ---------------------------- 3.4/11.6 MB 3.4 MB/s eta 0:00:03\n",
      "   -------------- ------------------------- 4.2/11.6 MB 3.5 MB/s eta 0:00:03\n",
      "   ----------------- ---------------------- 5.0/11.6 MB 3.6 MB/s eta 0:00:02\n",
      "   ------------------- -------------------- 5.8/11.6 MB 3.6 MB/s eta 0:00:02\n",
      "   --------------------- ------------------ 6.3/11.6 MB 3.5 MB/s eta 0:00:02\n",
      "   ----------------------- ---------------- 6.8/11.6 MB 3.4 MB/s eta 0:00:02\n",
      "   ------------------------ --------------- 7.1/11.6 MB 3.3 MB/s eta 0:00:02\n",
      "   -------------------------- ------------- 7.6/11.6 MB 3.2 MB/s eta 0:00:02\n",
      "   --------------------------- ------------ 8.1/11.6 MB 3.1 MB/s eta 0:00:02\n",
      "   ----------------------------- ---------- 8.7/11.6 MB 3.1 MB/s eta 0:00:01\n",
      "   ------------------------------- -------- 9.2/11.6 MB 3.0 MB/s eta 0:00:01\n",
      "   -------------------------------- ------- 9.4/11.6 MB 3.0 MB/s eta 0:00:01\n",
      "   ---------------------------------- ----- 10.0/11.6 MB 2.9 MB/s eta 0:00:01\n",
      "   ------------------------------------ --- 10.5/11.6 MB 2.9 MB/s eta 0:00:01\n",
      "   ------------------------------------- -- 11.0/11.6 MB 2.9 MB/s eta 0:00:01\n",
      "   ---------------------------------------- 11.6/11.6 MB 2.9 MB/s eta 0:00:00\n",
      "Downloading pytz-2024.2-py2.py3-none-any.whl (508 kB)\n",
      "Downloading tzdata-2024.2-py2.py3-none-any.whl (346 kB)\n",
      "Installing collected packages: pytz, tzdata, pandas\n",
      "Successfully installed pandas-2.2.3 pytz-2024.2 tzdata-2024.2\n",
      "Note: you may need to restart the kernel to use updated packages.\n"
     ]
    }
   ],
   "source": [
    "pip install pandas"
   ]
  },
  {
   "cell_type": "code",
   "execution_count": 26,
   "metadata": {
    "id": "0Alvii0hagUD"
   },
   "outputs": [],
   "source": [
    "import pandas as pd"
   ]
  },
  {
   "cell_type": "markdown",
   "metadata": {
    "id": "xshnSulpanJ1"
   },
   "source": [
    "Il tipo di dato principale di Pandas è il **DataFrame**, che è una struttura dati simile ad una tabella. È possibile creare un DataFrame utilizzando una lista di dizionari o un array NumPy. Ad esempio, il seguente codice crea un DataFrame utilizzando una lista di dizionari:"
   ]
  },
  {
   "cell_type": "code",
   "execution_count": 27,
   "metadata": {
    "colab": {
     "base_uri": "https://localhost:8080/"
    },
    "executionInfo": {
     "elapsed": 569,
     "status": "ok",
     "timestamp": 1729091210174,
     "user": {
      "displayName": "Leonardo Davoli",
      "userId": "17136115848095922755"
     },
     "user_tz": -120
    },
    "id": "i0D59A-iahn8",
    "outputId": "e87fdddc-223a-4f15-f209-aa34ef354b45"
   },
   "outputs": [
    {
     "name": "stdout",
     "output_type": "stream",
     "text": [
      "      name  age      city\n",
      "0    Alice   30  New York\n",
      "1      Bob   25     Paris\n",
      "2  Charlie   35    London\n"
     ]
    }
   ],
   "source": [
    "data = [\n",
    "    {\"name\": \"Alice\", \"age\": 30, \"city\": \"New York\"},\n",
    "    {\"name\": \"Bob\", \"age\": 25, \"city\": \"Paris\"},\n",
    "    {\"name\": \"Charlie\", \"age\": 35, \"city\": \"London\"}\n",
    "]\n",
    "\n",
    "df = pd.DataFrame(data)\n",
    "print(df)"
   ]
  },
  {
   "cell_type": "markdown",
   "metadata": {
    "id": "pr1pBcrwaw4M"
   },
   "source": [
    "Pandas consente di manipolare i dati in modi diversi. Ad esempio, il seguente codice seleziona solo le righe in cui l'età è maggiore di 30:"
   ]
  },
  {
   "cell_type": "code",
   "execution_count": 29,
   "metadata": {
    "colab": {
     "base_uri": "https://localhost:8080/"
    },
    "executionInfo": {
     "elapsed": 401,
     "status": "ok",
     "timestamp": 1676839437417,
     "user": {
      "displayName": "Simone Paolo Mottadelli",
      "userId": "04527667705370282454"
     },
     "user_tz": -60
    },
    "id": "p3C5P3YcatEV",
    "outputId": "3cd8ce2f-042c-414c-fb3c-6c005ba659c5"
   },
   "outputs": [
    {
     "name": "stdout",
     "output_type": "stream",
     "text": [
      "      name  age      city\n",
      "0    Alice   30  New York\n",
      "2  Charlie   35    London\n"
     ]
    }
   ],
   "source": [
    "df_filtered = df[df[\"age\"] >= 30]\n",
    "print(df_filtered)"
   ]
  },
  {
   "cell_type": "markdown",
   "metadata": {
    "id": "imDk5dbAa3X5"
   },
   "source": [
    " È possibile **aggiungere nuove colonne** a un DataFrame utilizzando il seguente codice:"
   ]
  },
  {
   "cell_type": "code",
   "execution_count": 30,
   "metadata": {
    "colab": {
     "base_uri": "https://localhost:8080/"
    },
    "executionInfo": {
     "elapsed": 627,
     "status": "ok",
     "timestamp": 1676839466504,
     "user": {
      "displayName": "Simone Paolo Mottadelli",
      "userId": "04527667705370282454"
     },
     "user_tz": -60
    },
    "id": "Zn6OeJ2ga4wG",
    "outputId": "55f7a87e-a8b9-4b6d-a4f0-ba2f8a92d75d"
   },
   "outputs": [
    {
     "name": "stdout",
     "output_type": "stream",
     "text": [
      "      name  age      city  salary\n",
      "0    Alice   30  New York   50000\n",
      "1      Bob   25     Paris   60000\n",
      "2  Charlie   35    London   70000\n"
     ]
    }
   ],
   "source": [
    "df[\"salary\"] = [50000, 60000, 70000]\n",
    "print(df)"
   ]
  },
  {
   "cell_type": "markdown",
   "metadata": {
    "id": "MX7Fozyka8vZ"
   },
   "source": [
    "Lo stesso risultato lo si sarebbe potuto ottenere usando Numpy."
   ]
  },
  {
   "cell_type": "code",
   "execution_count": 34,
   "metadata": {
    "colab": {
     "base_uri": "https://localhost:8080/"
    },
    "executionInfo": {
     "elapsed": 8,
     "status": "ok",
     "timestamp": 1676839500100,
     "user": {
      "displayName": "Simone Paolo Mottadelli",
      "userId": "04527667705370282454"
     },
     "user_tz": -60
    },
    "id": "pWm8kZqka6-c",
    "outputId": "7c2d28da-8fed-47ed-f5a5-1e6ceac17d54"
   },
   "outputs": [
    {
     "name": "stdout",
     "output_type": "stream",
     "text": [
      "      name  age      city  salary\n",
      "0    Alice   30  New York   50000\n",
      "1      Bob   25     Paris   60000\n",
      "2  Charlie   35    London   70000\n"
     ]
    }
   ],
   "source": [
    "df[\"salary\"] = np.array([50000, 60000, 70000])\n",
    "print(df)"
   ]
  },
  {
   "cell_type": "markdown",
   "metadata": {
    "id": "g1wd47WybGyO"
   },
   "source": [
    "In questo esempio, viene creata una nuova colonna \"salary\" nel DataFrame. È possibile **rimuovere una colonna** utilizzando il seguente codice:"
   ]
  },
  {
   "cell_type": "code",
   "execution_count": 35,
   "metadata": {
    "colab": {
     "base_uri": "https://localhost:8080/"
    },
    "executionInfo": {
     "elapsed": 8,
     "status": "ok",
     "timestamp": 1676839547030,
     "user": {
      "displayName": "Simone Paolo Mottadelli",
      "userId": "04527667705370282454"
     },
     "user_tz": -60
    },
    "id": "rTXXNmssbDMO",
    "outputId": "3d6f6439-0383-4261-d592-1df556dde3eb"
   },
   "outputs": [
    {
     "name": "stdout",
     "output_type": "stream",
     "text": [
      "      name  age      city\n",
      "0    Alice   30  New York\n",
      "1      Bob   25     Paris\n",
      "2  Charlie   35    London\n"
     ]
    }
   ],
   "source": [
    "df = df.drop(\"salary\", axis=1) # axis=1 indica che vogliamo rimuovere una colonna\n",
    "print(df)"
   ]
  },
  {
   "cell_type": "markdown",
   "metadata": {
    "id": "z4uXZ8SobZYW"
   },
   "source": [
    "Pandas fornisce **funzioni di aggregazione** che consentono di calcolare statistiche sui dati. Ad esempio, il seguente codice calcola la media dell'età delle persone presenti nel DataFrame *df*:"
   ]
  },
  {
   "cell_type": "code",
   "execution_count": 36,
   "metadata": {
    "colab": {
     "base_uri": "https://localhost:8080/"
    },
    "executionInfo": {
     "elapsed": 12,
     "status": "ok",
     "timestamp": 1676839635767,
     "user": {
      "displayName": "Simone Paolo Mottadelli",
      "userId": "04527667705370282454"
     },
     "user_tz": -60
    },
    "id": "-dCG2O7bbO0C",
    "outputId": "70247534-e673-4e1c-c74c-3ef3b906bf63"
   },
   "outputs": [
    {
     "name": "stdout",
     "output_type": "stream",
     "text": [
      "30.0\n"
     ]
    }
   ],
   "source": [
    "avg_age = df[\"age\"].mean()\n",
    "print(avg_age)"
   ]
  },
  {
   "cell_type": "markdown",
   "metadata": {
    "id": "4s-xz9ZIbuaK"
   },
   "source": [
    "Il metodo **groupby** di Pandas consente di raggruppare i dati in base ai valori di una o più colonne e di eseguire operazioni di aggregazione su ciascun gruppo. Ad esempio, il seguente codice raggruppa i pazienti per città e calcola la media dell'età per ciascuna città:"
   ]
  },
  {
   "cell_type": "code",
   "execution_count": 37,
   "metadata": {
    "colab": {
     "base_uri": "https://localhost:8080/"
    },
    "executionInfo": {
     "elapsed": 13,
     "status": "ok",
     "timestamp": 1676839688680,
     "user": {
      "displayName": "Simone Paolo Mottadelli",
      "userId": "04527667705370282454"
     },
     "user_tz": -60
    },
    "id": "j6O6QbVJbkWf",
    "outputId": "d9decf79-5468-46ca-8247-a3d5b95d82f0"
   },
   "outputs": [
    {
     "name": "stdout",
     "output_type": "stream",
     "text": [
      "city\n",
      "London      35.0\n",
      "New York    30.0\n",
      "Paris       25.0\n",
      "Name: age, dtype: float64\n"
     ]
    }
   ],
   "source": [
    "grouped = df.groupby(\"city\")\n",
    "avg_age_by_city = grouped[\"age\"].mean()\n",
    "print(avg_age_by_city)"
   ]
  },
  {
   "cell_type": "markdown",
   "metadata": {
    "id": "lAbMpHkWb182"
   },
   "source": [
    "Pandas consente di **unire più DataFrame** in uno solo. Ad esempio, il seguente codice unisce due DataFrame basati sulla colonna \"name\"\n",
    "\n",
    "I record che non hanno un corrispettivo per nome nei due dataframe saranno eliminati nell'output."
   ]
  },
  {
   "cell_type": "code",
   "execution_count": 38,
   "metadata": {
    "colab": {
     "base_uri": "https://localhost:8080/"
    },
    "executionInfo": {
     "elapsed": 366,
     "status": "ok",
     "timestamp": 1676839724085,
     "user": {
      "displayName": "Simone Paolo Mottadelli",
      "userId": "04527667705370282454"
     },
     "user_tz": -60
    },
    "id": "OIY8jO85bxWp",
    "outputId": "d88b4a3a-b849-47c7-fd73-485f5a048fb5"
   },
   "outputs": [
    {
     "name": "stdout",
     "output_type": "stream",
     "text": [
      "    name  age      city\n",
      "0  Alice   25  New York\n"
     ]
    }
   ],
   "source": [
    "df1 = pd.DataFrame({\"name\": [\"Alice\", \"Bob\"], \"age\": [25, 30]})\n",
    "df2 = pd.DataFrame({\"name\": [\"Alice\", \"Charlie\"], \"city\": [\"New York\", \"London\"]})\n",
    "merged = pd.merge(df1, df2, on=\"name\")\n",
    "print(merged)"
   ]
  },
  {
   "cell_type": "markdown",
   "metadata": {
    "id": "DPq5GrLQcALC"
   },
   "source": [
    "Una funzionalità **molto importante** è la lettura di un DataFrame a partire da un file. Pandas consente di leggere e scrivere dati in diversi formati, come CSV, Excel, SQL, JSON, HTML, tra gli altri. Ad esempio, il seguente codice scrive il DataFrame *df* su un file *.csv* e successivamente lo reimporta in un DataFrame:"
   ]
  },
  {
   "cell_type": "code",
   "execution_count": null,
   "metadata": {
    "colab": {
     "base_uri": "https://localhost:8080/"
    },
    "executionInfo": {
     "elapsed": 6,
     "status": "ok",
     "timestamp": 1676839867179,
     "user": {
      "displayName": "Simone Paolo Mottadelli",
      "userId": "04527667705370282454"
     },
     "user_tz": -60
    },
    "id": "dXvmJGv2b54U",
    "outputId": "b11359f2-1e83-408e-c45d-29e5e2c56039"
   },
   "outputs": [],
   "source": [
    "df.to_csv(\"dat/lab1_data.csv\")\n",
    "df = pd.read_csv(\"dat/lab1_data.csv\")\n",
    "print(df)"
   ]
  },
  {
   "cell_type": "markdown",
   "metadata": {
    "id": "xvs5G5PScg5O"
   },
   "source": [
    "Questi sono solo alcuni dei concetti di Pandas. E' possibile vedere tutte le altre funzionalità messe a disposizione dalla libreria al seguente link: https://pandas.pydata.org/"
   ]
  },
  {
   "cell_type": "markdown",
   "metadata": {
    "id": "_oSc86KodLHD"
   },
   "source": [
    "## Libreria Matplotlib"
   ]
  },
  {
   "cell_type": "markdown",
   "metadata": {
    "id": "E9EOOeEmdS0w"
   },
   "source": [
    "**Matplotlib** è una libreria Python per la visualizzazione dei dati. Anche in questo caso, la libreria va installata nell'environment e importata."
   ]
  },
  {
   "cell_type": "code",
   "execution_count": 40,
   "metadata": {
    "colab": {
     "base_uri": "https://localhost:8080/"
    },
    "executionInfo": {
     "elapsed": 7331,
     "status": "ok",
     "timestamp": 1676840130501,
     "user": {
      "displayName": "Simone Paolo Mottadelli",
      "userId": "04527667705370282454"
     },
     "user_tz": -60
    },
    "id": "qUhHtKYmcKMh",
    "outputId": "9a117876-0f82-4842-d476-2ca9ba551c5f",
    "vscode": {
     "languageId": "bat"
    }
   },
   "outputs": [
    {
     "name": "stdout",
     "output_type": "stream",
     "text": [
      "Collecting matplotlibNote: you may need to restart the kernel to use updated packages.\n",
      "\n",
      "  Downloading matplotlib-3.9.2-cp311-cp311-win_amd64.whl.metadata (11 kB)\n",
      "Collecting contourpy>=1.0.1 (from matplotlib)\n",
      "  Downloading contourpy-1.3.1-cp311-cp311-win_amd64.whl.metadata (5.4 kB)\n",
      "Collecting cycler>=0.10 (from matplotlib)\n",
      "  Downloading cycler-0.12.1-py3-none-any.whl.metadata (3.8 kB)\n",
      "Collecting fonttools>=4.22.0 (from matplotlib)\n",
      "  Downloading fonttools-4.55.0-cp311-cp311-win_amd64.whl.metadata (167 kB)\n",
      "Collecting kiwisolver>=1.3.1 (from matplotlib)\n",
      "  Downloading kiwisolver-1.4.7-cp311-cp311-win_amd64.whl.metadata (6.4 kB)\n",
      "Requirement already satisfied: numpy>=1.23 in d:\\programs\\python\\python311\\lib\\site-packages (from matplotlib) (2.1.3)\n",
      "Requirement already satisfied: packaging>=20.0 in c:\\users\\davoleo\\appdata\\roaming\\python\\python311\\site-packages (from matplotlib) (24.2)\n",
      "Requirement already satisfied: pillow>=8 in d:\\programs\\python\\python311\\lib\\site-packages (from matplotlib) (10.0.1)\n",
      "Requirement already satisfied: pyparsing>=2.3.1 in d:\\programs\\python\\python311\\lib\\site-packages (from matplotlib) (3.1.2)\n",
      "Requirement already satisfied: python-dateutil>=2.7 in c:\\users\\davoleo\\appdata\\roaming\\python\\python311\\site-packages (from matplotlib) (2.9.0.post0)\n",
      "Requirement already satisfied: six>=1.5 in d:\\programs\\python\\python311\\lib\\site-packages (from python-dateutil>=2.7->matplotlib) (1.16.0)\n",
      "Downloading matplotlib-3.9.2-cp311-cp311-win_amd64.whl (7.8 MB)\n",
      "   ---------------------------------------- 0.0/7.8 MB ? eta -:--:--\n",
      "   - -------------------------------------- 0.3/7.8 MB ? eta -:--:--\n",
      "   ---- ----------------------------------- 0.8/7.8 MB 2.4 MB/s eta 0:00:03\n",
      "   ------ --------------------------------- 1.3/7.8 MB 2.6 MB/s eta 0:00:03\n",
      "   --------- ------------------------------ 1.8/7.8 MB 2.6 MB/s eta 0:00:03\n",
      "   ------------ --------------------------- 2.4/7.8 MB 2.4 MB/s eta 0:00:03\n",
      "   -------------- ------------------------- 2.9/7.8 MB 2.4 MB/s eta 0:00:03\n",
      "   ----------------- ---------------------- 3.4/7.8 MB 2.5 MB/s eta 0:00:02\n",
      "   --------------------- ------------------ 4.2/7.8 MB 2.6 MB/s eta 0:00:02\n",
      "   ------------------------- -------------- 5.0/7.8 MB 2.7 MB/s eta 0:00:02\n",
      "   ---------------------------- ----------- 5.5/7.8 MB 2.7 MB/s eta 0:00:01\n",
      "   ------------------------------ --------- 6.0/7.8 MB 2.8 MB/s eta 0:00:01\n",
      "   --------------------------------- ------ 6.6/7.8 MB 2.7 MB/s eta 0:00:01\n",
      "   ------------------------------------ --- 7.1/7.8 MB 2.7 MB/s eta 0:00:01\n",
      "   -------------------------------------- - 7.6/7.8 MB 2.7 MB/s eta 0:00:01\n",
      "   ---------------------------------------- 7.8/7.8 MB 2.6 MB/s eta 0:00:00\n",
      "Downloading contourpy-1.3.1-cp311-cp311-win_amd64.whl (219 kB)\n",
      "Downloading cycler-0.12.1-py3-none-any.whl (8.3 kB)\n",
      "Downloading fonttools-4.55.0-cp311-cp311-win_amd64.whl (2.2 MB)\n",
      "   ---------------------------------------- 0.0/2.2 MB ? eta -:--:--\n",
      "   ---- ----------------------------------- 0.3/2.2 MB ? eta -:--:--\n",
      "   ------------------ --------------------- 1.0/2.2 MB 2.8 MB/s eta 0:00:01\n",
      "   ---------------------------- ----------- 1.6/2.2 MB 3.0 MB/s eta 0:00:01\n",
      "   ---------------------------------------- 2.2/2.2 MB 3.0 MB/s eta 0:00:00\n",
      "Downloading kiwisolver-1.4.7-cp311-cp311-win_amd64.whl (56 kB)\n",
      "Installing collected packages: kiwisolver, fonttools, cycler, contourpy, matplotlib\n",
      "Successfully installed contourpy-1.3.1 cycler-0.12.1 fonttools-4.55.0 kiwisolver-1.4.7 matplotlib-3.9.2\n"
     ]
    }
   ],
   "source": [
    "pip install matplotlib"
   ]
  },
  {
   "cell_type": "code",
   "execution_count": 41,
   "metadata": {
    "id": "z03VWQQodbUi"
   },
   "outputs": [],
   "source": [
    "import matplotlib.pyplot as plt"
   ]
  },
  {
   "cell_type": "markdown",
   "metadata": {
    "id": "TQQboRV8dixf"
   },
   "source": [
    "Matplotlib consente di creare una vasta gamma di grafici, come **grafici a barre**, **grafici a linee**, **grafici a dispersione** e così via. Ad esempio, il seguente codice crea un grafico a barre che rappresenta le vendite mensili di una società:"
   ]
  },
  {
   "cell_type": "code",
   "execution_count": null,
   "metadata": {
    "colab": {
     "base_uri": "https://localhost:8080/",
     "height": 295
    },
    "executionInfo": {
     "elapsed": 401,
     "status": "ok",
     "timestamp": 1676840187582,
     "user": {
      "displayName": "Simone Paolo Mottadelli",
      "userId": "04527667705370282454"
     },
     "user_tz": -60
    },
    "id": "q004pw7xdfhz",
    "outputId": "cab7799a-3450-4988-ab0b-c912d9cc3d48"
   },
   "outputs": [
    {
     "data": {
      "image/png": "[encoded data removed]",
      "text/plain": [
       "<Figure size 640x480 with 1 Axes>"
      ]
     },
     "metadata": {},
     "output_type": "display_data"
    }
   ],
   "source": [
    "months = [\"January\", \"February\", \"March\", \"April\", \"May\", \"June\"]\n",
    "sales = [10000, 12000, 8000, 15000, 9000, 11000]\n",
    "\n",
    "# plot.bar(X axis values, Y axis values)\n",
    "plt.bar(months, sales)\n",
    "plt.title(\"Monthly Sales\")\n",
    "plt.xlabel(\"Month\")\n",
    "plt.ylabel(\"Sales\")\n",
    "plt.show()"
   ]
  },
  {
   "cell_type": "markdown",
   "metadata": {
    "id": "YFY_icm-dv91"
   },
   "source": [
    "È possibile personalizzare il grafico in vari modi, ad esempio aggiungendo una griglia, cambiando il colore delle barre, cambiando la dimensione dei caratteri e così via. Ad esempio, il seguente codice aggiunge una griglia e cambia il colore delle barre:\n",
    "python"
   ]
  },
  {
   "cell_type": "code",
   "execution_count": 43,
   "metadata": {
    "colab": {
     "base_uri": "https://localhost:8080/",
     "height": 295
    },
    "executionInfo": {
     "elapsed": 995,
     "status": "ok",
     "timestamp": 1676840215048,
     "user": {
      "displayName": "Simone Paolo Mottadelli",
      "userId": "04527667705370282454"
     },
     "user_tz": -60
    },
    "id": "O-8F6TeSdrEl",
    "outputId": "8d2b89b6-d65f-40fb-886e-38e8ee914172"
   },
   "outputs": [
    {
     "data": {
      "image/png": "[encoded data removed]",
      "text/plain": [
       "<Figure size 640x480 with 1 Axes>"
      ]
     },
     "metadata": {},
     "output_type": "display_data"
    }
   ],
   "source": [
    "plt.bar(months, sales, color=\"green\")\n",
    "plt.title(\"Monthly Sales\")\n",
    "plt.xlabel(\"Month\")\n",
    "plt.ylabel(\"Sales\")\n",
    "plt.grid(True)\n",
    "plt.show()"
   ]
  },
  {
   "cell_type": "markdown",
   "metadata": {
    "id": "qe4idvP2d0Vz"
   },
   "source": [
    "Matplotlib consente di salvare il grafico in diversi formati, come PNG, PDF, SVG, tra gli altri. Ad esempio, il seguente codice salva il grafico in formato PNG:"
   ]
  },
  {
   "cell_type": "code",
   "execution_count": 48,
   "metadata": {
    "colab": {
     "base_uri": "https://localhost:8080/",
     "height": 295
    },
    "executionInfo": {
     "elapsed": 3386,
     "status": "ok",
     "timestamp": 1676840238436,
     "user": {
      "displayName": "Simone Paolo Mottadelli",
      "userId": "04527667705370282454"
     },
     "user_tz": -60
    },
    "id": "60EUGWMRdvVx",
    "outputId": "ce94d52c-f6a3-4494-cd15-5b25ae1a78e2"
   },
   "outputs": [
    {
     "data": {
      "image/png": "[encoded data removed]",
      "text/plain": [
       "<Figure size 640x480 with 1 Axes>"
      ]
     },
     "metadata": {},
     "output_type": "display_data"
    }
   ],
   "source": [
    "plt.bar(months, sales, color=\"green\")\n",
    "plt.title(\"Monthly Sales\")\n",
    "plt.xlabel(\"Month\")\n",
    "plt.ylabel(\"Sales\")\n",
    "plt.grid(True)\n",
    "plt.savefig(\"dat/sales.png\")"
   ]
  },
  {
   "cell_type": "markdown",
   "metadata": {
    "id": "clvU6lqDeK-J"
   },
   "source": [
    "Questa libreria si integra bene con Pandas e Numpy. Per ulteriori informazioni, vedere la documentazione ufficiale: https://matplotlib.org/"
   ]
  },
  {
   "cell_type": "markdown",
   "metadata": {
    "id": "hXQq72GGeCKe"
   },
   "source": [
    "## Un breve esempio con il dataset Iris"
   ]
  },
  {
   "cell_type": "markdown",
   "metadata": {
    "id": "EttodfFPeJGj"
   },
   "source": [
    "Il dataset **Iris**, essendo un dataset molto utilizzato per fare pratica con il Machine Learning, è presente all'interno della libreria Sklearn."
   ]
  },
  {
   "cell_type": "markdown",
   "metadata": {
    "id": "LHP7d_loe2a0"
   },
   "source": [
    "Con il codice seguente, vediamo che è possibile importare anche singole componenti di una libreria; in questo caso, la funzione *load_iris()*. Successivamente, creiamo un DataFrame di Pandas."
   ]
  },
  {
   "cell_type": "code",
   "execution_count": 49,
   "metadata": {
    "colab": {
     "base_uri": "https://localhost:8080/",
     "height": 424
    },
    "executionInfo": {
     "elapsed": 3100,
     "status": "ok",
     "timestamp": 1729092639635,
     "user": {
      "displayName": "Leonardo Davoli",
      "userId": "17136115848095922755"
     },
     "user_tz": -120
    },
    "id": "ikxycAklex7S",
    "outputId": "65c57d32-e1ed-4e47-f31a-e454e029bf27"
   },
   "outputs": [
    {
     "data": {
      "text/html": [
       "<div>\n",
       "<style scoped>\n",
       "    .dataframe tbody tr th:only-of-type {\n",
       "        vertical-align: middle;\n",
       "    }\n",
       "\n",
       "    .dataframe tbody tr th {\n",
       "        vertical-align: top;\n",
       "    }\n",
       "\n",
       "    .dataframe thead th {\n",
       "        text-align: right;\n",
       "    }\n",
       "</style>\n",
       "<table border=\"1\" class=\"dataframe\">\n",
       "  <thead>\n",
       "    <tr style=\"text-align: right;\">\n",
       "      <th></th>\n",
       "      <th>sepal length (cm)</th>\n",
       "      <th>sepal width (cm)</th>\n",
       "      <th>petal length (cm)</th>\n",
       "      <th>petal width (cm)</th>\n",
       "      <th>target</th>\n",
       "    </tr>\n",
       "  </thead>\n",
       "  <tbody>\n",
       "    <tr>\n",
       "      <th>0</th>\n",
       "      <td>5.1</td>\n",
       "      <td>3.5</td>\n",
       "      <td>1.4</td>\n",
       "      <td>0.2</td>\n",
       "      <td>0</td>\n",
       "    </tr>\n",
       "    <tr>\n",
       "      <th>1</th>\n",
       "      <td>4.9</td>\n",
       "      <td>3.0</td>\n",
       "      <td>1.4</td>\n",
       "      <td>0.2</td>\n",
       "      <td>0</td>\n",
       "    </tr>\n",
       "    <tr>\n",
       "      <th>2</th>\n",
       "      <td>4.7</td>\n",
       "      <td>3.2</td>\n",
       "      <td>1.3</td>\n",
       "      <td>0.2</td>\n",
       "      <td>0</td>\n",
       "    </tr>\n",
       "    <tr>\n",
       "      <th>3</th>\n",
       "      <td>4.6</td>\n",
       "      <td>3.1</td>\n",
       "      <td>1.5</td>\n",
       "      <td>0.2</td>\n",
       "      <td>0</td>\n",
       "    </tr>\n",
       "    <tr>\n",
       "      <th>4</th>\n",
       "      <td>5.0</td>\n",
       "      <td>3.6</td>\n",
       "      <td>1.4</td>\n",
       "      <td>0.2</td>\n",
       "      <td>0</td>\n",
       "    </tr>\n",
       "    <tr>\n",
       "      <th>...</th>\n",
       "      <td>...</td>\n",
       "      <td>...</td>\n",
       "      <td>...</td>\n",
       "      <td>...</td>\n",
       "      <td>...</td>\n",
       "    </tr>\n",
       "    <tr>\n",
       "      <th>145</th>\n",
       "      <td>6.7</td>\n",
       "      <td>3.0</td>\n",
       "      <td>5.2</td>\n",
       "      <td>2.3</td>\n",
       "      <td>2</td>\n",
       "    </tr>\n",
       "    <tr>\n",
       "      <th>146</th>\n",
       "      <td>6.3</td>\n",
       "      <td>2.5</td>\n",
       "      <td>5.0</td>\n",
       "      <td>1.9</td>\n",
       "      <td>2</td>\n",
       "    </tr>\n",
       "    <tr>\n",
       "      <th>147</th>\n",
       "      <td>6.5</td>\n",
       "      <td>3.0</td>\n",
       "      <td>5.2</td>\n",
       "      <td>2.0</td>\n",
       "      <td>2</td>\n",
       "    </tr>\n",
       "    <tr>\n",
       "      <th>148</th>\n",
       "      <td>6.2</td>\n",
       "      <td>3.4</td>\n",
       "      <td>5.4</td>\n",
       "      <td>2.3</td>\n",
       "      <td>2</td>\n",
       "    </tr>\n",
       "    <tr>\n",
       "      <th>149</th>\n",
       "      <td>5.9</td>\n",
       "      <td>3.0</td>\n",
       "      <td>5.1</td>\n",
       "      <td>1.8</td>\n",
       "      <td>2</td>\n",
       "    </tr>\n",
       "  </tbody>\n",
       "</table>\n",
       "<p>150 rows × 5 columns</p>\n",
       "</div>"
      ],
      "text/plain": [
       "     sepal length (cm)  sepal width (cm)  petal length (cm)  petal width (cm)  \\\n",
       "0                  5.1               3.5                1.4               0.2   \n",
       "1                  4.9               3.0                1.4               0.2   \n",
       "2                  4.7               3.2                1.3               0.2   \n",
       "3                  4.6               3.1                1.5               0.2   \n",
       "4                  5.0               3.6                1.4               0.2   \n",
       "..                 ...               ...                ...               ...   \n",
       "145                6.7               3.0                5.2               2.3   \n",
       "146                6.3               2.5                5.0               1.9   \n",
       "147                6.5               3.0                5.2               2.0   \n",
       "148                6.2               3.4                5.4               2.3   \n",
       "149                5.9               3.0                5.1               1.8   \n",
       "\n",
       "     target  \n",
       "0         0  \n",
       "1         0  \n",
       "2         0  \n",
       "3         0  \n",
       "4         0  \n",
       "..      ...  \n",
       "145       2  \n",
       "146       2  \n",
       "147       2  \n",
       "148       2  \n",
       "149       2  \n",
       "\n",
       "[150 rows x 5 columns]"
      ]
     },
     "execution_count": 49,
     "metadata": {},
     "output_type": "execute_result"
    }
   ],
   "source": [
    "from sklearn.datasets import load_iris\n",
    "\n",
    "iris = load_iris()\n",
    "\n",
    "df = pd.DataFrame(data=iris.data, columns=iris.feature_names)\n",
    "df['target'] = pd.Series(iris.target)\n",
    "\n",
    "df"
   ]
  },
  {
   "cell_type": "markdown",
   "metadata": {
    "id": "XNq8sF7WiFVn"
   },
   "source": [
    "Contiamo quante righe e colonne ci sono nel dataset."
   ]
  },
  {
   "cell_type": "code",
   "execution_count": 50,
   "metadata": {
    "colab": {
     "base_uri": "https://localhost:8080/"
    },
    "executionInfo": {
     "elapsed": 16,
     "status": "ok",
     "timestamp": 1676841362221,
     "user": {
      "displayName": "Simone Paolo Mottadelli",
      "userId": "04527667705370282454"
     },
     "user_tz": -60
    },
    "id": "lE9T4DBfiH7d",
    "outputId": "bf368052-aaf6-46d9-e5ec-33280c3c8814"
   },
   "outputs": [
    {
     "data": {
      "text/plain": [
       "(150, 5)"
      ]
     },
     "execution_count": 50,
     "metadata": {},
     "output_type": "execute_result"
    }
   ],
   "source": [
    "df.shape"
   ]
  },
  {
   "cell_type": "markdown",
   "metadata": {
    "id": "qRLDPcmDj_86"
   },
   "source": [
    "Vediamo alcune informazioni per ciascuna colonna, come ad esempio il tipo di dato."
   ]
  },
  {
   "cell_type": "code",
   "execution_count": 51,
   "metadata": {
    "colab": {
     "base_uri": "https://localhost:8080/"
    },
    "executionInfo": {
     "elapsed": 519,
     "status": "ok",
     "timestamp": 1676841869540,
     "user": {
      "displayName": "Simone Paolo Mottadelli",
      "userId": "04527667705370282454"
     },
     "user_tz": -60
    },
    "id": "OhyHBXg-kEna",
    "outputId": "9019795d-6ae0-46dc-db45-b56dce63ec33"
   },
   "outputs": [
    {
     "data": {
      "text/plain": [
       "sepal length (cm)    float64\n",
       "sepal width (cm)     float64\n",
       "petal length (cm)    float64\n",
       "petal width (cm)     float64\n",
       "target                 int64\n",
       "dtype: object"
      ]
     },
     "execution_count": 51,
     "metadata": {},
     "output_type": "execute_result"
    }
   ],
   "source": [
    "df.dtypes"
   ]
  },
  {
   "cell_type": "markdown",
   "metadata": {
    "id": "j3lMtBvEkHBO"
   },
   "source": [
    "Notiamo che la colonna *target* è di tipo *int*, ma noi la vorremmo categorica. Per poter effettuare il casting, scriviamo il seguente codice."
   ]
  },
  {
   "cell_type": "code",
   "execution_count": 52,
   "metadata": {
    "id": "VqZmMMCOkQ2e"
   },
   "outputs": [],
   "source": [
    "df[\"target\"] = df[\"target\"].astype(\"category\")"
   ]
  },
  {
   "cell_type": "code",
   "execution_count": 53,
   "metadata": {
    "colab": {
     "base_uri": "https://localhost:8080/",
     "height": 241
    },
    "executionInfo": {
     "elapsed": 374,
     "status": "ok",
     "timestamp": 1729092817609,
     "user": {
      "displayName": "Leonardo Davoli",
      "userId": "17136115848095922755"
     },
     "user_tz": -120
    },
    "id": "U9pBFbxYkWL5",
    "outputId": "a9c45ad0-5263-4c26-9555-495948bb5c58"
   },
   "outputs": [
    {
     "data": {
      "text/plain": [
       "sepal length (cm)     float64\n",
       "sepal width (cm)      float64\n",
       "petal length (cm)     float64\n",
       "petal width (cm)      float64\n",
       "target               category\n",
       "dtype: object"
      ]
     },
     "execution_count": 53,
     "metadata": {},
     "output_type": "execute_result"
    }
   ],
   "source": [
    "df.dtypes"
   ]
  },
  {
   "cell_type": "markdown",
   "metadata": {
    "id": "8De0MyXciL1V"
   },
   "source": [
    "Mostriamo solamente le prime 5 righe."
   ]
  },
  {
   "cell_type": "code",
   "execution_count": 54,
   "metadata": {
    "colab": {
     "base_uri": "https://localhost:8080/",
     "height": 206
    },
    "executionInfo": {
     "elapsed": 606,
     "status": "ok",
     "timestamp": 1729092830653,
     "user": {
      "displayName": "Leonardo Davoli",
      "userId": "17136115848095922755"
     },
     "user_tz": -120
    },
    "id": "BlflEya4iOM9",
    "outputId": "2316d7ba-a9f9-4e88-f212-763ab6260d47"
   },
   "outputs": [
    {
     "data": {
      "text/html": [
       "<div>\n",
       "<style scoped>\n",
       "    .dataframe tbody tr th:only-of-type {\n",
       "        vertical-align: middle;\n",
       "    }\n",
       "\n",
       "    .dataframe tbody tr th {\n",
       "        vertical-align: top;\n",
       "    }\n",
       "\n",
       "    .dataframe thead th {\n",
       "        text-align: right;\n",
       "    }\n",
       "</style>\n",
       "<table border=\"1\" class=\"dataframe\">\n",
       "  <thead>\n",
       "    <tr style=\"text-align: right;\">\n",
       "      <th></th>\n",
       "      <th>sepal length (cm)</th>\n",
       "      <th>sepal width (cm)</th>\n",
       "      <th>petal length (cm)</th>\n",
       "      <th>petal width (cm)</th>\n",
       "      <th>target</th>\n",
       "    </tr>\n",
       "  </thead>\n",
       "  <tbody>\n",
       "    <tr>\n",
       "      <th>0</th>\n",
       "      <td>5.1</td>\n",
       "      <td>3.5</td>\n",
       "      <td>1.4</td>\n",
       "      <td>0.2</td>\n",
       "      <td>0</td>\n",
       "    </tr>\n",
       "    <tr>\n",
       "      <th>1</th>\n",
       "      <td>4.9</td>\n",
       "      <td>3.0</td>\n",
       "      <td>1.4</td>\n",
       "      <td>0.2</td>\n",
       "      <td>0</td>\n",
       "    </tr>\n",
       "    <tr>\n",
       "      <th>2</th>\n",
       "      <td>4.7</td>\n",
       "      <td>3.2</td>\n",
       "      <td>1.3</td>\n",
       "      <td>0.2</td>\n",
       "      <td>0</td>\n",
       "    </tr>\n",
       "    <tr>\n",
       "      <th>3</th>\n",
       "      <td>4.6</td>\n",
       "      <td>3.1</td>\n",
       "      <td>1.5</td>\n",
       "      <td>0.2</td>\n",
       "      <td>0</td>\n",
       "    </tr>\n",
       "    <tr>\n",
       "      <th>4</th>\n",
       "      <td>5.0</td>\n",
       "      <td>3.6</td>\n",
       "      <td>1.4</td>\n",
       "      <td>0.2</td>\n",
       "      <td>0</td>\n",
       "    </tr>\n",
       "  </tbody>\n",
       "</table>\n",
       "</div>"
      ],
      "text/plain": [
       "   sepal length (cm)  sepal width (cm)  petal length (cm)  petal width (cm)  \\\n",
       "0                5.1               3.5                1.4               0.2   \n",
       "1                4.9               3.0                1.4               0.2   \n",
       "2                4.7               3.2                1.3               0.2   \n",
       "3                4.6               3.1                1.5               0.2   \n",
       "4                5.0               3.6                1.4               0.2   \n",
       "\n",
       "  target  \n",
       "0      0  \n",
       "1      0  \n",
       "2      0  \n",
       "3      0  \n",
       "4      0  "
      ]
     },
     "execution_count": 54,
     "metadata": {},
     "output_type": "execute_result"
    }
   ],
   "source": [
    "df.head()"
   ]
  },
  {
   "cell_type": "markdown",
   "metadata": {
    "id": "R83AiXsaf9kv"
   },
   "source": [
    "E' possibile selezionare una colonna nel seguente modo:"
   ]
  },
  {
   "cell_type": "code",
   "execution_count": 55,
   "metadata": {
    "colab": {
     "base_uri": "https://localhost:8080/",
     "height": 458
    },
    "executionInfo": {
     "elapsed": 376,
     "status": "ok",
     "timestamp": 1729092960038,
     "user": {
      "displayName": "Leonardo Davoli",
      "userId": "17136115848095922755"
     },
     "user_tz": -120
    },
    "id": "iSNCOX-DgHyF",
    "outputId": "f64da9dc-bf7f-4a44-9424-ed28fd760683"
   },
   "outputs": [
    {
     "data": {
      "text/plain": [
       "0      1.4\n",
       "1      1.4\n",
       "2      1.3\n",
       "3      1.5\n",
       "4      1.4\n",
       "      ... \n",
       "145    5.2\n",
       "146    5.0\n",
       "147    5.2\n",
       "148    5.4\n",
       "149    5.1\n",
       "Name: petal length (cm), Length: 150, dtype: float64"
      ]
     },
     "execution_count": 55,
     "metadata": {},
     "output_type": "execute_result"
    }
   ],
   "source": [
    "df['petal length (cm)']"
   ]
  },
  {
   "cell_type": "markdown",
   "metadata": {
    "id": "7mnTYlbigxQq"
   },
   "source": [
    "Una serie di colonne con il seguente codice:"
   ]
  },
  {
   "cell_type": "code",
   "execution_count": 56,
   "metadata": {
    "colab": {
     "base_uri": "https://localhost:8080/",
     "height": 424
    },
    "executionInfo": {
     "elapsed": 536,
     "status": "ok",
     "timestamp": 1729092973995,
     "user": {
      "displayName": "Leonardo Davoli",
      "userId": "17136115848095922755"
     },
     "user_tz": -120
    },
    "id": "_6c9Rh0og0MD",
    "outputId": "5ebe2602-da26-4dfc-aa3c-78d6d3a66542"
   },
   "outputs": [
    {
     "data": {
      "text/html": [
       "<div>\n",
       "<style scoped>\n",
       "    .dataframe tbody tr th:only-of-type {\n",
       "        vertical-align: middle;\n",
       "    }\n",
       "\n",
       "    .dataframe tbody tr th {\n",
       "        vertical-align: top;\n",
       "    }\n",
       "\n",
       "    .dataframe thead th {\n",
       "        text-align: right;\n",
       "    }\n",
       "</style>\n",
       "<table border=\"1\" class=\"dataframe\">\n",
       "  <thead>\n",
       "    <tr style=\"text-align: right;\">\n",
       "      <th></th>\n",
       "      <th>petal length (cm)</th>\n",
       "      <th>petal width (cm)</th>\n",
       "    </tr>\n",
       "  </thead>\n",
       "  <tbody>\n",
       "    <tr>\n",
       "      <th>0</th>\n",
       "      <td>1.4</td>\n",
       "      <td>0.2</td>\n",
       "    </tr>\n",
       "    <tr>\n",
       "      <th>1</th>\n",
       "      <td>1.4</td>\n",
       "      <td>0.2</td>\n",
       "    </tr>\n",
       "    <tr>\n",
       "      <th>2</th>\n",
       "      <td>1.3</td>\n",
       "      <td>0.2</td>\n",
       "    </tr>\n",
       "    <tr>\n",
       "      <th>3</th>\n",
       "      <td>1.5</td>\n",
       "      <td>0.2</td>\n",
       "    </tr>\n",
       "    <tr>\n",
       "      <th>4</th>\n",
       "      <td>1.4</td>\n",
       "      <td>0.2</td>\n",
       "    </tr>\n",
       "    <tr>\n",
       "      <th>...</th>\n",
       "      <td>...</td>\n",
       "      <td>...</td>\n",
       "    </tr>\n",
       "    <tr>\n",
       "      <th>145</th>\n",
       "      <td>5.2</td>\n",
       "      <td>2.3</td>\n",
       "    </tr>\n",
       "    <tr>\n",
       "      <th>146</th>\n",
       "      <td>5.0</td>\n",
       "      <td>1.9</td>\n",
       "    </tr>\n",
       "    <tr>\n",
       "      <th>147</th>\n",
       "      <td>5.2</td>\n",
       "      <td>2.0</td>\n",
       "    </tr>\n",
       "    <tr>\n",
       "      <th>148</th>\n",
       "      <td>5.4</td>\n",
       "      <td>2.3</td>\n",
       "    </tr>\n",
       "    <tr>\n",
       "      <th>149</th>\n",
       "      <td>5.1</td>\n",
       "      <td>1.8</td>\n",
       "    </tr>\n",
       "  </tbody>\n",
       "</table>\n",
       "<p>150 rows × 2 columns</p>\n",
       "</div>"
      ],
      "text/plain": [
       "     petal length (cm)  petal width (cm)\n",
       "0                  1.4               0.2\n",
       "1                  1.4               0.2\n",
       "2                  1.3               0.2\n",
       "3                  1.5               0.2\n",
       "4                  1.4               0.2\n",
       "..                 ...               ...\n",
       "145                5.2               2.3\n",
       "146                5.0               1.9\n",
       "147                5.2               2.0\n",
       "148                5.4               2.3\n",
       "149                5.1               1.8\n",
       "\n",
       "[150 rows x 2 columns]"
      ]
     },
     "execution_count": 56,
     "metadata": {},
     "output_type": "execute_result"
    }
   ],
   "source": [
    "df[['petal length (cm)', 'petal width (cm)']]"
   ]
  },
  {
   "cell_type": "markdown",
   "metadata": {
    "id": "gPM2GJW8gOcJ"
   },
   "source": [
    "Un possibile modo per selezionare una riga è il seguente\n",
    "\n",
    "_':' per selezionare tutte le colonne_"
   ]
  },
  {
   "cell_type": "code",
   "execution_count": 58,
   "metadata": {
    "colab": {
     "base_uri": "https://localhost:8080/",
     "height": 241
    },
    "executionInfo": {
     "elapsed": 365,
     "status": "ok",
     "timestamp": 1729092997889,
     "user": {
      "displayName": "Leonardo Davoli",
      "userId": "17136115848095922755"
     },
     "user_tz": -120
    },
    "id": "OnJxHbgPgKUn",
    "outputId": "9a0e9693-3ad6-4ee1-9caa-17ed8a1a5a16"
   },
   "outputs": [
    {
     "data": {
      "text/plain": [
       "sepal length (cm)    5.1\n",
       "sepal width (cm)     3.5\n",
       "petal length (cm)    1.4\n",
       "petal width (cm)     0.2\n",
       "target               0.0\n",
       "Name: 0, dtype: float64"
      ]
     },
     "execution_count": 58,
     "metadata": {},
     "output_type": "execute_result"
    }
   ],
   "source": [
    "df.loc[0, :]"
   ]
  },
  {
   "cell_type": "markdown",
   "metadata": {
    "id": "oK--FyXfg_gd"
   },
   "source": [
    "Per selezionare più righe:"
   ]
  },
  {
   "cell_type": "code",
   "execution_count": 59,
   "metadata": {
    "colab": {
     "base_uri": "https://localhost:8080/",
     "height": 237
    },
    "executionInfo": {
     "elapsed": 14,
     "status": "ok",
     "timestamp": 1676841076442,
     "user": {
      "displayName": "Simone Paolo Mottadelli",
      "userId": "04527667705370282454"
     },
     "user_tz": -60
    },
    "id": "QvpvJMTJhBkA",
    "outputId": "bbeee04c-6b40-4502-b5d5-9875aeba65b2"
   },
   "outputs": [
    {
     "data": {
      "text/html": [
       "<div>\n",
       "<style scoped>\n",
       "    .dataframe tbody tr th:only-of-type {\n",
       "        vertical-align: middle;\n",
       "    }\n",
       "\n",
       "    .dataframe tbody tr th {\n",
       "        vertical-align: top;\n",
       "    }\n",
       "\n",
       "    .dataframe thead th {\n",
       "        text-align: right;\n",
       "    }\n",
       "</style>\n",
       "<table border=\"1\" class=\"dataframe\">\n",
       "  <thead>\n",
       "    <tr style=\"text-align: right;\">\n",
       "      <th></th>\n",
       "      <th>sepal length (cm)</th>\n",
       "      <th>sepal width (cm)</th>\n",
       "      <th>petal length (cm)</th>\n",
       "      <th>petal width (cm)</th>\n",
       "      <th>target</th>\n",
       "    </tr>\n",
       "  </thead>\n",
       "  <tbody>\n",
       "    <tr>\n",
       "      <th>0</th>\n",
       "      <td>5.1</td>\n",
       "      <td>3.5</td>\n",
       "      <td>1.4</td>\n",
       "      <td>0.2</td>\n",
       "      <td>0</td>\n",
       "    </tr>\n",
       "    <tr>\n",
       "      <th>1</th>\n",
       "      <td>4.9</td>\n",
       "      <td>3.0</td>\n",
       "      <td>1.4</td>\n",
       "      <td>0.2</td>\n",
       "      <td>0</td>\n",
       "    </tr>\n",
       "    <tr>\n",
       "      <th>2</th>\n",
       "      <td>4.7</td>\n",
       "      <td>3.2</td>\n",
       "      <td>1.3</td>\n",
       "      <td>0.2</td>\n",
       "      <td>0</td>\n",
       "    </tr>\n",
       "    <tr>\n",
       "      <th>3</th>\n",
       "      <td>4.6</td>\n",
       "      <td>3.1</td>\n",
       "      <td>1.5</td>\n",
       "      <td>0.2</td>\n",
       "      <td>0</td>\n",
       "    </tr>\n",
       "    <tr>\n",
       "      <th>4</th>\n",
       "      <td>5.0</td>\n",
       "      <td>3.6</td>\n",
       "      <td>1.4</td>\n",
       "      <td>0.2</td>\n",
       "      <td>0</td>\n",
       "    </tr>\n",
       "    <tr>\n",
       "      <th>5</th>\n",
       "      <td>5.4</td>\n",
       "      <td>3.9</td>\n",
       "      <td>1.7</td>\n",
       "      <td>0.4</td>\n",
       "      <td>0</td>\n",
       "    </tr>\n",
       "  </tbody>\n",
       "</table>\n",
       "</div>"
      ],
      "text/plain": [
       "   sepal length (cm)  sepal width (cm)  petal length (cm)  petal width (cm)  \\\n",
       "0                5.1               3.5                1.4               0.2   \n",
       "1                4.9               3.0                1.4               0.2   \n",
       "2                4.7               3.2                1.3               0.2   \n",
       "3                4.6               3.1                1.5               0.2   \n",
       "4                5.0               3.6                1.4               0.2   \n",
       "5                5.4               3.9                1.7               0.4   \n",
       "\n",
       "  target  \n",
       "0      0  \n",
       "1      0  \n",
       "2      0  \n",
       "3      0  \n",
       "4      0  \n",
       "5      0  "
      ]
     },
     "execution_count": 59,
     "metadata": {},
     "output_type": "execute_result"
    }
   ],
   "source": [
    "df.loc[0:5, :]"
   ]
  },
  {
   "cell_type": "markdown",
   "metadata": {
    "id": "EItSSxTtgkAt"
   },
   "source": [
    "Per selezionare il valore di una cella nel DataFrame:"
   ]
  },
  {
   "cell_type": "code",
   "execution_count": 60,
   "metadata": {
    "colab": {
     "base_uri": "https://localhost:8080/"
    },
    "executionInfo": {
     "elapsed": 416,
     "status": "ok",
     "timestamp": 1676840973412,
     "user": {
      "displayName": "Simone Paolo Mottadelli",
      "userId": "04527667705370282454"
     },
     "user_tz": -60
    },
    "id": "p3C2sZB3gXrA",
    "outputId": "8224b4f7-8dba-4e27-aac6-7fb6f176a755"
   },
   "outputs": [
    {
     "data": {
      "text/plain": [
       "np.float64(1.4)"
      ]
     },
     "execution_count": 60,
     "metadata": {},
     "output_type": "execute_result"
    }
   ],
   "source": [
    "df.loc[0, \"petal length (cm)\"]"
   ]
  },
  {
   "cell_type": "markdown",
   "metadata": {
    "id": "6wTp0FXMhK8-"
   },
   "source": [
    "Selezioniamo gli indici delle righe che hanno il valore della colonna *target* pari a 2."
   ]
  },
  {
   "cell_type": "code",
   "execution_count": 61,
   "metadata": {
    "colab": {
     "base_uri": "https://localhost:8080/"
    },
    "executionInfo": {
     "elapsed": 392,
     "status": "ok",
     "timestamp": 1729093036766,
     "user": {
      "displayName": "Leonardo Davoli",
      "userId": "17136115848095922755"
     },
     "user_tz": -120
    },
    "id": "0q95VgbwgrBo",
    "outputId": "d42131a5-06bf-499d-8fda-93c8fd39d9dd"
   },
   "outputs": [
    {
     "data": {
      "text/plain": [
       "Index([100, 101, 102, 103, 104, 105, 106, 107, 108, 109, 110, 111, 112, 113,\n",
       "       114, 115, 116, 117, 118, 119, 120, 121, 122, 123, 124, 125, 126, 127,\n",
       "       128, 129, 130, 131, 132, 133, 134, 135, 136, 137, 138, 139, 140, 141,\n",
       "       142, 143, 144, 145, 146, 147, 148, 149],\n",
       "      dtype='int64')"
      ]
     },
     "execution_count": 61,
     "metadata": {},
     "output_type": "execute_result"
    }
   ],
   "source": [
    "df[df[\"target\"] == 2].index"
   ]
  },
  {
   "cell_type": "markdown",
   "metadata": {
    "id": "go5NnOj6hiof"
   },
   "source": [
    "Ora selezioniamo tutte le righe per cui la lunghezza del petalo è minore o uguale ad 1.4, mentre la sua larghezza è maggiore di 0.2."
   ]
  },
  {
   "cell_type": "code",
   "execution_count": 62,
   "metadata": {
    "colab": {
     "base_uri": "https://localhost:8080/",
     "height": 708
    },
    "executionInfo": {
     "elapsed": 707,
     "status": "ok",
     "timestamp": 1729093097464,
     "user": {
      "displayName": "Leonardo Davoli",
      "userId": "17136115848095922755"
     },
     "user_tz": -120
    },
    "id": "sTXxGtOghakX",
    "outputId": "a91f3549-8e59-441d-e51a-a81c199b9481"
   },
   "outputs": [
    {
     "data": {
      "text/html": [
       "<div>\n",
       "<style scoped>\n",
       "    .dataframe tbody tr th:only-of-type {\n",
       "        vertical-align: middle;\n",
       "    }\n",
       "\n",
       "    .dataframe tbody tr th {\n",
       "        vertical-align: top;\n",
       "    }\n",
       "\n",
       "    .dataframe thead th {\n",
       "        text-align: right;\n",
       "    }\n",
       "</style>\n",
       "<table border=\"1\" class=\"dataframe\">\n",
       "  <thead>\n",
       "    <tr style=\"text-align: right;\">\n",
       "      <th></th>\n",
       "      <th>sepal length (cm)</th>\n",
       "      <th>sepal width (cm)</th>\n",
       "      <th>petal length (cm)</th>\n",
       "      <th>petal width (cm)</th>\n",
       "      <th>target</th>\n",
       "    </tr>\n",
       "  </thead>\n",
       "  <tbody>\n",
       "    <tr>\n",
       "      <th>0</th>\n",
       "      <td>5.1</td>\n",
       "      <td>3.5</td>\n",
       "      <td>1.4</td>\n",
       "      <td>0.2</td>\n",
       "      <td>0</td>\n",
       "    </tr>\n",
       "    <tr>\n",
       "      <th>1</th>\n",
       "      <td>4.9</td>\n",
       "      <td>3.0</td>\n",
       "      <td>1.4</td>\n",
       "      <td>0.2</td>\n",
       "      <td>0</td>\n",
       "    </tr>\n",
       "    <tr>\n",
       "      <th>2</th>\n",
       "      <td>4.7</td>\n",
       "      <td>3.2</td>\n",
       "      <td>1.3</td>\n",
       "      <td>0.2</td>\n",
       "      <td>0</td>\n",
       "    </tr>\n",
       "    <tr>\n",
       "      <th>4</th>\n",
       "      <td>5.0</td>\n",
       "      <td>3.6</td>\n",
       "      <td>1.4</td>\n",
       "      <td>0.2</td>\n",
       "      <td>0</td>\n",
       "    </tr>\n",
       "    <tr>\n",
       "      <th>6</th>\n",
       "      <td>4.6</td>\n",
       "      <td>3.4</td>\n",
       "      <td>1.4</td>\n",
       "      <td>0.3</td>\n",
       "      <td>0</td>\n",
       "    </tr>\n",
       "    <tr>\n",
       "      <th>8</th>\n",
       "      <td>4.4</td>\n",
       "      <td>2.9</td>\n",
       "      <td>1.4</td>\n",
       "      <td>0.2</td>\n",
       "      <td>0</td>\n",
       "    </tr>\n",
       "    <tr>\n",
       "      <th>14</th>\n",
       "      <td>5.8</td>\n",
       "      <td>4.0</td>\n",
       "      <td>1.2</td>\n",
       "      <td>0.2</td>\n",
       "      <td>0</td>\n",
       "    </tr>\n",
       "    <tr>\n",
       "      <th>16</th>\n",
       "      <td>5.4</td>\n",
       "      <td>3.9</td>\n",
       "      <td>1.3</td>\n",
       "      <td>0.4</td>\n",
       "      <td>0</td>\n",
       "    </tr>\n",
       "    <tr>\n",
       "      <th>17</th>\n",
       "      <td>5.1</td>\n",
       "      <td>3.5</td>\n",
       "      <td>1.4</td>\n",
       "      <td>0.3</td>\n",
       "      <td>0</td>\n",
       "    </tr>\n",
       "    <tr>\n",
       "      <th>22</th>\n",
       "      <td>4.6</td>\n",
       "      <td>3.6</td>\n",
       "      <td>1.0</td>\n",
       "      <td>0.2</td>\n",
       "      <td>0</td>\n",
       "    </tr>\n",
       "    <tr>\n",
       "      <th>28</th>\n",
       "      <td>5.2</td>\n",
       "      <td>3.4</td>\n",
       "      <td>1.4</td>\n",
       "      <td>0.2</td>\n",
       "      <td>0</td>\n",
       "    </tr>\n",
       "    <tr>\n",
       "      <th>33</th>\n",
       "      <td>5.5</td>\n",
       "      <td>4.2</td>\n",
       "      <td>1.4</td>\n",
       "      <td>0.2</td>\n",
       "      <td>0</td>\n",
       "    </tr>\n",
       "    <tr>\n",
       "      <th>35</th>\n",
       "      <td>5.0</td>\n",
       "      <td>3.2</td>\n",
       "      <td>1.2</td>\n",
       "      <td>0.2</td>\n",
       "      <td>0</td>\n",
       "    </tr>\n",
       "    <tr>\n",
       "      <th>36</th>\n",
       "      <td>5.5</td>\n",
       "      <td>3.5</td>\n",
       "      <td>1.3</td>\n",
       "      <td>0.2</td>\n",
       "      <td>0</td>\n",
       "    </tr>\n",
       "    <tr>\n",
       "      <th>38</th>\n",
       "      <td>4.4</td>\n",
       "      <td>3.0</td>\n",
       "      <td>1.3</td>\n",
       "      <td>0.2</td>\n",
       "      <td>0</td>\n",
       "    </tr>\n",
       "    <tr>\n",
       "      <th>40</th>\n",
       "      <td>5.0</td>\n",
       "      <td>3.5</td>\n",
       "      <td>1.3</td>\n",
       "      <td>0.3</td>\n",
       "      <td>0</td>\n",
       "    </tr>\n",
       "    <tr>\n",
       "      <th>41</th>\n",
       "      <td>4.5</td>\n",
       "      <td>2.3</td>\n",
       "      <td>1.3</td>\n",
       "      <td>0.3</td>\n",
       "      <td>0</td>\n",
       "    </tr>\n",
       "    <tr>\n",
       "      <th>42</th>\n",
       "      <td>4.4</td>\n",
       "      <td>3.2</td>\n",
       "      <td>1.3</td>\n",
       "      <td>0.2</td>\n",
       "      <td>0</td>\n",
       "    </tr>\n",
       "    <tr>\n",
       "      <th>45</th>\n",
       "      <td>4.8</td>\n",
       "      <td>3.0</td>\n",
       "      <td>1.4</td>\n",
       "      <td>0.3</td>\n",
       "      <td>0</td>\n",
       "    </tr>\n",
       "    <tr>\n",
       "      <th>47</th>\n",
       "      <td>4.6</td>\n",
       "      <td>3.2</td>\n",
       "      <td>1.4</td>\n",
       "      <td>0.2</td>\n",
       "      <td>0</td>\n",
       "    </tr>\n",
       "    <tr>\n",
       "      <th>49</th>\n",
       "      <td>5.0</td>\n",
       "      <td>3.3</td>\n",
       "      <td>1.4</td>\n",
       "      <td>0.2</td>\n",
       "      <td>0</td>\n",
       "    </tr>\n",
       "  </tbody>\n",
       "</table>\n",
       "</div>"
      ],
      "text/plain": [
       "    sepal length (cm)  sepal width (cm)  petal length (cm)  petal width (cm)  \\\n",
       "0                 5.1               3.5                1.4               0.2   \n",
       "1                 4.9               3.0                1.4               0.2   \n",
       "2                 4.7               3.2                1.3               0.2   \n",
       "4                 5.0               3.6                1.4               0.2   \n",
       "6                 4.6               3.4                1.4               0.3   \n",
       "8                 4.4               2.9                1.4               0.2   \n",
       "14                5.8               4.0                1.2               0.2   \n",
       "16                5.4               3.9                1.3               0.4   \n",
       "17                5.1               3.5                1.4               0.3   \n",
       "22                4.6               3.6                1.0               0.2   \n",
       "28                5.2               3.4                1.4               0.2   \n",
       "33                5.5               4.2                1.4               0.2   \n",
       "35                5.0               3.2                1.2               0.2   \n",
       "36                5.5               3.5                1.3               0.2   \n",
       "38                4.4               3.0                1.3               0.2   \n",
       "40                5.0               3.5                1.3               0.3   \n",
       "41                4.5               2.3                1.3               0.3   \n",
       "42                4.4               3.2                1.3               0.2   \n",
       "45                4.8               3.0                1.4               0.3   \n",
       "47                4.6               3.2                1.4               0.2   \n",
       "49                5.0               3.3                1.4               0.2   \n",
       "\n",
       "   target  \n",
       "0       0  \n",
       "1       0  \n",
       "2       0  \n",
       "4       0  \n",
       "6       0  \n",
       "8       0  \n",
       "14      0  \n",
       "16      0  \n",
       "17      0  \n",
       "22      0  \n",
       "28      0  \n",
       "33      0  \n",
       "35      0  \n",
       "36      0  \n",
       "38      0  \n",
       "40      0  \n",
       "41      0  \n",
       "42      0  \n",
       "45      0  \n",
       "47      0  \n",
       "49      0  "
      ]
     },
     "execution_count": 62,
     "metadata": {},
     "output_type": "execute_result"
    }
   ],
   "source": [
    "df[(df[\"petal length (cm)\"] <= 1.4) & (df[\"petal width (cm)\"] >= 0.2)]"
   ]
  },
  {
   "cell_type": "markdown",
   "metadata": {
    "id": "CKZpD0i8i5qF"
   },
   "source": [
    "E' possibile effettuare una prima esplorazione del dataset utilizzando il metodo *describe*, che mostra, per ciascuna colonna, le statistiche principali."
   ]
  },
  {
   "cell_type": "code",
   "execution_count": 63,
   "metadata": {
    "colab": {
     "base_uri": "https://localhost:8080/",
     "height": 300
    },
    "executionInfo": {
     "elapsed": 392,
     "status": "ok",
     "timestamp": 1729093101969,
     "user": {
      "displayName": "Leonardo Davoli",
      "userId": "17136115848095922755"
     },
     "user_tz": -120
    },
    "id": "KUX0wIPQh_Yd",
    "outputId": "40d7b4f3-5a4e-4d37-8c58-98a01a4eb090"
   },
   "outputs": [
    {
     "data": {
      "text/html": [
       "<div>\n",
       "<style scoped>\n",
       "    .dataframe tbody tr th:only-of-type {\n",
       "        vertical-align: middle;\n",
       "    }\n",
       "\n",
       "    .dataframe tbody tr th {\n",
       "        vertical-align: top;\n",
       "    }\n",
       "\n",
       "    .dataframe thead th {\n",
       "        text-align: right;\n",
       "    }\n",
       "</style>\n",
       "<table border=\"1\" class=\"dataframe\">\n",
       "  <thead>\n",
       "    <tr style=\"text-align: right;\">\n",
       "      <th></th>\n",
       "      <th>sepal length (cm)</th>\n",
       "      <th>sepal width (cm)</th>\n",
       "      <th>petal length (cm)</th>\n",
       "      <th>petal width (cm)</th>\n",
       "    </tr>\n",
       "  </thead>\n",
       "  <tbody>\n",
       "    <tr>\n",
       "      <th>count</th>\n",
       "      <td>150.000000</td>\n",
       "      <td>150.000000</td>\n",
       "      <td>150.000000</td>\n",
       "      <td>150.000000</td>\n",
       "    </tr>\n",
       "    <tr>\n",
       "      <th>mean</th>\n",
       "      <td>5.843333</td>\n",
       "      <td>3.057333</td>\n",
       "      <td>3.758000</td>\n",
       "      <td>1.199333</td>\n",
       "    </tr>\n",
       "    <tr>\n",
       "      <th>std</th>\n",
       "      <td>0.828066</td>\n",
       "      <td>0.435866</td>\n",
       "      <td>1.765298</td>\n",
       "      <td>0.762238</td>\n",
       "    </tr>\n",
       "    <tr>\n",
       "      <th>min</th>\n",
       "      <td>4.300000</td>\n",
       "      <td>2.000000</td>\n",
       "      <td>1.000000</td>\n",
       "      <td>0.100000</td>\n",
       "    </tr>\n",
       "    <tr>\n",
       "      <th>25%</th>\n",
       "      <td>5.100000</td>\n",
       "      <td>2.800000</td>\n",
       "      <td>1.600000</td>\n",
       "      <td>0.300000</td>\n",
       "    </tr>\n",
       "    <tr>\n",
       "      <th>50%</th>\n",
       "      <td>5.800000</td>\n",
       "      <td>3.000000</td>\n",
       "      <td>4.350000</td>\n",
       "      <td>1.300000</td>\n",
       "    </tr>\n",
       "    <tr>\n",
       "      <th>75%</th>\n",
       "      <td>6.400000</td>\n",
       "      <td>3.300000</td>\n",
       "      <td>5.100000</td>\n",
       "      <td>1.800000</td>\n",
       "    </tr>\n",
       "    <tr>\n",
       "      <th>max</th>\n",
       "      <td>7.900000</td>\n",
       "      <td>4.400000</td>\n",
       "      <td>6.900000</td>\n",
       "      <td>2.500000</td>\n",
       "    </tr>\n",
       "  </tbody>\n",
       "</table>\n",
       "</div>"
      ],
      "text/plain": [
       "       sepal length (cm)  sepal width (cm)  petal length (cm)  \\\n",
       "count         150.000000        150.000000         150.000000   \n",
       "mean            5.843333          3.057333           3.758000   \n",
       "std             0.828066          0.435866           1.765298   \n",
       "min             4.300000          2.000000           1.000000   \n",
       "25%             5.100000          2.800000           1.600000   \n",
       "50%             5.800000          3.000000           4.350000   \n",
       "75%             6.400000          3.300000           5.100000   \n",
       "max             7.900000          4.400000           6.900000   \n",
       "\n",
       "       petal width (cm)  \n",
       "count        150.000000  \n",
       "mean           1.199333  \n",
       "std            0.762238  \n",
       "min            0.100000  \n",
       "25%            0.300000  \n",
       "50%            1.300000  \n",
       "75%            1.800000  \n",
       "max            2.500000  "
      ]
     },
     "execution_count": 63,
     "metadata": {},
     "output_type": "execute_result"
    }
   ],
   "source": [
    "df.describe()"
   ]
  },
  {
   "cell_type": "markdown",
   "metadata": {
    "id": "oKeHEoQukn2K"
   },
   "source": [
    "Notiamo che la colonna *target* non è nell'elenco di colonne descritte con le diverse statistiche. Questo perchè la dunzione *describe* dà la precedenza alle variabili numeriche. Quindi, per visualizzare le statistiche associate alle colonne categoriche, bisogna eseguire la funzione solo su di esse. Con il codice seguente, selezioniamo solo la colonna categorica *target* e invochiamo il metodo."
   ]
  },
  {
   "cell_type": "code",
   "execution_count": 64,
   "metadata": {
    "colab": {
     "base_uri": "https://localhost:8080/",
     "height": 210
    },
    "executionInfo": {
     "elapsed": 648,
     "status": "ok",
     "timestamp": 1729093179335,
     "user": {
      "displayName": "Leonardo Davoli",
      "userId": "17136115848095922755"
     },
     "user_tz": -120
    },
    "id": "mSawCWKDkzvx",
    "outputId": "71bde09f-2861-45dc-ef70-5659a9e8290c"
   },
   "outputs": [
    {
     "data": {
      "text/plain": [
       "count     150\n",
       "unique      3\n",
       "top         0\n",
       "freq       50\n",
       "Name: target, dtype: int64"
      ]
     },
     "execution_count": 64,
     "metadata": {},
     "output_type": "execute_result"
    }
   ],
   "source": [
    "df[\"target\"].describe()"
   ]
  },
  {
   "cell_type": "markdown",
   "metadata": {
    "id": "wLfI3Nstlzu9"
   },
   "source": [
    "E' possibile anche contare quanti valori ci sono per ciascuna modalità della variabile categorica:"
   ]
  },
  {
   "cell_type": "code",
   "execution_count": 65,
   "metadata": {
    "colab": {
     "base_uri": "https://localhost:8080/",
     "height": 210
    },
    "executionInfo": {
     "elapsed": 383,
     "status": "ok",
     "timestamp": 1729093185551,
     "user": {
      "displayName": "Leonardo Davoli",
      "userId": "17136115848095922755"
     },
     "user_tz": -120
    },
    "id": "I5jpvatWl6cP",
    "outputId": "7e12427b-b290-43d7-8181-24c8047e889d"
   },
   "outputs": [
    {
     "data": {
      "text/plain": [
       "target\n",
       "0    50\n",
       "1    50\n",
       "2    50\n",
       "Name: count, dtype: int64"
      ]
     },
     "execution_count": 65,
     "metadata": {},
     "output_type": "execute_result"
    }
   ],
   "source": [
    "df[\"target\"].value_counts()"
   ]
  },
  {
   "cell_type": "markdown",
   "metadata": {
    "id": "xZHu31hujNJG"
   },
   "source": [
    "E' possibile calcolare anche solamente una statistica nel seguente modo. Vediamo la media."
   ]
  },
  {
   "cell_type": "code",
   "execution_count": 67,
   "metadata": {
    "colab": {
     "base_uri": "https://localhost:8080/",
     "height": 287
    },
    "executionInfo": {
     "elapsed": 520,
     "status": "error",
     "timestamp": 1729093722290,
     "user": {
      "displayName": "Leonardo Davoli",
      "userId": "17136115848095922755"
     },
     "user_tz": -120
    },
    "id": "LVTygn8EjF3O",
    "outputId": "c3d1a684-1bb1-4a9a-a5cc-4832f022eb1b"
   },
   "outputs": [
    {
     "data": {
      "text/plain": [
       "sepal length (cm)    5.843333\n",
       "sepal width (cm)     3.057333\n",
       "petal length (cm)    3.758000\n",
       "petal width (cm)     1.199333\n",
       "dtype: float64"
      ]
     },
     "execution_count": 67,
     "metadata": {},
     "output_type": "execute_result"
    }
   ],
   "source": [
    "df.mean(numeric_only=True)"
   ]
  },
  {
   "cell_type": "markdown",
   "metadata": {
    "id": "PXaYeGdsjb-b"
   },
   "source": [
    "Vediamo ora la distribuzione della classe nel dataset tramite un grafico a torta"
   ]
  },
  {
   "cell_type": "code",
   "execution_count": 68,
   "metadata": {
    "colab": {
     "base_uri": "https://localhost:8080/",
     "height": 264
    },
    "executionInfo": {
     "elapsed": 413,
     "status": "ok",
     "timestamp": 1676842539850,
     "user": {
      "displayName": "Simone Paolo Mottadelli",
      "userId": "04527667705370282454"
     },
     "user_tz": -60
    },
    "id": "Q2bkETUEjSDV",
    "outputId": "2c67dcc0-e9a1-44bc-ceaa-9df315c2ba40"
   },
   "outputs": [
    {
     "data": {
      "image/png": "[encoded data removed]",
      "text/plain": [
       "<Figure size 640x480 with 1 Axes>"
      ]
     },
     "metadata": {},
     "output_type": "display_data"
    }
   ],
   "source": [
    "plt.pie(df[\"target\"].value_counts(), labels=[\"0\", \"1\", \"2\"], autopct='%1.1f%%')\n",
    "plt.legend()\n",
    "plt.title(\"Distribuzione della variabile \\\"target\\\"\")\n",
    "plt.show()"
   ]
  },
  {
   "cell_type": "markdown",
   "metadata": {
    "id": "-9tQsHHLmPXn"
   },
   "source": [
    "Vediamo la distribuzione della variabile *sepal length (cm)*."
   ]
  },
  {
   "cell_type": "code",
   "execution_count": 69,
   "metadata": {
    "colab": {
     "base_uri": "https://localhost:8080/",
     "height": 295
    },
    "executionInfo": {
     "elapsed": 386,
     "status": "ok",
     "timestamp": 1676842525236,
     "user": {
      "displayName": "Simone Paolo Mottadelli",
      "userId": "04527667705370282454"
     },
     "user_tz": -60
    },
    "id": "TvdheW8bjpnK",
    "outputId": "759fc032-93cb-44df-c149-33e4bafe9f03"
   },
   "outputs": [
    {
     "data": {
      "image/png": "[encoded data removed]",
      "text/plain": [
       "<Figure size 640x480 with 1 Axes>"
      ]
     },
     "metadata": {},
     "output_type": "display_data"
    }
   ],
   "source": [
    "plt.hist(df[\"sepal length (cm)\"])\n",
    "plt.xlabel(\"sepal length (cm)\")\n",
    "plt.ylabel(\"Frequenza assoluta\")\n",
    "plt.title(\"Distribuzione della variabile \\\"sepal length (cm)\\\"\")\n",
    "plt.show()"
   ]
  },
  {
   "cell_type": "markdown",
   "metadata": {
    "id": "MJZJgNtlmuQp"
   },
   "source": [
    "Vediamo la distribuzione di *sepal width (cm)* in funzione di *target*.\n",
    "\n",
    "è mostrato che l'intervallo di variazione dei valori della classe 0 è specialmente diverso dai valori delle altre classi.<br>\n",
    "Quindi la \"covariante\" descrive bene la classe 0 ma ha più difficolta a descrivere classi 1 e 2."
   ]
  },
  {
   "cell_type": "code",
   "execution_count": 70,
   "metadata": {
    "colab": {
     "base_uri": "https://localhost:8080/",
     "height": 472
    },
    "executionInfo": {
     "elapsed": 1604,
     "status": "ok",
     "timestamp": 1729093730706,
     "user": {
      "displayName": "Leonardo Davoli",
      "userId": "17136115848095922755"
     },
     "user_tz": -120
    },
    "id": "AWkt3uyAmtnk",
    "outputId": "a1ba38dd-dff1-4573-a6ba-a0ae2ff3e228"
   },
   "outputs": [
    {
     "data": {
      "image/png": "[encoded data removed]",
      "text/plain": [
       "<Figure size 640x480 with 1 Axes>"
      ]
     },
     "metadata": {},
     "output_type": "display_data"
    }
   ],
   "source": [
    "data_to_plot = {\n",
    "    '0': df[df['target'] == 0]['sepal width (cm)'],\n",
    "    '1': df[df['target'] == 1]['sepal width (cm)'],\n",
    "    '2': df[df['target'] == 2]['sepal width (cm)']\n",
    "}\n",
    "\n",
    "# Crea il grafico a boxplot\n",
    "fig, ax = plt.subplots()\n",
    "ax.boxplot(data_to_plot.values())\n",
    "ax.set_xticklabels(data_to_plot.keys())\n",
    "ax.set_ylabel('sepal width (cm)')\n",
    "ax.set_xlabel('target')\n",
    "plt.title(\"Distribuzione di \\\"sepal width (cm)\\\" in funzione di \\\"target\\\"\")\n",
    "plt.show()"
   ]
  },
  {
   "cell_type": "markdown",
   "metadata": {
    "id": "DRKmZIL1nsDW"
   },
   "source": [
    "Facciamo uno scatter plot per capire la relazione tra *petal length (cm)* e *petal width (cm)*."
   ]
  },
  {
   "cell_type": "code",
   "execution_count": 71,
   "metadata": {
    "colab": {
     "base_uri": "https://localhost:8080/",
     "height": 472
    },
    "executionInfo": {
     "elapsed": 1292,
     "status": "ok",
     "timestamp": 1729094032632,
     "user": {
      "displayName": "Leonardo Davoli",
      "userId": "17136115848095922755"
     },
     "user_tz": -120
    },
    "id": "Wi4oqLnqnV6y",
    "outputId": "bf17866e-922d-4fb3-dfc0-8f90441b2821"
   },
   "outputs": [
    {
     "data": {
      "image/png": "[encoded data removed]",
      "text/plain": [
       "<Figure size 640x480 with 1 Axes>"
      ]
     },
     "metadata": {},
     "output_type": "display_data"
    }
   ],
   "source": [
    "plt.scatter(df[\"petal length (cm)\"], df[\"petal width (cm)\"])\n",
    "plt.xlabel(\"petal length (cm)\")\n",
    "plt.ylabel(\"petal width (cm)\")\n",
    "plt.title(\"Relazione tra \\\"petal length (cm)\\\" e \\\"petal width (cm)\\\"\")\n",
    "plt.show()"
   ]
  },
  {
   "cell_type": "markdown",
   "metadata": {
    "id": "LFdz1HL7B3bN"
   },
   "source": [
    "### Assignment\n",
    "Effettuare un'analisi multivariata: creare un multi-plot a coppie di covariate per individuare potenziali aspetti favorevoli o criticità del dataset in oggetto."
   ]
  },
  {
   "cell_type": "code",
   "execution_count": 73,
   "metadata": {
    "vscode": {
     "languageId": "bat"
    }
   },
   "outputs": [
    {
     "name": "stdout",
     "output_type": "stream",
     "text": [
      "Collecting seaborn\n",
      "  Downloading seaborn-0.13.2-py3-none-any.whl.metadata (5.4 kB)\n",
      "Requirement already satisfied: numpy!=1.24.0,>=1.20 in d:\\programs\\python\\python311\\lib\\site-packages (from seaborn) (2.1.3)\n",
      "Requirement already satisfied: pandas>=1.2 in d:\\programs\\python\\python311\\lib\\site-packages (from seaborn) (2.2.3)\n",
      "Requirement already satisfied: matplotlib!=3.6.1,>=3.4 in d:\\programs\\python\\python311\\lib\\site-packages (from seaborn) (3.9.2)\n",
      "Requirement already satisfied: contourpy>=1.0.1 in d:\\programs\\python\\python311\\lib\\site-packages (from matplotlib!=3.6.1,>=3.4->seaborn) (1.3.1)\n",
      "Requirement already satisfied: cycler>=0.10 in d:\\programs\\python\\python311\\lib\\site-packages (from matplotlib!=3.6.1,>=3.4->seaborn) (0.12.1)\n",
      "Requirement already satisfied: fonttools>=4.22.0 in d:\\programs\\python\\python311\\lib\\site-packages (from matplotlib!=3.6.1,>=3.4->seaborn) (4.55.0)\n",
      "Requirement already satisfied: kiwisolver>=1.3.1 in d:\\programs\\python\\python311\\lib\\site-packages (from matplotlib!=3.6.1,>=3.4->seaborn) (1.4.7)\n",
      "Requirement already satisfied: packaging>=20.0 in c:\\users\\davoleo\\appdata\\roaming\\python\\python311\\site-packages (from matplotlib!=3.6.1,>=3.4->seaborn) (24.2)\n",
      "Requirement already satisfied: pillow>=8 in d:\\programs\\python\\python311\\lib\\site-packages (from matplotlib!=3.6.1,>=3.4->seaborn) (10.0.1)\n",
      "Requirement already satisfied: pyparsing>=2.3.1 in d:\\programs\\python\\python311\\lib\\site-packages (from matplotlib!=3.6.1,>=3.4->seaborn) (3.1.2)\n",
      "Requirement already satisfied: python-dateutil>=2.7 in c:\\users\\davoleo\\appdata\\roaming\\python\\python311\\site-packages (from matplotlib!=3.6.1,>=3.4->seaborn) (2.9.0.post0)\n",
      "Requirement already satisfied: pytz>=2020.1 in d:\\programs\\python\\python311\\lib\\site-packages (from pandas>=1.2->seaborn) (2024.2)\n",
      "Requirement already satisfied: tzdata>=2022.7 in d:\\programs\\python\\python311\\lib\\site-packages (from pandas>=1.2->seaborn) (2024.2)\n",
      "Requirement already satisfied: six>=1.5 in d:\\programs\\python\\python311\\lib\\site-packages (from python-dateutil>=2.7->matplotlib!=3.6.1,>=3.4->seaborn) (1.16.0)\n",
      "Downloading seaborn-0.13.2-py3-none-any.whl (294 kB)\n",
      "Installing collected packages: seaborn\n",
      "Successfully installed seaborn-0.13.2\n",
      "Note: you may need to restart the kernel to use updated packages.\n"
     ]
    }
   ],
   "source": [
    "pip install seaborn"
   ]
  },
  {
   "cell_type": "code",
   "execution_count": 74,
   "metadata": {
    "colab": {
     "base_uri": "https://localhost:8080/",
     "height": 449
    },
    "executionInfo": {
     "elapsed": 1393,
     "status": "ok",
     "timestamp": 1729094349935,
     "user": {
      "displayName": "Leonardo Davoli",
      "userId": "17136115848095922755"
     },
     "user_tz": -120
    },
    "id": "ntwaGJDDDCiF",
    "outputId": "71566643-9ef3-48b9-af0e-a1864afef086"
   },
   "outputs": [
    {
     "data": {
      "image/png": "[encoded data removed]",
      "text/plain": [
       "<Figure size 640x480 with 1 Axes>"
      ]
     },
     "metadata": {},
     "output_type": "display_data"
    }
   ],
   "source": [
    "import seaborn as sns\n",
    "ax = sns.scatterplot(x=df[\"petal length (cm)\"], y=df[\"petal width (cm)\"], hue = df[\"target\"])"
   ]
  },
  {
   "cell_type": "markdown",
   "metadata": {
    "id": "0dbrte9eHAFY"
   },
   "source": [
    "fai la stessa cosa ma con tutte le possibili coppie di covariate (attributi) -> seaborn documentation al posto degli  istogrammi meglio curve sovrapposte.\n",
    "\n",
    "conclusioni: classe zero è molto ben discriminata (come effettivamente avevamo già osservato).\n",
    "ci sono coppie di covariate per cui facciamo fatica a distinguere la classe: osserva i pallini di colori diversi più sovrapposti. sono sepal length e sepal width.\n",
    "\n",
    "possiamo quindi decidere di togliere una covariata e vedere cosa succede.\n",
    "\n",
    "Quindi togliamo in base a sovrapposizione, c'è effettivamente un criterio"
   ]
  },
  {
   "cell_type": "code",
   "execution_count": 75,
   "metadata": {
    "colab": {
     "base_uri": "https://localhost:8080/",
     "height": 1000
    },
    "executionInfo": {
     "elapsed": 7875,
     "status": "ok",
     "timestamp": 1729095079296,
     "user": {
      "displayName": "Leonardo Davoli",
      "userId": "17136115848095922755"
     },
     "user_tz": -120
    },
    "id": "nU-V35bhDmQ-",
    "outputId": "a9d7409b-7f2b-4db8-f5cc-e6a49f6f13cd"
   },
   "outputs": [
    {
     "data": {
      "image/png": "[encoded data removed]",
      "text/plain": [
       "<Figure size 1058.88x1000 with 20 Axes>"
      ]
     },
     "metadata": {},
     "output_type": "display_data"
    }
   ],
   "source": [
    "ax=sns.pairplot(df, hue = \"target\")"
   ]
  }
 ],
 "metadata": {
  "colab": {
   "provenance": []
  },
  "kernelspec": {
   "display_name": "Python 3",
   "name": "python3"
  },
  "language_info": {
   "codemirror_mode": {
    "name": "ipython",
    "version": 3
   },
   "file_extension": ".py",
   "mimetype": "text/x-python",
   "name": "python",
   "nbconvert_exporter": "python",
   "pygments_lexer": "ipython3",
   "version": "3.11.4"
  }
 },
 "nbformat": 4,
 "nbformat_minor": 0
}
