{
 "cells": [
  {
   "cell_type": "markdown",
   "metadata": {
    "id": "AUCmsjmtpJXj"
   },
   "source": [
    "## Principal Component Analysis (PCA) in Python\n",
    "\n",
    "La Principal Component Analysis (PCA) è un'analisi multivariata utilizzata per ridurre la dimensionalità di un insieme di dati, identificando le componenti principali che rappresentano la maggior parte della variazione dei dati. In Python, la libreria scikit-learn fornisce una classe PCA che può essere utilizzata per eseguire la PCA."
   ]
  },
  {
   "cell_type": "code",
   "execution_count": 1,
   "metadata": {
    "colab": {
     "base_uri": "https://localhost:8080/"
    },
    "executionInfo": {
     "elapsed": 40979,
     "status": "ok",
     "timestamp": 1729697180032,
     "user": {
      "displayName": "Leonardo Davoli",
      "userId": "17136115848095922755"
     },
     "user_tz": -120
    },
    "id": "p91Jg37gtpHa",
    "outputId": "5299c03c-05a8-4f40-e78a-6e91566d1eca"
   },
   "outputs": [
    {
     "ename": "ModuleNotFoundError",
     "evalue": "No module named 'google'",
     "output_type": "error",
     "traceback": [
      "\u001b[1;31m---------------------------------------------------------------------------\u001b[0m",
      "\u001b[1;31mModuleNotFoundError\u001b[0m                       Traceback (most recent call last)",
      "Cell \u001b[1;32mIn[1], line 2\u001b[0m\n\u001b[0;32m      1\u001b[0m \u001b[38;5;66;03m#Diamo accesso al nostro google drive che conterrà il dataset che utilizzeremo in questo laboratorio\u001b[39;00m\n\u001b[1;32m----> 2\u001b[0m \u001b[38;5;28;01mfrom\u001b[39;00m \u001b[38;5;21;01mgoogle\u001b[39;00m\u001b[38;5;21;01m.\u001b[39;00m\u001b[38;5;21;01mcolab\u001b[39;00m \u001b[38;5;28;01mimport\u001b[39;00m drive\n\u001b[0;32m      4\u001b[0m drive\u001b[38;5;241m.\u001b[39mmount(\u001b[38;5;124m'\u001b[39m\u001b[38;5;124m/content/drive/\u001b[39m\u001b[38;5;124m'\u001b[39m)\n",
      "\u001b[1;31mModuleNotFoundError\u001b[0m: No module named 'google'"
     ]
    }
   ],
   "source": [
    "#Diamo accesso al nostro google drive che conterrà il dataset che utilizzeremo in questo laboratorio\n",
    "from google.colab import drive\n",
    "\n",
    "drive.mount('/content/drive/')"
   ]
  },
  {
   "cell_type": "code",
   "execution_count": 1,
   "metadata": {
    "executionInfo": {
     "elapsed": 7868,
     "status": "ok",
     "timestamp": 1729697190803,
     "user": {
      "displayName": "Leonardo Davoli",
      "userId": "17136115848095922755"
     },
     "user_tz": -120
    },
    "id": "9uWMGU2UpAZX"
   },
   "outputs": [],
   "source": [
    "# Non è necessario eseguire \"pip install\" delle librerie su Google Colab, in\n",
    "# quanto sono già presenti nell'ambiente di sviluppo, dato il loro utilizzo\n",
    "# intensivo in Machine Learning\n",
    "\n",
    "import numpy as np\n",
    "import sklearn as sn\n",
    "import pandas as pd\n",
    "import requests\n",
    "import seaborn as sns"
   ]
  },
  {
   "cell_type": "markdown",
   "metadata": {
    "id": "7aSn2IRHp2hp"
   },
   "source": [
    "Per questo laboratorio, utilizzeremo il dataset *decathlon*, importandolo da locale."
   ]
  },
  {
   "cell_type": "code",
   "execution_count": 2,
   "metadata": {
    "colab": {
     "base_uri": "https://localhost:8080/",
     "height": 226
    },
    "executionInfo": {
     "elapsed": 775,
     "status": "ok",
     "timestamp": 1729697198363,
     "user": {
      "displayName": "Leonardo Davoli",
      "userId": "17136115848095922755"
     },
     "user_tz": -120
    },
    "id": "UJxpF831pYT3",
    "outputId": "fde8215e-4758-4966-ae1c-a6a2618bf733"
   },
   "outputs": [
    {
     "data": {
      "text/html": [
       "<div>\n",
       "<style scoped>\n",
       "    .dataframe tbody tr th:only-of-type {\n",
       "        vertical-align: middle;\n",
       "    }\n",
       "\n",
       "    .dataframe tbody tr th {\n",
       "        vertical-align: top;\n",
       "    }\n",
       "\n",
       "    .dataframe thead th {\n",
       "        text-align: right;\n",
       "    }\n",
       "</style>\n",
       "<table border=\"1\" class=\"dataframe\">\n",
       "  <thead>\n",
       "    <tr style=\"text-align: right;\">\n",
       "      <th></th>\n",
       "      <th>Athlets</th>\n",
       "      <th>100m</th>\n",
       "      <th>Long.jump</th>\n",
       "      <th>Shot.put</th>\n",
       "      <th>High.jump</th>\n",
       "      <th>400m</th>\n",
       "      <th>110m.hurdle</th>\n",
       "      <th>Discus</th>\n",
       "      <th>Pole.vault</th>\n",
       "      <th>Javeline</th>\n",
       "      <th>1500m</th>\n",
       "      <th>Rank</th>\n",
       "      <th>Points</th>\n",
       "      <th>Competition</th>\n",
       "    </tr>\n",
       "  </thead>\n",
       "  <tbody>\n",
       "    <tr>\n",
       "      <th>0</th>\n",
       "      <td>SEBRLE</td>\n",
       "      <td>11.04</td>\n",
       "      <td>7.58</td>\n",
       "      <td>14.83</td>\n",
       "      <td>2.07</td>\n",
       "      <td>49.81</td>\n",
       "      <td>14.69</td>\n",
       "      <td>43.75</td>\n",
       "      <td>5.02</td>\n",
       "      <td>63.19</td>\n",
       "      <td>291.7</td>\n",
       "      <td>1</td>\n",
       "      <td>8217</td>\n",
       "      <td>Decastar</td>\n",
       "    </tr>\n",
       "    <tr>\n",
       "      <th>1</th>\n",
       "      <td>CLAY</td>\n",
       "      <td>10.76</td>\n",
       "      <td>7.40</td>\n",
       "      <td>14.26</td>\n",
       "      <td>1.86</td>\n",
       "      <td>49.37</td>\n",
       "      <td>14.05</td>\n",
       "      <td>50.72</td>\n",
       "      <td>4.92</td>\n",
       "      <td>60.15</td>\n",
       "      <td>301.5</td>\n",
       "      <td>2</td>\n",
       "      <td>8122</td>\n",
       "      <td>Decastar</td>\n",
       "    </tr>\n",
       "    <tr>\n",
       "      <th>2</th>\n",
       "      <td>KARPOV</td>\n",
       "      <td>11.02</td>\n",
       "      <td>7.30</td>\n",
       "      <td>14.77</td>\n",
       "      <td>2.04</td>\n",
       "      <td>48.37</td>\n",
       "      <td>14.09</td>\n",
       "      <td>48.95</td>\n",
       "      <td>4.92</td>\n",
       "      <td>50.31</td>\n",
       "      <td>300.2</td>\n",
       "      <td>3</td>\n",
       "      <td>8099</td>\n",
       "      <td>Decastar</td>\n",
       "    </tr>\n",
       "    <tr>\n",
       "      <th>3</th>\n",
       "      <td>BERNARD</td>\n",
       "      <td>11.02</td>\n",
       "      <td>7.23</td>\n",
       "      <td>14.25</td>\n",
       "      <td>1.92</td>\n",
       "      <td>48.93</td>\n",
       "      <td>14.99</td>\n",
       "      <td>40.87</td>\n",
       "      <td>5.32</td>\n",
       "      <td>62.77</td>\n",
       "      <td>280.1</td>\n",
       "      <td>4</td>\n",
       "      <td>8067</td>\n",
       "      <td>Decastar</td>\n",
       "    </tr>\n",
       "    <tr>\n",
       "      <th>4</th>\n",
       "      <td>YURKOV</td>\n",
       "      <td>11.34</td>\n",
       "      <td>7.09</td>\n",
       "      <td>15.19</td>\n",
       "      <td>2.10</td>\n",
       "      <td>50.42</td>\n",
       "      <td>15.31</td>\n",
       "      <td>46.26</td>\n",
       "      <td>4.72</td>\n",
       "      <td>63.44</td>\n",
       "      <td>276.4</td>\n",
       "      <td>5</td>\n",
       "      <td>8036</td>\n",
       "      <td>Decastar</td>\n",
       "    </tr>\n",
       "  </tbody>\n",
       "</table>\n",
       "</div>"
      ],
      "text/plain": [
       "   Athlets   100m  Long.jump  Shot.put  High.jump   400m  110m.hurdle  Discus  \\\n",
       "0   SEBRLE  11.04       7.58     14.83       2.07  49.81        14.69   43.75   \n",
       "1     CLAY  10.76       7.40     14.26       1.86  49.37        14.05   50.72   \n",
       "2   KARPOV  11.02       7.30     14.77       2.04  48.37        14.09   48.95   \n",
       "3  BERNARD  11.02       7.23     14.25       1.92  48.93        14.99   40.87   \n",
       "4   YURKOV  11.34       7.09     15.19       2.10  50.42        15.31   46.26   \n",
       "\n",
       "   Pole.vault  Javeline  1500m  Rank  Points Competition  \n",
       "0        5.02     63.19  291.7     1    8217    Decastar  \n",
       "1        4.92     60.15  301.5     2    8122    Decastar  \n",
       "2        4.92     50.31  300.2     3    8099    Decastar  \n",
       "3        5.32     62.77  280.1     4    8067    Decastar  \n",
       "4        4.72     63.44  276.4     5    8036    Decastar  "
      ]
     },
     "execution_count": 2,
     "metadata": {},
     "output_type": "execute_result"
    }
   ],
   "source": [
    "df = pd.read_csv (\"lab02_dat/decathlon.csv\")\n",
    "\n",
    "df.head()"
   ]
  },
  {
   "cell_type": "code",
   "execution_count": 3,
   "metadata": {
    "colab": {
     "base_uri": "https://localhost:8080/",
     "height": 523
    },
    "executionInfo": {
     "elapsed": 349,
     "status": "ok",
     "timestamp": 1729697210155,
     "user": {
      "displayName": "Leonardo Davoli",
      "userId": "17136115848095922755"
     },
     "user_tz": -120
    },
    "id": "XMgLU-31vXY5",
    "outputId": "65c4ef57-a4fe-491c-9b13-9ddc7dff992b"
   },
   "outputs": [
    {
     "data": {
      "text/plain": [
       "Athlets         object\n",
       "100m           float64\n",
       "Long.jump      float64\n",
       "Shot.put       float64\n",
       "High.jump      float64\n",
       "400m           float64\n",
       "110m.hurdle    float64\n",
       "Discus         float64\n",
       "Pole.vault     float64\n",
       "Javeline       float64\n",
       "1500m          float64\n",
       "Rank             int64\n",
       "Points           int64\n",
       "Competition     object\n",
       "dtype: object"
      ]
     },
     "execution_count": 3,
     "metadata": {},
     "output_type": "execute_result"
    }
   ],
   "source": [
    "df.dtypes  # Il tipo (object) è significativo"
   ]
  },
  {
   "cell_type": "code",
   "execution_count": 4,
   "metadata": {
    "colab": {
     "base_uri": "https://localhost:8080/",
     "height": 320
    },
    "executionInfo": {
     "elapsed": 319,
     "status": "ok",
     "timestamp": 1729697365352,
     "user": {
      "displayName": "Leonardo Davoli",
      "userId": "17136115848095922755"
     },
     "user_tz": -120
    },
    "id": "4fJAXmEWvfs5",
    "outputId": "14fb2473-9655-4d95-a0d5-89dafb792723"
   },
   "outputs": [
    {
     "data": {
      "text/html": [
       "<div>\n",
       "<style scoped>\n",
       "    .dataframe tbody tr th:only-of-type {\n",
       "        vertical-align: middle;\n",
       "    }\n",
       "\n",
       "    .dataframe tbody tr th {\n",
       "        vertical-align: top;\n",
       "    }\n",
       "\n",
       "    .dataframe thead th {\n",
       "        text-align: right;\n",
       "    }\n",
       "</style>\n",
       "<table border=\"1\" class=\"dataframe\">\n",
       "  <thead>\n",
       "    <tr style=\"text-align: right;\">\n",
       "      <th></th>\n",
       "      <th>100m</th>\n",
       "      <th>Long.jump</th>\n",
       "      <th>Shot.put</th>\n",
       "      <th>High.jump</th>\n",
       "      <th>400m</th>\n",
       "      <th>110m.hurdle</th>\n",
       "      <th>Discus</th>\n",
       "      <th>Pole.vault</th>\n",
       "      <th>Javeline</th>\n",
       "      <th>1500m</th>\n",
       "      <th>Rank</th>\n",
       "      <th>Points</th>\n",
       "    </tr>\n",
       "  </thead>\n",
       "  <tbody>\n",
       "    <tr>\n",
       "      <th>count</th>\n",
       "      <td>41.000000</td>\n",
       "      <td>41.000000</td>\n",
       "      <td>41.000000</td>\n",
       "      <td>41.000000</td>\n",
       "      <td>41.000000</td>\n",
       "      <td>41.000000</td>\n",
       "      <td>41.000000</td>\n",
       "      <td>41.000000</td>\n",
       "      <td>41.000000</td>\n",
       "      <td>41.000000</td>\n",
       "      <td>41.000000</td>\n",
       "      <td>41.000000</td>\n",
       "    </tr>\n",
       "    <tr>\n",
       "      <th>mean</th>\n",
       "      <td>10.998049</td>\n",
       "      <td>7.260000</td>\n",
       "      <td>14.477073</td>\n",
       "      <td>1.976829</td>\n",
       "      <td>49.616341</td>\n",
       "      <td>14.605854</td>\n",
       "      <td>44.325610</td>\n",
       "      <td>4.762439</td>\n",
       "      <td>58.316585</td>\n",
       "      <td>279.024878</td>\n",
       "      <td>12.121951</td>\n",
       "      <td>8005.365854</td>\n",
       "    </tr>\n",
       "    <tr>\n",
       "      <th>std</th>\n",
       "      <td>0.263023</td>\n",
       "      <td>0.316402</td>\n",
       "      <td>0.824428</td>\n",
       "      <td>0.088951</td>\n",
       "      <td>1.153451</td>\n",
       "      <td>0.471789</td>\n",
       "      <td>3.377845</td>\n",
       "      <td>0.278000</td>\n",
       "      <td>4.826820</td>\n",
       "      <td>11.673247</td>\n",
       "      <td>7.918949</td>\n",
       "      <td>342.385145</td>\n",
       "    </tr>\n",
       "    <tr>\n",
       "      <th>min</th>\n",
       "      <td>10.440000</td>\n",
       "      <td>6.610000</td>\n",
       "      <td>12.680000</td>\n",
       "      <td>1.850000</td>\n",
       "      <td>46.810000</td>\n",
       "      <td>13.970000</td>\n",
       "      <td>37.920000</td>\n",
       "      <td>4.200000</td>\n",
       "      <td>50.310000</td>\n",
       "      <td>262.100000</td>\n",
       "      <td>1.000000</td>\n",
       "      <td>7313.000000</td>\n",
       "    </tr>\n",
       "    <tr>\n",
       "      <th>25%</th>\n",
       "      <td>10.850000</td>\n",
       "      <td>7.030000</td>\n",
       "      <td>13.880000</td>\n",
       "      <td>1.920000</td>\n",
       "      <td>48.930000</td>\n",
       "      <td>14.210000</td>\n",
       "      <td>41.900000</td>\n",
       "      <td>4.500000</td>\n",
       "      <td>55.270000</td>\n",
       "      <td>271.020000</td>\n",
       "      <td>6.000000</td>\n",
       "      <td>7802.000000</td>\n",
       "    </tr>\n",
       "    <tr>\n",
       "      <th>50%</th>\n",
       "      <td>10.980000</td>\n",
       "      <td>7.300000</td>\n",
       "      <td>14.570000</td>\n",
       "      <td>1.950000</td>\n",
       "      <td>49.400000</td>\n",
       "      <td>14.480000</td>\n",
       "      <td>44.410000</td>\n",
       "      <td>4.800000</td>\n",
       "      <td>58.360000</td>\n",
       "      <td>278.050000</td>\n",
       "      <td>11.000000</td>\n",
       "      <td>8021.000000</td>\n",
       "    </tr>\n",
       "    <tr>\n",
       "      <th>75%</th>\n",
       "      <td>11.140000</td>\n",
       "      <td>7.480000</td>\n",
       "      <td>14.970000</td>\n",
       "      <td>2.040000</td>\n",
       "      <td>50.300000</td>\n",
       "      <td>14.980000</td>\n",
       "      <td>46.070000</td>\n",
       "      <td>4.920000</td>\n",
       "      <td>60.890000</td>\n",
       "      <td>285.100000</td>\n",
       "      <td>18.000000</td>\n",
       "      <td>8122.000000</td>\n",
       "    </tr>\n",
       "    <tr>\n",
       "      <th>max</th>\n",
       "      <td>11.640000</td>\n",
       "      <td>7.960000</td>\n",
       "      <td>16.360000</td>\n",
       "      <td>2.150000</td>\n",
       "      <td>53.200000</td>\n",
       "      <td>15.670000</td>\n",
       "      <td>51.650000</td>\n",
       "      <td>5.400000</td>\n",
       "      <td>70.520000</td>\n",
       "      <td>317.000000</td>\n",
       "      <td>28.000000</td>\n",
       "      <td>8893.000000</td>\n",
       "    </tr>\n",
       "  </tbody>\n",
       "</table>\n",
       "</div>"
      ],
      "text/plain": [
       "            100m  Long.jump   Shot.put  High.jump       400m  110m.hurdle  \\\n",
       "count  41.000000  41.000000  41.000000  41.000000  41.000000    41.000000   \n",
       "mean   10.998049   7.260000  14.477073   1.976829  49.616341    14.605854   \n",
       "std     0.263023   0.316402   0.824428   0.088951   1.153451     0.471789   \n",
       "min    10.440000   6.610000  12.680000   1.850000  46.810000    13.970000   \n",
       "25%    10.850000   7.030000  13.880000   1.920000  48.930000    14.210000   \n",
       "50%    10.980000   7.300000  14.570000   1.950000  49.400000    14.480000   \n",
       "75%    11.140000   7.480000  14.970000   2.040000  50.300000    14.980000   \n",
       "max    11.640000   7.960000  16.360000   2.150000  53.200000    15.670000   \n",
       "\n",
       "          Discus  Pole.vault   Javeline       1500m       Rank       Points  \n",
       "count  41.000000   41.000000  41.000000   41.000000  41.000000    41.000000  \n",
       "mean   44.325610    4.762439  58.316585  279.024878  12.121951  8005.365854  \n",
       "std     3.377845    0.278000   4.826820   11.673247   7.918949   342.385145  \n",
       "min    37.920000    4.200000  50.310000  262.100000   1.000000  7313.000000  \n",
       "25%    41.900000    4.500000  55.270000  271.020000   6.000000  7802.000000  \n",
       "50%    44.410000    4.800000  58.360000  278.050000  11.000000  8021.000000  \n",
       "75%    46.070000    4.920000  60.890000  285.100000  18.000000  8122.000000  \n",
       "max    51.650000    5.400000  70.520000  317.000000  28.000000  8893.000000  "
      ]
     },
     "execution_count": 4,
     "metadata": {},
     "output_type": "execute_result"
    }
   ],
   "source": [
    "df.describe()"
   ]
  },
  {
   "cell_type": "code",
   "execution_count": 6,
   "metadata": {
    "colab": {
     "base_uri": "https://localhost:8080/",
     "height": 175
    },
    "executionInfo": {
     "elapsed": 557,
     "status": "ok",
     "timestamp": 1729697394899,
     "user": {
      "displayName": "Leonardo Davoli",
      "userId": "17136115848095922755"
     },
     "user_tz": -120
    },
    "id": "lD1Bb-nVvm3w",
    "outputId": "1e357d22-e858-4f63-c336-72e1f10ba4ff"
   },
   "outputs": [
    {
     "data": {
      "application/vnd.google.colaboratory.intrinsic+json": {
       "summary": "{\n  \"name\": \"df\",\n  \"rows\": 4,\n  \"fields\": [\n    {\n      \"column\": \"Athlets\",\n      \"properties\": {\n        \"dtype\": \"string\",\n        \"num_unique_values\": 3,\n        \"samples\": [\n          \"41\",\n          \"SEBRLE\",\n          \"1\"\n        ],\n        \"semantic_type\": \"\",\n        \"description\": \"\"\n      }\n    },\n    {\n      \"column\": \"Competition\",\n      \"properties\": {\n        \"dtype\": \"string\",\n        \"num_unique_values\": 4,\n        \"samples\": [\n          2,\n          \"28\",\n          \"41\"\n        ],\n        \"semantic_type\": \"\",\n        \"description\": \"\"\n      }\n    }\n  ]\n}",
       "type": "dataframe"
      },
      "text/html": [
       "\n",
       "  <div id=\"df-24f10dba-2e57-4f75-99e6-56b095949057\" class=\"colab-df-container\">\n",
       "    <div>\n",
       "<style scoped>\n",
       "    .dataframe tbody tr th:only-of-type {\n",
       "        vertical-align: middle;\n",
       "    }\n",
       "\n",
       "    .dataframe tbody tr th {\n",
       "        vertical-align: top;\n",
       "    }\n",
       "\n",
       "    .dataframe thead th {\n",
       "        text-align: right;\n",
       "    }\n",
       "</style>\n",
       "<table border=\"1\" class=\"dataframe\">\n",
       "  <thead>\n",
       "    <tr style=\"text-align: right;\">\n",
       "      <th></th>\n",
       "      <th>Athlets</th>\n",
       "      <th>Competition</th>\n",
       "    </tr>\n",
       "  </thead>\n",
       "  <tbody>\n",
       "    <tr>\n",
       "      <th>count</th>\n",
       "      <td>41</td>\n",
       "      <td>41</td>\n",
       "    </tr>\n",
       "    <tr>\n",
       "      <th>unique</th>\n",
       "      <td>41</td>\n",
       "      <td>2</td>\n",
       "    </tr>\n",
       "    <tr>\n",
       "      <th>top</th>\n",
       "      <td>SEBRLE</td>\n",
       "      <td>OlympicG</td>\n",
       "    </tr>\n",
       "    <tr>\n",
       "      <th>freq</th>\n",
       "      <td>1</td>\n",
       "      <td>28</td>\n",
       "    </tr>\n",
       "  </tbody>\n",
       "</table>\n",
       "</div>\n",
       "    <div class=\"colab-df-buttons\">\n",
       "\n",
       "  <div class=\"colab-df-container\">\n",
       "    <button class=\"colab-df-convert\" onclick=\"convertToInteractive('df-24f10dba-2e57-4f75-99e6-56b095949057')\"\n",
       "            title=\"Convert this dataframe to an interactive table.\"\n",
       "            style=\"display:none;\">\n",
       "\n",
       "  <svg xmlns=\"http://www.w3.org/2000/svg\" height=\"24px\" viewBox=\"0 -960 960 960\">\n",
       "    <path d=\"M120-120v-720h720v720H120Zm60-500h600v-160H180v160Zm220 220h160v-160H400v160Zm0 220h160v-160H400v160ZM180-400h160v-160H180v160Zm440 0h160v-160H620v160ZM180-180h160v-160H180v160Zm440 0h160v-160H620v160Z\"/>\n",
       "  </svg>\n",
       "    </button>\n",
       "\n",
       "  <style>\n",
       "    .colab-df-container {\n",
       "      display:flex;\n",
       "      gap: 12px;\n",
       "    }\n",
       "\n",
       "    .colab-df-convert {\n",
       "      background-color: #E8F0FE;\n",
       "      border: none;\n",
       "      border-radius: 50%;\n",
       "      cursor: pointer;\n",
       "      display: none;\n",
       "      fill: #1967D2;\n",
       "      height: 32px;\n",
       "      padding: 0 0 0 0;\n",
       "      width: 32px;\n",
       "    }\n",
       "\n",
       "    .colab-df-convert:hover {\n",
       "      background-color: #E2EBFA;\n",
       "      box-shadow: 0px 1px 2px rgba(60, 64, 67, 0.3), 0px 1px 3px 1px rgba(60, 64, 67, 0.15);\n",
       "      fill: #174EA6;\n",
       "    }\n",
       "\n",
       "    .colab-df-buttons div {\n",
       "      margin-bottom: 4px;\n",
       "    }\n",
       "\n",
       "    [theme=dark] .colab-df-convert {\n",
       "      background-color: #3B4455;\n",
       "      fill: #D2E3FC;\n",
       "    }\n",
       "\n",
       "    [theme=dark] .colab-df-convert:hover {\n",
       "      background-color: #434B5C;\n",
       "      box-shadow: 0px 1px 3px 1px rgba(0, 0, 0, 0.15);\n",
       "      filter: drop-shadow(0px 1px 2px rgba(0, 0, 0, 0.3));\n",
       "      fill: #FFFFFF;\n",
       "    }\n",
       "  </style>\n",
       "\n",
       "    <script>\n",
       "      const buttonEl =\n",
       "        document.querySelector('#df-24f10dba-2e57-4f75-99e6-56b095949057 button.colab-df-convert');\n",
       "      buttonEl.style.display =\n",
       "        google.colab.kernel.accessAllowed ? 'block' : 'none';\n",
       "\n",
       "      async function convertToInteractive(key) {\n",
       "        const element = document.querySelector('#df-24f10dba-2e57-4f75-99e6-56b095949057');\n",
       "        const dataTable =\n",
       "          await google.colab.kernel.invokeFunction('convertToInteractive',\n",
       "                                                    [key], {});\n",
       "        if (!dataTable) return;\n",
       "\n",
       "        const docLinkHtml = 'Like what you see? Visit the ' +\n",
       "          '<a target=\"_blank\" href=https://colab.research.google.com/notebooks/data_table.ipynb>data table notebook</a>'\n",
       "          + ' to learn more about interactive tables.';\n",
       "        element.innerHTML = '';\n",
       "        dataTable['output_type'] = 'display_data';\n",
       "        await google.colab.output.renderOutput(dataTable, element);\n",
       "        const docLink = document.createElement('div');\n",
       "        docLink.innerHTML = docLinkHtml;\n",
       "        element.appendChild(docLink);\n",
       "      }\n",
       "    </script>\n",
       "  </div>\n",
       "\n",
       "\n",
       "<div id=\"df-7d7d4dfa-6e5c-47d0-a375-3a795349b83f\">\n",
       "  <button class=\"colab-df-quickchart\" onclick=\"quickchart('df-7d7d4dfa-6e5c-47d0-a375-3a795349b83f')\"\n",
       "            title=\"Suggest charts\"\n",
       "            style=\"display:none;\">\n",
       "\n",
       "<svg xmlns=\"http://www.w3.org/2000/svg\" height=\"24px\"viewBox=\"0 0 24 24\"\n",
       "     width=\"24px\">\n",
       "    <g>\n",
       "        <path d=\"M19 3H5c-1.1 0-2 .9-2 2v14c0 1.1.9 2 2 2h14c1.1 0 2-.9 2-2V5c0-1.1-.9-2-2-2zM9 17H7v-7h2v7zm4 0h-2V7h2v10zm4 0h-2v-4h2v4z\"/>\n",
       "    </g>\n",
       "</svg>\n",
       "  </button>\n",
       "\n",
       "<style>\n",
       "  .colab-df-quickchart {\n",
       "      --bg-color: #E8F0FE;\n",
       "      --fill-color: #1967D2;\n",
       "      --hover-bg-color: #E2EBFA;\n",
       "      --hover-fill-color: #174EA6;\n",
       "      --disabled-fill-color: #AAA;\n",
       "      --disabled-bg-color: #DDD;\n",
       "  }\n",
       "\n",
       "  [theme=dark] .colab-df-quickchart {\n",
       "      --bg-color: #3B4455;\n",
       "      --fill-color: #D2E3FC;\n",
       "      --hover-bg-color: #434B5C;\n",
       "      --hover-fill-color: #FFFFFF;\n",
       "      --disabled-bg-color: #3B4455;\n",
       "      --disabled-fill-color: #666;\n",
       "  }\n",
       "\n",
       "  .colab-df-quickchart {\n",
       "    background-color: var(--bg-color);\n",
       "    border: none;\n",
       "    border-radius: 50%;\n",
       "    cursor: pointer;\n",
       "    display: none;\n",
       "    fill: var(--fill-color);\n",
       "    height: 32px;\n",
       "    padding: 0;\n",
       "    width: 32px;\n",
       "  }\n",
       "\n",
       "  .colab-df-quickchart:hover {\n",
       "    background-color: var(--hover-bg-color);\n",
       "    box-shadow: 0 1px 2px rgba(60, 64, 67, 0.3), 0 1px 3px 1px rgba(60, 64, 67, 0.15);\n",
       "    fill: var(--button-hover-fill-color);\n",
       "  }\n",
       "\n",
       "  .colab-df-quickchart-complete:disabled,\n",
       "  .colab-df-quickchart-complete:disabled:hover {\n",
       "    background-color: var(--disabled-bg-color);\n",
       "    fill: var(--disabled-fill-color);\n",
       "    box-shadow: none;\n",
       "  }\n",
       "\n",
       "  .colab-df-spinner {\n",
       "    border: 2px solid var(--fill-color);\n",
       "    border-color: transparent;\n",
       "    border-bottom-color: var(--fill-color);\n",
       "    animation:\n",
       "      spin 1s steps(1) infinite;\n",
       "  }\n",
       "\n",
       "  @keyframes spin {\n",
       "    0% {\n",
       "      border-color: transparent;\n",
       "      border-bottom-color: var(--fill-color);\n",
       "      border-left-color: var(--fill-color);\n",
       "    }\n",
       "    20% {\n",
       "      border-color: transparent;\n",
       "      border-left-color: var(--fill-color);\n",
       "      border-top-color: var(--fill-color);\n",
       "    }\n",
       "    30% {\n",
       "      border-color: transparent;\n",
       "      border-left-color: var(--fill-color);\n",
       "      border-top-color: var(--fill-color);\n",
       "      border-right-color: var(--fill-color);\n",
       "    }\n",
       "    40% {\n",
       "      border-color: transparent;\n",
       "      border-right-color: var(--fill-color);\n",
       "      border-top-color: var(--fill-color);\n",
       "    }\n",
       "    60% {\n",
       "      border-color: transparent;\n",
       "      border-right-color: var(--fill-color);\n",
       "    }\n",
       "    80% {\n",
       "      border-color: transparent;\n",
       "      border-right-color: var(--fill-color);\n",
       "      border-bottom-color: var(--fill-color);\n",
       "    }\n",
       "    90% {\n",
       "      border-color: transparent;\n",
       "      border-bottom-color: var(--fill-color);\n",
       "    }\n",
       "  }\n",
       "</style>\n",
       "\n",
       "  <script>\n",
       "    async function quickchart(key) {\n",
       "      const quickchartButtonEl =\n",
       "        document.querySelector('#' + key + ' button');\n",
       "      quickchartButtonEl.disabled = true;  // To prevent multiple clicks.\n",
       "      quickchartButtonEl.classList.add('colab-df-spinner');\n",
       "      try {\n",
       "        const charts = await google.colab.kernel.invokeFunction(\n",
       "            'suggestCharts', [key], {});\n",
       "      } catch (error) {\n",
       "        console.error('Error during call to suggestCharts:', error);\n",
       "      }\n",
       "      quickchartButtonEl.classList.remove('colab-df-spinner');\n",
       "      quickchartButtonEl.classList.add('colab-df-quickchart-complete');\n",
       "    }\n",
       "    (() => {\n",
       "      let quickchartButtonEl =\n",
       "        document.querySelector('#df-7d7d4dfa-6e5c-47d0-a375-3a795349b83f button');\n",
       "      quickchartButtonEl.style.display =\n",
       "        google.colab.kernel.accessAllowed ? 'block' : 'none';\n",
       "    })();\n",
       "  </script>\n",
       "</div>\n",
       "\n",
       "    </div>\n",
       "  </div>\n"
      ],
      "text/plain": [
       "       Athlets Competition\n",
       "count       41          41\n",
       "unique      41           2\n",
       "top     SEBRLE    OlympicG\n",
       "freq         1          28"
      ]
     },
     "execution_count": 6,
     "metadata": {},
     "output_type": "execute_result"
    }
   ],
   "source": [
    "df.select_dtypes([\"object\"]).describe()"
   ]
  },
  {
   "cell_type": "markdown",
   "metadata": {
    "id": "sKGxW82Dt5t5"
   },
   "source": [
    "Prima di applicare la PCA, è importante standardizzare le variabili numeriche."
   ]
  },
  {
   "cell_type": "code",
   "execution_count": 5,
   "metadata": {
    "colab": {
     "base_uri": "https://localhost:8080/"
    },
    "executionInfo": {
     "elapsed": 319,
     "status": "ok",
     "timestamp": 1729697426203,
     "user": {
      "displayName": "Leonardo Davoli",
      "userId": "17136115848095922755"
     },
     "user_tz": -120
    },
    "id": "VFj_d8RRt5Ad",
    "outputId": "2be774d2-f6bd-4e79-e4d1-8ca42dc5c1a6"
   },
   "outputs": [
    {
     "name": "stdout",
     "output_type": "stream",
     "text": [
      "['100m', 'Long.jump', 'Shot.put', 'High.jump', '400m', '110m.hurdle', 'Discus', 'Pole.vault', 'Javeline', '1500m', 'Rank', 'Points']\n"
     ]
    }
   ],
   "source": [
    "variabili_numeriche = list(df.columns[1:-1])\n",
    "print(variabili_numeriche)"
   ]
  },
  {
   "cell_type": "code",
   "execution_count": 6,
   "metadata": {
    "colab": {
     "base_uri": "https://localhost:8080/"
    },
    "collapsed": true,
    "executionInfo": {
     "elapsed": 329,
     "status": "ok",
     "timestamp": 1729697512523,
     "user": {
      "displayName": "Leonardo Davoli",
      "userId": "17136115848095922755"
     },
     "user_tz": -120
    },
    "id": "7k32dfI0p9we",
    "outputId": "a12a734f-281a-4fd6-a7c7-578abb21d62c"
   },
   "outputs": [
    {
     "data": {
      "text/plain": [
       "array([[ 1.61477791e-01,  1.02393687e+00,  4.33405055e-01,\n",
       "         1.06045671e+00,  1.69980655e-01,  1.80571557e-01,\n",
       "        -1.72524347e-01,  9.37988410e-01,  1.02219600e+00,\n",
       "         1.09931561e+00, -1.42192065e+00,  6.25795966e-01],\n",
       "       [-9.16292580e-01,  4.47972380e-01, -2.66572563e-01,\n",
       "        -1.32973498e+00, -2.16222244e-01, -1.19281907e+00,\n",
       "         1.91655543e+00,  5.73807304e-01,  3.84557695e-01,\n",
       "         1.94927138e+00, -1.29407253e+00,  3.44883751e-01],\n",
       "       [ 8.44941928e-02,  1.27992108e-01,  3.59723200e-01,\n",
       "         7.19000754e-01, -1.09395610e+00, -1.10698215e+00,\n",
       "         1.38604306e+00,  5.73807304e-01, -1.67937681e+00,\n",
       "         1.83652215e+00, -1.16622440e+00,  2.76873425e-01],\n",
       "       [ 8.44941928e-02, -9.59940813e-02, -2.78852872e-01,\n",
       "        -6.46823072e-01, -6.02425143e-01,  8.24348413e-01,\n",
       "        -1.03573091e+00,  2.03053173e+00,  9.34101232e-01,\n",
       "         9.32455207e-02, -1.03837627e+00,  1.82250364e-01],\n",
       "       [ 1.31623176e+00, -5.43966461e-01,  8.75496182e-01,\n",
       "         1.40191267e+00,  7.05398310e-01,  1.51104373e+00,\n",
       "         5.79784151e-01, -1.54554909e-01,  1.07463336e+00,\n",
       "        -2.27656147e-01, -9.10528139e-01,  9.05842726e-02],\n",
       "       [ 4.30920383e-01,  1.08793292e+00, -2.05171018e-01,\n",
       "         3.60888409e-02, -8.21858608e-01, -8.06552955e-01,\n",
       "        -9.66794275e-01,  5.73807304e-01, -1.37314262e+00,\n",
       "        -8.02148400e-02, -7.82680010e-01,  7.28424485e-02],\n",
       "       [ 5.07903981e-01,  1.27992108e-01, -1.22443667e+00,\n",
       "         3.77544797e-01, -8.74522640e-01, -9.35308326e-01,\n",
       "         4.02946695e-01, -1.24709823e+00, -6.18044635e-01,\n",
       "        -9.56189662e-01, -6.54831881e-01, -4.03878922e-03],\n",
       "       [-6.46849987e-01,  1.59990136e-01, -8.80588017e-01,\n",
       "         1.74336862e+00,  2.57754041e-01, -4.84664527e-01,\n",
       "         2.52938238e-02, -1.24709823e+00, -4.08295193e-01,\n",
       "         5.26896423e-01, -5.26983751e-01, -3.06515254e-02],\n",
       "       [ 2.47098573e+00, -1.43991122e+00,  1.14117019e-01,\n",
       "        -3.05367115e-01,  4.59632829e-01,  6.95593042e-01,\n",
       "         9.81414982e-01,  5.73807304e-01, -1.25568294e+00,\n",
       "        -1.46789773e+00, -3.99135622e-01, -6.01346867e-01],\n",
       "       [ 1.43170716e+00,  9.59940813e-01, -8.23679268e-02,\n",
       "        -1.32973498e+00,  1.30225734e+00,  9.74563013e-01,\n",
       "         1.99134034e-01,  2.09626198e-01, -2.36300651e-01,\n",
       "         5.26896423e-01, -2.71287493e-01, -8.05377844e-01],\n",
       "       [ 1.27773996e+00, -9.27942786e-01, -4.75337817e-01,\n",
       "        -3.05367115e-01, -1.19671519e-01, -2.70072242e-01,\n",
       "        -6.67069774e-01, -1.54554909e-01, -6.11752151e-01,\n",
       "         2.58032863e-01, -1.43439364e-01, -8.79302111e-01],\n",
       "       [ 1.27773996e+00,  3.19980271e-02, -2.20686140e+00,\n",
       "         3.60888409e-02, -3.65437000e-01,  1.46812527e+00,\n",
       "        -1.91991819e+00, -5.18736015e-01, -1.83863291e-01,\n",
       "        -1.07761191e+00, -1.55912353e-02, -1.04784944e+00],\n",
       "       [ 1.39321536e+00, -1.47190925e+00, -1.24899729e+00,\n",
       "        -1.32973498e+00,  1.35492137e+00,  2.28357595e+00,\n",
       "        -1.14962622e+00,  9.37988410e-01, -7.62771749e-01,\n",
       "         1.09931561e+00,  1.12256894e-01, -2.04730553e+00],\n",
       "       [-5.69866389e-01,  1.85588557e+00,  2.31229234e+00,\n",
       "         1.62954997e+00, -1.10273344e+00, -1.19281907e+00,\n",
       "         1.31710642e+00,  8.65152189e-01,  2.55965940e+00,\n",
       "         8.54398045e-02, -1.42192065e+00,  2.62470815e+00],\n",
       "       [-2.14803015e+00,  2.23986190e+00,  9.24617418e-01,\n",
       "         9.46638058e-01, -3.74214339e-01, -1.02114524e+00,\n",
       "         1.73372348e+00,  5.00971083e-01,  2.38976236e+00,\n",
       "         2.58032863e-01, -1.29407253e+00,  2.40884929e+00],\n",
       "       [-1.91707935e+00,  1.75989149e+00,  1.78423905e+00,\n",
       "         1.28809401e+00, -2.46322093e+00, -1.36449290e+00,\n",
       "         2.19529921e+00, -5.91572236e-01, -5.82387230e-01,\n",
       "        -7.93475382e-02, -1.16622440e+00,  2.12793707e+00],\n",
       "       [-4.15899194e-01,  6.71958569e-01,  1.53863287e+00,\n",
       "         1.97100593e+00, -5.67315788e-01, -9.83984137e-02,\n",
       "         1.20321111e+00, -1.31993445e+00,  3.00811394e-02,\n",
       "        -1.17995353e+00, -1.03837627e+00,  1.20831919e+00],\n",
       "       [-1.45517777e+00,  1.53590530e+00,  3.59423680e-03,\n",
       "        -7.77298112e-02, -1.44504965e+00, -1.27865598e+00,\n",
       "        -1.78518837e-01,  5.00971083e-01, -6.13849646e-01,\n",
       "        -8.45513490e-02, -9.10528139e-01,  9.98374272e-01],\n",
       "       [-3.38915596e-01, -3.83976325e-01,  1.02285989e+00,\n",
       "         1.62954997e+00, -1.89890228e-01,  7.38511499e-01,\n",
       "         3.87960470e-01, -2.27391130e-01,  1.07673085e+00,\n",
       "        -8.22625184e-01, -7.82680010e-01,  8.32783913e-01],\n",
       "       [-1.07964802e-01, -2.23986190e-01,  2.12359491e-01,\n",
       "         6.05182102e-01, -7.77971915e-01, -7.63634498e-01,\n",
       "         1.18208419e-01,  1.36789977e-01, -1.16743470e-01,\n",
       "        -1.27275482e+00, -6.54831881e-01,  6.84935379e-01],\n",
       "       [-7.62325384e-01,  8.63946732e-01, -2.66572563e-01,\n",
       "        -1.10209768e+00, -7.07753206e-01,  4.16623071e-01,\n",
       "        -6.82055999e-01,  2.32187661e+00,  6.32062036e-01,\n",
       "        -2.33727259e-01, -5.26983751e-01,  6.79021438e-01],\n",
       "       [-1.18573517e+00,  7.03956596e-01,  3.96564127e-01,\n",
       "         1.62954997e+00, -4.26878370e-01, -9.35308326e-01,\n",
       "         1.27200154e-01, -1.31993445e+00, -6.39019579e-01,\n",
       "        -2.35461863e-01, -3.99135622e-01,  6.49451731e-01],\n",
       "       [-6.94730030e-02,  7.35954624e-01, -5.73580290e-01,\n",
       "        -4.19185768e-01,  1.26093962e-01, -7.63634498e-01,\n",
       "        -5.68160689e-01,  1.22933330e+00, -4.18782665e-01,\n",
       "        -4.73969859e-01, -2.71287493e-01,  2.85744338e-01],\n",
       "       [-1.84948400e-01,  1.59990136e-01,  7.64973400e-01,\n",
       "         9.46638058e-01,  1.03015984e+00, -8.49471412e-01,\n",
       "         8.22414790e-02,  8.65152189e-01, -1.02076356e+00,\n",
       "         7.46323779e-01, -1.43439364e-01,  2.32518865e-01],\n",
       "       [-3.77407395e-01,  1.27992108e-01,  3.59723200e-01,\n",
       "        -1.10209768e+00,  6.00070247e-01, -5.70501441e-01,\n",
       "         2.52938238e-02,  8.65152189e-01,  5.39772282e-01,\n",
       "        -1.77691101e-02, -1.55912353e-02,  2.11820070e-01],\n",
       "       [ 5.46395780e-01, -8.63946732e-01,  5.31647527e-01,\n",
       "        -4.19185768e-01, -1.81112889e-01, -5.06123756e-01,\n",
       "         1.51178114e-01, -5.91572236e-01,  1.30745524e+00,\n",
       "        -1.03511413e+00,  1.12256894e-01,  1.82250364e-01],\n",
       "       [-5.69866389e-01, -1.43991122e+00,  9.36897727e-01,\n",
       "        -7.60641724e-01, -3.03995630e-01, -1.27865598e+00,\n",
       "         1.40702377e+00, -2.04829666e+00,  6.71914430e-01,\n",
       "        -5.45088607e-01,  2.40105023e-01,  5.21436537e-02],\n",
       "       [-1.72462036e+00,  2.55984217e-01, -4.55269995e-02,\n",
       "        -4.19185768e-01,  9.09846075e-02, -4.63205299e-01,\n",
       "        -1.33245817e+00,  1.36789977e-01, -7.98429154e-01,\n",
       "        -6.94264517e-01,  3.67953152e-01,  4.62297124e-02],\n",
       "       [-1.22422697e+00,  7.67952651e-01,  6.05329382e-01,\n",
       "        -4.19185768e-01, -4.35655709e-01,  8.67266870e-01,\n",
       "        -1.19158765e+00, -5.91572236e-01,  1.97880693e-01,\n",
       "        -2.87499971e-01,  4.95801281e-01,  1.87515214e-03],\n",
       "       [-4.15899194e-01, -6.07962515e-01, -7.33224308e-01,\n",
       "        -4.19185768e-01, -4.44433048e-01,  3.52245385e-01,\n",
       "        -5.56171708e-01, -2.27391130e-01,  5.37674788e-01,\n",
       "        -1.36295421e+00,  6.23649410e-01, -3.65654667e-02],\n",
       "       [ 2.38461389e-01,  2.55984217e-01, -1.13847451e+00,\n",
       "        -7.77298112e-02,  2.95432373e-02,  3.73704614e-01,\n",
       "         2.41095465e-01, -9.55753342e-01,  5.18797338e-01,\n",
       "        -5.54628927e-01,  7.51497539e-01, -2.11026737e-01],\n",
       "       [-4.92882791e-01,  3.83976325e-01, -1.72792934e+00,\n",
       "        -1.10209768e+00, -9.71073364e-01, -1.27865598e+00,\n",
       "        -1.26352153e+00,  8.65152189e-01, -1.42348249e+00,\n",
       "        -4.17595242e-01,  8.79345668e-01, -2.34682502e-01],\n",
       "       [ 5.46395780e-01, -2.07987176e+00,  1.48951164e+00,\n",
       "         6.05182102e-01,  1.24959330e+00,  5.88296899e-01,\n",
       "        -7.27014674e-01,  1.36789977e-01,  1.57383703e+00,\n",
       "        -9.40916688e-02,  1.00719380e+00, -2.58338268e-01],\n",
       "       [-3.00423797e-01, -1.02393687e+00,  8.26374945e-01,\n",
       "        -4.19185768e-01, -4.94528102e-02,  1.10331838e+00,\n",
       "         3.87960470e-01,  1.95769551e+00, -1.61435448e+00,\n",
       "         9.83097171e-01,  1.13504193e+00, -3.32262535e-01],\n",
       "       [ 3.15444987e-01, -2.84199572e-15,  1.14117019e-01,\n",
       "        -1.44355364e+00, -8.83299978e-01, -4.20286842e-01,\n",
       "        -1.01175295e+00, -1.31993445e+00,  5.02017383e-01,\n",
       "        -8.08748355e-01,  1.26289006e+00, -4.15057714e-01],\n",
       "       [ 3.15444987e-01, -1.11993095e+00, -1.05251234e+00,\n",
       "         6.05182102e-01,  1.80256564e+00, -7.42175270e-01,\n",
       "        -1.34744439e+00,  1.36789977e-01,  2.14660648e-01,\n",
       "         9.52741608e-01,  1.39073818e+00, -8.79302111e-01],\n",
       "       [ 3.92428584e-01, -7.35954624e-01, -1.54372471e+00,\n",
       "        -1.44355364e+00, -2.42554260e-01,  1.66125833e+00,\n",
       "        -1.23055184e+00, -9.55753342e-01,  9.10619526e-03,\n",
       "        -1.38290215e+00,  1.51858631e+00, -1.22231071e+00],\n",
       "       [ 1.27773996e+00, -2.84199572e-15, -1.44548224e+00,\n",
       "        -7.77298112e-02,  8.10726374e-01,  8.02889184e-01,\n",
       "        -2.95411392e-01, -9.55753342e-01, -1.13193077e+00,\n",
       "        -3.07786372e-02,  1.64643444e+00, -1.24892345e+00],\n",
       "       [-5.31374590e-01, -6.07962515e-01,  4.08844437e-01,\n",
       "        -4.19185768e-01,  1.35492137e+00,  7.59970727e-01,\n",
       "         5.22836496e-01, -2.27391130e-01, -1.10466334e+00,\n",
       "         3.29358918e+00,  1.77428257e+00, -1.27849315e+00],\n",
       "       [ 8.92821971e-01, -8.63946732e-01, -1.16303513e+00,\n",
       "        -1.44355364e+00,  1.17059726e+00,  1.03894070e+00,\n",
       "        -3.94320478e-01, -9.55753342e-01,  3.53095279e-01,\n",
       "         2.32013809e-01,  1.90213070e+00, -1.50913687e+00],\n",
       "       [ 1.39321536e+00, -1.85588557e+00,  5.43927836e-01,\n",
       "        -4.19185768e-01,  3.14549844e+00,  1.68271755e+00,\n",
       "         1.29912295e+00, -1.31993445e+00,  6.36410500e-02,\n",
       "         1.48266301e+00,  2.02997883e+00, -1.77822120e+00]])"
      ]
     },
     "execution_count": 6,
     "metadata": {},
     "output_type": "execute_result"
    }
   ],
   "source": [
    "from sklearn.decomposition import PCA\n",
    "from sklearn.preprocessing import StandardScaler\n",
    "\n",
    "# Standardizzazione dei valori su scala standard\n",
    "scaler = StandardScaler()\n",
    "scaled_data = scaler.fit_transform(df[variabili_numeriche])\n",
    "scaled_data"
   ]
  },
  {
   "cell_type": "markdown",
   "metadata": {
    "id": "AKMYzilOv-_T"
   },
   "source": [
    "Andiamo ad eseguire la PCA e a mostrare la varianza spiegata per ogni compontente principale mantenuta"
   ]
  },
  {
   "cell_type": "code",
   "execution_count": 7,
   "metadata": {
    "colab": {
     "base_uri": "https://localhost:8080/",
     "height": 472
    },
    "executionInfo": {
     "elapsed": 797,
     "status": "ok",
     "timestamp": 1729697557936,
     "user": {
      "displayName": "Leonardo Davoli",
      "userId": "17136115848095922755"
     },
     "user_tz": -120
    },
    "id": "qVeJ-K76vBr7",
    "outputId": "2e74ea4a-e06e-46cb-dbf3-f88a49d58c90"
   },
   "outputs": [
    {
     "data": {
      "image/png": "[encoded data removed]",
      "text/plain": [
       "<Figure size 640x480 with 1 Axes>"
      ]
     },
     "metadata": {},
     "output_type": "display_data"
    }
   ],
   "source": [
    "import matplotlib.pyplot as plt\n",
    "\n",
    "# Calcolo della matrice di covarianza & Decompone tramite autovalori e autovettori.\n",
    "pca = PCA().fit(scaled_data)\n",
    "\n",
    "# Crea un grafico della varianza spiegata per ogni componente (per fare la scelta)\n",
    "plt.plot(range(1, pca.n_components_ + 1), pca.explained_variance_ratio_, marker='o')\n",
    "plt.xlabel('Componenti della PCA')\n",
    "plt.ylabel('Varianza spiegata')\n",
    "plt.title(\"Risultati della PCA\")\n",
    "plt.show()"
   ]
  },
  {
   "cell_type": "markdown",
   "metadata": {
    "id": "bC47mSG5w3wZ"
   },
   "source": [
    "Ora applichiamo la PCA mantenendo le prime **2** componenti principali e mappiamo i record nel nuovo spazio vettoriale generato dalla PCA."
   ]
  },
  {
   "cell_type": "code",
   "execution_count": 8,
   "metadata": {
    "executionInfo": {
     "elapsed": 309,
     "status": "ok",
     "timestamp": 1729697663790,
     "user": {
      "displayName": "Leonardo Davoli",
      "userId": "17136115848095922755"
     },
     "user_tz": -120
    },
    "id": "zs-yoGJ4v2-L"
   },
   "outputs": [],
   "source": [
    "# Applica la PCA per ridurre la dimensionalità dei dati (primi 2 attributi)\n",
    "pca = PCA(n_components=2).fit(scaled_data)\n",
    "pca_data = pca.transform(scaled_data)"
   ]
  },
  {
   "cell_type": "code",
   "execution_count": 9,
   "metadata": {
    "colab": {
     "base_uri": "https://localhost:8080/"
    },
    "executionInfo": {
     "elapsed": 335,
     "status": "ok",
     "timestamp": 1729697691710,
     "user": {
      "displayName": "Leonardo Davoli",
      "userId": "17136115848095922755"
     },
     "user_tz": -120
    },
    "id": "I4OjJzkZwlab",
    "outputId": "bd64e8b4-2754-467a-9851-399f7e93e536"
   },
   "outputs": [
    {
     "name": "stdout",
     "output_type": "stream",
     "text": [
      "[0.39656587 0.14501218]\n"
     ]
    }
   ],
   "source": [
    "# Quantifichiamo  la percentuale di varianza spiegata da ciascuno delle componenti.\n",
    "print(pca.explained_variance_ratio_)"
   ]
  },
  {
   "cell_type": "code",
   "execution_count": 10,
   "metadata": {
    "colab": {
     "base_uri": "https://localhost:8080/"
    },
    "executionInfo": {
     "elapsed": 341,
     "status": "ok",
     "timestamp": 1729697822857,
     "user": {
      "displayName": "Leonardo Davoli",
      "userId": "17136115848095922755"
     },
     "user_tz": -120
    },
    "id": "mWKTcPGCyPHw",
    "outputId": "d904bbed-78f1-4966-b7e1-997f6e32dc4c"
   },
   "outputs": [
    {
     "name": "stdout",
     "output_type": "stream",
     "text": [
      "4.877760148359146\n",
      "1.783649813136591\n"
     ]
    }
   ],
   "source": [
    "#Verifichiamo il coefficienti degli autovalori\n",
    "eigenvalues = pca.explained_variance_\n",
    "n_samples = scaled_data.shape[0]\n",
    "cov_matrix = np.dot(scaled_data.T, scaled_data) / n_samples\n",
    "for eigenvalue, eigenvector in zip(eigenvalues, pca.components_):\n",
    "    #print(np.dot(eigenvector.T, np.dot(cov_matrix, eigenvector)))\n",
    "    print(eigenvalue)"
   ]
  },
  {
   "cell_type": "markdown",
   "metadata": {
    "id": "oFURJVZWxGw5"
   },
   "source": [
    "Ora, creiamo un grafico delle osservazioni nella PCA\n",
    "\n",
    "Siamo soddisfatti dell'applicazione della PCA quando le istanze vengono separate."
   ]
  },
  {
   "cell_type": "code",
   "execution_count": 11,
   "metadata": {
    "colab": {
     "base_uri": "https://localhost:8080/",
     "height": 449
    },
    "executionInfo": {
     "elapsed": 383,
     "status": "ok",
     "timestamp": 1729697944506,
     "user": {
      "displayName": "Leonardo Davoli",
      "userId": "17136115848095922755"
     },
     "user_tz": -120
    },
    "id": "M1XkCbk1xHOB",
    "outputId": "0ad7dc4b-f5d1-4d24-9488-17c9f2076754"
   },
   "outputs": [
    {
     "data": {
      "image/png": "[encoded data removed]",
      "text/plain": [
       "<Figure size 640x480 with 1 Axes>"
      ]
     },
     "metadata": {},
     "output_type": "display_data"
    }
   ],
   "source": [
    "# crea una mappa etichetta-->codice colore\n",
    "unique_labels = np.unique(df[\"Competition\"])\n",
    "colors = plt.cm.tab20(np.linspace(0, 1, len(unique_labels)))\n",
    "label_to_color = dict(zip(unique_labels, colors))\n",
    "\n",
    "# genera il grafico\n",
    "fig, ax = plt.subplots()\n",
    "for label in unique_labels:\n",
    "    mask = (df[\"Competition\"] == label).values\n",
    "    ax.scatter(pca_data[mask, 0], pca_data[mask, 1], color=label_to_color[label], label=label)\n",
    "\n",
    "ax.set_xlabel('Componente 1')\n",
    "ax.set_ylabel('Componente 2')\n",
    "\n",
    "ax.legend()\n",
    "\n",
    "plt.show()"
   ]
  },
  {
   "cell_type": "markdown",
   "metadata": {
    "id": "8RSkj0Iruz9t"
   },
   "source": [
    "Possiamo visualizzare ogni attributo in un grafico 2D il cui asse x indica il  contributo rispetto prima componente e l'asse y rispetto alla seconda componente. Visualizziamo le proiezioni."
   ]
  },
  {
   "cell_type": "markdown",
   "metadata": {
    "id": "06cqNFISSmc5"
   },
   "source": [
    "# Come identificare l'importanza di ogni caratteristica originale\n",
    "Per identificare l'importanza di ogni feature di ciascun componente possiamo utilizzare utilizzare l'attributo ***components_***.\n",
    "\n",
    "Il risultato è un array  in cui:\n",
    "- le righe rappresentano i componenti che sono stati decisi prima quando si è fatto il cut degli attributi\n",
    "- le colonne rappresentano quanto importanti sono le componenti principali in relazione a tutti gli attributi del dataset originale.\n"
   ]
  },
  {
   "cell_type": "code",
   "execution_count": 12,
   "metadata": {
    "colab": {
     "base_uri": "https://localhost:8080/"
    },
    "executionInfo": {
     "elapsed": 304,
     "status": "ok",
     "timestamp": 1729698079327,
     "user": {
      "displayName": "Leonardo Davoli",
      "userId": "17136115848095922755"
     },
     "user_tz": -120
    },
    "id": "lLU6BQckS-C4",
    "outputId": "98c548e3-d87a-4e33-b2a7-20d713e05222"
   },
   "outputs": [
    {
     "name": "stdout",
     "output_type": "stream",
     "text": [
      "[[0.32462717 0.34651451 0.28038448 0.26949298 0.31872084 0.3224588\n",
      "  0.24267251 0.06639577 0.14621541 0.04809361 0.35809724 0.45001821]\n",
      " [0.11949296 0.25237393 0.46413427 0.27269463 0.42042142 0.15540646\n",
      "  0.46898486 0.1528422  0.24403309 0.35562852 0.04480845 0.00118215]]\n"
     ]
    }
   ],
   "source": [
    "print(abs(pca.components_))"
   ]
  },
  {
   "cell_type": "markdown",
   "metadata": {
    "id": "NE3we5_9UEOl"
   },
   "source": [
    "Questo valore ci dice \"quanto\" ogni caratteristica influenza ciascuna componente.\n",
    "\n",
    "Quindi più alto è il valore (in valore assoluto), maggiore è l'influenza sulla componente principale.\n",
    "\n",
    "Qui possiamo stimare che la dodicesima caratteristica ha spiegato il 45% della prima componente principale e la settima caratteristica ha spiegato il 47% della seconda componente principale."
   ]
  },
  {
   "cell_type": "markdown",
   "metadata": {
    "id": "uJ7mkuHCkjSs"
   },
   "source": [
    "Possiamo creare una rappresentazione più compatta delle informazioni di importanza degli attributi rispetto alle componenti"
   ]
  },
  {
   "cell_type": "code",
   "execution_count": 13,
   "metadata": {
    "colab": {
     "base_uri": "https://localhost:8080/",
     "height": 406
    },
    "executionInfo": {
     "elapsed": 2234,
     "status": "ok",
     "timestamp": 1729698307403,
     "user": {
      "displayName": "Leonardo Davoli",
      "userId": "17136115848095922755"
     },
     "user_tz": -120
    },
    "id": "z-STZifJkqlU",
    "outputId": "850e821d-33b0-493e-eaf5-2d966c1ea517"
   },
   "outputs": [
    {
     "data": {
      "image/png": "[encoded data removed]",
      "text/plain": [
       "<Figure size 640x480 with 2 Axes>"
      ]
     },
     "metadata": {},
     "output_type": "display_data"
    }
   ],
   "source": [
    "ax = sns.heatmap(pca.components_,\n",
    "                 cmap='YlGnBu',\n",
    "                 yticklabels=[ \"PCA\"+str(x) for x in range(1,pca.n_components_+1)],\n",
    "                 xticklabels=list(variabili_numeriche),\n",
    "                 cbar_kws={\"orientation\": \"vertical\"})\n",
    "ax.set_aspect(\"equal\")"
   ]
  },
  {
   "cell_type": "markdown",
   "metadata": {
    "id": "qUDGdYCLtuly"
   },
   "source": [
    "Valori positivi e negativi all'interno di pca.n_components_ riflettono la correlazione positiva e negativa delle variabili con le componenti principali."
   ]
  },
  {
   "cell_type": "code",
   "execution_count": 14,
   "metadata": {
    "colab": {
     "base_uri": "https://localhost:8080/",
     "height": 430
    },
    "executionInfo": {
     "elapsed": 1540,
     "status": "ok",
     "timestamp": 1729698342286,
     "user": {
      "displayName": "Leonardo Davoli",
      "userId": "17136115848095922755"
     },
     "user_tz": -120
    },
    "id": "qCTGzWk5oy4S",
    "outputId": "5966a7f7-ca86-4c5c-b5bd-a6a183854d70"
   },
   "outputs": [
    {
     "data": {
      "image/png": "[encoded data removed]",
      "text/plain": [
       "<Figure size 640x480 with 2 Axes>"
      ]
     },
     "metadata": {},
     "output_type": "display_data"
    }
   ],
   "source": [
    "loadings = pca.components_\n",
    "num_pc = pca.n_features_in_\n",
    "pc_list = [\"PC\"+str(i) for i in list(range(1, num_pc+1))]\n",
    "loadings_df = pd.DataFrame.from_dict(dict(zip(pc_list, loadings)))\n",
    "loadings_df\n",
    "loadings_df['variable'] = variabili_numeriche\n",
    "loadings_df = loadings_df.set_index('variable')\n",
    "loadings_df\n",
    "import matplotlib.pyplot as plt\n",
    "ax = sns.heatmap(loadings_df, annot=True, cmap='Spectral')\n",
    "plt.show()\n"
   ]
  },
  {
   "cell_type": "code",
   "execution_count": 15,
   "metadata": {
    "colab": {
     "base_uri": "https://localhost:8080/",
     "height": 451
    },
    "executionInfo": {
     "elapsed": 815,
     "status": "ok",
     "timestamp": 1729698366066,
     "user": {
      "displayName": "Leonardo Davoli",
      "userId": "17136115848095922755"
     },
     "user_tz": -120
    },
    "id": "HLTzL78_soF4",
    "outputId": "5379c04b-8d99-41cd-cbdf-331ce8c27734"
   },
   "outputs": [
    {
     "data": {
      "image/png": "[encoded data removed]",
      "text/plain": [
       "<Figure size 600x500 with 1 Axes>"
      ]
     },
     "metadata": {},
     "output_type": "display_data"
    }
   ],
   "source": [
    "pcs = pca.components_\n",
    "fig = plt.figure(figsize=(6, 5))\n",
    "ax = fig.add_subplot(1, 1, 1)\n",
    "ax.set_xlim([-1, 1])\n",
    "ax.set_ylim([-1, 1])\n",
    "\n",
    "for i, (x, y) in enumerate(zip(pcs[0, :], pcs[1, :])):\n",
    "    # plot line between origin and point (x, y)\n",
    "    ax.plot([0, x], [0, y], color='k')\n",
    "    # display the label of the point\n",
    "    ax.text(x, y, df.columns[i], fontsize='10')"
   ]
  },
  {
   "cell_type": "markdown",
   "metadata": {
    "id": "B-oXhVaqzApe"
   },
   "source": [
    "## Assignment\n",
    "\n",
    "- Analizza il dataset IRIS:\n",
    "  - Quante componenti sono necessarie per spiegare almeno il 95% della varianza nei dati?\n",
    "  - In un nuovo spazio di rappresentazione, definito dalle componenti principali sopra determinate, i dati sono separabili rispetto alle classi?\n",
    "  "
   ]
  },
  {
   "cell_type": "code",
   "execution_count": 16,
   "metadata": {
    "colab": {
     "base_uri": "https://localhost:8080/",
     "height": 424
    },
    "executionInfo": {
     "elapsed": 859,
     "status": "ok",
     "timestamp": 1729698495302,
     "user": {
      "displayName": "Leonardo Davoli",
      "userId": "17136115848095922755"
     },
     "user_tz": -120
    },
    "id": "pacus5SZEEme",
    "outputId": "7cff219e-78d3-405b-ef1f-f46acf0b48b6"
   },
   "outputs": [
    {
     "data": {
      "text/html": [
       "<div>\n",
       "<style scoped>\n",
       "    .dataframe tbody tr th:only-of-type {\n",
       "        vertical-align: middle;\n",
       "    }\n",
       "\n",
       "    .dataframe tbody tr th {\n",
       "        vertical-align: top;\n",
       "    }\n",
       "\n",
       "    .dataframe thead th {\n",
       "        text-align: right;\n",
       "    }\n",
       "</style>\n",
       "<table border=\"1\" class=\"dataframe\">\n",
       "  <thead>\n",
       "    <tr style=\"text-align: right;\">\n",
       "      <th></th>\n",
       "      <th>sepal length (cm)</th>\n",
       "      <th>sepal width (cm)</th>\n",
       "      <th>petal length (cm)</th>\n",
       "      <th>petal width (cm)</th>\n",
       "      <th>target</th>\n",
       "    </tr>\n",
       "  </thead>\n",
       "  <tbody>\n",
       "    <tr>\n",
       "      <th>0</th>\n",
       "      <td>5.1</td>\n",
       "      <td>3.5</td>\n",
       "      <td>1.4</td>\n",
       "      <td>0.2</td>\n",
       "      <td>0</td>\n",
       "    </tr>\n",
       "    <tr>\n",
       "      <th>1</th>\n",
       "      <td>4.9</td>\n",
       "      <td>3.0</td>\n",
       "      <td>1.4</td>\n",
       "      <td>0.2</td>\n",
       "      <td>0</td>\n",
       "    </tr>\n",
       "    <tr>\n",
       "      <th>2</th>\n",
       "      <td>4.7</td>\n",
       "      <td>3.2</td>\n",
       "      <td>1.3</td>\n",
       "      <td>0.2</td>\n",
       "      <td>0</td>\n",
       "    </tr>\n",
       "    <tr>\n",
       "      <th>3</th>\n",
       "      <td>4.6</td>\n",
       "      <td>3.1</td>\n",
       "      <td>1.5</td>\n",
       "      <td>0.2</td>\n",
       "      <td>0</td>\n",
       "    </tr>\n",
       "    <tr>\n",
       "      <th>4</th>\n",
       "      <td>5.0</td>\n",
       "      <td>3.6</td>\n",
       "      <td>1.4</td>\n",
       "      <td>0.2</td>\n",
       "      <td>0</td>\n",
       "    </tr>\n",
       "    <tr>\n",
       "      <th>...</th>\n",
       "      <td>...</td>\n",
       "      <td>...</td>\n",
       "      <td>...</td>\n",
       "      <td>...</td>\n",
       "      <td>...</td>\n",
       "    </tr>\n",
       "    <tr>\n",
       "      <th>145</th>\n",
       "      <td>6.7</td>\n",
       "      <td>3.0</td>\n",
       "      <td>5.2</td>\n",
       "      <td>2.3</td>\n",
       "      <td>2</td>\n",
       "    </tr>\n",
       "    <tr>\n",
       "      <th>146</th>\n",
       "      <td>6.3</td>\n",
       "      <td>2.5</td>\n",
       "      <td>5.0</td>\n",
       "      <td>1.9</td>\n",
       "      <td>2</td>\n",
       "    </tr>\n",
       "    <tr>\n",
       "      <th>147</th>\n",
       "      <td>6.5</td>\n",
       "      <td>3.0</td>\n",
       "      <td>5.2</td>\n",
       "      <td>2.0</td>\n",
       "      <td>2</td>\n",
       "    </tr>\n",
       "    <tr>\n",
       "      <th>148</th>\n",
       "      <td>6.2</td>\n",
       "      <td>3.4</td>\n",
       "      <td>5.4</td>\n",
       "      <td>2.3</td>\n",
       "      <td>2</td>\n",
       "    </tr>\n",
       "    <tr>\n",
       "      <th>149</th>\n",
       "      <td>5.9</td>\n",
       "      <td>3.0</td>\n",
       "      <td>5.1</td>\n",
       "      <td>1.8</td>\n",
       "      <td>2</td>\n",
       "    </tr>\n",
       "  </tbody>\n",
       "</table>\n",
       "<p>150 rows × 5 columns</p>\n",
       "</div>"
      ],
      "text/plain": [
       "     sepal length (cm)  sepal width (cm)  petal length (cm)  petal width (cm)  \\\n",
       "0                  5.1               3.5                1.4               0.2   \n",
       "1                  4.9               3.0                1.4               0.2   \n",
       "2                  4.7               3.2                1.3               0.2   \n",
       "3                  4.6               3.1                1.5               0.2   \n",
       "4                  5.0               3.6                1.4               0.2   \n",
       "..                 ...               ...                ...               ...   \n",
       "145                6.7               3.0                5.2               2.3   \n",
       "146                6.3               2.5                5.0               1.9   \n",
       "147                6.5               3.0                5.2               2.0   \n",
       "148                6.2               3.4                5.4               2.3   \n",
       "149                5.9               3.0                5.1               1.8   \n",
       "\n",
       "     target  \n",
       "0         0  \n",
       "1         0  \n",
       "2         0  \n",
       "3         0  \n",
       "4         0  \n",
       "..      ...  \n",
       "145       2  \n",
       "146       2  \n",
       "147       2  \n",
       "148       2  \n",
       "149       2  \n",
       "\n",
       "[150 rows x 5 columns]"
      ]
     },
     "execution_count": 16,
     "metadata": {},
     "output_type": "execute_result"
    }
   ],
   "source": [
    "from sklearn.datasets import load_iris\n",
    "\n",
    "iris = load_iris()\n",
    "\n",
    "df = pd.DataFrame(data=iris.data, columns=iris.feature_names)\n",
    "df['target'] = pd.Series(iris.target)\n",
    "\n",
    "df"
   ]
  },
  {
   "cell_type": "code",
   "execution_count": 17,
   "metadata": {
    "colab": {
     "base_uri": "https://localhost:8080/"
    },
    "executionInfo": {
     "elapsed": 5,
     "status": "ok",
     "timestamp": 1729698896270,
     "user": {
      "displayName": "Leonardo Davoli",
      "userId": "17136115848095922755"
     },
     "user_tz": -120
    },
    "id": "LQrwTW0PFlKf",
    "outputId": "dd4ca519-c0f1-4d63-cea6-b7e19a0ea0dc"
   },
   "outputs": [
    {
     "data": {
      "text/plain": [
       "Index(['sepal length (cm)', 'sepal width (cm)', 'petal length (cm)',\n",
       "       'petal width (cm)'],\n",
       "      dtype='object')"
      ]
     },
     "execution_count": 17,
     "metadata": {},
     "output_type": "execute_result"
    }
   ],
   "source": [
    "df.columns[0:-1]"
   ]
  },
  {
   "cell_type": "code",
   "execution_count": 18,
   "metadata": {
    "colab": {
     "base_uri": "https://localhost:8080/"
    },
    "collapsed": true,
    "executionInfo": {
     "elapsed": 336,
     "status": "ok",
     "timestamp": 1729698936549,
     "user": {
      "displayName": "Leonardo Davoli",
      "userId": "17136115848095922755"
     },
     "user_tz": -120
    },
    "id": "BKqyPcscEoBu",
    "outputId": "7c4ea046-0912-44dc-c40f-646a7c90a3f6"
   },
   "outputs": [
    {
     "data": {
      "text/plain": [
       "array([[-9.00681170e-01,  1.01900435e+00, -1.34022653e+00,\n",
       "        -1.31544430e+00],\n",
       "       [-1.14301691e+00, -1.31979479e-01, -1.34022653e+00,\n",
       "        -1.31544430e+00],\n",
       "       [-1.38535265e+00,  3.28414053e-01, -1.39706395e+00,\n",
       "        -1.31544430e+00],\n",
       "       [-1.50652052e+00,  9.82172869e-02, -1.28338910e+00,\n",
       "        -1.31544430e+00],\n",
       "       [-1.02184904e+00,  1.24920112e+00, -1.34022653e+00,\n",
       "        -1.31544430e+00],\n",
       "       [-5.37177559e-01,  1.93979142e+00, -1.16971425e+00,\n",
       "        -1.05217993e+00],\n",
       "       [-1.50652052e+00,  7.88807586e-01, -1.34022653e+00,\n",
       "        -1.18381211e+00],\n",
       "       [-1.02184904e+00,  7.88807586e-01, -1.28338910e+00,\n",
       "        -1.31544430e+00],\n",
       "       [-1.74885626e+00, -3.62176246e-01, -1.34022653e+00,\n",
       "        -1.31544430e+00],\n",
       "       [-1.14301691e+00,  9.82172869e-02, -1.28338910e+00,\n",
       "        -1.44707648e+00],\n",
       "       [-5.37177559e-01,  1.47939788e+00, -1.28338910e+00,\n",
       "        -1.31544430e+00],\n",
       "       [-1.26418478e+00,  7.88807586e-01, -1.22655167e+00,\n",
       "        -1.31544430e+00],\n",
       "       [-1.26418478e+00, -1.31979479e-01, -1.34022653e+00,\n",
       "        -1.44707648e+00],\n",
       "       [-1.87002413e+00, -1.31979479e-01, -1.51073881e+00,\n",
       "        -1.44707648e+00],\n",
       "       [-5.25060772e-02,  2.16998818e+00, -1.45390138e+00,\n",
       "        -1.31544430e+00],\n",
       "       [-1.73673948e-01,  3.09077525e+00, -1.28338910e+00,\n",
       "        -1.05217993e+00],\n",
       "       [-5.37177559e-01,  1.93979142e+00, -1.39706395e+00,\n",
       "        -1.05217993e+00],\n",
       "       [-9.00681170e-01,  1.01900435e+00, -1.34022653e+00,\n",
       "        -1.18381211e+00],\n",
       "       [-1.73673948e-01,  1.70959465e+00, -1.16971425e+00,\n",
       "        -1.18381211e+00],\n",
       "       [-9.00681170e-01,  1.70959465e+00, -1.28338910e+00,\n",
       "        -1.18381211e+00],\n",
       "       [-5.37177559e-01,  7.88807586e-01, -1.16971425e+00,\n",
       "        -1.31544430e+00],\n",
       "       [-9.00681170e-01,  1.47939788e+00, -1.28338910e+00,\n",
       "        -1.05217993e+00],\n",
       "       [-1.50652052e+00,  1.24920112e+00, -1.56757623e+00,\n",
       "        -1.31544430e+00],\n",
       "       [-9.00681170e-01,  5.58610819e-01, -1.16971425e+00,\n",
       "        -9.20547742e-01],\n",
       "       [-1.26418478e+00,  7.88807586e-01, -1.05603939e+00,\n",
       "        -1.31544430e+00],\n",
       "       [-1.02184904e+00, -1.31979479e-01, -1.22655167e+00,\n",
       "        -1.31544430e+00],\n",
       "       [-1.02184904e+00,  7.88807586e-01, -1.22655167e+00,\n",
       "        -1.05217993e+00],\n",
       "       [-7.79513300e-01,  1.01900435e+00, -1.28338910e+00,\n",
       "        -1.31544430e+00],\n",
       "       [-7.79513300e-01,  7.88807586e-01, -1.34022653e+00,\n",
       "        -1.31544430e+00],\n",
       "       [-1.38535265e+00,  3.28414053e-01, -1.22655167e+00,\n",
       "        -1.31544430e+00],\n",
       "       [-1.26418478e+00,  9.82172869e-02, -1.22655167e+00,\n",
       "        -1.31544430e+00],\n",
       "       [-5.37177559e-01,  7.88807586e-01, -1.28338910e+00,\n",
       "        -1.05217993e+00],\n",
       "       [-7.79513300e-01,  2.40018495e+00, -1.28338910e+00,\n",
       "        -1.44707648e+00],\n",
       "       [-4.16009689e-01,  2.63038172e+00, -1.34022653e+00,\n",
       "        -1.31544430e+00],\n",
       "       [-1.14301691e+00,  9.82172869e-02, -1.28338910e+00,\n",
       "        -1.31544430e+00],\n",
       "       [-1.02184904e+00,  3.28414053e-01, -1.45390138e+00,\n",
       "        -1.31544430e+00],\n",
       "       [-4.16009689e-01,  1.01900435e+00, -1.39706395e+00,\n",
       "        -1.31544430e+00],\n",
       "       [-1.14301691e+00,  1.24920112e+00, -1.34022653e+00,\n",
       "        -1.44707648e+00],\n",
       "       [-1.74885626e+00, -1.31979479e-01, -1.39706395e+00,\n",
       "        -1.31544430e+00],\n",
       "       [-9.00681170e-01,  7.88807586e-01, -1.28338910e+00,\n",
       "        -1.31544430e+00],\n",
       "       [-1.02184904e+00,  1.01900435e+00, -1.39706395e+00,\n",
       "        -1.18381211e+00],\n",
       "       [-1.62768839e+00, -1.74335684e+00, -1.39706395e+00,\n",
       "        -1.18381211e+00],\n",
       "       [-1.74885626e+00,  3.28414053e-01, -1.39706395e+00,\n",
       "        -1.31544430e+00],\n",
       "       [-1.02184904e+00,  1.01900435e+00, -1.22655167e+00,\n",
       "        -7.88915558e-01],\n",
       "       [-9.00681170e-01,  1.70959465e+00, -1.05603939e+00,\n",
       "        -1.05217993e+00],\n",
       "       [-1.26418478e+00, -1.31979479e-01, -1.34022653e+00,\n",
       "        -1.18381211e+00],\n",
       "       [-9.00681170e-01,  1.70959465e+00, -1.22655167e+00,\n",
       "        -1.31544430e+00],\n",
       "       [-1.50652052e+00,  3.28414053e-01, -1.34022653e+00,\n",
       "        -1.31544430e+00],\n",
       "       [-6.58345429e-01,  1.47939788e+00, -1.28338910e+00,\n",
       "        -1.31544430e+00],\n",
       "       [-1.02184904e+00,  5.58610819e-01, -1.34022653e+00,\n",
       "        -1.31544430e+00],\n",
       "       [ 1.40150837e+00,  3.28414053e-01,  5.35408562e-01,\n",
       "         2.64141916e-01],\n",
       "       [ 6.74501145e-01,  3.28414053e-01,  4.21733708e-01,\n",
       "         3.95774101e-01],\n",
       "       [ 1.28034050e+00,  9.82172869e-02,  6.49083415e-01,\n",
       "         3.95774101e-01],\n",
       "       [-4.16009689e-01, -1.74335684e+00,  1.37546573e-01,\n",
       "         1.32509732e-01],\n",
       "       [ 7.95669016e-01, -5.92373012e-01,  4.78571135e-01,\n",
       "         3.95774101e-01],\n",
       "       [-1.73673948e-01, -5.92373012e-01,  4.21733708e-01,\n",
       "         1.32509732e-01],\n",
       "       [ 5.53333275e-01,  5.58610819e-01,  5.35408562e-01,\n",
       "         5.27406285e-01],\n",
       "       [-1.14301691e+00, -1.51316008e+00, -2.60315415e-01,\n",
       "        -2.62386821e-01],\n",
       "       [ 9.16836886e-01, -3.62176246e-01,  4.78571135e-01,\n",
       "         1.32509732e-01],\n",
       "       [-7.79513300e-01, -8.22569778e-01,  8.07091462e-02,\n",
       "         2.64141916e-01],\n",
       "       [-1.02184904e+00, -2.43394714e+00, -1.46640561e-01,\n",
       "        -2.62386821e-01],\n",
       "       [ 6.86617933e-02, -1.31979479e-01,  2.51221427e-01,\n",
       "         3.95774101e-01],\n",
       "       [ 1.89829664e-01, -1.97355361e+00,  1.37546573e-01,\n",
       "        -2.62386821e-01],\n",
       "       [ 3.10997534e-01, -3.62176246e-01,  5.35408562e-01,\n",
       "         2.64141916e-01],\n",
       "       [-2.94841818e-01, -3.62176246e-01, -8.98031345e-02,\n",
       "         1.32509732e-01],\n",
       "       [ 1.03800476e+00,  9.82172869e-02,  3.64896281e-01,\n",
       "         2.64141916e-01],\n",
       "       [-2.94841818e-01, -1.31979479e-01,  4.21733708e-01,\n",
       "         3.95774101e-01],\n",
       "       [-5.25060772e-02, -8.22569778e-01,  1.94384000e-01,\n",
       "        -2.62386821e-01],\n",
       "       [ 4.32165405e-01, -1.97355361e+00,  4.21733708e-01,\n",
       "         3.95774101e-01],\n",
       "       [-2.94841818e-01, -1.28296331e+00,  8.07091462e-02,\n",
       "        -1.30754636e-01],\n",
       "       [ 6.86617933e-02,  3.28414053e-01,  5.92245988e-01,\n",
       "         7.90670654e-01],\n",
       "       [ 3.10997534e-01, -5.92373012e-01,  1.37546573e-01,\n",
       "         1.32509732e-01],\n",
       "       [ 5.53333275e-01, -1.28296331e+00,  6.49083415e-01,\n",
       "         3.95774101e-01],\n",
       "       [ 3.10997534e-01, -5.92373012e-01,  5.35408562e-01,\n",
       "         8.77547895e-04],\n",
       "       [ 6.74501145e-01, -3.62176246e-01,  3.08058854e-01,\n",
       "         1.32509732e-01],\n",
       "       [ 9.16836886e-01, -1.31979479e-01,  3.64896281e-01,\n",
       "         2.64141916e-01],\n",
       "       [ 1.15917263e+00, -5.92373012e-01,  5.92245988e-01,\n",
       "         2.64141916e-01],\n",
       "       [ 1.03800476e+00, -1.31979479e-01,  7.05920842e-01,\n",
       "         6.59038469e-01],\n",
       "       [ 1.89829664e-01, -3.62176246e-01,  4.21733708e-01,\n",
       "         3.95774101e-01],\n",
       "       [-1.73673948e-01, -1.05276654e+00, -1.46640561e-01,\n",
       "        -2.62386821e-01],\n",
       "       [-4.16009689e-01, -1.51316008e+00,  2.38717193e-02,\n",
       "        -1.30754636e-01],\n",
       "       [-4.16009689e-01, -1.51316008e+00, -3.29657076e-02,\n",
       "        -2.62386821e-01],\n",
       "       [-5.25060772e-02, -8.22569778e-01,  8.07091462e-02,\n",
       "         8.77547895e-04],\n",
       "       [ 1.89829664e-01, -8.22569778e-01,  7.62758269e-01,\n",
       "         5.27406285e-01],\n",
       "       [-5.37177559e-01, -1.31979479e-01,  4.21733708e-01,\n",
       "         3.95774101e-01],\n",
       "       [ 1.89829664e-01,  7.88807586e-01,  4.21733708e-01,\n",
       "         5.27406285e-01],\n",
       "       [ 1.03800476e+00,  9.82172869e-02,  5.35408562e-01,\n",
       "         3.95774101e-01],\n",
       "       [ 5.53333275e-01, -1.74335684e+00,  3.64896281e-01,\n",
       "         1.32509732e-01],\n",
       "       [-2.94841818e-01, -1.31979479e-01,  1.94384000e-01,\n",
       "         1.32509732e-01],\n",
       "       [-4.16009689e-01, -1.28296331e+00,  1.37546573e-01,\n",
       "         1.32509732e-01],\n",
       "       [-4.16009689e-01, -1.05276654e+00,  3.64896281e-01,\n",
       "         8.77547895e-04],\n",
       "       [ 3.10997534e-01, -1.31979479e-01,  4.78571135e-01,\n",
       "         2.64141916e-01],\n",
       "       [-5.25060772e-02, -1.05276654e+00,  1.37546573e-01,\n",
       "         8.77547895e-04],\n",
       "       [-1.02184904e+00, -1.74335684e+00, -2.60315415e-01,\n",
       "        -2.62386821e-01],\n",
       "       [-2.94841818e-01, -8.22569778e-01,  2.51221427e-01,\n",
       "         1.32509732e-01],\n",
       "       [-1.73673948e-01, -1.31979479e-01,  2.51221427e-01,\n",
       "         8.77547895e-04],\n",
       "       [-1.73673948e-01, -3.62176246e-01,  2.51221427e-01,\n",
       "         1.32509732e-01],\n",
       "       [ 4.32165405e-01, -3.62176246e-01,  3.08058854e-01,\n",
       "         1.32509732e-01],\n",
       "       [-9.00681170e-01, -1.28296331e+00, -4.30827696e-01,\n",
       "        -1.30754636e-01],\n",
       "       [-1.73673948e-01, -5.92373012e-01,  1.94384000e-01,\n",
       "         1.32509732e-01],\n",
       "       [ 5.53333275e-01,  5.58610819e-01,  1.27429511e+00,\n",
       "         1.71209594e+00],\n",
       "       [-5.25060772e-02, -8.22569778e-01,  7.62758269e-01,\n",
       "         9.22302838e-01],\n",
       "       [ 1.52267624e+00, -1.31979479e-01,  1.21745768e+00,\n",
       "         1.18556721e+00],\n",
       "       [ 5.53333275e-01, -3.62176246e-01,  1.04694540e+00,\n",
       "         7.90670654e-01],\n",
       "       [ 7.95669016e-01, -1.31979479e-01,  1.16062026e+00,\n",
       "         1.31719939e+00],\n",
       "       [ 2.12851559e+00, -1.31979479e-01,  1.61531967e+00,\n",
       "         1.18556721e+00],\n",
       "       [-1.14301691e+00, -1.28296331e+00,  4.21733708e-01,\n",
       "         6.59038469e-01],\n",
       "       [ 1.76501198e+00, -3.62176246e-01,  1.44480739e+00,\n",
       "         7.90670654e-01],\n",
       "       [ 1.03800476e+00, -1.28296331e+00,  1.16062026e+00,\n",
       "         7.90670654e-01],\n",
       "       [ 1.64384411e+00,  1.24920112e+00,  1.33113254e+00,\n",
       "         1.71209594e+00],\n",
       "       [ 7.95669016e-01,  3.28414053e-01,  7.62758269e-01,\n",
       "         1.05393502e+00],\n",
       "       [ 6.74501145e-01, -8.22569778e-01,  8.76433123e-01,\n",
       "         9.22302838e-01],\n",
       "       [ 1.15917263e+00, -1.31979479e-01,  9.90107977e-01,\n",
       "         1.18556721e+00],\n",
       "       [-1.73673948e-01, -1.28296331e+00,  7.05920842e-01,\n",
       "         1.05393502e+00],\n",
       "       [-5.25060772e-02, -5.92373012e-01,  7.62758269e-01,\n",
       "         1.58046376e+00],\n",
       "       [ 6.74501145e-01,  3.28414053e-01,  8.76433123e-01,\n",
       "         1.44883158e+00],\n",
       "       [ 7.95669016e-01, -1.31979479e-01,  9.90107977e-01,\n",
       "         7.90670654e-01],\n",
       "       [ 2.24968346e+00,  1.70959465e+00,  1.67215710e+00,\n",
       "         1.31719939e+00],\n",
       "       [ 2.24968346e+00, -1.05276654e+00,  1.78583195e+00,\n",
       "         1.44883158e+00],\n",
       "       [ 1.89829664e-01, -1.97355361e+00,  7.05920842e-01,\n",
       "         3.95774101e-01],\n",
       "       [ 1.28034050e+00,  3.28414053e-01,  1.10378283e+00,\n",
       "         1.44883158e+00],\n",
       "       [-2.94841818e-01, -5.92373012e-01,  6.49083415e-01,\n",
       "         1.05393502e+00],\n",
       "       [ 2.24968346e+00, -5.92373012e-01,  1.67215710e+00,\n",
       "         1.05393502e+00],\n",
       "       [ 5.53333275e-01, -8.22569778e-01,  6.49083415e-01,\n",
       "         7.90670654e-01],\n",
       "       [ 1.03800476e+00,  5.58610819e-01,  1.10378283e+00,\n",
       "         1.18556721e+00],\n",
       "       [ 1.64384411e+00,  3.28414053e-01,  1.27429511e+00,\n",
       "         7.90670654e-01],\n",
       "       [ 4.32165405e-01, -5.92373012e-01,  5.92245988e-01,\n",
       "         7.90670654e-01],\n",
       "       [ 3.10997534e-01, -1.31979479e-01,  6.49083415e-01,\n",
       "         7.90670654e-01],\n",
       "       [ 6.74501145e-01, -5.92373012e-01,  1.04694540e+00,\n",
       "         1.18556721e+00],\n",
       "       [ 1.64384411e+00, -1.31979479e-01,  1.16062026e+00,\n",
       "         5.27406285e-01],\n",
       "       [ 1.88617985e+00, -5.92373012e-01,  1.33113254e+00,\n",
       "         9.22302838e-01],\n",
       "       [ 2.49201920e+00,  1.70959465e+00,  1.50164482e+00,\n",
       "         1.05393502e+00],\n",
       "       [ 6.74501145e-01, -5.92373012e-01,  1.04694540e+00,\n",
       "         1.31719939e+00],\n",
       "       [ 5.53333275e-01, -5.92373012e-01,  7.62758269e-01,\n",
       "         3.95774101e-01],\n",
       "       [ 3.10997534e-01, -1.05276654e+00,  1.04694540e+00,\n",
       "         2.64141916e-01],\n",
       "       [ 2.24968346e+00, -1.31979479e-01,  1.33113254e+00,\n",
       "         1.44883158e+00],\n",
       "       [ 5.53333275e-01,  7.88807586e-01,  1.04694540e+00,\n",
       "         1.58046376e+00],\n",
       "       [ 6.74501145e-01,  9.82172869e-02,  9.90107977e-01,\n",
       "         7.90670654e-01],\n",
       "       [ 1.89829664e-01, -1.31979479e-01,  5.92245988e-01,\n",
       "         7.90670654e-01],\n",
       "       [ 1.28034050e+00,  9.82172869e-02,  9.33270550e-01,\n",
       "         1.18556721e+00],\n",
       "       [ 1.03800476e+00,  9.82172869e-02,  1.04694540e+00,\n",
       "         1.58046376e+00],\n",
       "       [ 1.28034050e+00,  9.82172869e-02,  7.62758269e-01,\n",
       "         1.44883158e+00],\n",
       "       [-5.25060772e-02, -8.22569778e-01,  7.62758269e-01,\n",
       "         9.22302838e-01],\n",
       "       [ 1.15917263e+00,  3.28414053e-01,  1.21745768e+00,\n",
       "         1.44883158e+00],\n",
       "       [ 1.03800476e+00,  5.58610819e-01,  1.10378283e+00,\n",
       "         1.71209594e+00],\n",
       "       [ 1.03800476e+00, -1.31979479e-01,  8.19595696e-01,\n",
       "         1.44883158e+00],\n",
       "       [ 5.53333275e-01, -1.28296331e+00,  7.05920842e-01,\n",
       "         9.22302838e-01],\n",
       "       [ 7.95669016e-01, -1.31979479e-01,  8.19595696e-01,\n",
       "         1.05393502e+00],\n",
       "       [ 4.32165405e-01,  7.88807586e-01,  9.33270550e-01,\n",
       "         1.44883158e+00],\n",
       "       [ 6.86617933e-02, -1.31979479e-01,  7.62758269e-01,\n",
       "         7.90670654e-01]])"
      ]
     },
     "execution_count": 18,
     "metadata": {},
     "output_type": "execute_result"
    }
   ],
   "source": [
    "from sklearn.decomposition import PCA\n",
    "from sklearn.preprocessing import StandardScaler\n",
    "\n",
    "# Standardizzazione dei valori su scala standard\n",
    "scaler = StandardScaler()\n",
    "variabili_numeriche = list(df.columns[0:-1])\n",
    "scaled_data = scaler.fit_transform(df[variabili_numeriche])\n",
    "scaled_data"
   ]
  },
  {
   "cell_type": "code",
   "execution_count": 20,
   "metadata": {
    "colab": {
     "base_uri": "https://localhost:8080/",
     "height": 472
    },
    "executionInfo": {
     "elapsed": 760,
     "status": "ok",
     "timestamp": 1729698980834,
     "user": {
      "displayName": "Leonardo Davoli",
      "userId": "17136115848095922755"
     },
     "user_tz": -120
    },
    "id": "jW-h7D42F7lC",
    "outputId": "6790eded-d52f-4a0a-b09f-5066deda121b"
   },
   "outputs": [
    {
     "data": {
      "image/png": "[encoded data removed]",
      "text/plain": [
       "<Figure size 640x480 with 1 Axes>"
      ]
     },
     "metadata": {},
     "output_type": "display_data"
    }
   ],
   "source": [
    "import matplotlib.pyplot as plt\n",
    "\n",
    "# Calcolo della matrice di covarianza & Decompone tramite autovalori e autovettori.\n",
    "pca = PCA().fit(scaled_data)\n",
    "\n",
    "# Crea un grafico della varianza spiegata per ogni componente (per fare la scelta)\n",
    "plt.plot(range(1, pca.n_components_ + 1), pca.explained_variance_ratio_, marker='o')\n",
    "plt.xlabel('Componenti della PCA')\n",
    "plt.ylabel('Varianza spiegata')\n",
    "plt.title(\"Risultati della PCA\")\n",
    "plt.show()"
   ]
  },
  {
   "cell_type": "code",
   "execution_count": 21,
   "metadata": {
    "colab": {
     "base_uri": "https://localhost:8080/"
    },
    "executionInfo": {
     "elapsed": 326,
     "status": "ok",
     "timestamp": 1729700196587,
     "user": {
      "displayName": "Leonardo Davoli",
      "userId": "17136115848095922755"
     },
     "user_tz": -120
    },
    "id": "KVAaSJ3UGSPB",
    "outputId": "6fd56844-d54e-40bb-b937-58dbc5d8c4dd"
   },
   "outputs": [
    {
     "name": "stdout",
     "output_type": "stream",
     "text": [
      "[0.72962445 0.22850762 0.03668922 0.00517871]\n"
     ]
    }
   ],
   "source": [
    "print(pca.explained_variance_ratio_)"
   ]
  },
  {
   "cell_type": "markdown",
   "metadata": {
    "id": "cB7fEFWKGhtX"
   },
   "source": [
    "La somma della varianza dei primi due attributi supera la soglia del 95%\n",
    "\n",
    "Posso rimuovere gli attributi dopo il secondo."
   ]
  },
  {
   "cell_type": "code",
   "execution_count": 22,
   "metadata": {
    "executionInfo": {
     "elapsed": 311,
     "status": "ok",
     "timestamp": 1729699161897,
     "user": {
      "displayName": "Leonardo Davoli",
      "userId": "17136115848095922755"
     },
     "user_tz": -120
    },
    "id": "fW5tlAk3Gpmb"
   },
   "outputs": [],
   "source": [
    "# Applica la PCA per ridurre la dimensionalità dei dati (primi 2 attributi)\n",
    "pca = PCA(n_components=2).fit(scaled_data)\n",
    "pca_data = pca.transform(scaled_data)"
   ]
  },
  {
   "cell_type": "code",
   "execution_count": 23,
   "metadata": {
    "colab": {
     "base_uri": "https://localhost:8080/"
    },
    "executionInfo": {
     "elapsed": 329,
     "status": "ok",
     "timestamp": 1729699222731,
     "user": {
      "displayName": "Leonardo Davoli",
      "userId": "17136115848095922755"
     },
     "user_tz": -120
    },
    "id": "gsQkWFi-G4To",
    "outputId": "84f9df38-203c-448b-c9ff-c1188b2f3255"
   },
   "outputs": [
    {
     "name": "stdout",
     "output_type": "stream",
     "text": [
      "2.9380850501999958\n",
      "0.9201649041624874\n"
     ]
    }
   ],
   "source": [
    "#Verifichiamo i coefficienti degli autovalori\n",
    "eigenvalues = pca.explained_variance_\n",
    "n_samples = scaled_data.shape[0]\n",
    "cov_matrix = np.dot(scaled_data.T, scaled_data) / n_samples\n",
    "for eigenvalue, eigenvector in zip(eigenvalues, pca.components_):\n",
    "    #print(np.dot(eigenvector.T, np.dot(cov_matrix, eigenvector)))\n",
    "    print(eigenvalue)"
   ]
  },
  {
   "cell_type": "code",
   "execution_count": 25,
   "metadata": {
    "colab": {
     "base_uri": "https://localhost:8080/",
     "height": 449
    },
    "executionInfo": {
     "elapsed": 949,
     "status": "ok",
     "timestamp": 1729699598479,
     "user": {
      "displayName": "Leonardo Davoli",
      "userId": "17136115848095922755"
     },
     "user_tz": -120
    },
    "id": "2vpXM_jlHfcR",
    "outputId": "2c1c408a-b2d4-4234-fbf7-a25d57dd5e73"
   },
   "outputs": [
    {
     "data": {
      "image/png": "[encoded data removed]",
      "text/plain": [
       "<Figure size 640x480 with 1 Axes>"
      ]
     },
     "metadata": {},
     "output_type": "display_data"
    }
   ],
   "source": [
    "# crea una mappa etichetta-->codice colore\n",
    "unique_labels = np.unique(df[\"target\"])\n",
    "colors = plt.cm.tab20(np.linspace(0, 1, len(unique_labels)))\n",
    "label_to_color = dict(zip(unique_labels, colors))\n",
    "\n",
    "# genera il grafico\n",
    "fig, ax = plt.subplots()\n",
    "for label in unique_labels:\n",
    "    mask = (df[\"target\"] == label).values\n",
    "    ax.scatter(pca_data[mask, 0], pca_data[mask, 1], color=label_to_color[label], label=label)\n",
    "\n",
    "ax.set_xlabel('Componente 1')\n",
    "ax.set_ylabel('Componente 2')\n",
    "\n",
    "ax.legend()\n",
    "\n",
    "plt.show()"
   ]
  },
  {
   "cell_type": "code",
   "execution_count": 26,
   "metadata": {
    "colab": {
     "base_uri": "https://localhost:8080/",
     "height": 452
    },
    "executionInfo": {
     "elapsed": 1187,
     "status": "ok",
     "timestamp": 1729699865652,
     "user": {
      "displayName": "Leonardo Davoli",
      "userId": "17136115848095922755"
     },
     "user_tz": -120
    },
    "id": "d7b40Qr-JU6i",
    "outputId": "3674f37c-6b37-4954-8343-250f0cd3ea5a"
   },
   "outputs": [
    {
     "data": {
      "image/png": "[encoded data removed]",
      "text/plain": [
       "<Figure size 640x480 with 2 Axes>"
      ]
     },
     "metadata": {},
     "output_type": "display_data"
    }
   ],
   "source": [
    "ax = sns.heatmap(pca.components_,\n",
    "                 cmap='YlGnBu',\n",
    "                 yticklabels=[ \"PCA\"+str(x) for x in range(1,pca.n_components_+1)],\n",
    "                 xticklabels=list(variabili_numeriche),\n",
    "                 cbar_kws={\"orientation\": \"vertical\"})\n",
    "ax.set_aspect(\"equal\")"
   ]
  }
 ],
 "metadata": {
  "colab": {
   "provenance": []
  },
  "kernelspec": {
   "display_name": "Python 3",
   "name": "python3"
  },
  "language_info": {
   "codemirror_mode": {
    "name": "ipython",
    "version": 3
   },
   "file_extension": ".py",
   "mimetype": "text/x-python",
   "name": "python",
   "nbconvert_exporter": "python",
   "pygments_lexer": "ipython3",
   "version": "3.11.4"
  }
 },
 "nbformat": 4,
 "nbformat_minor": 0
}
