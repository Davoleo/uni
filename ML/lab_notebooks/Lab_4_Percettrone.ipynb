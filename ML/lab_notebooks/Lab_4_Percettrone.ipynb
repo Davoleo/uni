{
 "cells": [
  {
   "cell_type": "markdown",
   "metadata": {
    "id": "Vus5X89NfLet"
   },
   "source": [
    "# Percettrone\n",
    "\n",
    "## Dataset"
   ]
  },
  {
   "cell_type": "markdown",
   "metadata": {
    "id": "_Fh5dOlvfOJK"
   },
   "source": [
    "Generiamo un dataset giocattolo per sperimentare con un classificatore percettrone"
   ]
  },
  {
   "cell_type": "code",
   "execution_count": 2,
   "metadata": {
    "executionInfo": {
     "elapsed": 1051,
     "status": "ok",
     "timestamp": 1730306171442,
     "user": {
      "displayName": "Leonardo Davoli",
      "userId": "17136115848095922755"
     },
     "user_tz": -60
    },
    "id": "gSifocK8d-be"
   },
   "outputs": [],
   "source": [
    "import pandas as pd\n",
    "import numpy as np\n",
    "\n",
    "\n",
    "def generate_dataset(n, dim, threshold=0.75):\n",
    "    # Generate n points in dim-dimensional space // Matrix of random numbers\n",
    "    points = np.random.rand(n, dim)\n",
    "\n",
    "    # Create a DataFrame from the matrix of points\n",
    "    df = pd.DataFrame(points)\n",
    "\n",
    "    # Assign column names [x0..xDim]\n",
    "    df.columns = ['x{}'.format(i) for i in range(dim)]\n",
    "\n",
    "\t# Set the target column depending on the sum of all the values in a certain row\n",
    "    # - If the sum of all the attributes is below the threshold (0.75) then 0 otherwise 1\n",
    "    df[\"label\"] = np.where(df.sum(axis=\"columns\") < threshold, 0, 1)\n",
    "\n",
    "    return df"
   ]
  },
  {
   "cell_type": "code",
   "execution_count": 3,
   "metadata": {
    "executionInfo": {
     "elapsed": 325,
     "status": "ok",
     "timestamp": 1730306178466,
     "user": {
      "displayName": "Leonardo Davoli",
      "userId": "17136115848095922755"
     },
     "user_tz": -60
    },
    "id": "rsaPOfJtfW81"
   },
   "outputs": [],
   "source": [
    "# Generate the dataframe using the function above\n",
    "df = generate_dataset(1000, 2, 0.75)"
   ]
  },
  {
   "cell_type": "code",
   "execution_count": 4,
   "metadata": {
    "colab": {
     "base_uri": "https://localhost:8080/",
     "height": 80
    },
    "executionInfo": {
     "elapsed": 386,
     "status": "ok",
     "timestamp": 1730306182827,
     "user": {
      "displayName": "Leonardo Davoli",
      "userId": "17136115848095922755"
     },
     "user_tz": -60
    },
    "id": "HWL-qyte2yNW",
    "outputId": "75ec15fc-29cd-4783-b981-00d5d6d16c84"
   },
   "outputs": [
    {
     "name": "stdout",
     "output_type": "stream",
     "text": [
      "         x0       x1  label\n",
      "3  0.967922  0.47336      1\n"
     ]
    }
   ],
   "source": [
    "# Print dataframe row to check the values / target label is correct\n",
    "print(df.loc[[3]])"
   ]
  },
  {
   "cell_type": "markdown",
   "metadata": {
    "id": "JwQ9qx-QgM4J"
   },
   "source": [
    "## Dataset exploration"
   ]
  },
  {
   "cell_type": "code",
   "execution_count": 5,
   "metadata": {
    "colab": {
     "base_uri": "https://localhost:8080/",
     "height": 206
    },
    "executionInfo": {
     "elapsed": 283,
     "status": "ok",
     "timestamp": 1730306197463,
     "user": {
      "displayName": "Leonardo Davoli",
      "userId": "17136115848095922755"
     },
     "user_tz": -60
    },
    "id": "uZWNHdYNfby5",
    "outputId": "c781a92f-6ec8-4a6a-dec0-cd9ed50cfa11"
   },
   "outputs": [
    {
     "data": {
      "text/html": [
       "<div>\n",
       "<style scoped>\n",
       "    .dataframe tbody tr th:only-of-type {\n",
       "        vertical-align: middle;\n",
       "    }\n",
       "\n",
       "    .dataframe tbody tr th {\n",
       "        vertical-align: top;\n",
       "    }\n",
       "\n",
       "    .dataframe thead th {\n",
       "        text-align: right;\n",
       "    }\n",
       "</style>\n",
       "<table border=\"1\" class=\"dataframe\">\n",
       "  <thead>\n",
       "    <tr style=\"text-align: right;\">\n",
       "      <th></th>\n",
       "      <th>x0</th>\n",
       "      <th>x1</th>\n",
       "      <th>label</th>\n",
       "    </tr>\n",
       "  </thead>\n",
       "  <tbody>\n",
       "    <tr>\n",
       "      <th>0</th>\n",
       "      <td>0.863907</td>\n",
       "      <td>0.278632</td>\n",
       "      <td>1</td>\n",
       "    </tr>\n",
       "    <tr>\n",
       "      <th>1</th>\n",
       "      <td>0.103702</td>\n",
       "      <td>0.756166</td>\n",
       "      <td>1</td>\n",
       "    </tr>\n",
       "    <tr>\n",
       "      <th>2</th>\n",
       "      <td>0.596588</td>\n",
       "      <td>0.918983</td>\n",
       "      <td>1</td>\n",
       "    </tr>\n",
       "    <tr>\n",
       "      <th>3</th>\n",
       "      <td>0.967922</td>\n",
       "      <td>0.473360</td>\n",
       "      <td>1</td>\n",
       "    </tr>\n",
       "    <tr>\n",
       "      <th>4</th>\n",
       "      <td>0.724491</td>\n",
       "      <td>0.486420</td>\n",
       "      <td>1</td>\n",
       "    </tr>\n",
       "    <tr>\n",
       "      <th>5</th>\n",
       "      <td>0.102260</td>\n",
       "      <td>0.649489</td>\n",
       "      <td>1</td>\n",
       "    </tr>\n",
       "    <tr>\n",
       "      <th>6</th>\n",
       "      <td>0.037590</td>\n",
       "      <td>0.320135</td>\n",
       "      <td>0</td>\n",
       "    </tr>\n",
       "    <tr>\n",
       "      <th>7</th>\n",
       "      <td>0.429682</td>\n",
       "      <td>0.221172</td>\n",
       "      <td>0</td>\n",
       "    </tr>\n",
       "    <tr>\n",
       "      <th>8</th>\n",
       "      <td>0.155064</td>\n",
       "      <td>0.319801</td>\n",
       "      <td>0</td>\n",
       "    </tr>\n",
       "    <tr>\n",
       "      <th>9</th>\n",
       "      <td>0.311255</td>\n",
       "      <td>0.248398</td>\n",
       "      <td>0</td>\n",
       "    </tr>\n",
       "    <tr>\n",
       "      <th>10</th>\n",
       "      <td>0.428785</td>\n",
       "      <td>0.084094</td>\n",
       "      <td>0</td>\n",
       "    </tr>\n",
       "    <tr>\n",
       "      <th>11</th>\n",
       "      <td>0.746380</td>\n",
       "      <td>0.330815</td>\n",
       "      <td>1</td>\n",
       "    </tr>\n",
       "    <tr>\n",
       "      <th>12</th>\n",
       "      <td>0.434778</td>\n",
       "      <td>0.767955</td>\n",
       "      <td>1</td>\n",
       "    </tr>\n",
       "    <tr>\n",
       "      <th>13</th>\n",
       "      <td>0.371881</td>\n",
       "      <td>0.930426</td>\n",
       "      <td>1</td>\n",
       "    </tr>\n",
       "    <tr>\n",
       "      <th>14</th>\n",
       "      <td>0.046938</td>\n",
       "      <td>0.426449</td>\n",
       "      <td>0</td>\n",
       "    </tr>\n",
       "    <tr>\n",
       "      <th>15</th>\n",
       "      <td>0.259747</td>\n",
       "      <td>0.792736</td>\n",
       "      <td>1</td>\n",
       "    </tr>\n",
       "    <tr>\n",
       "      <th>16</th>\n",
       "      <td>0.497351</td>\n",
       "      <td>0.346989</td>\n",
       "      <td>1</td>\n",
       "    </tr>\n",
       "    <tr>\n",
       "      <th>17</th>\n",
       "      <td>0.612445</td>\n",
       "      <td>0.386107</td>\n",
       "      <td>1</td>\n",
       "    </tr>\n",
       "    <tr>\n",
       "      <th>18</th>\n",
       "      <td>0.718562</td>\n",
       "      <td>0.835516</td>\n",
       "      <td>1</td>\n",
       "    </tr>\n",
       "    <tr>\n",
       "      <th>19</th>\n",
       "      <td>0.291227</td>\n",
       "      <td>0.203788</td>\n",
       "      <td>0</td>\n",
       "    </tr>\n",
       "    <tr>\n",
       "      <th>20</th>\n",
       "      <td>0.791824</td>\n",
       "      <td>0.000786</td>\n",
       "      <td>1</td>\n",
       "    </tr>\n",
       "    <tr>\n",
       "      <th>21</th>\n",
       "      <td>0.082331</td>\n",
       "      <td>0.705570</td>\n",
       "      <td>1</td>\n",
       "    </tr>\n",
       "    <tr>\n",
       "      <th>22</th>\n",
       "      <td>0.826612</td>\n",
       "      <td>0.039617</td>\n",
       "      <td>1</td>\n",
       "    </tr>\n",
       "    <tr>\n",
       "      <th>23</th>\n",
       "      <td>0.917121</td>\n",
       "      <td>0.884212</td>\n",
       "      <td>1</td>\n",
       "    </tr>\n",
       "    <tr>\n",
       "      <th>24</th>\n",
       "      <td>0.651205</td>\n",
       "      <td>0.023953</td>\n",
       "      <td>0</td>\n",
       "    </tr>\n",
       "    <tr>\n",
       "      <th>25</th>\n",
       "      <td>0.647321</td>\n",
       "      <td>0.674736</td>\n",
       "      <td>1</td>\n",
       "    </tr>\n",
       "    <tr>\n",
       "      <th>26</th>\n",
       "      <td>0.466227</td>\n",
       "      <td>0.426443</td>\n",
       "      <td>1</td>\n",
       "    </tr>\n",
       "    <tr>\n",
       "      <th>27</th>\n",
       "      <td>0.470188</td>\n",
       "      <td>0.350584</td>\n",
       "      <td>1</td>\n",
       "    </tr>\n",
       "    <tr>\n",
       "      <th>28</th>\n",
       "      <td>0.492060</td>\n",
       "      <td>0.523653</td>\n",
       "      <td>1</td>\n",
       "    </tr>\n",
       "    <tr>\n",
       "      <th>29</th>\n",
       "      <td>0.364612</td>\n",
       "      <td>0.262269</td>\n",
       "      <td>0</td>\n",
       "    </tr>\n",
       "  </tbody>\n",
       "</table>\n",
       "</div>"
      ],
      "text/plain": [
       "          x0        x1  label\n",
       "0   0.863907  0.278632      1\n",
       "1   0.103702  0.756166      1\n",
       "2   0.596588  0.918983      1\n",
       "3   0.967922  0.473360      1\n",
       "4   0.724491  0.486420      1\n",
       "5   0.102260  0.649489      1\n",
       "6   0.037590  0.320135      0\n",
       "7   0.429682  0.221172      0\n",
       "8   0.155064  0.319801      0\n",
       "9   0.311255  0.248398      0\n",
       "10  0.428785  0.084094      0\n",
       "11  0.746380  0.330815      1\n",
       "12  0.434778  0.767955      1\n",
       "13  0.371881  0.930426      1\n",
       "14  0.046938  0.426449      0\n",
       "15  0.259747  0.792736      1\n",
       "16  0.497351  0.346989      1\n",
       "17  0.612445  0.386107      1\n",
       "18  0.718562  0.835516      1\n",
       "19  0.291227  0.203788      0\n",
       "20  0.791824  0.000786      1\n",
       "21  0.082331  0.705570      1\n",
       "22  0.826612  0.039617      1\n",
       "23  0.917121  0.884212      1\n",
       "24  0.651205  0.023953      0\n",
       "25  0.647321  0.674736      1\n",
       "26  0.466227  0.426443      1\n",
       "27  0.470188  0.350584      1\n",
       "28  0.492060  0.523653      1\n",
       "29  0.364612  0.262269      0"
      ]
     },
     "execution_count": 5,
     "metadata": {},
     "output_type": "execute_result"
    }
   ],
   "source": [
    "df.head(30)"
   ]
  },
  {
   "cell_type": "code",
   "execution_count": 6,
   "metadata": {
    "colab": {
     "base_uri": "https://localhost:8080/",
     "height": 449
    },
    "executionInfo": {
     "elapsed": 613,
     "status": "ok",
     "timestamp": 1730306242354,
     "user": {
      "displayName": "Leonardo Davoli",
      "userId": "17136115848095922755"
     },
     "user_tz": -60
    },
    "id": "irFN-vXffl2K",
    "outputId": "24a24662-ac59-4eaf-d154-e24ca5e5334c"
   },
   "outputs": [
    {
     "data": {
      "image/png": "[encoded data removed]",
      "text/plain": [
       "<Figure size 640x480 with 1 Axes>"
      ]
     },
     "metadata": {},
     "output_type": "display_data"
    }
   ],
   "source": [
    "import matplotlib.pyplot as plt\n",
    "\n",
    "# Unique label values on the X axis, Value counts on the Y axis\n",
    "plt.bar(df[\"label\"].unique(), df[\"label\"].value_counts())\n",
    "plt.ylabel(\"Frequenza\")\n",
    "plt.xlabel(\"Label\")\n",
    "plt.xticks([0, 1])\n",
    "plt.show()"
   ]
  },
  {
   "cell_type": "code",
   "execution_count": 7,
   "metadata": {
    "colab": {
     "base_uri": "https://localhost:8080/",
     "height": 466
    },
    "executionInfo": {
     "elapsed": 1018,
     "status": "ok",
     "timestamp": 1730306932046,
     "user": {
      "displayName": "Leonardo Davoli",
      "userId": "17136115848095922755"
     },
     "user_tz": -60
    },
    "id": "pbqZuPpRfoIr",
    "outputId": "30140f70-8a68-4942-c03e-08c69085f2b9"
   },
   "outputs": [
    {
     "data": {
      "image/png": "[encoded data removed]",
      "text/plain": [
       "<Figure size 640x480 with 1 Axes>"
      ]
     },
     "metadata": {},
     "output_type": "display_data"
    }
   ],
   "source": [
    "# dividiamo il DataFrame in due sotto-DataFrame in base alla label\n",
    "df_pos = df[df['label'] == 1]\n",
    "df_neg = df[df['label'] == 0]\n",
    "\n",
    "# plot degli scatter plot per i due sotto-DataFrame\n",
    "fig, ax = plt.subplots()\n",
    "ax.scatter(df_pos['x0'], df_pos['x1'], c='green', label='positive')\n",
    "ax.scatter(df_neg['x0'], df_neg['x1'], c='red', label='negative')\n",
    "\n",
    "ax.legend()\n",
    "ax.set_xlabel('x0')\n",
    "ax.set_ylabel('x1')\n",
    "\n",
    "plt.show()"
   ]
  },
  {
   "cell_type": "markdown",
   "metadata": {
    "id": "3Noflgksn_8S"
   },
   "source": [
    "In questo laboratorio dovrai **implementare il percettrone (tradizionale)** e il **percettrone (delta rule)**, seguendo questo pseudocodice:\n",
    "<br><br>\n",
    "\n",
    "**def** funzione(data, threshold) {\n",
    "\n",
    "1. Initialize the weights: w0=-threshold, w1,w2 random\n",
    "\n",
    "2. Set a control variable for convergence\n",
    "\n",
    "3. Check convergency: all instances should be correctly classified.\n",
    "\n",
    "   3. a. Adjust weights for misclassified instances\n",
    "\n",
    "4. return weights\n",
    "\n",
    "}"
   ]
  },
  {
   "cell_type": "code",
   "execution_count": 19,
   "metadata": {
    "colab": {
     "base_uri": "https://localhost:8080/"
    },
    "executionInfo": {
     "elapsed": 272,
     "status": "ok",
     "timestamp": 1730308093357,
     "user": {
      "displayName": "Leonardo Davoli",
      "userId": "17136115848095922755"
     },
     "user_tz": -60
    },
    "id": "xSyt2atPStye",
    "outputId": "e0bb2615-9432-49b9-a752-da04185219d3"
   },
   "outputs": [
    {
     "name": "stdout",
     "output_type": "stream",
     "text": [
      "CONVERGED!\n"
     ]
    },
    {
     "data": {
      "text/plain": [
       "[np.float64(-2.15),\n",
       " np.float64(2.8892922787291124),\n",
       " np.float64(2.8594644545209764)]"
      ]
     },
     "execution_count": 19,
     "metadata": {},
     "output_type": "execute_result"
    }
   ],
   "source": [
    "from pandas import DataFrame\n",
    "\n",
    "def perceptron(data: DataFrame, threshold: float):\n",
    "    input = data[['x0', 'x1']]\n",
    "    target = data['label'].to_numpy()\n",
    "\n",
    "    # Learning rate\n",
    "    rate = 0.2\n",
    "\n",
    "    # initialize bias weight\n",
    "    w0 = -threshold\n",
    "\n",
    "    # initialize weights\n",
    "    w = np.random.rand(input.columns.size)\n",
    "\n",
    "    # Control Variables\n",
    "    converged = False\n",
    "    tcount = 0\n",
    "\n",
    "    while (not converged and tcount < 4000):\n",
    "        converged = True\n",
    "        for instance in range(len(input.index)):\n",
    "            sum = w0\n",
    "\n",
    "            # compute perceptron output\n",
    "            for i in range(input.ndim):\n",
    "                sum += input.values[instance][i] * w[i]\n",
    "\n",
    "            perc_out = 0 if sum < 0 else 1\n",
    "\n",
    "\n",
    "            #if actual output is different from expected output -> update weights with the perceptron rule\n",
    "            if (target[instance] != perc_out):\n",
    "                converged = False\n",
    "                #print(\"w: {}\".format(w))\n",
    "                w0 = w0 + rate*(target[instance]-perc_out)*1\n",
    "                for i in range(input.ndim):\n",
    "                    #print(\"comp: targets {}-{}, input:{}\".format(perc_out, target[instance], input.values[instance][i]))\n",
    "                    w[i] = w[i] + rate*(target[instance]-perc_out)*input.values[instance][i]\n",
    "        tcount += 1\n",
    "\n",
    "    if (converged):\n",
    "        print(\"CONVERGED!\")\n",
    "    elif (tcount >= 4000):\n",
    "        print(\"FUCKING DEAD\")\n",
    "\n",
    "    return [w0, *w]\n",
    "\n",
    "perceptron(df, 0.75)"
   ]
  },
  {
   "cell_type": "code",
   "execution_count": 21,
   "metadata": {},
   "outputs": [
    {
     "name": "stdout",
     "output_type": "stream",
     "text": [
      "0.19991799042649763\n",
      "0.12144821604862605\n",
      "0.06870959692600827\n",
      "0.033130994574382774\n",
      "0.011379141564385619\n",
      "0.001265326963711289\n",
      "0.000997016767260655\n",
      "Converged!\n"
     ]
    }
   ],
   "source": [
    "from pandas import DataFrame\n",
    "from numpy import gradient\n",
    "\n",
    "# get the gradient based on the Min Squared Error cost function\n",
    "def gradient_of(target, x, w0, w):\n",
    "    common = (target - w0 + w[0]*x[0] + w[1]*x[1])\n",
    "    return [\n",
    "        common * (-1),\n",
    "        common * (x[0]),\n",
    "        common * (x[1])\n",
    "    ]\n",
    "\n",
    "def compute_loss_function(target, x, w0, w):\n",
    "    # Compute perceptron output\n",
    "    perc_out = w0\n",
    "    for i in range(len(x)):\n",
    "        perc_out += w[i] + x[i]\n",
    "\n",
    "    # Mean Squared Error (no need to sum cause output is in R^1)\n",
    "    return 0.5*(target - perc_out)**2\n",
    "\n",
    "\n",
    "def delta_perceptron(data: DataFrame, threshold: float):\n",
    "    input = data[['x0', 'x1']]\n",
    "    target = data['label'].to_numpy()\n",
    "\n",
    "    # Learning rate\n",
    "    rate = 0.001\n",
    "\n",
    "    # initialize bias weight\n",
    "    w0 = -threshold\n",
    "\n",
    "    # initialize weights\n",
    "    w = np.random.rand(input.columns.size)\n",
    "\n",
    "    converged = False\n",
    "    tcount = 0\n",
    "\n",
    "    while (not converged and tcount < 1000):\n",
    "        \n",
    "        for instance in range(len(input.index)):\n",
    "            gradient = gradient_of(target[instance], input.values[instance], w0, w)\n",
    "\n",
    "            # Update weights\n",
    "            w0 = w0 - rate * gradient[0]\n",
    "            for i in range(input.ndim):\n",
    "                w[i] = w[i] - rate * gradient[i+1]\n",
    "\n",
    "        tcount += 1\n",
    "\n",
    "        mse = compute_loss_function(target[0], input.values[0], w0, w)\n",
    "        print(mse)\n",
    "\n",
    "        if (mse < 0.001):\n",
    "            converged = True\n",
    "    \n",
    "    if (tcount >= 1000):\n",
    "        print(\"Fucking Dead\")\n",
    "    elif (converged):\n",
    "        print(\"Converged!\")\n",
    "\n",
    "            \n",
    "            \n",
    "\n",
    "delta_perceptron(df, 0.75)"
   ]
  }
 ],
 "metadata": {
  "colab": {
   "provenance": []
  },
  "kernelspec": {
   "display_name": "Python 3",
   "name": "python3"
  },
  "language_info": {
   "codemirror_mode": {
    "name": "ipython",
    "version": 3
   },
   "file_extension": ".py",
   "mimetype": "text/x-python",
   "name": "python",
   "nbconvert_exporter": "python",
   "pygments_lexer": "ipython3",
   "version": "3.11.4"
  }
 },
 "nbformat": 4,
 "nbformat_minor": 0
}
