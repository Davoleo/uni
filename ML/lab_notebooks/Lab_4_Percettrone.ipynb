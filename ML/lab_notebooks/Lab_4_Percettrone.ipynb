{
 "cells": [
  {
   "cell_type": "markdown",
   "metadata": {
    "id": "Vus5X89NfLet"
   },
   "source": [
    "# Percettrone\n",
    "\n",
    "## Dataset"
   ]
  },
  {
   "cell_type": "markdown",
   "metadata": {
    "id": "_Fh5dOlvfOJK"
   },
   "source": [
    "Generiamo un dataset giocattolo per sperimentare con un classificatore percettrone"
   ]
  },
  {
   "cell_type": "code",
   "execution_count": 59,
   "metadata": {
    "executionInfo": {
     "elapsed": 1051,
     "status": "ok",
     "timestamp": 1730306171442,
     "user": {
      "displayName": "Leonardo Davoli",
      "userId": "17136115848095922755"
     },
     "user_tz": -60
    },
    "id": "gSifocK8d-be"
   },
   "outputs": [],
   "source": [
    "import pandas as pd\n",
    "import numpy as np\n",
    "\n",
    "\n",
    "def generate_dataset(n, dim, threshold=0.75):\n",
    "    # Generate n points in dim-dimensional space // Matrix of random numbers\n",
    "    points = np.random.rand(n, dim)\n",
    "\n",
    "    # Create a DataFrame from the matrix of points\n",
    "    df = pd.DataFrame(points)\n",
    "\n",
    "    # Assign column names [x0..xDim]\n",
    "    df.columns = ['x{}'.format(i) for i in range(dim)]\n",
    "\n",
    "\t# Set the target column depending on the sum of all the values in a certain row\n",
    "    # - If the sum of all the attributes is below the threshold (0.75) then 0 otherwise 1\n",
    "    df[\"label\"] = np.where(df.sum(axis=\"columns\") < threshold, 0, 1)\n",
    "\n",
    "    return df"
   ]
  },
  {
   "cell_type": "code",
   "execution_count": 60,
   "metadata": {
    "executionInfo": {
     "elapsed": 325,
     "status": "ok",
     "timestamp": 1730306178466,
     "user": {
      "displayName": "Leonardo Davoli",
      "userId": "17136115848095922755"
     },
     "user_tz": -60
    },
    "id": "rsaPOfJtfW81"
   },
   "outputs": [],
   "source": [
    "# Generate the dataframe using the function above\n",
    "df = generate_dataset(1000, 2, 0.75)"
   ]
  },
  {
   "cell_type": "code",
   "execution_count": 61,
   "metadata": {
    "colab": {
     "base_uri": "https://localhost:8080/",
     "height": 80
    },
    "executionInfo": {
     "elapsed": 386,
     "status": "ok",
     "timestamp": 1730306182827,
     "user": {
      "displayName": "Leonardo Davoli",
      "userId": "17136115848095922755"
     },
     "user_tz": -60
    },
    "id": "HWL-qyte2yNW",
    "outputId": "75ec15fc-29cd-4783-b981-00d5d6d16c84"
   },
   "outputs": [
    {
     "name": "stdout",
     "output_type": "stream",
     "text": [
      "         x0        x1  label\n",
      "3  0.060291  0.136207      0\n"
     ]
    }
   ],
   "source": [
    "# Print dataframe row to check the values / target label is correct\n",
    "print(df.loc[[3]])"
   ]
  },
  {
   "cell_type": "markdown",
   "metadata": {
    "id": "JwQ9qx-QgM4J"
   },
   "source": [
    "## Dataset exploration"
   ]
  },
  {
   "cell_type": "code",
   "execution_count": 66,
   "metadata": {
    "colab": {
     "base_uri": "https://localhost:8080/",
     "height": 206
    },
    "executionInfo": {
     "elapsed": 283,
     "status": "ok",
     "timestamp": 1730306197463,
     "user": {
      "displayName": "Leonardo Davoli",
      "userId": "17136115848095922755"
     },
     "user_tz": -60
    },
    "id": "uZWNHdYNfby5",
    "outputId": "c781a92f-6ec8-4a6a-dec0-cd9ed50cfa11"
   },
   "outputs": [
    {
     "data": {
      "text/html": [
       "<div>\n",
       "<style scoped>\n",
       "    .dataframe tbody tr th:only-of-type {\n",
       "        vertical-align: middle;\n",
       "    }\n",
       "\n",
       "    .dataframe tbody tr th {\n",
       "        vertical-align: top;\n",
       "    }\n",
       "\n",
       "    .dataframe thead th {\n",
       "        text-align: right;\n",
       "    }\n",
       "</style>\n",
       "<table border=\"1\" class=\"dataframe\">\n",
       "  <thead>\n",
       "    <tr style=\"text-align: right;\">\n",
       "      <th></th>\n",
       "      <th>x0</th>\n",
       "      <th>x1</th>\n",
       "      <th>label</th>\n",
       "    </tr>\n",
       "  </thead>\n",
       "  <tbody>\n",
       "    <tr>\n",
       "      <th>0</th>\n",
       "      <td>0.674058</td>\n",
       "      <td>0.167451</td>\n",
       "      <td>1</td>\n",
       "    </tr>\n",
       "    <tr>\n",
       "      <th>1</th>\n",
       "      <td>0.899565</td>\n",
       "      <td>0.770164</td>\n",
       "      <td>1</td>\n",
       "    </tr>\n",
       "    <tr>\n",
       "      <th>2</th>\n",
       "      <td>0.034796</td>\n",
       "      <td>0.952098</td>\n",
       "      <td>1</td>\n",
       "    </tr>\n",
       "    <tr>\n",
       "      <th>3</th>\n",
       "      <td>0.060291</td>\n",
       "      <td>0.136207</td>\n",
       "      <td>0</td>\n",
       "    </tr>\n",
       "    <tr>\n",
       "      <th>4</th>\n",
       "      <td>0.742614</td>\n",
       "      <td>0.490700</td>\n",
       "      <td>1</td>\n",
       "    </tr>\n",
       "    <tr>\n",
       "      <th>5</th>\n",
       "      <td>0.307215</td>\n",
       "      <td>0.303216</td>\n",
       "      <td>0</td>\n",
       "    </tr>\n",
       "    <tr>\n",
       "      <th>6</th>\n",
       "      <td>0.186762</td>\n",
       "      <td>0.770303</td>\n",
       "      <td>1</td>\n",
       "    </tr>\n",
       "    <tr>\n",
       "      <th>7</th>\n",
       "      <td>0.190425</td>\n",
       "      <td>0.194758</td>\n",
       "      <td>0</td>\n",
       "    </tr>\n",
       "    <tr>\n",
       "      <th>8</th>\n",
       "      <td>0.781358</td>\n",
       "      <td>0.817650</td>\n",
       "      <td>1</td>\n",
       "    </tr>\n",
       "    <tr>\n",
       "      <th>9</th>\n",
       "      <td>0.773180</td>\n",
       "      <td>0.889061</td>\n",
       "      <td>1</td>\n",
       "    </tr>\n",
       "    <tr>\n",
       "      <th>10</th>\n",
       "      <td>0.143720</td>\n",
       "      <td>0.487852</td>\n",
       "      <td>0</td>\n",
       "    </tr>\n",
       "    <tr>\n",
       "      <th>11</th>\n",
       "      <td>0.864756</td>\n",
       "      <td>0.796093</td>\n",
       "      <td>1</td>\n",
       "    </tr>\n",
       "    <tr>\n",
       "      <th>12</th>\n",
       "      <td>0.873079</td>\n",
       "      <td>0.460686</td>\n",
       "      <td>1</td>\n",
       "    </tr>\n",
       "    <tr>\n",
       "      <th>13</th>\n",
       "      <td>0.676175</td>\n",
       "      <td>0.061242</td>\n",
       "      <td>0</td>\n",
       "    </tr>\n",
       "    <tr>\n",
       "      <th>14</th>\n",
       "      <td>0.921770</td>\n",
       "      <td>0.141487</td>\n",
       "      <td>1</td>\n",
       "    </tr>\n",
       "    <tr>\n",
       "      <th>15</th>\n",
       "      <td>0.769655</td>\n",
       "      <td>0.628241</td>\n",
       "      <td>1</td>\n",
       "    </tr>\n",
       "    <tr>\n",
       "      <th>16</th>\n",
       "      <td>0.565522</td>\n",
       "      <td>0.020408</td>\n",
       "      <td>0</td>\n",
       "    </tr>\n",
       "    <tr>\n",
       "      <th>17</th>\n",
       "      <td>0.733262</td>\n",
       "      <td>0.745941</td>\n",
       "      <td>1</td>\n",
       "    </tr>\n",
       "    <tr>\n",
       "      <th>18</th>\n",
       "      <td>0.015709</td>\n",
       "      <td>0.927719</td>\n",
       "      <td>1</td>\n",
       "    </tr>\n",
       "    <tr>\n",
       "      <th>19</th>\n",
       "      <td>0.924700</td>\n",
       "      <td>0.342596</td>\n",
       "      <td>1</td>\n",
       "    </tr>\n",
       "    <tr>\n",
       "      <th>20</th>\n",
       "      <td>0.336853</td>\n",
       "      <td>0.883693</td>\n",
       "      <td>1</td>\n",
       "    </tr>\n",
       "    <tr>\n",
       "      <th>21</th>\n",
       "      <td>0.854085</td>\n",
       "      <td>0.701518</td>\n",
       "      <td>1</td>\n",
       "    </tr>\n",
       "    <tr>\n",
       "      <th>22</th>\n",
       "      <td>0.519159</td>\n",
       "      <td>0.705989</td>\n",
       "      <td>1</td>\n",
       "    </tr>\n",
       "    <tr>\n",
       "      <th>23</th>\n",
       "      <td>0.641961</td>\n",
       "      <td>0.985925</td>\n",
       "      <td>1</td>\n",
       "    </tr>\n",
       "    <tr>\n",
       "      <th>24</th>\n",
       "      <td>0.157685</td>\n",
       "      <td>0.440044</td>\n",
       "      <td>0</td>\n",
       "    </tr>\n",
       "    <tr>\n",
       "      <th>25</th>\n",
       "      <td>0.669009</td>\n",
       "      <td>0.286701</td>\n",
       "      <td>1</td>\n",
       "    </tr>\n",
       "    <tr>\n",
       "      <th>26</th>\n",
       "      <td>0.334086</td>\n",
       "      <td>0.034596</td>\n",
       "      <td>0</td>\n",
       "    </tr>\n",
       "    <tr>\n",
       "      <th>27</th>\n",
       "      <td>0.321790</td>\n",
       "      <td>0.611055</td>\n",
       "      <td>1</td>\n",
       "    </tr>\n",
       "    <tr>\n",
       "      <th>28</th>\n",
       "      <td>0.503087</td>\n",
       "      <td>0.021064</td>\n",
       "      <td>0</td>\n",
       "    </tr>\n",
       "    <tr>\n",
       "      <th>29</th>\n",
       "      <td>0.927794</td>\n",
       "      <td>0.674250</td>\n",
       "      <td>1</td>\n",
       "    </tr>\n",
       "  </tbody>\n",
       "</table>\n",
       "</div>"
      ],
      "text/plain": [
       "          x0        x1  label\n",
       "0   0.674058  0.167451      1\n",
       "1   0.899565  0.770164      1\n",
       "2   0.034796  0.952098      1\n",
       "3   0.060291  0.136207      0\n",
       "4   0.742614  0.490700      1\n",
       "5   0.307215  0.303216      0\n",
       "6   0.186762  0.770303      1\n",
       "7   0.190425  0.194758      0\n",
       "8   0.781358  0.817650      1\n",
       "9   0.773180  0.889061      1\n",
       "10  0.143720  0.487852      0\n",
       "11  0.864756  0.796093      1\n",
       "12  0.873079  0.460686      1\n",
       "13  0.676175  0.061242      0\n",
       "14  0.921770  0.141487      1\n",
       "15  0.769655  0.628241      1\n",
       "16  0.565522  0.020408      0\n",
       "17  0.733262  0.745941      1\n",
       "18  0.015709  0.927719      1\n",
       "19  0.924700  0.342596      1\n",
       "20  0.336853  0.883693      1\n",
       "21  0.854085  0.701518      1\n",
       "22  0.519159  0.705989      1\n",
       "23  0.641961  0.985925      1\n",
       "24  0.157685  0.440044      0\n",
       "25  0.669009  0.286701      1\n",
       "26  0.334086  0.034596      0\n",
       "27  0.321790  0.611055      1\n",
       "28  0.503087  0.021064      0\n",
       "29  0.927794  0.674250      1"
      ]
     },
     "execution_count": 66,
     "metadata": {},
     "output_type": "execute_result"
    }
   ],
   "source": [
    "df.head(30)"
   ]
  },
  {
   "cell_type": "code",
   "execution_count": 63,
   "metadata": {
    "colab": {
     "base_uri": "https://localhost:8080/",
     "height": 449
    },
    "executionInfo": {
     "elapsed": 613,
     "status": "ok",
     "timestamp": 1730306242354,
     "user": {
      "displayName": "Leonardo Davoli",
      "userId": "17136115848095922755"
     },
     "user_tz": -60
    },
    "id": "irFN-vXffl2K",
    "outputId": "24a24662-ac59-4eaf-d154-e24ca5e5334c"
   },
   "outputs": [
    {
     "data": {
      "image/png": "[encoded data removed]",
      "text/plain": [
       "<Figure size 640x480 with 1 Axes>"
      ]
     },
     "metadata": {},
     "output_type": "display_data"
    }
   ],
   "source": [
    "import matplotlib.pyplot as plt\n",
    "\n",
    "# Unique label values on the X axis, Value counts on the Y axis\n",
    "plt.bar(df[\"label\"].unique(), df[\"label\"].value_counts())\n",
    "plt.ylabel(\"Frequenza\")\n",
    "plt.xlabel(\"Label\")\n",
    "plt.xticks([0, 1])\n",
    "plt.show()"
   ]
  },
  {
   "cell_type": "code",
   "execution_count": 64,
   "metadata": {
    "colab": {
     "base_uri": "https://localhost:8080/",
     "height": 466
    },
    "executionInfo": {
     "elapsed": 1018,
     "status": "ok",
     "timestamp": 1730306932046,
     "user": {
      "displayName": "Leonardo Davoli",
      "userId": "17136115848095922755"
     },
     "user_tz": -60
    },
    "id": "pbqZuPpRfoIr",
    "outputId": "30140f70-8a68-4942-c03e-08c69085f2b9"
   },
   "outputs": [
    {
     "data": {
      "image/png": "[encoded data removed]",
      "text/plain": [
       "<Figure size 640x480 with 1 Axes>"
      ]
     },
     "metadata": {},
     "output_type": "display_data"
    }
   ],
   "source": [
    "# dividiamo il DataFrame in due sotto-DataFrame in base alla label\n",
    "df_pos = df[df['label'] == 1]\n",
    "df_neg = df[df['label'] == 0]\n",
    "\n",
    "# plot degli scatter plot per i due sotto-DataFrame\n",
    "fig, ax = plt.subplots()\n",
    "ax.scatter(df_pos['x0'], df_pos['x1'], c='green', label='positive')\n",
    "ax.scatter(df_neg['x0'], df_neg['x1'], c='red', label='negative')\n",
    "\n",
    "ax.legend()\n",
    "ax.set_xlabel('x0')\n",
    "ax.set_ylabel('x1')\n",
    "\n",
    "plt.show()"
   ]
  },
  {
   "cell_type": "markdown",
   "metadata": {
    "id": "3Noflgksn_8S"
   },
   "source": [
    "In questo laboratorio dovrai **implementare il percettrone (tradizionale)** e il **percettrone (delta rule)**, seguendo questo pseudocodice:\n",
    "<br><br>\n",
    "\n",
    "**def** funzione(data, threshold) {\n",
    "\n",
    "1. Initialize the weights: w0=-threshold, w1,w2 random\n",
    "\n",
    "2. Set a control variable for convergence\n",
    "\n",
    "3. Check convergency: all instances should be correctly classified.\n",
    "\n",
    "   3. a. Adjust weights for misclassified instances\n",
    "\n",
    "4. return weights\n",
    "\n",
    "}"
   ]
  },
  {
   "cell_type": "code",
   "execution_count": 87,
   "metadata": {
    "colab": {
     "base_uri": "https://localhost:8080/"
    },
    "executionInfo": {
     "elapsed": 272,
     "status": "ok",
     "timestamp": 1730308093357,
     "user": {
      "displayName": "Leonardo Davoli",
      "userId": "17136115848095922755"
     },
     "user_tz": -60
    },
    "id": "xSyt2atPStye",
    "outputId": "e0bb2615-9432-49b9-a752-da04185219d3"
   },
   "outputs": [
    {
     "name": "stdout",
     "output_type": "stream",
     "text": [
      "CONVERGED!\n"
     ]
    },
    {
     "data": {
      "text/plain": [
       "[np.float64(-0.95),\n",
       " np.float64(1.2639485235176522),\n",
       " np.float64(1.2763807571343078)]"
      ]
     },
     "execution_count": 87,
     "metadata": {},
     "output_type": "execute_result"
    }
   ],
   "source": [
    "from pandas import DataFrame\n",
    "\n",
    "def perceptron(data: DataFrame, threshold: float):\n",
    "    input = data[['x0', 'x1']]\n",
    "    target = data['label'].to_numpy()\n",
    "\n",
    "    # Learning rate\n",
    "    rate = 0.2\n",
    "\n",
    "    # initialize bias weight\n",
    "    w0 = -threshold\n",
    "\n",
    "    # initialize weights\n",
    "    w = np.random.rand(input.columns.size)\n",
    "\n",
    "    # Control Variables\n",
    "    converged = False\n",
    "    tcount = 0\n",
    "\n",
    "    while (not converged and tcount < 4000):\n",
    "        converged = True\n",
    "        for instance in range(len(input.index)):\n",
    "            sum = w0\n",
    "\n",
    "            # compute perceptron output\n",
    "            for i in range(input.ndim):\n",
    "                sum += input.values[instance][i] * w[i]\n",
    "\n",
    "            perc_out = 0 if sum < 0 else 1\n",
    "\n",
    "\n",
    "            #if actual output is different from expected output -> update weights with the perceptron rule\n",
    "            if (target[instance] != perc_out):\n",
    "                converged = False\n",
    "                #print(\"w: {}\".format(w))\n",
    "                w0 = w0 + rate*(target[instance]-perc_out)*1\n",
    "                for i in range(input.ndim):\n",
    "                    #print(\"comp: targets {}-{}, input:{}\".format(perc_out, target[instance], input.values[instance][i]))\n",
    "                    w[i] = w[i] + rate*(target[instance]-perc_out)*input.values[instance][i]\n",
    "        tcount += 1\n",
    "\n",
    "    if (converged):\n",
    "        print(\"CONVERGED!\")\n",
    "    elif (tcount >= 4000):\n",
    "        print(\"FUCKING DEAD\")\n",
    "\n",
    "    return [w0, *w]\n",
    "\n",
    "perceptron(df, 0.75)"
   ]
  },
  {
   "cell_type": "code",
   "execution_count": 51,
   "metadata": {},
   "outputs": [],
   "source": [
    "%%capture\n",
    "test = df[['x0', 'x1']]\n",
    "\n",
    "len(test.index)"
   ]
  }
 ],
 "metadata": {
  "colab": {
   "provenance": []
  },
  "kernelspec": {
   "display_name": "Python 3",
   "name": "python3"
  },
  "language_info": {
   "codemirror_mode": {
    "name": "ipython",
    "version": 3
   },
   "file_extension": ".py",
   "mimetype": "text/x-python",
   "name": "python",
   "nbconvert_exporter": "python",
   "pygments_lexer": "ipython3",
   "version": "3.11.4"
  }
 },
 "nbformat": 4,
 "nbformat_minor": 0
}
